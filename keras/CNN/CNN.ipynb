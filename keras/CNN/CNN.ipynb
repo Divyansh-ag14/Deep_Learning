{
  "nbformat": 4,
  "nbformat_minor": 0,
  "metadata": {
    "kernelspec": {
      "name": "python3",
      "display_name": "Python 3"
    },
    "language_info": {
      "codemirror_mode": {
        "name": "ipython",
        "version": 3
      },
      "file_extension": ".py",
      "mimetype": "text/x-python",
      "name": "python",
      "nbconvert_exporter": "python",
      "pygments_lexer": "ipython3",
      "version": "3.6.5"
    },
    "colab": {
      "name": "Convolutional Neural Network and hyperparameter tuning in Keras.ipynb",
      "provenance": [],
      "collapsed_sections": []
    },
    "accelerator": "GPU",
    "gpuClass": "standard"
  },
  "cells": [
    {
      "cell_type": "markdown",
      "metadata": {
        "id": "IxgcP-B3ejGc"
      },
      "source": [
        "# Steps to build CNN to solve Emergency vs Non-Emergency vehicle classification problem\n",
        "\n",
        "1. Loading the Dataset\n",
        "2. Pre-processing the Data\n",
        "3. Creating Training and Validation set\n",
        "4. Defining the Model Architecture\n",
        "5. Compiling the Model\n",
        "6. Training the Model\n",
        "7. Evaluating model performance"
      ]
    },
    {
      "cell_type": "markdown",
      "metadata": {
        "id": "hNWck_ZahKLA"
      },
      "source": [
        "## 1. Loading the Dataset"
      ]
    },
    {
      "cell_type": "code",
      "metadata": {
        "id": "Kf2C4oSfhKLH"
      },
      "source": [
        "# import necessary libraries and functions\n",
        "import numpy as np\n",
        "import pandas as pd\n",
        "import matplotlib.pyplot as plt\n",
        "%matplotlib inline\n",
        "\n",
        "# importing layers from keras\n",
        "from keras.layers import Dense, InputLayer, BatchNormalization, Dropout\n",
        "from keras.models import Sequential\n",
        "# importing adam optimizer from keras optimizer module \n",
        "from keras.optimizers import adam_v2\n",
        "\n",
        "# train_test_split to create training and validation set\n",
        "from sklearn.model_selection import train_test_split\n",
        "# accuracy_score to calculate the accuracy of predictions\n",
        "from sklearn.metrics import accuracy_score"
      ],
      "execution_count": 1,
      "outputs": []
    },
    {
      "cell_type": "code",
      "metadata": {
        "id": "x_VY_HZ5hm-z",
        "outputId": "49d90e1f-b459-4333-b19c-c9dbfd7a1559",
        "colab": {
          "base_uri": "https://localhost:8080/"
        }
      },
      "source": [
        "from google.colab import drive\n",
        "drive.mount('/content/drive')"
      ],
      "execution_count": 2,
      "outputs": [
        {
          "output_type": "stream",
          "name": "stdout",
          "text": [
            "Drive already mounted at /content/drive; to attempt to forcibly remount, call drive.mount(\"/content/drive\", force_remount=True).\n"
          ]
        }
      ]
    },
    {
      "cell_type": "code",
      "metadata": {
        "id": "1bb6wmB1hmvk",
        "colab": {
          "base_uri": "https://localhost:8080/"
        },
        "outputId": "37ffc360-832e-4c8b-bcab-9098dbc83914"
      },
      "source": [
        "# unzipping the Dataset.zip file\n",
        "!unzip /content/drive/MyDrive/Dataset.zip"
      ],
      "execution_count": null,
      "outputs": [
        {
          "output_type": "stream",
          "name": "stdout",
          "text": [
            "Archive:  /content/drive/MyDrive/Dataset.zip\n",
            "replace Dataset/emergency_classification.csv? [y]es, [n]o, [A]ll, [N]one, [r]ename: n\n",
            "replace Dataset/images/0.jpg? [y]es, [n]o, [A]ll, [N]one, [r]ename: n\n",
            "replace Dataset/images/10.jpg? [y]es, [n]o, [A]ll, [N]one, [r]ename: n\n",
            "replace Dataset/images/1002.jpg? [y]es, [n]o, [A]ll, [N]one, [r]ename: n\n",
            "replace Dataset/images/1006.jpg? [y]es, [n]o, [A]ll, [N]one, [r]ename: n\n",
            "replace Dataset/images/1007.jpg? [y]es, [n]o, [A]ll, [N]one, [r]ename: n\n",
            "replace Dataset/images/1009.jpg? [y]es, [n]o, [A]ll, [N]one, [r]ename: n\n",
            "replace Dataset/images/1013.jpg? [y]es, [n]o, [A]ll, [N]one, [r]ename: n\n",
            "replace Dataset/images/1014.jpg? [y]es, [n]o, [A]ll, [N]one, [r]ename: n\n",
            "replace Dataset/images/1016.jpg? [y]es, [n]o, [A]ll, [N]one, [r]ename: n\n",
            "replace Dataset/images/1019.jpg? [y]es, [n]o, [A]ll, [N]one, [r]ename: n\n",
            "replace Dataset/images/102.jpg? [y]es, [n]o, [A]ll, [N]one, [r]ename: n\n",
            "replace Dataset/images/1020.jpg? [y]es, [n]o, [A]ll, [N]one, [r]ename: n\n",
            "replace Dataset/images/1022.jpg? [y]es, [n]o, [A]ll, [N]one, [r]ename: n\n",
            "replace Dataset/images/1023.jpg? [y]es, [n]o, [A]ll, [N]one, [r]ename: n\n",
            "replace Dataset/images/1026.jpg? [y]es, [n]o, [A]ll, [N]one, [r]ename: \n",
            "error:  invalid response [{ENTER}]\n",
            "replace Dataset/images/1026.jpg? [y]es, [n]o, [A]ll, [N]one, [r]ename: "
          ]
        }
      ]
    },
    {
      "cell_type": "code",
      "metadata": {
        "id": "ZCK0i2SAhKLa"
      },
      "source": [
        "# create random number generator\n",
        "seed = 42"
      ],
      "execution_count": 2,
      "outputs": []
    },
    {
      "cell_type": "code",
      "metadata": {
        "id": "_MKVrwevhKLk"
      },
      "source": [
        "# reading the csv file\n",
        "data = pd.read_csv('Dataset/emergency_classification.csv')"
      ],
      "execution_count": 3,
      "outputs": []
    },
    {
      "cell_type": "code",
      "metadata": {
        "id": "OUcBZmDLhKLt"
      },
      "source": [
        "# load images and store it in numpy array\n",
        "\n",
        "# empty list to store the images\n",
        "X = []\n",
        "# iterating over each image\n",
        "for img_name in data.image_names:\n",
        "    # loading the image using its name\n",
        "    img = plt.imread('Dataset/images/' + img_name)\n",
        "    # saving each image in the list\n",
        "    X.append(img)\n",
        "    \n",
        "# converting the list of images into array\n",
        "X=np.array(X)\n",
        "\n",
        "# storing the target variable in separate variable\n",
        "y = data.emergency_or_not.values"
      ],
      "execution_count": 4,
      "outputs": []
    },
    {
      "cell_type": "code",
      "metadata": {
        "id": "teJk4rIThKL2",
        "outputId": "112121f4-f844-4111-9502-3e1bafa32a87",
        "colab": {
          "base_uri": "https://localhost:8080/"
        }
      },
      "source": [
        "# shape of the images\n",
        "X.shape"
      ],
      "execution_count": 5,
      "outputs": [
        {
          "output_type": "execute_result",
          "data": {
            "text/plain": [
              "(2352, 224, 224, 3)"
            ]
          },
          "metadata": {},
          "execution_count": 5
        }
      ]
    },
    {
      "cell_type": "markdown",
      "metadata": {
        "id": "nKxqxL45ijJX"
      },
      "source": [
        "## 2. Pre-processing the Data"
      ]
    },
    {
      "cell_type": "code",
      "metadata": {
        "id": "Ei6lZu3JFStn"
      },
      "source": [
        "# since we are using CNN, we do not have to resize the images into 1D array. "
      ],
      "execution_count": 6,
      "outputs": []
    },
    {
      "cell_type": "code",
      "metadata": {
        "id": "9HXsTHmJhKL_"
      },
      "source": [
        "# normalizing the pixel values\n",
        "X = X / X.max()"
      ],
      "execution_count": 7,
      "outputs": []
    },
    {
      "cell_type": "markdown",
      "metadata": {
        "id": "WDM9Hjsiisyl"
      },
      "source": [
        "## 3. Creating Training and Validation set"
      ]
    },
    {
      "cell_type": "code",
      "metadata": {
        "id": "JIO9W5ihhKMF"
      },
      "source": [
        "# creating a training and validation set\n",
        "X_train, X_valid, y_train, y_valid=train_test_split(X,y,test_size=0.3, random_state=seed)"
      ],
      "execution_count": 8,
      "outputs": []
    },
    {
      "cell_type": "code",
      "metadata": {
        "id": "66pP0PgXiz5U",
        "outputId": "21be9bea-0c93-4012-d601-68b3931301fe",
        "colab": {
          "base_uri": "https://localhost:8080/"
        }
      },
      "source": [
        "# shape of training and validation set\n",
        "(X_train.shape, y_train.shape), (X_valid.shape, y_valid.shape)"
      ],
      "execution_count": 9,
      "outputs": [
        {
          "output_type": "execute_result",
          "data": {
            "text/plain": [
              "(((1646, 224, 224, 3), (1646,)), ((706, 224, 224, 3), (706,)))"
            ]
          },
          "metadata": {},
          "execution_count": 9
        }
      ]
    },
    {
      "cell_type": "markdown",
      "metadata": {
        "id": "f_HSxXtVhKMO"
      },
      "source": [
        "## 4. Defining the Model Architecture"
      ]
    },
    {
      "cell_type": "code",
      "metadata": {
        "id": "8H-ihteG_y4_"
      },
      "source": [
        "# importing the convolutional and flatten layer from keras\n",
        "from keras.layers import Conv2D, Flatten"
      ],
      "execution_count": 10,
      "outputs": []
    },
    {
      "cell_type": "code",
      "metadata": {
        "id": "elD4F16q_uRQ"
      },
      "source": [
        "# defining the model architecture\n",
        "\n",
        "# creating a sequential model \n",
        "model = Sequential()\n",
        "    \n",
        "# defining input layer with 3D input of shape (224,224,3)\n",
        "model.add(InputLayer(input_shape=(224, 224, 3)))\n",
        "\n",
        "# defining the first convolutional layer with 25 filters of size (5,5)\n",
        "model.add(Conv2D(25, (5, 5), activation='relu', strides=(1, 1), padding='valid'))\n",
        "# defining the second convolutional layer with 50 filters of size (5,5)\n",
        "model.add(Conv2D(50, (5, 5), activation='relu', strides=(1, 1), padding='valid'))\n",
        "\n",
        "# flattening the output from convolutional layers so that it can be forwarded to the dense layers\n",
        "model.add(Flatten())\n",
        "\n",
        "# defining the first dense or fully connected layer with 100 neurons\n",
        "model.add(Dense(units=100, activation='sigmoid'))\n",
        "# defining the output layer with 1 neuron since it is a binary classification problem\n",
        "model.add(Dense(units=1, activation='sigmoid'))"
      ],
      "execution_count": 11,
      "outputs": []
    },
    {
      "cell_type": "code",
      "metadata": {
        "id": "BBwKWQjE_v4j",
        "outputId": "c2573d2d-a735-47cf-e390-96412075745b",
        "colab": {
          "base_uri": "https://localhost:8080/"
        }
      },
      "source": [
        "# printing summary of the model\n",
        "model.summary()"
      ],
      "execution_count": 12,
      "outputs": [
        {
          "output_type": "stream",
          "name": "stdout",
          "text": [
            "Model: \"sequential\"\n",
            "_________________________________________________________________\n",
            " Layer (type)                Output Shape              Param #   \n",
            "=================================================================\n",
            " conv2d (Conv2D)             (None, 220, 220, 25)      1900      \n",
            "                                                                 \n",
            " conv2d_1 (Conv2D)           (None, 216, 216, 50)      31300     \n",
            "                                                                 \n",
            " flatten (Flatten)           (None, 2332800)           0         \n",
            "                                                                 \n",
            " dense (Dense)               (None, 100)               233280100 \n",
            "                                                                 \n",
            " dense_1 (Dense)             (None, 1)                 101       \n",
            "                                                                 \n",
            "=================================================================\n",
            "Total params: 233,313,401\n",
            "Trainable params: 233,313,401\n",
            "Non-trainable params: 0\n",
            "_________________________________________________________________\n"
          ]
        }
      ]
    },
    {
      "cell_type": "markdown",
      "metadata": {
        "id": "l_9WzJ2akEXt"
      },
      "source": [
        "## Understanding the Architecture\n",
        "*  Input shape is (224,224,3) since images are of this shape\n",
        "*  We then applied 25 filters each of shape (5,5) and stride is (1,1)\n",
        "*  So the output from first convolutional layer is: **(224-5+1,224-5+1,25)** which is **(220,220,25)**\n",
        "*  We then applied 50 filters of shape (5,5) each with stride (1,1)\n",
        "*  Then the output is **(220-5+1,220-5+1,50)** which is **(216,216,50)**\n",
        "*  Then this output is flattened which resulted in 216 X 216 X 50 = 2332800 features\n",
        "*  Finally these features are passed through the fully connected layers.\n"
      ]
    },
    {
      "cell_type": "markdown",
      "metadata": {
        "id": "cLtyLYpykEUT"
      },
      "source": [
        "## Understanding the number of parameters of different layers\n",
        "\n",
        "1.   First Convolutional Layer\n",
        "    * Number of input channels = 3\n",
        "    * Number of filters = 25\n",
        "    * Filter Size = (5,5)\n",
        "    * Learnable parameters = **25 * 5 * 5 * 3 + 25** (1 bias for each filter) = **1900**\n",
        "2.   Second Convolutional Layer\n",
        "    * Number of input channels = 25\n",
        "    * Number of filters = 50\n",
        "    * Filter Size = (5,5)\n",
        "    * Learnable parameters = **50 * 5 * 5 * 25 + 50** (1 bias for each filter) = **31300**\n",
        "3.   First Fully Connected Layer\n",
        "    * Number of input features = 216 * 216 * 50 = 2332800\n",
        "    * Number of neurons in this hidden layer = 100\n",
        "    * Learnable parameters = **2332800 * 100 + 100** (1 bias for each neuron) = **233280100**\n",
        "3.   Output Layer\n",
        "    * Number of input features = 100\n",
        "    * Number of neurons in this layer = 1\n",
        "    * Learnable parameters = **100 * 1 + 1** (1 bias for each neuron) = **101**\n",
        "\n"
      ]
    },
    {
      "cell_type": "markdown",
      "metadata": {
        "id": "Ih1KTM7MF1-2"
      },
      "source": [
        "## 5. Compiling the Model"
      ]
    },
    {
      "cell_type": "code",
      "metadata": {
        "id": "uXF1_OIWhKMg"
      },
      "source": [
        "# compiling the model\n",
        "model.compile(loss='binary_crossentropy', optimizer=\"sgd\", metrics=['accuracy'])"
      ],
      "execution_count": 13,
      "outputs": []
    },
    {
      "cell_type": "markdown",
      "metadata": {
        "id": "6L1-5Ik4GC1y"
      },
      "source": [
        "## 6. Training the Model"
      ]
    },
    {
      "cell_type": "code",
      "metadata": {
        "scrolled": false,
        "id": "JF4dEvsrhKMo",
        "outputId": "b30433d8-2b8c-4a4c-d8ae-7ac2be953741",
        "colab": {
          "base_uri": "https://localhost:8080/"
        }
      },
      "source": [
        "# training the model\n",
        "model_history = model.fit(X_train, y_train, epochs=10, batch_size=128,validation_data=(X_valid,y_valid))"
      ],
      "execution_count": 14,
      "outputs": [
        {
          "output_type": "stream",
          "name": "stdout",
          "text": [
            "Epoch 1/10\n",
            "13/13 [==============================] - 34s 1s/step - loss: 0.8362 - accuracy: 0.4988 - val_loss: 0.7191 - val_accuracy: 0.5496\n",
            "Epoch 2/10\n",
            "13/13 [==============================] - 7s 557ms/step - loss: 0.6582 - accuracy: 0.6087 - val_loss: 0.6980 - val_accuracy: 0.5212\n",
            "Epoch 3/10\n",
            "13/13 [==============================] - 7s 557ms/step - loss: 0.6722 - accuracy: 0.5838 - val_loss: 0.6332 - val_accuracy: 0.6317\n",
            "Epoch 4/10\n",
            "13/13 [==============================] - 7s 565ms/step - loss: 0.6298 - accuracy: 0.6555 - val_loss: 0.6263 - val_accuracy: 0.6572\n",
            "Epoch 5/10\n",
            "13/13 [==============================] - 7s 569ms/step - loss: 0.6195 - accuracy: 0.6622 - val_loss: 0.6170 - val_accuracy: 0.6700\n",
            "Epoch 6/10\n",
            "13/13 [==============================] - 7s 575ms/step - loss: 0.6073 - accuracy: 0.6707 - val_loss: 0.6000 - val_accuracy: 0.6728\n",
            "Epoch 7/10\n",
            "13/13 [==============================] - 7s 581ms/step - loss: 0.5830 - accuracy: 0.6859 - val_loss: 0.5986 - val_accuracy: 0.6586\n",
            "Epoch 8/10\n",
            "13/13 [==============================] - 8s 602ms/step - loss: 0.5811 - accuracy: 0.6829 - val_loss: 0.5767 - val_accuracy: 0.6870\n",
            "Epoch 9/10\n",
            "13/13 [==============================] - 8s 585ms/step - loss: 0.5603 - accuracy: 0.7151 - val_loss: 0.6205 - val_accuracy: 0.6700\n",
            "Epoch 10/10\n",
            "13/13 [==============================] - 7s 577ms/step - loss: 0.5607 - accuracy: 0.7096 - val_loss: 0.5809 - val_accuracy: 0.7025\n"
          ]
        }
      ]
    },
    {
      "cell_type": "markdown",
      "metadata": {
        "id": "wmOIR4_PHKFE"
      },
      "source": [
        "## 7. Evaluating model performance"
      ]
    },
    {
      "cell_type": "code",
      "metadata": {
        "id": "4VqAxVzGGXk9",
        "outputId": "2d8042d6-de5c-4230-9c12-64f00fd97d3b",
        "colab": {
          "base_uri": "https://localhost:8080/"
        }
      },
      "source": [
        "# accuracy on training set\n",
        "predictions = (model.predict(X_train) > 0.5).astype(\"int32\")\n",
        "print('Accuracy on training set:', accuracy_score(y_train, predictions))"
      ],
      "execution_count": 15,
      "outputs": [
        {
          "output_type": "stream",
          "name": "stdout",
          "text": [
            "Accuracy on training set: 0.7217496962332929\n"
          ]
        }
      ]
    },
    {
      "cell_type": "code",
      "metadata": {
        "id": "HG13Xm6bGXQg",
        "outputId": "bf9feb57-bf39-47ac-a016-7ebacdb8ef51",
        "colab": {
          "base_uri": "https://localhost:8080/"
        }
      },
      "source": [
        "# accuracy on validation set\n",
        "predictions = (model.predict(X_valid) > 0.5).astype(\"int32\")\n",
        "print('Accuracy on validation set:', accuracy_score(y_valid, predictions))"
      ],
      "execution_count": 16,
      "outputs": [
        {
          "output_type": "stream",
          "name": "stdout",
          "text": [
            "Accuracy on validation set: 0.7025495750708215\n"
          ]
        }
      ]
    },
    {
      "cell_type": "code",
      "metadata": {
        "id": "jKrOiGaDGXLK",
        "outputId": "39462ff7-7687-4f97-a63d-e8a57f0faaab",
        "colab": {
          "base_uri": "https://localhost:8080/",
          "height": 295
        }
      },
      "source": [
        "# summarize history for loss\n",
        "plt.plot(model_history.history['loss'])\n",
        "plt.plot(model_history.history['val_loss'])\n",
        "plt.title('model loss')\n",
        "plt.ylabel('loss')\n",
        "plt.xlabel('epoch')\n",
        "plt.legend(['train', 'validation'], loc='upper left')\n",
        "plt.show()"
      ],
      "execution_count": 17,
      "outputs": [
        {
          "output_type": "display_data",
          "data": {
            "text/plain": [
              "<Figure size 432x288 with 1 Axes>"
            ],
            "image/png": "[encoded data removed]"
          },
          "metadata": {
            "needs_background": "light"
          }
        }
      ]
    },
    {
      "cell_type": "code",
      "metadata": {
        "id": "VNAd2anFHqjn",
        "outputId": "a18ae06d-5bb7-451d-c827-fd8ba1cd1047",
        "colab": {
          "base_uri": "https://localhost:8080/",
          "height": 295
        }
      },
      "source": [
        "# summarize history for accuracy\n",
        "plt.plot(model_history.history['accuracy'])\n",
        "plt.plot(model_history.history['val_accuracy'])\n",
        "plt.title('model accuracy')\n",
        "plt.ylabel('accuracy')\n",
        "plt.xlabel('epoch')\n",
        "plt.legend(['train', 'validation'], loc='upper left')\n",
        "plt.show()"
      ],
      "execution_count": 18,
      "outputs": [
        {
          "output_type": "display_data",
          "data": {
            "text/plain": [
              "<Figure size 432x288 with 1 Axes>"
            ],
            "image/png": "[encoded data removed]"
          },
          "metadata": {
            "needs_background": "light"
          }
        }
      ]
    },
    {
      "cell_type": "markdown",
      "metadata": {
        "id": "Hd7JfLeiHtX2"
      },
      "source": [
        "## Adding Maxpool layer to reduce parameters"
      ]
    },
    {
      "cell_type": "code",
      "metadata": {
        "id": "hxymlVBrIOQu"
      },
      "source": [
        "# importing maxpool layer from keras\n",
        "from keras.layers import MaxPool2D"
      ],
      "execution_count": 19,
      "outputs": []
    },
    {
      "cell_type": "code",
      "metadata": {
        "id": "ouFTqkMuhKMw"
      },
      "source": [
        "# defining the model architecture with maxpool layer\n",
        "model = Sequential()\n",
        "    \n",
        "model.add(InputLayer(input_shape=(224, 224, 3)))\n",
        "\n",
        "model.add(Conv2D(25, (5, 5), activation='relu', strides=(1, 1), padding='valid'))\n",
        "model.add(Conv2D(50, (5, 5), activation='relu', strides=(1, 1), padding='valid'))\n",
        "# adding maxpool layer after the convolutional layers\n",
        "model.add(MaxPool2D(pool_size=(4, 4), padding='valid'))\n",
        "model.add(Flatten())\n",
        "\n",
        "model.add(Dense(units=100, activation='sigmoid'))\n",
        "model.add(Dense(units=1, activation='sigmoid'))\n",
        "\n",
        "# compiling the model\n",
        "model.compile(loss='binary_crossentropy', optimizer=\"sgd\", metrics=['accuracy'])"
      ],
      "execution_count": 20,
      "outputs": []
    },
    {
      "cell_type": "code",
      "metadata": {
        "id": "8WRfKOU_hKM4",
        "outputId": "10c4200b-f79a-4928-c5d7-eea783310f0c",
        "colab": {
          "base_uri": "https://localhost:8080/"
        }
      },
      "source": [
        "# summary of the model\n",
        "model.summary()"
      ],
      "execution_count": 21,
      "outputs": [
        {
          "output_type": "stream",
          "name": "stdout",
          "text": [
            "Model: \"sequential_1\"\n",
            "_________________________________________________________________\n",
            " Layer (type)                Output Shape              Param #   \n",
            "=================================================================\n",
            " conv2d_2 (Conv2D)           (None, 220, 220, 25)      1900      \n",
            "                                                                 \n",
            " conv2d_3 (Conv2D)           (None, 216, 216, 50)      31300     \n",
            "                                                                 \n",
            " max_pooling2d (MaxPooling2D  (None, 54, 54, 50)       0         \n",
            " )                                                               \n",
            "                                                                 \n",
            " flatten_1 (Flatten)         (None, 145800)            0         \n",
            "                                                                 \n",
            " dense_2 (Dense)             (None, 100)               14580100  \n",
            "                                                                 \n",
            " dense_3 (Dense)             (None, 1)                 101       \n",
            "                                                                 \n",
            "=================================================================\n",
            "Total params: 14,613,401\n",
            "Trainable params: 14,613,401\n",
            "Non-trainable params: 0\n",
            "_________________________________________________________________\n"
          ]
        }
      ]
    },
    {
      "cell_type": "code",
      "metadata": {
        "scrolled": false,
        "id": "F5ZLlBqQhKM9",
        "outputId": "bdbb7c4c-d84c-4c89-ae61-4fdc04c56c40",
        "colab": {
          "base_uri": "https://localhost:8080/"
        }
      },
      "source": [
        "# training the model\n",
        "model_history = model.fit(X_train, y_train, epochs=10, batch_size=128,validation_data=(X_valid,y_valid))"
      ],
      "execution_count": 22,
      "outputs": [
        {
          "output_type": "stream",
          "name": "stdout",
          "text": [
            "Epoch 1/10\n",
            "13/13 [==============================] - 7s 543ms/step - loss: 0.6769 - accuracy: 0.5923 - val_loss: 0.6793 - val_accuracy: 0.5737\n",
            "Epoch 2/10\n",
            "13/13 [==============================] - 6s 487ms/step - loss: 0.6659 - accuracy: 0.5905 - val_loss: 0.6600 - val_accuracy: 0.5807\n",
            "Epoch 3/10\n",
            "13/13 [==============================] - 6s 488ms/step - loss: 0.6549 - accuracy: 0.6191 - val_loss: 0.6478 - val_accuracy: 0.6246\n",
            "Epoch 4/10\n",
            "13/13 [==============================] - 6s 489ms/step - loss: 0.6489 - accuracy: 0.6361 - val_loss: 0.6519 - val_accuracy: 0.5793\n",
            "Epoch 5/10\n",
            "13/13 [==============================] - 7s 521ms/step - loss: 0.6361 - accuracy: 0.6428 - val_loss: 0.6586 - val_accuracy: 0.5708\n",
            "Epoch 6/10\n",
            "13/13 [==============================] - 6s 485ms/step - loss: 0.6238 - accuracy: 0.6689 - val_loss: 0.6226 - val_accuracy: 0.6487\n",
            "Epoch 7/10\n",
            "13/13 [==============================] - 6s 484ms/step - loss: 0.6229 - accuracy: 0.6665 - val_loss: 0.6047 - val_accuracy: 0.6841\n",
            "Epoch 8/10\n",
            "13/13 [==============================] - 6s 482ms/step - loss: 0.6007 - accuracy: 0.6865 - val_loss: 0.6541 - val_accuracy: 0.6006\n",
            "Epoch 9/10\n",
            "13/13 [==============================] - 6s 481ms/step - loss: 0.6123 - accuracy: 0.6476 - val_loss: 0.6158 - val_accuracy: 0.6317\n",
            "Epoch 10/10\n",
            "13/13 [==============================] - 6s 482ms/step - loss: 0.6159 - accuracy: 0.6695 - val_loss: 0.6093 - val_accuracy: 0.6785\n"
          ]
        }
      ]
    },
    {
      "cell_type": "code",
      "metadata": {
        "id": "SoCap-6hKJkR"
      },
      "source": [
        "# accuracy on training set\n",
        "predictions = (model.predict(X_train) > 0.5).astype(\"int32\")\n",
        "print('Accuracy on training set:', accuracy_score(y_train, predictions))"
      ],
      "execution_count": null,
      "outputs": []
    },
    {
      "cell_type": "code",
      "metadata": {
        "id": "f9Zj4GZpKJk0",
        "outputId": "0d9c948b-72d4-4a51-e1d8-f1d115622e56",
        "colab": {
          "base_uri": "https://localhost:8080/",
          "height": 182
        }
      },
      "source": [
        "# accuracy on validation set\n",
        "print('Accuracy on validation set:', accuracy_score(y_valid, model.predict_classes(X_valid)), '%')"
      ],
      "execution_count": 1,
      "outputs": [
        {
          "output_type": "error",
          "ename": "NameError",
          "evalue": "ignored",
          "traceback": [
            "\u001b[0;31m---------------------------------------------------------------------------\u001b[0m",
            "\u001b[0;31mNameError\u001b[0m                                 Traceback (most recent call last)",
            "\u001b[0;32m<ipython-input-1-845fb51c19ac>\u001b[0m in \u001b[0;36m<module>\u001b[0;34m()\u001b[0m\n\u001b[1;32m      1\u001b[0m \u001b[0;31m# accuracy on validation set\u001b[0m\u001b[0;34m\u001b[0m\u001b[0;34m\u001b[0m\u001b[0;34m\u001b[0m\u001b[0m\n\u001b[0;32m----> 2\u001b[0;31m \u001b[0mprint\u001b[0m\u001b[0;34m(\u001b[0m\u001b[0;34m'Accuracy on validation set:'\u001b[0m\u001b[0;34m,\u001b[0m \u001b[0maccuracy_score\u001b[0m\u001b[0;34m(\u001b[0m\u001b[0my_valid\u001b[0m\u001b[0;34m,\u001b[0m \u001b[0mmodel\u001b[0m\u001b[0;34m.\u001b[0m\u001b[0mpredict_classes\u001b[0m\u001b[0;34m(\u001b[0m\u001b[0mX_valid\u001b[0m\u001b[0;34m)\u001b[0m\u001b[0;34m)\u001b[0m\u001b[0;34m,\u001b[0m \u001b[0;34m'%'\u001b[0m\u001b[0;34m)\u001b[0m\u001b[0;34m\u001b[0m\u001b[0;34m\u001b[0m\u001b[0m\n\u001b[0m",
            "\u001b[0;31mNameError\u001b[0m: name 'accuracy_score' is not defined"
          ]
        }
      ]
    },
    {
      "cell_type": "code",
      "metadata": {
        "id": "vYMP4z8FKJlK",
        "outputId": "5de93518-f2a0-4373-cd50-fb5105c333c0",
        "colab": {
          "base_uri": "https://localhost:8080/",
          "height": 295
        }
      },
      "source": [
        "# summarize history for loss\n",
        "plt.plot(model_history.history['loss'])\n",
        "plt.plot(model_history.history['val_loss'])\n",
        "plt.title('model loss')\n",
        "plt.ylabel('loss')\n",
        "plt.xlabel('epoch')\n",
        "plt.legend(['train', 'validation'], loc='upper left')\n",
        "plt.show()"
      ],
      "execution_count": null,
      "outputs": [
        {
          "output_type": "display_data",
          "data": {
            "image/png": "[encoded data removed]",
            "text/plain": [
              "<Figure size 432x288 with 1 Axes>"
            ]
          },
          "metadata": {
            "tags": []
          }
        }
      ]
    },
    {
      "cell_type": "code",
      "metadata": {
        "id": "CGUdACeiKJle",
        "outputId": "2dc082d0-da24-4108-9b2b-a5f3750a14ed",
        "colab": {
          "base_uri": "https://localhost:8080/",
          "height": 295
        }
      },
      "source": [
        "# summarize history for accuracy\n",
        "plt.plot(model_history.history['acc'])\n",
        "plt.plot(model_history.history['val_acc'])\n",
        "plt.title('model accuracy')\n",
        "plt.ylabel('accuracy')\n",
        "plt.xlabel('epoch')\n",
        "plt.legend(['train', 'validation'], loc='upper left')\n",
        "plt.show()"
      ],
      "execution_count": null,
      "outputs": [
        {
          "output_type": "display_data",
          "data": {
            "image/png": "[encoded data removed]",
            "text/plain": [
              "<Figure size 432x288 with 1 Axes>"
            ]
          },
          "metadata": {
            "tags": []
          }
        }
      ]
    },
    {
      "cell_type": "markdown",
      "metadata": {
        "id": "eobCjMm_hKNd"
      },
      "source": [
        "## Hyperparameter Tuning of Convolutional Neural Networks\n",
        "\n",
        "1. increase number of convolutional layers\n",
        "2. increase number of pooling layers\n",
        "3. increase number of convolutional filters\n",
        "4. change size of convolutional filters\n",
        "5. change pooling type \n",
        "6. change padding technique\n",
        "7. change stride\n",
        "\n",
        "#### Hyperparameters of fully connected layers\n",
        "\n",
        "1. change activation function of hidden layer\n",
        "2. increase hidden neurons\n",
        "3. increase hidden layers\n",
        "4. increase number of epochs\n",
        "5. change optimizer\n",
        "6. add batch normalization layer\n",
        "7. add dropout layer"
      ]
    },
    {
      "cell_type": "markdown",
      "metadata": {
        "id": "qG9SHyVzLfeA"
      },
      "source": [
        "## 1. Increasing number of convolutional layers"
      ]
    },
    {
      "cell_type": "code",
      "metadata": {
        "id": "rLe_T2IxhKNl",
        "outputId": "20b88b67-1ab3-49ed-99f4-65c209afa1f3",
        "colab": {
          "base_uri": "https://localhost:8080/",
          "height": 298
        }
      },
      "source": [
        "# increase number of convolutional layers\n",
        "\n",
        "model = Sequential()\n",
        "    \n",
        "model.add(InputLayer(input_shape=(224, 224, 3)))\n",
        "\n",
        "model.add(Conv2D(25, (5, 5), activation='relu', strides=(1, 1), padding='valid'))\n",
        "model.add(Conv2D(50, (5, 5), activation='relu', strides=(1, 1), padding='valid'))\n",
        "model.add(Conv2D(50, (5, 5), activation='relu', strides=(1, 1), padding='valid'))\n",
        "model.add(MaxPool2D(pool_size=(4, 4), padding='valid'))\n",
        "\n",
        "model.add(Flatten())\n",
        "\n",
        "model.add(Dense(units=100, activation='sigmoid'))\n",
        "model.add(Dense(units=1, activation='sigmoid'))\n",
        "\n",
        "model.compile(loss='binary_crossentropy', optimizer=\"sgd\", metrics=['accuracy'])"
      ],
      "execution_count": null,
      "outputs": [
        {
          "output_type": "stream",
          "text": [
            "WARNING:tensorflow:From /usr/local/lib/python3.6/dist-packages/keras/backend/tensorflow_backend.py:66: The name tf.get_default_graph is deprecated. Please use tf.compat.v1.get_default_graph instead.\n",
            "\n",
            "WARNING:tensorflow:From /usr/local/lib/python3.6/dist-packages/keras/backend/tensorflow_backend.py:541: The name tf.placeholder is deprecated. Please use tf.compat.v1.placeholder instead.\n",
            "\n",
            "WARNING:tensorflow:From /usr/local/lib/python3.6/dist-packages/keras/backend/tensorflow_backend.py:4432: The name tf.random_uniform is deprecated. Please use tf.random.uniform instead.\n",
            "\n",
            "WARNING:tensorflow:From /usr/local/lib/python3.6/dist-packages/keras/backend/tensorflow_backend.py:4267: The name tf.nn.max_pool is deprecated. Please use tf.nn.max_pool2d instead.\n",
            "\n",
            "WARNING:tensorflow:From /usr/local/lib/python3.6/dist-packages/keras/optimizers.py:793: The name tf.train.Optimizer is deprecated. Please use tf.compat.v1.train.Optimizer instead.\n",
            "\n",
            "WARNING:tensorflow:From /usr/local/lib/python3.6/dist-packages/keras/backend/tensorflow_backend.py:3657: The name tf.log is deprecated. Please use tf.math.log instead.\n",
            "\n",
            "WARNING:tensorflow:From /tensorflow-1.15.0/python3.6/tensorflow_core/python/ops/nn_impl.py:183: where (from tensorflow.python.ops.array_ops) is deprecated and will be removed in a future version.\n",
            "Instructions for updating:\n",
            "Use tf.where in 2.0, which has the same broadcast rule as np.where\n"
          ],
          "name": "stdout"
        }
      ]
    },
    {
      "cell_type": "code",
      "metadata": {
        "id": "U1arli-EhKNq",
        "outputId": "910850a8-f5e1-4b79-8376-eba226afbf33",
        "colab": {
          "base_uri": "https://localhost:8080/",
          "height": 399
        }
      },
      "source": [
        "model.summary()"
      ],
      "execution_count": null,
      "outputs": [
        {
          "output_type": "stream",
          "text": [
            "Model: \"sequential_1\"\n",
            "_________________________________________________________________\n",
            "Layer (type)                 Output Shape              Param #   \n",
            "=================================================================\n",
            "conv2d_1 (Conv2D)            (None, 220, 220, 25)      1900      \n",
            "_________________________________________________________________\n",
            "conv2d_2 (Conv2D)            (None, 216, 216, 50)      31300     \n",
            "_________________________________________________________________\n",
            "conv2d_3 (Conv2D)            (None, 212, 212, 50)      62550     \n",
            "_________________________________________________________________\n",
            "max_pooling2d_1 (MaxPooling2 (None, 53, 53, 50)        0         \n",
            "_________________________________________________________________\n",
            "flatten_1 (Flatten)          (None, 140450)            0         \n",
            "_________________________________________________________________\n",
            "dense_1 (Dense)              (None, 100)               14045100  \n",
            "_________________________________________________________________\n",
            "dense_2 (Dense)              (None, 1)                 101       \n",
            "=================================================================\n",
            "Total params: 14,140,951\n",
            "Trainable params: 14,140,951\n",
            "Non-trainable params: 0\n",
            "_________________________________________________________________\n"
          ],
          "name": "stdout"
        }
      ]
    },
    {
      "cell_type": "code",
      "metadata": {
        "scrolled": false,
        "id": "eaoHuj0ohKNy",
        "outputId": "dcccb26a-8ad1-41be-d071-9d02ebfffdf9",
        "colab": {
          "base_uri": "https://localhost:8080/",
          "height": 382
        }
      },
      "source": [
        "# training the model\n",
        "model_history = model.fit(X_train, y_train, epochs=10, batch_size=128,validation_data=(X_valid,y_valid))"
      ],
      "execution_count": null,
      "outputs": [
        {
          "output_type": "stream",
          "text": [
            "Train on 1646 samples, validate on 706 samples\n",
            "Epoch 1/10\n",
            "1646/1646 [==============================] - 45s 27ms/step - loss: 0.6797 - acc: 0.5857 - val_loss: 0.6766 - val_acc: 0.5609\n",
            "Epoch 2/10\n",
            "1646/1646 [==============================] - 30s 18ms/step - loss: 0.6687 - acc: 0.5869 - val_loss: 0.6661 - val_acc: 0.5652\n",
            "Epoch 3/10\n",
            "1646/1646 [==============================] - 30s 18ms/step - loss: 0.6597 - acc: 0.6009 - val_loss: 0.6572 - val_acc: 0.5892\n",
            "Epoch 4/10\n",
            "1646/1646 [==============================] - 30s 18ms/step - loss: 0.6502 - acc: 0.6179 - val_loss: 0.6447 - val_acc: 0.6530\n",
            "Epoch 5/10\n",
            "1646/1646 [==============================] - 30s 18ms/step - loss: 0.6447 - acc: 0.6252 - val_loss: 0.6306 - val_acc: 0.6501\n",
            "Epoch 6/10\n",
            "1646/1646 [==============================] - 30s 18ms/step - loss: 0.6330 - acc: 0.6452 - val_loss: 0.6230 - val_acc: 0.6671\n",
            "Epoch 7/10\n",
            "1646/1646 [==============================] - 30s 18ms/step - loss: 0.6262 - acc: 0.6640 - val_loss: 0.6195 - val_acc: 0.6586\n",
            "Epoch 8/10\n",
            "1646/1646 [==============================] - 30s 18ms/step - loss: 0.6176 - acc: 0.6574 - val_loss: 0.6091 - val_acc: 0.6700\n",
            "Epoch 9/10\n",
            "1646/1646 [==============================] - 30s 18ms/step - loss: 0.6232 - acc: 0.6549 - val_loss: 0.6064 - val_acc: 0.6785\n",
            "Epoch 10/10\n",
            "1646/1646 [==============================] - 30s 18ms/step - loss: 0.6120 - acc: 0.6689 - val_loss: 0.6051 - val_acc: 0.6728\n"
          ],
          "name": "stdout"
        }
      ]
    },
    {
      "cell_type": "code",
      "metadata": {
        "id": "27w1voVdNf-N",
        "outputId": "c0f6a114-3a90-43e8-a621-067fbe475019",
        "colab": {
          "base_uri": "https://localhost:8080/",
          "height": 34
        }
      },
      "source": [
        "# accuracy on training set\n",
        "print('Accuracy on training set:', accuracy_score(y_train, model.predict_classes(X_train)), '%')"
      ],
      "execution_count": null,
      "outputs": [
        {
          "output_type": "stream",
          "text": [
            "Accuracy on training set: 0.6852976913730255 %\n"
          ],
          "name": "stdout"
        }
      ]
    },
    {
      "cell_type": "code",
      "metadata": {
        "id": "v7FsoJJPNf51",
        "outputId": "bdaed347-0fbf-437c-cc00-d6f88a4e6a02",
        "colab": {
          "base_uri": "https://localhost:8080/",
          "height": 34
        }
      },
      "source": [
        "# accuracy on validation set\n",
        "print('Accuracy on validation set:', accuracy_score(y_valid, model.predict_classes(X_valid)), '%')"
      ],
      "execution_count": null,
      "outputs": [
        {
          "output_type": "stream",
          "text": [
            "Accuracy on validation set: 0.6728045325779037 %\n"
          ],
          "name": "stdout"
        }
      ]
    },
    {
      "cell_type": "markdown",
      "metadata": {
        "id": "EohJWvwLL2kk"
      },
      "source": [
        "## 2. Increasing number of pooling layers"
      ]
    },
    {
      "cell_type": "code",
      "metadata": {
        "id": "l5BHQGyCNFTB"
      },
      "source": [
        "# increase number of pooling layers\n",
        "\n",
        "model = Sequential()\n",
        "    \n",
        "model.add(InputLayer(input_shape=(224, 224, 3)))\n",
        "\n",
        "model.add(Conv2D(25, (5, 5), activation='relu', strides=(1, 1), padding='valid'))\n",
        "model.add(MaxPool2D(pool_size=(4, 4), padding='valid'))\n",
        "model.add(Conv2D(50, (5, 5), activation='relu', strides=(1, 1), padding='valid'))\n",
        "model.add(MaxPool2D(pool_size=(4, 4), padding='valid'))\n",
        "\n",
        "model.add(Flatten())\n",
        "\n",
        "model.add(Dense(units=100, activation='sigmoid'))\n",
        "model.add(Dense(units=1, activation='sigmoid'))\n",
        "\n",
        "model.compile(loss='binary_crossentropy', optimizer=\"sgd\", metrics=['accuracy'])"
      ],
      "execution_count": null,
      "outputs": []
    },
    {
      "cell_type": "code",
      "metadata": {
        "id": "2M42qtGdNFQb",
        "outputId": "82b9cbbf-06a5-40d6-e8c9-9e79ecd1676f",
        "colab": {
          "base_uri": "https://localhost:8080/",
          "height": 399
        }
      },
      "source": [
        "model.summary()"
      ],
      "execution_count": null,
      "outputs": [
        {
          "output_type": "stream",
          "text": [
            "Model: \"sequential_2\"\n",
            "_________________________________________________________________\n",
            "Layer (type)                 Output Shape              Param #   \n",
            "=================================================================\n",
            "conv2d_4 (Conv2D)            (None, 220, 220, 25)      1900      \n",
            "_________________________________________________________________\n",
            "max_pooling2d_2 (MaxPooling2 (None, 55, 55, 25)        0         \n",
            "_________________________________________________________________\n",
            "conv2d_5 (Conv2D)            (None, 51, 51, 50)        31300     \n",
            "_________________________________________________________________\n",
            "max_pooling2d_3 (MaxPooling2 (None, 12, 12, 50)        0         \n",
            "_________________________________________________________________\n",
            "flatten_2 (Flatten)          (None, 7200)              0         \n",
            "_________________________________________________________________\n",
            "dense_3 (Dense)              (None, 100)               720100    \n",
            "_________________________________________________________________\n",
            "dense_4 (Dense)              (None, 1)                 101       \n",
            "=================================================================\n",
            "Total params: 753,401\n",
            "Trainable params: 753,401\n",
            "Non-trainable params: 0\n",
            "_________________________________________________________________\n"
          ],
          "name": "stdout"
        }
      ]
    },
    {
      "cell_type": "code",
      "metadata": {
        "id": "u_XrOnOZNFNh",
        "outputId": "e35f95cb-d830-4d1a-e3b7-f9ffbdaf455d",
        "colab": {
          "base_uri": "https://localhost:8080/",
          "height": 382
        }
      },
      "source": [
        "# training the model\n",
        "model_history = model.fit(X_train, y_train, epochs=10, batch_size=128,validation_data=(X_valid,y_valid))"
      ],
      "execution_count": null,
      "outputs": [
        {
          "output_type": "stream",
          "text": [
            "Train on 1646 samples, validate on 706 samples\n",
            "Epoch 1/10\n",
            "1646/1646 [==============================] - 5s 3ms/step - loss: 0.6820 - acc: 0.5832 - val_loss: 0.6840 - val_acc: 0.5609\n",
            "Epoch 2/10\n",
            "1646/1646 [==============================] - 4s 2ms/step - loss: 0.6764 - acc: 0.5863 - val_loss: 0.6836 - val_acc: 0.5609\n",
            "Epoch 3/10\n",
            "1646/1646 [==============================] - 4s 2ms/step - loss: 0.6753 - acc: 0.5863 - val_loss: 0.6831 - val_acc: 0.5609\n",
            "Epoch 4/10\n",
            "1646/1646 [==============================] - 4s 2ms/step - loss: 0.6741 - acc: 0.5863 - val_loss: 0.6828 - val_acc: 0.5609\n",
            "Epoch 5/10\n",
            "1646/1646 [==============================] - 4s 2ms/step - loss: 0.6731 - acc: 0.5863 - val_loss: 0.6809 - val_acc: 0.5609\n",
            "Epoch 6/10\n",
            "1646/1646 [==============================] - 4s 2ms/step - loss: 0.6727 - acc: 0.5863 - val_loss: 0.6801 - val_acc: 0.5609\n",
            "Epoch 7/10\n",
            "1646/1646 [==============================] - 4s 2ms/step - loss: 0.6711 - acc: 0.5863 - val_loss: 0.6790 - val_acc: 0.5609\n",
            "Epoch 8/10\n",
            "1646/1646 [==============================] - 4s 2ms/step - loss: 0.6700 - acc: 0.5863 - val_loss: 0.6791 - val_acc: 0.5609\n",
            "Epoch 9/10\n",
            "1646/1646 [==============================] - 4s 2ms/step - loss: 0.6693 - acc: 0.5863 - val_loss: 0.6772 - val_acc: 0.5609\n",
            "Epoch 10/10\n",
            "1646/1646 [==============================] - 4s 2ms/step - loss: 0.6677 - acc: 0.5863 - val_loss: 0.6748 - val_acc: 0.5609\n"
          ],
          "name": "stdout"
        }
      ]
    },
    {
      "cell_type": "code",
      "metadata": {
        "id": "V5IT6yKfNnwR"
      },
      "source": [
        "# accuracy on training set\n",
        "print('Accuracy on training set:', accuracy_score(y_train, model.predict_classes(X_train)), '%')"
      ],
      "execution_count": null,
      "outputs": []
    },
    {
      "cell_type": "code",
      "metadata": {
        "id": "sxg_PHhONnw_"
      },
      "source": [
        "# accuracy on validation set\n",
        "print('Accuracy on validation set:', accuracy_score(y_valid, model.predict_classes(X_valid)), '%')"
      ],
      "execution_count": null,
      "outputs": []
    },
    {
      "cell_type": "markdown",
      "metadata": {
        "id": "570Net31NpiN"
      },
      "source": [
        "## 3. Increasing number of convolutional filters"
      ]
    },
    {
      "cell_type": "code",
      "metadata": {
        "id": "8jwO0VbKhKN9"
      },
      "source": [
        "# increase number of convolutional filters\n",
        "\n",
        "model = Sequential()\n",
        "    \n",
        "model.add(InputLayer(input_shape=(224, 224, 3)))\n",
        "\n",
        "model.add(Conv2D(50, (5, 5), activation='relu', strides=(1, 1), padding='valid'))\n",
        "model.add(Conv2D(75, (5, 5), activation='relu', strides=(1, 1), padding='valid'))\n",
        "model.add(MaxPool2D(pool_size=(4, 4), padding='valid'))\n",
        "\n",
        "model.add(Flatten())\n",
        "\n",
        "model.add(Dense(units=100, activation='sigmoid'))\n",
        "model.add(Dense(units=1, activation='sigmoid'))\n",
        "\n",
        "model.compile(loss='binary_crossentropy', optimizer=\"sgd\", metrics=['accuracy'])"
      ],
      "execution_count": null,
      "outputs": []
    },
    {
      "cell_type": "code",
      "metadata": {
        "id": "nH2_XQPHN562",
        "outputId": "db3c1601-58d2-489e-a5e1-c00545f9addf",
        "colab": {
          "base_uri": "https://localhost:8080/",
          "height": 364
        }
      },
      "source": [
        "model.summary()"
      ],
      "execution_count": null,
      "outputs": [
        {
          "output_type": "stream",
          "text": [
            "Model: \"sequential_5\"\n",
            "_________________________________________________________________\n",
            "Layer (type)                 Output Shape              Param #   \n",
            "=================================================================\n",
            "conv2d_10 (Conv2D)           (None, 220, 220, 50)      3800      \n",
            "_________________________________________________________________\n",
            "conv2d_11 (Conv2D)           (None, 216, 216, 75)      93825     \n",
            "_________________________________________________________________\n",
            "max_pooling2d_6 (MaxPooling2 (None, 54, 54, 75)        0         \n",
            "_________________________________________________________________\n",
            "flatten_5 (Flatten)          (None, 218700)            0         \n",
            "_________________________________________________________________\n",
            "dense_9 (Dense)              (None, 100)               21870100  \n",
            "_________________________________________________________________\n",
            "dense_10 (Dense)             (None, 1)                 101       \n",
            "=================================================================\n",
            "Total params: 21,967,826\n",
            "Trainable params: 21,967,826\n",
            "Non-trainable params: 0\n",
            "_________________________________________________________________\n"
          ],
          "name": "stdout"
        }
      ]
    },
    {
      "cell_type": "code",
      "metadata": {
        "id": "FPAQ7FBhN_sf",
        "outputId": "a061f366-d77b-4aa6-9c75-35bc7379c985",
        "colab": {
          "base_uri": "https://localhost:8080/",
          "height": 471
        }
      },
      "source": [
        "# training the model\n",
        "model_history = model.fit(X_train, y_train, epochs=10, batch_size=128,validation_data=(X_valid,y_valid))"
      ],
      "execution_count": null,
      "outputs": [
        {
          "output_type": "stream",
          "text": [
            "WARNING:tensorflow:From /usr/local/lib/python3.6/dist-packages/keras/backend/tensorflow_backend.py:1033: The name tf.assign_add is deprecated. Please use tf.compat.v1.assign_add instead.\n",
            "\n",
            "WARNING:tensorflow:From /usr/local/lib/python3.6/dist-packages/keras/backend/tensorflow_backend.py:1020: The name tf.assign is deprecated. Please use tf.compat.v1.assign instead.\n",
            "\n",
            "Train on 1646 samples, validate on 706 samples\n",
            "Epoch 1/10\n",
            "1646/1646 [==============================] - 53s 32ms/step - loss: 0.7113 - acc: 0.5468 - val_loss: 0.6912 - val_acc: 0.5510\n",
            "Epoch 2/10\n",
            "1646/1646 [==============================] - 30s 18ms/step - loss: 0.6662 - acc: 0.6063 - val_loss: 0.6732 - val_acc: 0.5609\n",
            "Epoch 3/10\n",
            "1646/1646 [==============================] - 30s 18ms/step - loss: 0.6532 - acc: 0.6173 - val_loss: 0.6541 - val_acc: 0.6034\n",
            "Epoch 4/10\n",
            "1646/1646 [==============================] - 30s 18ms/step - loss: 0.6375 - acc: 0.6513 - val_loss: 0.6341 - val_acc: 0.6530\n",
            "Epoch 5/10\n",
            "1646/1646 [==============================] - 30s 18ms/step - loss: 0.6394 - acc: 0.6495 - val_loss: 0.6355 - val_acc: 0.6303\n",
            "Epoch 6/10\n",
            "1646/1646 [==============================] - 30s 18ms/step - loss: 0.6349 - acc: 0.6440 - val_loss: 0.6250 - val_acc: 0.6530\n",
            "Epoch 7/10\n",
            "1646/1646 [==============================] - 30s 18ms/step - loss: 0.6257 - acc: 0.6519 - val_loss: 0.6087 - val_acc: 0.6728\n",
            "Epoch 8/10\n",
            "1646/1646 [==============================] - 30s 18ms/step - loss: 0.6092 - acc: 0.6738 - val_loss: 0.6407 - val_acc: 0.6261\n",
            "Epoch 9/10\n",
            "1646/1646 [==============================] - 30s 18ms/step - loss: 0.5982 - acc: 0.6810 - val_loss: 0.6598 - val_acc: 0.6119\n",
            "Epoch 10/10\n",
            "1646/1646 [==============================] - 30s 18ms/step - loss: 0.6104 - acc: 0.6719 - val_loss: 0.5837 - val_acc: 0.6884\n"
          ],
          "name": "stdout"
        }
      ]
    },
    {
      "cell_type": "code",
      "metadata": {
        "id": "9U-22outN_tC",
        "outputId": "5ffea612-ecef-46f8-9460-2d42b8b8a24b",
        "colab": {
          "base_uri": "https://localhost:8080/",
          "height": 34
        }
      },
      "source": [
        "# accuracy on training set\n",
        "print('Accuracy on training set:', accuracy_score(y_train, model.predict_classes(X_train)), '%')"
      ],
      "execution_count": null,
      "outputs": [
        {
          "output_type": "stream",
          "text": [
            "Accuracy on training set: 0.7168894289185905 %\n"
          ],
          "name": "stdout"
        }
      ]
    },
    {
      "cell_type": "code",
      "metadata": {
        "id": "12Cz-XVpN_tR",
        "outputId": "534bf0cd-6a2b-40cc-cd90-14a7fb36ce5e",
        "colab": {
          "base_uri": "https://localhost:8080/",
          "height": 34
        }
      },
      "source": [
        "# accuracy on validation set\n",
        "print('Accuracy on validation set:', accuracy_score(y_valid, model.predict_classes(X_valid)), '%')"
      ],
      "execution_count": null,
      "outputs": [
        {
          "output_type": "stream",
          "text": [
            "Accuracy on validation set: 0.6883852691218131 %\n"
          ],
          "name": "stdout"
        }
      ]
    },
    {
      "cell_type": "markdown",
      "metadata": {
        "id": "zJjMRdqpW2Rv"
      },
      "source": [
        "## 4. Changing size of convolutional filters"
      ]
    },
    {
      "cell_type": "code",
      "metadata": {
        "id": "9of5ypRihKOH"
      },
      "source": [
        "# change filter size for convolutional layer\n",
        "\n",
        "model = Sequential()\n",
        "    \n",
        "model.add(InputLayer(input_shape=(224, 224, 3)))\n",
        "\n",
        "model.add(Conv2D(25, (3, 3), activation='relu', strides=(1, 1), padding='valid'))\n",
        "model.add(Conv2D(50, (3, 3), activation='relu', strides=(1, 1), padding='valid'))\n",
        "model.add(MaxPool2D(pool_size=(4, 4), padding='valid'))\n",
        "\n",
        "model.add(Flatten())\n",
        "\n",
        "model.add(Dense(units=100, activation='sigmoid'))\n",
        "model.add(Dense(units=1, activation='sigmoid'))\n",
        "\n",
        "model.compile(loss='binary_crossentropy', optimizer=\"sgd\", metrics=['accuracy'])"
      ],
      "execution_count": null,
      "outputs": []
    },
    {
      "cell_type": "code",
      "metadata": {
        "id": "Ax6l1FB9XZ1I",
        "outputId": "dd539302-5685-4d55-9ee6-e32d4adde3df",
        "colab": {
          "base_uri": "https://localhost:8080/",
          "height": 364
        }
      },
      "source": [
        "model.summary()"
      ],
      "execution_count": null,
      "outputs": [
        {
          "output_type": "stream",
          "text": [
            "Model: \"sequential_6\"\n",
            "_________________________________________________________________\n",
            "Layer (type)                 Output Shape              Param #   \n",
            "=================================================================\n",
            "conv2d_12 (Conv2D)           (None, 222, 222, 25)      700       \n",
            "_________________________________________________________________\n",
            "conv2d_13 (Conv2D)           (None, 220, 220, 50)      11300     \n",
            "_________________________________________________________________\n",
            "max_pooling2d_7 (MaxPooling2 (None, 55, 55, 50)        0         \n",
            "_________________________________________________________________\n",
            "flatten_6 (Flatten)          (None, 151250)            0         \n",
            "_________________________________________________________________\n",
            "dense_11 (Dense)             (None, 100)               15125100  \n",
            "_________________________________________________________________\n",
            "dense_12 (Dense)             (None, 1)                 101       \n",
            "=================================================================\n",
            "Total params: 15,137,201\n",
            "Trainable params: 15,137,201\n",
            "Non-trainable params: 0\n",
            "_________________________________________________________________\n"
          ],
          "name": "stdout"
        }
      ]
    },
    {
      "cell_type": "code",
      "metadata": {
        "id": "HtwUPK-tXZ1l",
        "outputId": "800cffc9-1da0-4b77-ca6c-2f3f10a1d385",
        "colab": {
          "base_uri": "https://localhost:8080/",
          "height": 382
        }
      },
      "source": [
        "# training the model\n",
        "model_history = model.fit(X_train, y_train, epochs=10, batch_size=128,validation_data=(X_valid,y_valid))"
      ],
      "execution_count": null,
      "outputs": [
        {
          "output_type": "stream",
          "text": [
            "Train on 1646 samples, validate on 706 samples\n",
            "Epoch 1/10\n",
            "1646/1646 [==============================] - 18s 11ms/step - loss: 0.6765 - acc: 0.5863 - val_loss: 0.6781 - val_acc: 0.5609\n",
            "Epoch 2/10\n",
            "1646/1646 [==============================] - 10s 6ms/step - loss: 0.6675 - acc: 0.5863 - val_loss: 0.6679 - val_acc: 0.5609\n",
            "Epoch 3/10\n",
            "1646/1646 [==============================] - 10s 6ms/step - loss: 0.6594 - acc: 0.5923 - val_loss: 0.6606 - val_acc: 0.5652\n",
            "Epoch 4/10\n",
            "1646/1646 [==============================] - 10s 6ms/step - loss: 0.6520 - acc: 0.6118 - val_loss: 0.6514 - val_acc: 0.6062\n",
            "Epoch 5/10\n",
            "1646/1646 [==============================] - 10s 6ms/step - loss: 0.6445 - acc: 0.6245 - val_loss: 0.6423 - val_acc: 0.6360\n",
            "Epoch 6/10\n",
            "1646/1646 [==============================] - 10s 6ms/step - loss: 0.6354 - acc: 0.6555 - val_loss: 0.6371 - val_acc: 0.6133\n",
            "Epoch 7/10\n",
            "1646/1646 [==============================] - 10s 6ms/step - loss: 0.6261 - acc: 0.6725 - val_loss: 0.6306 - val_acc: 0.6246\n",
            "Epoch 8/10\n",
            "1646/1646 [==============================] - 10s 6ms/step - loss: 0.6167 - acc: 0.6762 - val_loss: 0.6136 - val_acc: 0.6969\n",
            "Epoch 9/10\n",
            "1646/1646 [==============================] - 10s 6ms/step - loss: 0.6084 - acc: 0.6926 - val_loss: 0.6111 - val_acc: 0.6657\n",
            "Epoch 10/10\n",
            "1646/1646 [==============================] - 10s 6ms/step - loss: 0.6001 - acc: 0.7023 - val_loss: 0.5981 - val_acc: 0.7096\n"
          ],
          "name": "stdout"
        }
      ]
    },
    {
      "cell_type": "code",
      "metadata": {
        "id": "FbwZP8gFXZ1z",
        "outputId": "146a6077-7abe-4519-c12f-dc8ceeab7451",
        "colab": {
          "base_uri": "https://localhost:8080/",
          "height": 34
        }
      },
      "source": [
        "# accuracy on training set\n",
        "print('Accuracy on training set:', accuracy_score(y_train, model.predict_classes(X_train)), '%')"
      ],
      "execution_count": null,
      "outputs": [
        {
          "output_type": "stream",
          "text": [
            "Accuracy on training set: 0.715674362089915 %\n"
          ],
          "name": "stdout"
        }
      ]
    },
    {
      "cell_type": "code",
      "metadata": {
        "id": "7v6-0B9fXZ1-",
        "outputId": "67f024b8-cca0-4fea-af6b-b6c1709c14cd",
        "colab": {
          "base_uri": "https://localhost:8080/",
          "height": 34
        }
      },
      "source": [
        "# accuracy on validation set\n",
        "print('Accuracy on validation set:', accuracy_score(y_valid, model.predict_classes(X_valid)), '%')"
      ],
      "execution_count": null,
      "outputs": [
        {
          "output_type": "stream",
          "text": [
            "Accuracy on validation set: 0.7096317280453258 %\n"
          ],
          "name": "stdout"
        }
      ]
    },
    {
      "cell_type": "markdown",
      "metadata": {
        "id": "MugTAmQ7XcLq"
      },
      "source": [
        "## 5. Changing pooling size"
      ]
    },
    {
      "cell_type": "code",
      "metadata": {
        "id": "1TlepUXsX-Pt"
      },
      "source": [
        "# change pooling size\n",
        "\n",
        "model = Sequential()\n",
        "    \n",
        "model.add(InputLayer(input_shape=(224, 224, 3)))\n",
        "\n",
        "model.add(Conv2D(25, (5, 5), activation='relu', strides=(1, 1), padding='valid'))\n",
        "model.add(Conv2D(50, (5, 5), activation='relu', strides=(1, 1), padding='valid'))\n",
        "model.add(MaxPool2D(pool_size=(2, 2), padding='valid'))\n",
        "\n",
        "model.add(Flatten())\n",
        "\n",
        "model.add(Dense(units=100, activation='sigmoid'))\n",
        "model.add(Dense(units=1, activation='sigmoid'))\n",
        "\n",
        "model.compile(loss='binary_crossentropy', optimizer=\"sgd\", metrics=['accuracy'])"
      ],
      "execution_count": null,
      "outputs": []
    },
    {
      "cell_type": "code",
      "metadata": {
        "id": "u5c9xliOX-QN",
        "outputId": "27084503-545e-41bb-f39f-2fb01f45b9dc",
        "colab": {
          "base_uri": "https://localhost:8080/",
          "height": 364
        }
      },
      "source": [
        "model.summary()"
      ],
      "execution_count": null,
      "outputs": [
        {
          "output_type": "stream",
          "text": [
            "Model: \"sequential_7\"\n",
            "_________________________________________________________________\n",
            "Layer (type)                 Output Shape              Param #   \n",
            "=================================================================\n",
            "conv2d_14 (Conv2D)           (None, 220, 220, 25)      1900      \n",
            "_________________________________________________________________\n",
            "conv2d_15 (Conv2D)           (None, 216, 216, 50)      31300     \n",
            "_________________________________________________________________\n",
            "max_pooling2d_8 (MaxPooling2 (None, 108, 108, 50)      0         \n",
            "_________________________________________________________________\n",
            "flatten_7 (Flatten)          (None, 583200)            0         \n",
            "_________________________________________________________________\n",
            "dense_13 (Dense)             (None, 100)               58320100  \n",
            "_________________________________________________________________\n",
            "dense_14 (Dense)             (None, 1)                 101       \n",
            "=================================================================\n",
            "Total params: 58,353,401\n",
            "Trainable params: 58,353,401\n",
            "Non-trainable params: 0\n",
            "_________________________________________________________________\n"
          ],
          "name": "stdout"
        }
      ]
    },
    {
      "cell_type": "code",
      "metadata": {
        "id": "ObaTC2H-X-Qb",
        "outputId": "0e0cc31e-a486-476a-d4df-777687905e38",
        "colab": {
          "base_uri": "https://localhost:8080/",
          "height": 382
        }
      },
      "source": [
        "# training the model\n",
        "model_history = model.fit(X_train, y_train, epochs=10, batch_size=128,validation_data=(X_valid,y_valid))"
      ],
      "execution_count": null,
      "outputs": [
        {
          "output_type": "stream",
          "text": [
            "Train on 1646 samples, validate on 706 samples\n",
            "Epoch 1/10\n",
            "1646/1646 [==============================] - 26s 16ms/step - loss: 0.6931 - acc: 0.5699 - val_loss: 0.6813 - val_acc: 0.5538\n",
            "Epoch 2/10\n",
            "1646/1646 [==============================] - 14s 8ms/step - loss: 0.6568 - acc: 0.5930 - val_loss: 0.6549 - val_acc: 0.5751\n",
            "Epoch 3/10\n",
            "1646/1646 [==============================] - 14s 8ms/step - loss: 0.6389 - acc: 0.6440 - val_loss: 0.6649 - val_acc: 0.6034\n",
            "Epoch 4/10\n",
            "1646/1646 [==============================] - 14s 8ms/step - loss: 0.6316 - acc: 0.6379 - val_loss: 0.6089 - val_acc: 0.6771\n",
            "Epoch 5/10\n",
            "1646/1646 [==============================] - 14s 8ms/step - loss: 0.6169 - acc: 0.6677 - val_loss: 0.5992 - val_acc: 0.6841\n",
            "Epoch 6/10\n",
            "1646/1646 [==============================] - 14s 8ms/step - loss: 0.6320 - acc: 0.6440 - val_loss: 0.5894 - val_acc: 0.6983\n",
            "Epoch 7/10\n",
            "1646/1646 [==============================] - 14s 9ms/step - loss: 0.5779 - acc: 0.7175 - val_loss: 0.5742 - val_acc: 0.7040\n",
            "Epoch 8/10\n",
            "1646/1646 [==============================] - 14s 8ms/step - loss: 0.5813 - acc: 0.7017 - val_loss: 0.5639 - val_acc: 0.7054\n",
            "Epoch 9/10\n",
            "1646/1646 [==============================] - 14s 8ms/step - loss: 0.5494 - acc: 0.7266 - val_loss: 0.5590 - val_acc: 0.7011\n",
            "Epoch 10/10\n",
            "1646/1646 [==============================] - 14s 8ms/step - loss: 0.5772 - acc: 0.7145 - val_loss: 0.5541 - val_acc: 0.7210\n"
          ],
          "name": "stdout"
        }
      ]
    },
    {
      "cell_type": "code",
      "metadata": {
        "id": "_DOMRLPjX-Qq",
        "outputId": "8020c83c-04c3-4390-cbae-7343a456fed7",
        "colab": {
          "base_uri": "https://localhost:8080/",
          "height": 34
        }
      },
      "source": [
        "# accuracy on training set\n",
        "print('Accuracy on training set:', accuracy_score(y_train, model.predict_classes(X_train)), '%')"
      ],
      "execution_count": null,
      "outputs": [
        {
          "output_type": "stream",
          "text": [
            "Accuracy on training set: 0.735722964763062 %\n"
          ],
          "name": "stdout"
        }
      ]
    },
    {
      "cell_type": "code",
      "metadata": {
        "id": "2Nb8Gh-UX-Qz",
        "outputId": "04dad127-2ff8-47d7-8e14-99d4bc802fe6",
        "colab": {
          "base_uri": "https://localhost:8080/",
          "height": 34
        }
      },
      "source": [
        "# accuracy on validation set\n",
        "print('Accuracy on validation set:', accuracy_score(y_valid, model.predict_classes(X_valid)), '%')"
      ],
      "execution_count": null,
      "outputs": [
        {
          "output_type": "stream",
          "text": [
            "Accuracy on validation set: 0.7209631728045326 %\n"
          ],
          "name": "stdout"
        }
      ]
    },
    {
      "cell_type": "markdown",
      "metadata": {
        "id": "sOCZcGB5YQSx"
      },
      "source": [
        "## 6. Changing padding technique"
      ]
    },
    {
      "cell_type": "code",
      "metadata": {
        "id": "pyvT1mT8hKOY"
      },
      "source": [
        "# change padding technique\n",
        "\n",
        "model = Sequential()\n",
        "    \n",
        "model.add(InputLayer(input_shape=(224, 224, 3)))\n",
        "\n",
        "model.add(Conv2D(25, (5, 5), activation='relu', strides=(1, 1), padding='same'))\n",
        "model.add(Conv2D(50, (5, 5), activation='relu', strides=(1, 1), padding='same'))\n",
        "model.add(MaxPool2D(pool_size=(4, 4), padding='valid'))\n",
        "\n",
        "model.add(Flatten())\n",
        "\n",
        "model.add(Dense(units=100, activation='sigmoid'))\n",
        "model.add(Dense(units=1, activation='sigmoid'))\n",
        "\n",
        "model.compile(loss='binary_crossentropy', optimizer=\"sgd\", metrics=['accuracy'])"
      ],
      "execution_count": null,
      "outputs": []
    },
    {
      "cell_type": "code",
      "metadata": {
        "id": "cf-z6vIBYyzH",
        "outputId": "4585e7f1-f78f-4ced-d956-645acc64e6bf",
        "colab": {
          "base_uri": "https://localhost:8080/",
          "height": 364
        }
      },
      "source": [
        "model.summary()"
      ],
      "execution_count": null,
      "outputs": [
        {
          "output_type": "stream",
          "text": [
            "Model: \"sequential_8\"\n",
            "_________________________________________________________________\n",
            "Layer (type)                 Output Shape              Param #   \n",
            "=================================================================\n",
            "conv2d_16 (Conv2D)           (None, 224, 224, 25)      1900      \n",
            "_________________________________________________________________\n",
            "conv2d_17 (Conv2D)           (None, 224, 224, 50)      31300     \n",
            "_________________________________________________________________\n",
            "max_pooling2d_9 (MaxPooling2 (None, 56, 56, 50)        0         \n",
            "_________________________________________________________________\n",
            "flatten_8 (Flatten)          (None, 156800)            0         \n",
            "_________________________________________________________________\n",
            "dense_15 (Dense)             (None, 100)               15680100  \n",
            "_________________________________________________________________\n",
            "dense_16 (Dense)             (None, 1)                 101       \n",
            "=================================================================\n",
            "Total params: 15,713,401\n",
            "Trainable params: 15,713,401\n",
            "Non-trainable params: 0\n",
            "_________________________________________________________________\n"
          ],
          "name": "stdout"
        }
      ]
    },
    {
      "cell_type": "code",
      "metadata": {
        "id": "FfeXcq8xYyzp",
        "outputId": "8ff34394-a28d-487e-95af-c776531c92f8",
        "colab": {
          "base_uri": "https://localhost:8080/",
          "height": 382
        }
      },
      "source": [
        "# training the model\n",
        "model_history = model.fit(X_train, y_train, epochs=10, batch_size=128,validation_data=(X_valid,y_valid))"
      ],
      "execution_count": null,
      "outputs": [
        {
          "output_type": "stream",
          "text": [
            "Train on 1646 samples, validate on 706 samples\n",
            "Epoch 1/10\n",
            "1646/1646 [==============================] - 24s 14ms/step - loss: 0.6736 - acc: 0.5863 - val_loss: 0.6756 - val_acc: 0.5609\n",
            "Epoch 2/10\n",
            "1646/1646 [==============================] - 12s 7ms/step - loss: 0.6631 - acc: 0.5978 - val_loss: 0.6573 - val_acc: 0.6473\n",
            "Epoch 3/10\n",
            "1646/1646 [==============================] - 12s 7ms/step - loss: 0.6510 - acc: 0.6324 - val_loss: 0.6431 - val_acc: 0.6530\n",
            "Epoch 4/10\n",
            "1646/1646 [==============================] - 12s 7ms/step - loss: 0.6400 - acc: 0.6452 - val_loss: 0.6339 - val_acc: 0.6416\n",
            "Epoch 5/10\n",
            "1646/1646 [==============================] - 12s 7ms/step - loss: 0.6289 - acc: 0.6586 - val_loss: 0.6321 - val_acc: 0.6275\n",
            "Epoch 6/10\n",
            "1646/1646 [==============================] - 12s 7ms/step - loss: 0.6182 - acc: 0.6652 - val_loss: 0.6086 - val_acc: 0.6686\n",
            "Epoch 7/10\n",
            "1646/1646 [==============================] - 12s 7ms/step - loss: 0.6193 - acc: 0.6713 - val_loss: 0.6364 - val_acc: 0.6190\n",
            "Epoch 8/10\n",
            "1646/1646 [==============================] - 12s 7ms/step - loss: 0.6170 - acc: 0.6640 - val_loss: 0.6024 - val_acc: 0.6657\n",
            "Epoch 9/10\n",
            "1646/1646 [==============================] - 12s 7ms/step - loss: 0.5908 - acc: 0.7120 - val_loss: 0.5881 - val_acc: 0.6813\n",
            "Epoch 10/10\n",
            "1646/1646 [==============================] - 12s 7ms/step - loss: 0.5817 - acc: 0.6999 - val_loss: 0.5729 - val_acc: 0.7040\n"
          ],
          "name": "stdout"
        }
      ]
    },
    {
      "cell_type": "code",
      "metadata": {
        "id": "FeCqlE73Yyz5",
        "outputId": "e298744a-6b9f-4b96-8c90-a6bf8ae545f7",
        "colab": {
          "base_uri": "https://localhost:8080/",
          "height": 34
        }
      },
      "source": [
        "# accuracy on training set\n",
        "print('Accuracy on training set:', accuracy_score(y_train, model.predict_classes(X_train)), '%')"
      ],
      "execution_count": null,
      "outputs": [
        {
          "output_type": "stream",
          "text": [
            "Accuracy on training set: 0.7284325637910085 %\n"
          ],
          "name": "stdout"
        }
      ]
    },
    {
      "cell_type": "code",
      "metadata": {
        "id": "cO60-SfbYy0E",
        "outputId": "aa856ded-adc7-4225-8c0f-d0d7277556d6",
        "colab": {
          "base_uri": "https://localhost:8080/",
          "height": 34
        }
      },
      "source": [
        "# accuracy on validation set\n",
        "print('Accuracy on validation set:', accuracy_score(y_valid, model.predict_classes(X_valid)), '%')"
      ],
      "execution_count": null,
      "outputs": [
        {
          "output_type": "stream",
          "text": [
            "Accuracy on validation set: 0.7039660056657224 %\n"
          ],
          "name": "stdout"
        }
      ]
    },
    {
      "cell_type": "markdown",
      "metadata": {
        "id": "gSYrnrv-Y3qZ"
      },
      "source": [
        "## 7. Changing stride"
      ]
    },
    {
      "cell_type": "code",
      "metadata": {
        "id": "9l6Qo3oehKOm"
      },
      "source": [
        "# changing stride\n",
        "\n",
        "model = Sequential()\n",
        "    \n",
        "model.add(InputLayer(input_shape=(224, 224, 3)))\n",
        "\n",
        "model.add(Conv2D(25, (5, 5), activation='relu', strides=(2, 2), padding='valid'))\n",
        "model.add(Conv2D(50, (5, 5), activation='relu', strides=(1, 1), padding='valid'))\n",
        "model.add(MaxPool2D(pool_size=(4, 4), padding='valid'))\n",
        "\n",
        "model.add(Flatten())\n",
        "\n",
        "model.add(Dense(units=100, activation='sigmoid'))\n",
        "model.add(Dense(units=1, activation='sigmoid'))\n",
        "\n",
        "model.compile(loss='binary_crossentropy', optimizer=\"sgd\", metrics=['accuracy'])"
      ],
      "execution_count": null,
      "outputs": []
    },
    {
      "cell_type": "code",
      "metadata": {
        "id": "tctf_89BhKO0",
        "outputId": "50d22b6a-9aec-4755-8d8f-db05d17cf8fb",
        "colab": {
          "base_uri": "https://localhost:8080/",
          "height": 364
        }
      },
      "source": [
        "model.summary()"
      ],
      "execution_count": null,
      "outputs": [
        {
          "output_type": "stream",
          "text": [
            "Model: \"sequential_9\"\n",
            "_________________________________________________________________\n",
            "Layer (type)                 Output Shape              Param #   \n",
            "=================================================================\n",
            "conv2d_18 (Conv2D)           (None, 110, 110, 25)      1900      \n",
            "_________________________________________________________________\n",
            "conv2d_19 (Conv2D)           (None, 106, 106, 50)      31300     \n",
            "_________________________________________________________________\n",
            "max_pooling2d_10 (MaxPooling (None, 26, 26, 50)        0         \n",
            "_________________________________________________________________\n",
            "flatten_9 (Flatten)          (None, 33800)             0         \n",
            "_________________________________________________________________\n",
            "dense_17 (Dense)             (None, 100)               3380100   \n",
            "_________________________________________________________________\n",
            "dense_18 (Dense)             (None, 1)                 101       \n",
            "=================================================================\n",
            "Total params: 3,413,401\n",
            "Trainable params: 3,413,401\n",
            "Non-trainable params: 0\n",
            "_________________________________________________________________\n"
          ],
          "name": "stdout"
        }
      ]
    },
    {
      "cell_type": "code",
      "metadata": {
        "id": "Nb5q7nbpZ5ua",
        "outputId": "4deab1d9-6c44-4a1d-a6fc-f6d389ef4bd8",
        "colab": {
          "base_uri": "https://localhost:8080/",
          "height": 382
        }
      },
      "source": [
        "# training the model\n",
        "model_history = model.fit(X_train, y_train, epochs=10, batch_size=128,validation_data=(X_valid,y_valid))"
      ],
      "execution_count": null,
      "outputs": [
        {
          "output_type": "stream",
          "text": [
            "Train on 1646 samples, validate on 706 samples\n",
            "Epoch 1/10\n",
            "1646/1646 [==============================] - 7s 4ms/step - loss: 0.6764 - acc: 0.5863 - val_loss: 0.6826 - val_acc: 0.5609\n",
            "Epoch 2/10\n",
            "1646/1646 [==============================] - 4s 2ms/step - loss: 0.6726 - acc: 0.5869 - val_loss: 0.6832 - val_acc: 0.5609\n",
            "Epoch 3/10\n",
            "1646/1646 [==============================] - 4s 2ms/step - loss: 0.6698 - acc: 0.5863 - val_loss: 0.6743 - val_acc: 0.5609\n",
            "Epoch 4/10\n",
            "1646/1646 [==============================] - 4s 2ms/step - loss: 0.6647 - acc: 0.5863 - val_loss: 0.6675 - val_acc: 0.5609\n",
            "Epoch 5/10\n",
            "1646/1646 [==============================] - 4s 2ms/step - loss: 0.6613 - acc: 0.5923 - val_loss: 0.6634 - val_acc: 0.5609\n",
            "Epoch 6/10\n",
            "1646/1646 [==============================] - 4s 2ms/step - loss: 0.6583 - acc: 0.5960 - val_loss: 0.6576 - val_acc: 0.5793\n",
            "Epoch 7/10\n",
            "1646/1646 [==============================] - 4s 2ms/step - loss: 0.6532 - acc: 0.6118 - val_loss: 0.6537 - val_acc: 0.5779\n",
            "Epoch 8/10\n",
            "1646/1646 [==============================] - 4s 2ms/step - loss: 0.6461 - acc: 0.6160 - val_loss: 0.6442 - val_acc: 0.6686\n",
            "Epoch 9/10\n",
            "1646/1646 [==============================] - 4s 2ms/step - loss: 0.6413 - acc: 0.6337 - val_loss: 0.6451 - val_acc: 0.5963\n",
            "Epoch 10/10\n",
            "1646/1646 [==============================] - 4s 2ms/step - loss: 0.6358 - acc: 0.6488 - val_loss: 0.6319 - val_acc: 0.6572\n"
          ],
          "name": "stdout"
        }
      ]
    },
    {
      "cell_type": "code",
      "metadata": {
        "id": "hdsmGV3RZ5u_",
        "outputId": "2b762973-7284-4aa5-ffec-782d4a941ba0",
        "colab": {
          "base_uri": "https://localhost:8080/",
          "height": 34
        }
      },
      "source": [
        "# accuracy on training set\n",
        "print('Accuracy on training set:', accuracy_score(y_train, model.predict_classes(X_train)), '%')"
      ],
      "execution_count": null,
      "outputs": [
        {
          "output_type": "stream",
          "text": [
            "Accuracy on training set: 0.6634264884568651 %\n"
          ],
          "name": "stdout"
        }
      ]
    },
    {
      "cell_type": "code",
      "metadata": {
        "id": "S2G90kqeZ5vQ",
        "outputId": "d08dc5c7-bfb6-4125-f5ec-419435d20d8b",
        "colab": {
          "base_uri": "https://localhost:8080/",
          "height": 34
        }
      },
      "source": [
        "# accuracy on validation set\n",
        "print('Accuracy on validation set:', accuracy_score(y_valid, model.predict_classes(X_valid)), '%')"
      ],
      "execution_count": null,
      "outputs": [
        {
          "output_type": "stream",
          "text": [
            "Accuracy on validation set: 0.6572237960339944 %\n"
          ],
          "name": "stdout"
        }
      ]
    },
    {
      "cell_type": "markdown",
      "metadata": {
        "id": "8TUZlzVvb7EW"
      },
      "source": [
        "## Combining Hyperparameter tuning"
      ]
    },
    {
      "cell_type": "code",
      "metadata": {
        "id": "D5fIqq0ocA5r",
        "outputId": "3bd9c917-0def-4cdb-c3b4-dee80e3e8cd7",
        "colab": {
          "base_uri": "https://localhost:8080/",
          "height": 159
        }
      },
      "source": [
        "# defining the model architecture with maxpool layer\n",
        "\n",
        "model = Sequential()\n",
        "    \n",
        "model.add(InputLayer(input_shape=(224, 224, 3)))\n",
        "\n",
        "model.add(Conv2D(50, (5, 5), activation='relu', strides=(1, 1), padding='valid'))\n",
        "model.add(MaxPool2D(pool_size=(2, 2), padding='valid'))\n",
        "model.add(Conv2D(50, (5, 5), activation='relu', strides=(1, 1), padding='valid'))\n",
        "model.add(MaxPool2D(pool_size=(4, 4), padding='valid'))\n",
        "\n",
        "model.add(Flatten())\n",
        "\n",
        "model.add(Dense(units=100, activation='relu'))\n",
        "model.add(BatchNormalization())\n",
        "model.add(Dropout(rate=0.6))\n",
        "model.add(Dense(units=100, activation='relu'))\n",
        "model.add(BatchNormalization())\n",
        "model.add(Dropout(rate=0.6))\n",
        "model.add(Dense(units=1, activation='sigmoid'))\n",
        "\n",
        "# compiling the model\n",
        "model.compile(loss='binary_crossentropy', optimizer=\"adam\", metrics=['accuracy'])"
      ],
      "execution_count": null,
      "outputs": [
        {
          "output_type": "stream",
          "text": [
            "WARNING:tensorflow:From /usr/local/lib/python3.6/dist-packages/keras/backend/tensorflow_backend.py:148: The name tf.placeholder_with_default is deprecated. Please use tf.compat.v1.placeholder_with_default instead.\n",
            "\n",
            "WARNING:tensorflow:From /usr/local/lib/python3.6/dist-packages/keras/backend/tensorflow_backend.py:3733: calling dropout (from tensorflow.python.ops.nn_ops) with keep_prob is deprecated and will be removed in a future version.\n",
            "Instructions for updating:\n",
            "Please use `rate` instead of `keep_prob`. Rate should be set to `rate = 1 - keep_prob`.\n",
            "WARNING:tensorflow:Large dropout rate: 0.6 (>0.5). In TensorFlow 2.x, dropout() uses dropout rate instead of keep_prob. Please ensure that this is intended.\n",
            "WARNING:tensorflow:Large dropout rate: 0.6 (>0.5). In TensorFlow 2.x, dropout() uses dropout rate instead of keep_prob. Please ensure that this is intended.\n"
          ],
          "name": "stdout"
        }
      ]
    },
    {
      "cell_type": "code",
      "metadata": {
        "id": "3-SYPJ7ccxO_",
        "outputId": "2a8b2b33-1fc1-49ae-9c85-f7e2f17774d6",
        "colab": {
          "base_uri": "https://localhost:8080/",
          "height": 573
        }
      },
      "source": [
        "model.summary()"
      ],
      "execution_count": null,
      "outputs": [
        {
          "output_type": "stream",
          "text": [
            "Model: \"sequential_11\"\n",
            "_________________________________________________________________\n",
            "Layer (type)                 Output Shape              Param #   \n",
            "=================================================================\n",
            "conv2d_22 (Conv2D)           (None, 220, 220, 50)      3800      \n",
            "_________________________________________________________________\n",
            "max_pooling2d_13 (MaxPooling (None, 110, 110, 50)      0         \n",
            "_________________________________________________________________\n",
            "conv2d_23 (Conv2D)           (None, 106, 106, 50)      62550     \n",
            "_________________________________________________________________\n",
            "max_pooling2d_14 (MaxPooling (None, 26, 26, 50)        0         \n",
            "_________________________________________________________________\n",
            "flatten_11 (Flatten)         (None, 33800)             0         \n",
            "_________________________________________________________________\n",
            "dense_20 (Dense)             (None, 100)               3380100   \n",
            "_________________________________________________________________\n",
            "batch_normalization_1 (Batch (None, 100)               400       \n",
            "_________________________________________________________________\n",
            "dropout_1 (Dropout)          (None, 100)               0         \n",
            "_________________________________________________________________\n",
            "dense_21 (Dense)             (None, 100)               10100     \n",
            "_________________________________________________________________\n",
            "batch_normalization_2 (Batch (None, 100)               400       \n",
            "_________________________________________________________________\n",
            "dropout_2 (Dropout)          (None, 100)               0         \n",
            "_________________________________________________________________\n",
            "dense_22 (Dense)             (None, 1)                 101       \n",
            "=================================================================\n",
            "Total params: 3,457,451\n",
            "Trainable params: 3,457,051\n",
            "Non-trainable params: 400\n",
            "_________________________________________________________________\n"
          ],
          "name": "stdout"
        }
      ]
    },
    {
      "cell_type": "code",
      "metadata": {
        "id": "z4r5Ujo4cxPg",
        "outputId": "08c4023a-8806-4550-8865-4aded9658c00",
        "colab": {
          "base_uri": "https://localhost:8080/",
          "height": 1000
        }
      },
      "source": [
        "# training the model for 100 epochs\n",
        "model_history = model.fit(X_train, y_train, epochs=100, batch_size=128,validation_data=(X_valid,y_valid))"
      ],
      "execution_count": null,
      "outputs": [
        {
          "output_type": "stream",
          "text": [
            "Train on 1646 samples, validate on 706 samples\n",
            "Epoch 1/100\n",
            "1646/1646 [==============================] - 14s 8ms/step - loss: 0.8870 - acc: 0.5820 - val_loss: 0.9441 - val_acc: 0.6261\n",
            "Epoch 2/100\n",
            "1646/1646 [==============================] - 8s 5ms/step - loss: 0.6971 - acc: 0.6950 - val_loss: 0.5143 - val_acc: 0.7635\n",
            "Epoch 3/100\n",
            "1646/1646 [==============================] - 8s 5ms/step - loss: 0.5948 - acc: 0.7266 - val_loss: 0.4687 - val_acc: 0.7762\n",
            "Epoch 4/100\n",
            "1646/1646 [==============================] - 8s 5ms/step - loss: 0.5238 - acc: 0.7618 - val_loss: 0.4894 - val_acc: 0.7677\n",
            "Epoch 5/100\n",
            "1646/1646 [==============================] - 8s 5ms/step - loss: 0.4799 - acc: 0.8001 - val_loss: 0.5443 - val_acc: 0.7337\n",
            "Epoch 6/100\n",
            "1646/1646 [==============================] - 8s 5ms/step - loss: 0.4545 - acc: 0.8001 - val_loss: 0.6658 - val_acc: 0.7181\n",
            "Epoch 7/100\n",
            "1646/1646 [==============================] - 8s 5ms/step - loss: 0.3866 - acc: 0.8256 - val_loss: 0.6150 - val_acc: 0.7153\n",
            "Epoch 8/100\n",
            "1646/1646 [==============================] - 8s 5ms/step - loss: 0.3266 - acc: 0.8700 - val_loss: 0.3744 - val_acc: 0.8428\n",
            "Epoch 9/100\n",
            "1646/1646 [==============================] - 8s 5ms/step - loss: 0.3082 - acc: 0.8730 - val_loss: 0.3762 - val_acc: 0.8173\n",
            "Epoch 10/100\n",
            "1646/1646 [==============================] - 8s 5ms/step - loss: 0.2466 - acc: 0.8955 - val_loss: 0.3540 - val_acc: 0.8484\n",
            "Epoch 11/100\n",
            "1646/1646 [==============================] - 8s 5ms/step - loss: 0.2185 - acc: 0.9162 - val_loss: 0.4747 - val_acc: 0.7833\n",
            "Epoch 12/100\n",
            "1646/1646 [==============================] - 8s 5ms/step - loss: 0.1971 - acc: 0.9216 - val_loss: 0.6530 - val_acc: 0.7266\n",
            "Epoch 13/100\n",
            "1646/1646 [==============================] - 8s 5ms/step - loss: 0.1566 - acc: 0.9399 - val_loss: 0.7989 - val_acc: 0.7054\n",
            "Epoch 14/100\n",
            "1646/1646 [==============================] - 8s 5ms/step - loss: 0.1607 - acc: 0.9374 - val_loss: 0.4130 - val_acc: 0.8258\n",
            "Epoch 15/100\n",
            "1646/1646 [==============================] - 8s 5ms/step - loss: 0.1143 - acc: 0.9629 - val_loss: 0.5298 - val_acc: 0.7776\n",
            "Epoch 16/100\n",
            "1646/1646 [==============================] - 8s 5ms/step - loss: 0.0916 - acc: 0.9690 - val_loss: 0.6220 - val_acc: 0.7521\n",
            "Epoch 17/100\n",
            "1646/1646 [==============================] - 8s 5ms/step - loss: 0.0925 - acc: 0.9666 - val_loss: 0.8685 - val_acc: 0.6884\n",
            "Epoch 18/100\n",
            "1646/1646 [==============================] - 8s 5ms/step - loss: 0.0706 - acc: 0.9812 - val_loss: 0.6384 - val_acc: 0.7408\n",
            "Epoch 19/100\n",
            "1646/1646 [==============================] - 8s 5ms/step - loss: 0.0608 - acc: 0.9860 - val_loss: 0.3760 - val_acc: 0.8555\n",
            "Epoch 20/100\n",
            "1646/1646 [==============================] - 8s 5ms/step - loss: 0.0714 - acc: 0.9769 - val_loss: 0.5040 - val_acc: 0.8088\n",
            "Epoch 21/100\n",
            "1646/1646 [==============================] - 8s 5ms/step - loss: 0.0515 - acc: 0.9854 - val_loss: 0.5570 - val_acc: 0.8102\n",
            "Epoch 22/100\n",
            "1646/1646 [==============================] - 8s 5ms/step - loss: 0.0444 - acc: 0.9872 - val_loss: 0.8956 - val_acc: 0.7436\n",
            "Epoch 23/100\n",
            "1646/1646 [==============================] - 8s 5ms/step - loss: 0.0562 - acc: 0.9836 - val_loss: 0.8303 - val_acc: 0.7946\n",
            "Epoch 24/100\n",
            "1646/1646 [==============================] - 8s 5ms/step - loss: 0.0510 - acc: 0.9872 - val_loss: 0.4352 - val_acc: 0.8513\n",
            "Epoch 25/100\n",
            "1646/1646 [==============================] - 8s 5ms/step - loss: 0.0382 - acc: 0.9891 - val_loss: 0.4537 - val_acc: 0.8343\n",
            "Epoch 26/100\n",
            "1646/1646 [==============================] - 8s 5ms/step - loss: 0.0449 - acc: 0.9891 - val_loss: 0.5381 - val_acc: 0.8428\n",
            "Epoch 27/100\n",
            "1646/1646 [==============================] - 8s 5ms/step - loss: 0.0322 - acc: 0.9933 - val_loss: 0.5808 - val_acc: 0.8258\n",
            "Epoch 28/100\n",
            "1646/1646 [==============================] - 8s 5ms/step - loss: 0.0421 - acc: 0.9885 - val_loss: 0.8769 - val_acc: 0.7762\n",
            "Epoch 29/100\n",
            "1646/1646 [==============================] - 8s 5ms/step - loss: 0.0312 - acc: 0.9909 - val_loss: 0.4759 - val_acc: 0.8640\n",
            "Epoch 30/100\n",
            "1646/1646 [==============================] - 8s 5ms/step - loss: 0.0291 - acc: 0.9957 - val_loss: 0.4874 - val_acc: 0.8527\n",
            "Epoch 31/100\n",
            "1646/1646 [==============================] - 8s 5ms/step - loss: 0.0323 - acc: 0.9939 - val_loss: 1.5394 - val_acc: 0.6799\n",
            "Epoch 32/100\n",
            "1646/1646 [==============================] - 8s 5ms/step - loss: 0.0317 - acc: 0.9921 - val_loss: 0.6682 - val_acc: 0.8244\n",
            "Epoch 33/100\n",
            "1646/1646 [==============================] - 8s 5ms/step - loss: 0.0248 - acc: 0.9945 - val_loss: 0.5972 - val_acc: 0.8499\n",
            "Epoch 34/100\n",
            "1646/1646 [==============================] - 8s 5ms/step - loss: 0.0325 - acc: 0.9945 - val_loss: 0.5794 - val_acc: 0.8399\n",
            "Epoch 35/100\n",
            "1646/1646 [==============================] - 8s 5ms/step - loss: 0.0320 - acc: 0.9921 - val_loss: 0.9024 - val_acc: 0.7918\n",
            "Epoch 36/100\n",
            "1646/1646 [==============================] - 8s 5ms/step - loss: 0.0288 - acc: 0.9939 - val_loss: 0.6474 - val_acc: 0.8300\n",
            "Epoch 37/100\n",
            "1646/1646 [==============================] - 8s 5ms/step - loss: 0.0161 - acc: 0.9970 - val_loss: 0.7969 - val_acc: 0.8102\n",
            "Epoch 38/100\n",
            "1646/1646 [==============================] - 8s 5ms/step - loss: 0.0249 - acc: 0.9927 - val_loss: 0.4859 - val_acc: 0.8555\n",
            "Epoch 39/100\n",
            "1646/1646 [==============================] - 8s 5ms/step - loss: 0.0171 - acc: 0.9970 - val_loss: 0.6151 - val_acc: 0.8357\n",
            "Epoch 40/100\n",
            "1646/1646 [==============================] - 8s 5ms/step - loss: 0.0209 - acc: 0.9933 - val_loss: 0.6870 - val_acc: 0.8314\n",
            "Epoch 41/100\n",
            "1646/1646 [==============================] - 8s 5ms/step - loss: 0.0199 - acc: 0.9945 - val_loss: 0.9041 - val_acc: 0.8017\n",
            "Epoch 42/100\n",
            "1646/1646 [==============================] - 8s 5ms/step - loss: 0.0233 - acc: 0.9964 - val_loss: 0.7282 - val_acc: 0.8215\n",
            "Epoch 43/100\n",
            "1646/1646 [==============================] - 8s 5ms/step - loss: 0.0351 - acc: 0.9915 - val_loss: 0.6487 - val_acc: 0.8569\n",
            "Epoch 44/100\n",
            "1646/1646 [==============================] - 8s 5ms/step - loss: 0.0138 - acc: 0.9970 - val_loss: 0.6534 - val_acc: 0.8371\n",
            "Epoch 45/100\n",
            "1646/1646 [==============================] - 8s 5ms/step - loss: 0.0238 - acc: 0.9951 - val_loss: 0.6509 - val_acc: 0.8371\n",
            "Epoch 46/100\n",
            "1646/1646 [==============================] - 8s 5ms/step - loss: 0.0215 - acc: 0.9957 - val_loss: 0.6949 - val_acc: 0.8357\n",
            "Epoch 47/100\n",
            "1646/1646 [==============================] - 8s 5ms/step - loss: 0.0185 - acc: 0.9964 - val_loss: 0.5924 - val_acc: 0.8442\n",
            "Epoch 48/100\n",
            "1646/1646 [==============================] - 8s 5ms/step - loss: 0.0302 - acc: 0.9939 - val_loss: 0.9009 - val_acc: 0.7833\n",
            "Epoch 49/100\n",
            "1646/1646 [==============================] - 8s 5ms/step - loss: 0.0267 - acc: 0.9945 - val_loss: 0.7192 - val_acc: 0.8399\n",
            "Epoch 50/100\n",
            "1646/1646 [==============================] - 8s 5ms/step - loss: 0.0193 - acc: 0.9970 - val_loss: 0.6411 - val_acc: 0.8541\n",
            "Epoch 51/100\n",
            "1646/1646 [==============================] - 8s 5ms/step - loss: 0.0209 - acc: 0.9921 - val_loss: 0.7124 - val_acc: 0.8314\n",
            "Epoch 52/100\n",
            "1646/1646 [==============================] - 8s 5ms/step - loss: 0.0165 - acc: 0.9982 - val_loss: 0.7367 - val_acc: 0.8357\n",
            "Epoch 53/100\n",
            "1646/1646 [==============================] - 8s 5ms/step - loss: 0.0224 - acc: 0.9939 - val_loss: 0.7987 - val_acc: 0.8229\n",
            "Epoch 54/100\n",
            "1646/1646 [==============================] - 8s 5ms/step - loss: 0.0106 - acc: 0.9976 - val_loss: 0.9168 - val_acc: 0.8272\n",
            "Epoch 55/100\n",
            "1646/1646 [==============================] - 8s 5ms/step - loss: 0.0122 - acc: 0.9964 - val_loss: 1.0060 - val_acc: 0.8045\n",
            "Epoch 56/100\n",
            "1646/1646 [==============================] - 8s 5ms/step - loss: 0.0147 - acc: 0.9951 - val_loss: 0.7914 - val_acc: 0.8343\n",
            "Epoch 57/100\n",
            "1646/1646 [==============================] - 8s 5ms/step - loss: 0.0173 - acc: 0.9933 - val_loss: 1.4293 - val_acc: 0.7748\n",
            "Epoch 58/100\n",
            "1646/1646 [==============================] - 8s 5ms/step - loss: 0.0142 - acc: 0.9964 - val_loss: 0.6311 - val_acc: 0.8456\n",
            "Epoch 59/100\n",
            "1646/1646 [==============================] - 8s 5ms/step - loss: 0.0196 - acc: 0.9957 - val_loss: 1.5057 - val_acc: 0.7082\n",
            "Epoch 60/100\n",
            "1646/1646 [==============================] - 8s 5ms/step - loss: 0.0176 - acc: 0.9970 - val_loss: 0.8405 - val_acc: 0.7861\n",
            "Epoch 61/100\n",
            "1646/1646 [==============================] - 8s 5ms/step - loss: 0.0091 - acc: 0.9976 - val_loss: 0.6720 - val_acc: 0.7833\n",
            "Epoch 62/100\n",
            "1646/1646 [==============================] - 8s 5ms/step - loss: 0.0164 - acc: 0.9957 - val_loss: 0.5793 - val_acc: 0.8314\n",
            "Epoch 63/100\n",
            "1646/1646 [==============================] - 8s 5ms/step - loss: 0.0153 - acc: 0.9964 - val_loss: 0.8058 - val_acc: 0.8187\n",
            "Epoch 64/100\n",
            "1646/1646 [==============================] - 8s 5ms/step - loss: 0.0192 - acc: 0.9982 - val_loss: 0.6427 - val_acc: 0.8357\n",
            "Epoch 65/100\n",
            "1646/1646 [==============================] - 8s 5ms/step - loss: 0.0256 - acc: 0.9945 - val_loss: 0.6354 - val_acc: 0.8399\n",
            "Epoch 66/100\n",
            "1646/1646 [==============================] - 8s 5ms/step - loss: 0.0087 - acc: 0.9976 - val_loss: 1.1352 - val_acc: 0.8031\n",
            "Epoch 67/100\n",
            "1646/1646 [==============================] - 8s 5ms/step - loss: 0.0098 - acc: 0.9982 - val_loss: 0.7392 - val_acc: 0.8329\n",
            "Epoch 68/100\n",
            "1646/1646 [==============================] - 8s 5ms/step - loss: 0.0163 - acc: 0.9957 - val_loss: 0.7132 - val_acc: 0.8314\n",
            "Epoch 69/100\n",
            "1646/1646 [==============================] - 8s 5ms/step - loss: 0.0126 - acc: 0.9982 - val_loss: 1.3324 - val_acc: 0.7762\n",
            "Epoch 70/100\n",
            "1646/1646 [==============================] - 8s 5ms/step - loss: 0.0145 - acc: 0.9957 - val_loss: 0.8261 - val_acc: 0.8385\n",
            "Epoch 71/100\n",
            "1646/1646 [==============================] - 8s 5ms/step - loss: 0.0110 - acc: 0.9976 - val_loss: 1.3603 - val_acc: 0.7833\n",
            "Epoch 72/100\n",
            "1646/1646 [==============================] - 8s 5ms/step - loss: 0.0132 - acc: 0.9982 - val_loss: 0.6580 - val_acc: 0.8343\n",
            "Epoch 73/100\n",
            "1646/1646 [==============================] - 8s 5ms/step - loss: 0.0173 - acc: 0.9957 - val_loss: 0.8770 - val_acc: 0.8286\n",
            "Epoch 74/100\n",
            "1646/1646 [==============================] - 8s 5ms/step - loss: 0.0089 - acc: 0.9964 - val_loss: 1.4165 - val_acc: 0.7734\n",
            "Epoch 75/100\n",
            "1646/1646 [==============================] - 8s 5ms/step - loss: 0.0074 - acc: 0.9976 - val_loss: 0.8365 - val_acc: 0.8329\n",
            "Epoch 76/100\n",
            "1646/1646 [==============================] - 8s 5ms/step - loss: 0.0102 - acc: 0.9970 - val_loss: 0.8406 - val_acc: 0.8456\n",
            "Epoch 77/100\n",
            "1646/1646 [==============================] - 8s 5ms/step - loss: 0.0051 - acc: 0.9988 - val_loss: 0.8357 - val_acc: 0.8399\n",
            "Epoch 78/100\n",
            "1646/1646 [==============================] - 8s 5ms/step - loss: 0.0098 - acc: 0.9976 - val_loss: 0.7536 - val_acc: 0.8598\n",
            "Epoch 79/100\n",
            "1646/1646 [==============================] - 8s 5ms/step - loss: 0.0127 - acc: 0.9964 - val_loss: 0.8296 - val_acc: 0.8484\n",
            "Epoch 80/100\n",
            "1646/1646 [==============================] - 8s 5ms/step - loss: 0.0104 - acc: 0.9964 - val_loss: 0.7752 - val_acc: 0.8513\n",
            "Epoch 81/100\n",
            "1646/1646 [==============================] - 8s 5ms/step - loss: 0.0169 - acc: 0.9957 - val_loss: 0.7257 - val_acc: 0.8399\n",
            "Epoch 82/100\n",
            "1646/1646 [==============================] - 8s 5ms/step - loss: 0.0056 - acc: 0.9982 - val_loss: 0.7513 - val_acc: 0.8343\n",
            "Epoch 83/100\n",
            "1646/1646 [==============================] - 8s 5ms/step - loss: 0.0106 - acc: 0.9970 - val_loss: 0.7079 - val_acc: 0.8428\n",
            "Epoch 84/100\n",
            "1646/1646 [==============================] - 8s 5ms/step - loss: 0.0172 - acc: 0.9970 - val_loss: 1.1716 - val_acc: 0.7904\n",
            "Epoch 85/100\n",
            "1646/1646 [==============================] - 8s 5ms/step - loss: 0.0114 - acc: 0.9957 - val_loss: 1.0705 - val_acc: 0.8187\n",
            "Epoch 86/100\n",
            "1646/1646 [==============================] - 8s 5ms/step - loss: 0.0111 - acc: 0.9976 - val_loss: 0.8891 - val_acc: 0.8201\n",
            "Epoch 87/100\n",
            "1646/1646 [==============================] - 8s 5ms/step - loss: 0.0103 - acc: 0.9982 - val_loss: 0.7137 - val_acc: 0.8456\n",
            "Epoch 88/100\n",
            "1646/1646 [==============================] - 8s 5ms/step - loss: 0.0161 - acc: 0.9957 - val_loss: 0.6900 - val_acc: 0.8385\n",
            "Epoch 89/100\n",
            "1646/1646 [==============================] - 8s 5ms/step - loss: 0.0180 - acc: 0.9957 - val_loss: 0.7273 - val_acc: 0.8399\n",
            "Epoch 90/100\n",
            "1646/1646 [==============================] - 8s 5ms/step - loss: 0.0112 - acc: 0.9964 - val_loss: 0.8926 - val_acc: 0.8258\n",
            "Epoch 91/100\n",
            "1646/1646 [==============================] - 8s 5ms/step - loss: 0.0163 - acc: 0.9964 - val_loss: 0.7593 - val_acc: 0.8399\n",
            "Epoch 92/100\n",
            "1646/1646 [==============================] - 8s 5ms/step - loss: 0.0078 - acc: 0.9957 - val_loss: 1.3285 - val_acc: 0.7904\n",
            "Epoch 93/100\n",
            "1646/1646 [==============================] - 8s 5ms/step - loss: 0.0092 - acc: 0.9964 - val_loss: 0.8840 - val_acc: 0.8343\n",
            "Epoch 94/100\n",
            "1646/1646 [==============================] - 8s 5ms/step - loss: 0.0092 - acc: 0.9976 - val_loss: 1.0456 - val_acc: 0.8215\n",
            "Epoch 95/100\n",
            "1646/1646 [==============================] - 8s 5ms/step - loss: 0.0087 - acc: 0.9964 - val_loss: 1.2494 - val_acc: 0.7960\n",
            "Epoch 96/100\n",
            "1646/1646 [==============================] - 8s 5ms/step - loss: 0.0141 - acc: 0.9939 - val_loss: 0.9138 - val_acc: 0.8144\n",
            "Epoch 97/100\n",
            "1646/1646 [==============================] - 8s 5ms/step - loss: 0.0177 - acc: 0.9945 - val_loss: 0.9685 - val_acc: 0.8088\n",
            "Epoch 98/100\n",
            "1646/1646 [==============================] - 8s 5ms/step - loss: 0.0133 - acc: 0.9957 - val_loss: 1.1182 - val_acc: 0.8116\n",
            "Epoch 99/100\n",
            "1646/1646 [==============================] - 8s 5ms/step - loss: 0.0143 - acc: 0.9951 - val_loss: 0.9488 - val_acc: 0.8258\n",
            "Epoch 100/100\n",
            "1646/1646 [==============================] - 8s 5ms/step - loss: 0.0210 - acc: 0.9951 - val_loss: 1.8198 - val_acc: 0.7195\n"
          ],
          "name": "stdout"
        }
      ]
    },
    {
      "cell_type": "code",
      "metadata": {
        "id": "lTfk3UlwcxPt",
        "outputId": "b47f1bbb-610d-4f28-e95f-34d1ae51b45d",
        "colab": {
          "base_uri": "https://localhost:8080/",
          "height": 34
        }
      },
      "source": [
        "# accuracy on training set\n",
        "print('Accuracy on training set:', accuracy_score(y_train, model.predict_classes(X_train)), '%')"
      ],
      "execution_count": null,
      "outputs": [
        {
          "output_type": "stream",
          "text": [
            "Accuracy on training set: 0.8645200486026732 %\n"
          ],
          "name": "stdout"
        }
      ]
    },
    {
      "cell_type": "code",
      "metadata": {
        "id": "7sLMzomDcxP4",
        "outputId": "cfdf4fb3-67f3-48d9-fe67-0d4b23ce5891",
        "colab": {
          "base_uri": "https://localhost:8080/",
          "height": 34
        }
      },
      "source": [
        "# accuracy on validation set\n",
        "print('Accuracy on validation set:', accuracy_score(y_valid, model.predict_classes(X_valid)), '%')"
      ],
      "execution_count": null,
      "outputs": [
        {
          "output_type": "stream",
          "text": [
            "Accuracy on validation set: 0.7195467422096318 %\n"
          ],
          "name": "stdout"
        }
      ]
    },
    {
      "cell_type": "code",
      "metadata": {
        "id": "icyVeIn0eIPG",
        "outputId": "5e0ac31a-c136-467b-966e-8266248dcfd0",
        "colab": {
          "base_uri": "https://localhost:8080/",
          "height": 295
        }
      },
      "source": [
        "# summarize history for loss\n",
        "plt.plot(model_history.history['loss'])\n",
        "plt.plot(model_history.history['val_loss'])\n",
        "plt.title('model loss')\n",
        "plt.ylabel('loss')\n",
        "plt.xlabel('epoch')\n",
        "plt.legend(['train', 'validation'], loc='upper left')\n",
        "plt.show()"
      ],
      "execution_count": null,
      "outputs": [
        {
          "output_type": "display_data",
          "data": {
            "image/png": "[encoded data removed]",
            "text/plain": [
              "<Figure size 432x288 with 1 Axes>"
            ]
          },
          "metadata": {
            "tags": []
          }
        }
      ]
    },
    {
      "cell_type": "code",
      "metadata": {
        "id": "oYJOcjiNeIPu",
        "outputId": "6ac13cf7-5adc-4c82-8542-c0f971893c8d",
        "colab": {
          "base_uri": "https://localhost:8080/",
          "height": 295
        }
      },
      "source": [
        "# summarize history for accuracy\n",
        "plt.plot(model_history.history['acc'])\n",
        "plt.plot(model_history.history['val_acc'])\n",
        "plt.title('model accuracy')\n",
        "plt.ylabel('accuracy')\n",
        "plt.xlabel('epoch')\n",
        "plt.legend(['train', 'validation'], loc='upper left')\n",
        "plt.show()"
      ],
      "execution_count": null,
      "outputs": [
        {
          "output_type": "display_data",
          "data": {
            "image/png": "[encoded data removed]",
            "text/plain": [
              "<Figure size 432x288 with 1 Axes>"
            ]
          },
          "metadata": {
            "tags": []
          }
        }
      ]
    },
    {
      "cell_type": "code",
      "metadata": {
        "id": "wQ-rpxow7gzJ"
      },
      "source": [
        ""
      ],
      "execution_count": null,
      "outputs": []
    }
  ]
}