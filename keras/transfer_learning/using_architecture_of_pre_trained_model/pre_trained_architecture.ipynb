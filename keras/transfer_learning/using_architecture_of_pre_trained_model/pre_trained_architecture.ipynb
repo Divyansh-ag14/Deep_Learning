{
  "cells": [
    {
      "cell_type": "markdown",
      "metadata": {
        "id": "iMnQo7P_7LWr"
      },
      "source": [
        "## Transfer Learning using architecture of pre-trained model\n",
        "\n",
        "1. Import necessary libraries\n",
        "2. Load the data\n",
        "3. Pre-Process the data\n",
        "4. Load the architecture of pretrained model\n",
        "5. Train the model\n",
        "6. Get predictions"
      ]
    },
    {
      "cell_type": "markdown",
      "metadata": {
        "id": "GhKQy59w7LXQ"
      },
      "source": [
        "## 1. Import neccessary libraries"
      ]
    },
    {
      "cell_type": "code",
      "execution_count": 20,
      "metadata": {
        "id": "wqvacIQ37LXY"
      },
      "outputs": [],
      "source": [
        "# import necessary libraries for plotting images\n",
        "import numpy as np\n",
        "import matplotlib.pyplot as plt\n",
        "# plot in jupyter notebook itself\n",
        "%matplotlib inline\n",
        "from glob import glob\n",
        "import pandas as pd\n",
        "from sklearn.model_selection import train_test_split\n",
        "from sklearn.metrics import accuracy_score\n",
        "\n",
        "from keras.models import Model\n",
        "from tensorflow.keras.utils import to_categorical\n",
        "#used to preprocess data according to VGG16\n",
        "from keras.applications.vgg16 import preprocess_input\n",
        "#for instantiating the model and loading the weights and biases\n",
        "from keras.applications.vgg16 import VGG16\n",
        "from keras.models import Sequential\n",
        "from keras.layers import Dense, InputLayer"
      ]
    },
    {
      "cell_type": "markdown",
      "metadata": {
        "id": "a3Bk_xGH7LXm"
      },
      "source": [
        "## 2. Load the data"
      ]
    },
    {
      "cell_type": "code",
      "execution_count": 21,
      "metadata": {
        "colab": {
          "base_uri": "https://localhost:8080/"
        },
        "id": "x_VY_HZ5hm-z",
        "outputId": "16734b22-a5c9-4498-ea5c-b2fa32b5fb5e"
      },
      "outputs": [
        {
          "name": "stdout",
          "output_type": "stream",
          "text": [
            "Drive already mounted at /content/drive; to attempt to forcibly remount, call drive.mount(\"/content/drive\", force_remount=True).\n"
          ]
        }
      ],
      "source": [
        "from google.colab import drive\n",
        "drive.mount('/content/drive')"
      ]
    },
    {
      "cell_type": "code",
      "execution_count": 22,
      "metadata": {
        "colab": {
          "base_uri": "https://localhost:8080/"
        },
        "id": "1bb6wmB1hmvk",
        "outputId": "7d58726c-aee5-4c45-a050-4ca78e2628d0"
      },
      "outputs": [
        {
          "name": "stdout",
          "output_type": "stream",
          "text": [
            "Archive:  /content/drive/My Drive/Dataset.zip\n",
            "replace Dataset/emergency_classification.csv? [y]es, [n]o, [A]ll, [N]one, [r]ename: n\n",
            "replace Dataset/images/0.jpg? [y]es, [n]o, [A]ll, [N]one, [r]ename: n\n",
            "replace Dataset/images/10.jpg? [y]es, [n]o, [A]ll, [N]one, [r]ename: "
          ]
        }
      ],
      "source": [
        "# unzipping the Dataset.zip file\n",
        "!unzip /content/drive/My\\ Drive/Dataset.zip"
      ]
    },
    {
      "cell_type": "code",
      "execution_count": 23,
      "metadata": {
        "id": "bBoa3LGa7LXq"
      },
      "outputs": [],
      "source": [
        "#reading the csv file containing data labels\n",
        "data = pd.read_csv('Dataset/emergency_classification.csv')"
      ]
    },
    {
      "cell_type": "code",
      "execution_count": 24,
      "metadata": {
        "id": "IniNNq067LYF"
      },
      "outputs": [],
      "source": [
        "# create an empty python list\n",
        "X = []\n",
        "\n",
        "# go through all the image locations one by one\n",
        "for img_name in data.image_names:\n",
        "    # read the image from location\n",
        "    img = plt.imread('Dataset/images/' + img_name)\n",
        "    # pile it one over the other\n",
        "    X.append(img)\n",
        "    \n",
        "# convert this python list to a single numpy array\n",
        "X = np.array(X)"
      ]
    },
    {
      "cell_type": "code",
      "execution_count": 25,
      "metadata": {
        "id": "3Vvni78T7LYP"
      },
      "outputs": [],
      "source": [
        "#getting the labels for images\n",
        "y = data.emergency_or_not.values"
      ]
    },
    {
      "cell_type": "markdown",
      "metadata": {
        "id": "uf5qmAzL7LY8"
      },
      "source": [
        "## 3. Pre-Process the data"
      ]
    },
    {
      "cell_type": "markdown",
      "metadata": {
        "id": "XVsVf1nq7LZA"
      },
      "source": [
        "Steps : \n",
        "1. Pre-process the data as per model's requirement\n",
        "2. Prepare training and validation set"
      ]
    },
    {
      "cell_type": "code",
      "execution_count": 26,
      "metadata": {
        "id": "r_5xd5KU7LZR"
      },
      "outputs": [],
      "source": [
        "#preprocess input images accordiing to requirements of VGG16 model\n",
        "X = preprocess_input(X)"
      ]
    },
    {
      "cell_type": "code",
      "execution_count": 27,
      "metadata": {
        "id": "E6l8ry2I6fLH"
      },
      "outputs": [],
      "source": [
        "#converting label to categorical i.e instead of 0/1 labels we have 2 columns emergency and non-emergency\n",
        "# with only one of them is true for every image\n",
        "y = to_categorical(y)"
      ]
    },
    {
      "cell_type": "code",
      "execution_count": 28,
      "metadata": {
        "id": "FsCCm9bc7LZm"
      },
      "outputs": [],
      "source": [
        "# splitting the dataset into training and validation sets\n",
        "X_train, X_valid, y_train, y_valid = train_test_split(X, y, test_size=0.3, random_state=42)"
      ]
    },
    {
      "cell_type": "markdown",
      "metadata": {
        "id": "4DMgEvEB7LZx"
      },
      "source": [
        "## 4. Load the architecture of pretrained model"
      ]
    },
    {
      "cell_type": "code",
      "execution_count": 29,
      "metadata": {
        "id": "bqtH_K4f7LZz"
      },
      "outputs": [],
      "source": [
        "# creating model with pre trained imagenet weights\n",
        "base_model = VGG16(weights='imagenet')"
      ]
    },
    {
      "cell_type": "code",
      "execution_count": 30,
      "metadata": {
        "colab": {
          "base_uri": "https://localhost:8080/"
        },
        "id": "7KcP5C9l7LZ8",
        "outputId": "ea25127d-a312-4d41-dcb9-89de89292ac4"
      },
      "outputs": [
        {
          "name": "stdout",
          "output_type": "stream",
          "text": [
            "Model: \"vgg16\"\n",
            "_________________________________________________________________\n",
            " Layer (type)                Output Shape              Param #   \n",
            "=================================================================\n",
            " input_2 (InputLayer)        [(None, 224, 224, 3)]     0         \n",
            "                                                                 \n",
            " block1_conv1 (Conv2D)       (None, 224, 224, 64)      1792      \n",
            "                                                                 \n",
            " block1_conv2 (Conv2D)       (None, 224, 224, 64)      36928     \n",
            "                                                                 \n",
            " block1_pool (MaxPooling2D)  (None, 112, 112, 64)      0         \n",
            "                                                                 \n",
            " block2_conv1 (Conv2D)       (None, 112, 112, 128)     73856     \n",
            "                                                                 \n",
            " block2_conv2 (Conv2D)       (None, 112, 112, 128)     147584    \n",
            "                                                                 \n",
            " block2_pool (MaxPooling2D)  (None, 56, 56, 128)       0         \n",
            "                                                                 \n",
            " block3_conv1 (Conv2D)       (None, 56, 56, 256)       295168    \n",
            "                                                                 \n",
            " block3_conv2 (Conv2D)       (None, 56, 56, 256)       590080    \n",
            "                                                                 \n",
            " block3_conv3 (Conv2D)       (None, 56, 56, 256)       590080    \n",
            "                                                                 \n",
            " block3_pool (MaxPooling2D)  (None, 28, 28, 256)       0         \n",
            "                                                                 \n",
            " block4_conv1 (Conv2D)       (None, 28, 28, 512)       1180160   \n",
            "                                                                 \n",
            " block4_conv2 (Conv2D)       (None, 28, 28, 512)       2359808   \n",
            "                                                                 \n",
            " block4_conv3 (Conv2D)       (None, 28, 28, 512)       2359808   \n",
            "                                                                 \n",
            " block4_pool (MaxPooling2D)  (None, 14, 14, 512)       0         \n",
            "                                                                 \n",
            " block5_conv1 (Conv2D)       (None, 14, 14, 512)       2359808   \n",
            "                                                                 \n",
            " block5_conv2 (Conv2D)       (None, 14, 14, 512)       2359808   \n",
            "                                                                 \n",
            " block5_conv3 (Conv2D)       (None, 14, 14, 512)       2359808   \n",
            "                                                                 \n",
            " block5_pool (MaxPooling2D)  (None, 7, 7, 512)         0         \n",
            "                                                                 \n",
            " flatten (Flatten)           (None, 25088)             0         \n",
            "                                                                 \n",
            " fc1 (Dense)                 (None, 4096)              102764544 \n",
            "                                                                 \n",
            " fc2 (Dense)                 (None, 4096)              16781312  \n",
            "                                                                 \n",
            " predictions (Dense)         (None, 1000)              4097000   \n",
            "                                                                 \n",
            "=================================================================\n",
            "Total params: 138,357,544\n",
            "Trainable params: 138,357,544\n",
            "Non-trainable params: 0\n",
            "_________________________________________________________________\n"
          ]
        }
      ],
      "source": [
        "#shows model summary\n",
        "base_model.summary()"
      ]
    },
    {
      "cell_type": "code",
      "execution_count": 31,
      "metadata": {
        "colab": {
          "base_uri": "https://localhost:8080/"
        },
        "id": "QC0-nMWFlvG2",
        "outputId": "b1711801-b6f7-4bdd-9de5-afa8bd933e80"
      },
      "outputs": [
        {
          "name": "stdout",
          "output_type": "stream",
          "text": [
            "Model: \"model_1\"\n",
            "_________________________________________________________________\n",
            " Layer (type)                Output Shape              Param #   \n",
            "=================================================================\n",
            " input_2 (InputLayer)        [(None, 224, 224, 3)]     0         \n",
            "                                                                 \n",
            " block1_conv1 (Conv2D)       (None, 224, 224, 64)      1792      \n",
            "                                                                 \n",
            " block1_conv2 (Conv2D)       (None, 224, 224, 64)      36928     \n",
            "                                                                 \n",
            " block1_pool (MaxPooling2D)  (None, 112, 112, 64)      0         \n",
            "                                                                 \n",
            " block2_conv1 (Conv2D)       (None, 112, 112, 128)     73856     \n",
            "                                                                 \n",
            " block2_conv2 (Conv2D)       (None, 112, 112, 128)     147584    \n",
            "                                                                 \n",
            " block2_pool (MaxPooling2D)  (None, 56, 56, 128)       0         \n",
            "                                                                 \n",
            " block3_conv1 (Conv2D)       (None, 56, 56, 256)       295168    \n",
            "                                                                 \n",
            " block3_conv2 (Conv2D)       (None, 56, 56, 256)       590080    \n",
            "                                                                 \n",
            " block3_conv3 (Conv2D)       (None, 56, 56, 256)       590080    \n",
            "                                                                 \n",
            " block3_pool (MaxPooling2D)  (None, 28, 28, 256)       0         \n",
            "                                                                 \n",
            " block4_conv1 (Conv2D)       (None, 28, 28, 512)       1180160   \n",
            "                                                                 \n",
            " block4_conv2 (Conv2D)       (None, 28, 28, 512)       2359808   \n",
            "                                                                 \n",
            " block4_conv3 (Conv2D)       (None, 28, 28, 512)       2359808   \n",
            "                                                                 \n",
            " block4_pool (MaxPooling2D)  (None, 14, 14, 512)       0         \n",
            "                                                                 \n",
            " block5_conv1 (Conv2D)       (None, 14, 14, 512)       2359808   \n",
            "                                                                 \n",
            " block5_conv2 (Conv2D)       (None, 14, 14, 512)       2359808   \n",
            "                                                                 \n",
            " block5_conv3 (Conv2D)       (None, 14, 14, 512)       2359808   \n",
            "                                                                 \n",
            " block5_pool (MaxPooling2D)  (None, 7, 7, 512)         0         \n",
            "                                                                 \n",
            " flatten (Flatten)           (None, 25088)             0         \n",
            "                                                                 \n",
            " fc1 (Dense)                 (None, 100)               2508900   \n",
            "                                                                 \n",
            " prediction (Dense)          (None, 2)                 202       \n",
            "                                                                 \n",
            "=================================================================\n",
            "Total params: 17,223,790\n",
            "Trainable params: 17,223,790\n",
            "Non-trainable params: 0\n",
            "_________________________________________________________________\n"
          ]
        }
      ],
      "source": [
        "# creating our own model \n",
        "x = Dense(100, activation='relu', name='fc1')(base_model.layers[-4].output)\n",
        "y = Dense(2, activation='softmax', name='prediction')(x)\n",
        "my_model = Model(inputs=base_model.input, outputs=y)\n",
        "my_model.summary()"
      ]
    },
    {
      "cell_type": "code",
      "execution_count": 32,
      "metadata": {
        "id": "FjLMQ96R7Lb1"
      },
      "outputs": [],
      "source": [
        "# compile the model\n",
        "my_model.compile(optimizer='sgd', metrics=['accuracy'], loss='categorical_crossentropy')"
      ]
    },
    {
      "cell_type": "markdown",
      "metadata": {
        "id": "OVfit0i9klBv"
      },
      "source": [
        "## 5. Train the model"
      ]
    },
    {
      "cell_type": "code",
      "execution_count": 33,
      "metadata": {
        "colab": {
          "base_uri": "https://localhost:8080/"
        },
        "id": "THtHpHrE7Lb-",
        "outputId": "0d30d5ef-bc17-4cad-a5ba-f601bc758cc5",
        "scrolled": true
      },
      "outputs": [
        {
          "name": "stdout",
          "output_type": "stream",
          "text": [
            "Epoch 1/10\n",
            "52/52 [==============================] - 25s 457ms/step - loss: nan - accuracy: 0.5784 - val_loss: nan - val_accuracy: 0.5609\n",
            "Epoch 2/10\n",
            "52/52 [==============================] - 24s 454ms/step - loss: nan - accuracy: 0.5863 - val_loss: nan - val_accuracy: 0.5609\n",
            "Epoch 3/10\n",
            "52/52 [==============================] - 24s 460ms/step - loss: nan - accuracy: 0.5863 - val_loss: nan - val_accuracy: 0.5609\n",
            "Epoch 4/10\n",
            "52/52 [==============================] - 24s 454ms/step - loss: nan - accuracy: 0.5863 - val_loss: nan - val_accuracy: 0.5609\n",
            "Epoch 5/10\n",
            "52/52 [==============================] - 24s 453ms/step - loss: nan - accuracy: 0.5863 - val_loss: nan - val_accuracy: 0.5609\n",
            "Epoch 6/10\n",
            "52/52 [==============================] - 24s 454ms/step - loss: nan - accuracy: 0.5863 - val_loss: nan - val_accuracy: 0.5609\n",
            "Epoch 7/10\n",
            "52/52 [==============================] - 24s 455ms/step - loss: nan - accuracy: 0.5863 - val_loss: nan - val_accuracy: 0.5609\n",
            "Epoch 8/10\n",
            "52/52 [==============================] - 24s 456ms/step - loss: nan - accuracy: 0.5863 - val_loss: nan - val_accuracy: 0.5609\n",
            "Epoch 9/10\n",
            "52/52 [==============================] - 24s 454ms/step - loss: nan - accuracy: 0.5863 - val_loss: nan - val_accuracy: 0.5609\n",
            "Epoch 10/10\n",
            "52/52 [==============================] - 24s 453ms/step - loss: nan - accuracy: 0.5863 - val_loss: nan - val_accuracy: 0.5609\n"
          ]
        },
        {
          "data": {
            "text/plain": [
              "<keras.callbacks.History at 0x7f7eb60e7a90>"
            ]
          },
          "execution_count": 33,
          "metadata": {},
          "output_type": "execute_result"
        }
      ],
      "source": [
        "# training the model\n",
        "my_model.fit(X_train, y_train, epochs=10, validation_data=(X_valid, y_valid))"
      ]
    },
    {
      "cell_type": "markdown",
      "metadata": {
        "id": "cooberaE7LcD"
      },
      "source": [
        "## 6. Get Predictions"
      ]
    },
    {
      "cell_type": "code",
      "execution_count": 34,
      "metadata": {
        "id": "8PV5cC9-7LcE"
      },
      "outputs": [],
      "source": [
        "# get predictions\n",
        "predictions = my_model.predict(X_valid)\n",
        "predicted_class = np.argmax(predictions,axis=1)"
      ]
    },
    {
      "cell_type": "code",
      "execution_count": 36,
      "metadata": {
        "colab": {
          "base_uri": "https://localhost:8080/"
        },
        "id": "F-V9tGe2q5IN",
        "outputId": "b8a3f824-ce55-4d76-b7d6-4921cc11104f"
      },
      "outputs": [
        {
          "data": {
            "text/plain": [
              "0.5609065155807366"
            ]
          },
          "execution_count": 36,
          "metadata": {},
          "output_type": "execute_result"
        }
      ],
      "source": [
        "# checking the performance of model on validation set\n",
        "accuracy_score(y_valid[:,1], predicted_class)"
      ]
    },
    {
      "cell_type": "code",
      "execution_count": null,
      "metadata": {
        "id": "y_d3wlzIforV"
      },
      "outputs": [],
      "source": []
    }
  ],
  "metadata": {
    "accelerator": "GPU",
    "colab": {
      "collapsed_sections": [],
      "machine_shape": "hm",
      "name": "14.6 Transfer Learning using architecture of pre-trained model.ipynb",
      "provenance": []
    },
    "kernelspec": {
      "display_name": "Python 3",
      "name": "python3"
    },
    "language_info": {
      "codemirror_mode": {
        "name": "ipython",
        "version": 3
      },
      "file_extension": ".py",
      "mimetype": "text/x-python",
      "name": "python",
      "nbconvert_exporter": "python",
      "pygments_lexer": "ipython3",
      "version": "3.6.2"
    }
  },
  "nbformat": 4,
  "nbformat_minor": 0
}
