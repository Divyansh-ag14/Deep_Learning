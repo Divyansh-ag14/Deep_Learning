{
 "cells": [
  {
   "cell_type": "markdown",
   "metadata": {
    "colab_type": "text",
    "id": "xR7hbyyfuG9N"
   },
   "source": [
    "# Steps to solve Emergency vs Non-Emergency vehicle classification\n",
    "\n",
    "<ol>1. Loading the dataset</ol>\n",
    "<ol>2. Pre-processing the data</ol>\n",
    "<ol>3. Creating training and validation set</ol>\n",
    "<ol>4. Defining the model architecture</ol>\n",
    "<ol><ol>Setting up the weight initialization technique</ol></ol>\n",
    "<ol>5. Compiling the model</ol>\n",
    "<ol>6. Training the model</ol>\n",
    "<ol>7. Evaluating model performance</ol>"
   ]
  },
  {
   "cell_type": "markdown",
   "metadata": {
    "colab_type": "text",
    "id": "xq6rlm_puG9U"
   },
   "source": [
    "## 1. Loading the dataset"
   ]
  },
  {
   "cell_type": "code",
   "execution_count": 1,
   "metadata": {
    "colab": {
     "base_uri": "https://localhost:8080/",
     "height": 34
    },
    "colab_type": "code",
    "executionInfo": {
     "elapsed": 5294,
     "status": "ok",
     "timestamp": 1587638524023,
     "user": {
      "displayName": "Aishwarya Singh",
      "photoUrl": "https://lh3.googleusercontent.com/a-/AOh14GgeJwfn4BdBDCAplWi_kdtB9FRssOpXO7T_aMgg=s64",
      "userId": "01105858832371513140"
     },
     "user_tz": -330
    },
    "id": "XPYT-SDjuG9a",
    "outputId": "28e39c97-c972-4b7b-9ed9-be75fb46fcff",
    "scrolled": true
   },
   "outputs": [],
   "source": [
    "# import necessary libraries and functions\n",
    "import numpy as np\n",
    "import pandas as pd\n",
    "import matplotlib.pyplot as plt\n",
    "%matplotlib inline\n",
    "\n",
    "# importing layers from keras\n",
    "from keras.layers import Dense, InputLayer\n",
    "from keras.models import Sequential\n",
    "# importing adam optimizer from keras optimizer module \n",
    "from keras.optimizers import Adam\n",
    "\n",
    "# train_test_split to create training and validation set\n",
    "from sklearn.model_selection import train_test_split\n",
    "# accuracy_score to calculate the accuracy of predictions\n",
    "from sklearn.metrics import accuracy_score"
   ]
  },
  {
   "cell_type": "code",
   "execution_count": 2,
   "metadata": {
    "colab": {},
    "colab_type": "code",
    "id": "WZdipKFauG9t"
   },
   "outputs": [],
   "source": [
    "# reading the csv file\n",
    "data = pd.read_csv('Dataset/emergency_classification.csv')"
   ]
  },
  {
   "cell_type": "code",
   "execution_count": 3,
   "metadata": {
    "colab": {},
    "colab_type": "code",
    "id": "7pOqqh5GuG94"
   },
   "outputs": [],
   "source": [
    "# defining the seed value\n",
    "seed = 42"
   ]
  },
  {
   "cell_type": "code",
   "execution_count": 4,
   "metadata": {
    "colab": {
     "base_uri": "https://localhost:8080/",
     "height": 206
    },
    "colab_type": "code",
    "executionInfo": {
     "elapsed": 1160,
     "status": "ok",
     "timestamp": 1587638586285,
     "user": {
      "displayName": "Aishwarya Singh",
      "photoUrl": "https://lh3.googleusercontent.com/a-/AOh14GgeJwfn4BdBDCAplWi_kdtB9FRssOpXO7T_aMgg=s64",
      "userId": "01105858832371513140"
     },
     "user_tz": -330
    },
    "id": "_VeBsfEAuG-B",
    "outputId": "816b1f02-a3f0-4051-eb9f-cfa5d9bf4d1f",
    "scrolled": true
   },
   "outputs": [
    {
     "data": {
      "text/html": [
       "<div>\n",
       "<style scoped>\n",
       "    .dataframe tbody tr th:only-of-type {\n",
       "        vertical-align: middle;\n",
       "    }\n",
       "\n",
       "    .dataframe tbody tr th {\n",
       "        vertical-align: top;\n",
       "    }\n",
       "\n",
       "    .dataframe thead th {\n",
       "        text-align: right;\n",
       "    }\n",
       "</style>\n",
       "<table border=\"1\" class=\"dataframe\">\n",
       "  <thead>\n",
       "    <tr style=\"text-align: right;\">\n",
       "      <th></th>\n",
       "      <th>image_names</th>\n",
       "      <th>emergency_or_not</th>\n",
       "    </tr>\n",
       "  </thead>\n",
       "  <tbody>\n",
       "    <tr>\n",
       "      <th>0</th>\n",
       "      <td>0.jpg</td>\n",
       "      <td>1</td>\n",
       "    </tr>\n",
       "    <tr>\n",
       "      <th>1</th>\n",
       "      <td>1.jpg</td>\n",
       "      <td>1</td>\n",
       "    </tr>\n",
       "    <tr>\n",
       "      <th>2</th>\n",
       "      <td>2.jpg</td>\n",
       "      <td>1</td>\n",
       "    </tr>\n",
       "    <tr>\n",
       "      <th>3</th>\n",
       "      <td>3.jpg</td>\n",
       "      <td>1</td>\n",
       "    </tr>\n",
       "    <tr>\n",
       "      <th>4</th>\n",
       "      <td>4.jpg</td>\n",
       "      <td>1</td>\n",
       "    </tr>\n",
       "  </tbody>\n",
       "</table>\n",
       "</div>"
      ],
      "text/plain": [
       "  image_names  emergency_or_not\n",
       "0       0.jpg                 1\n",
       "1       1.jpg                 1\n",
       "2       2.jpg                 1\n",
       "3       3.jpg                 1\n",
       "4       4.jpg                 1"
      ]
     },
     "execution_count": 4,
     "metadata": {},
     "output_type": "execute_result"
    }
   ],
   "source": [
    "# looking at first five rows of the data\n",
    "data.head()"
   ]
  },
  {
   "cell_type": "code",
   "execution_count": 5,
   "metadata": {
    "colab": {},
    "colab_type": "code",
    "id": "AMZyTsx3uG-W"
   },
   "outputs": [],
   "source": [
    "# load images and store it in numpy array\n",
    "\n",
    "# empty list to store the images\n",
    "X = []\n",
    "# iterating over each image\n",
    "for img_name in data.image_names:\n",
    "    # loading the image using its name\n",
    "    img = plt.imread('Dataset/images/' + img_name)\n",
    "    # saving each image in the list\n",
    "    X.append(img)\n",
    "    \n",
    "# converting the list of images into array\n",
    "X=np.array(X)\n",
    "\n",
    "# storing the target variable in separate variable\n",
    "y = data.emergency_or_not.values"
   ]
  },
  {
   "cell_type": "code",
   "execution_count": 6,
   "metadata": {
    "colab": {
     "base_uri": "https://localhost:8080/",
     "height": 34
    },
    "colab_type": "code",
    "executionInfo": {
     "elapsed": 4219,
     "status": "ok",
     "timestamp": 1587638619200,
     "user": {
      "displayName": "Aishwarya Singh",
      "photoUrl": "https://lh3.googleusercontent.com/a-/AOh14GgeJwfn4BdBDCAplWi_kdtB9FRssOpXO7T_aMgg=s64",
      "userId": "01105858832371513140"
     },
     "user_tz": -330
    },
    "id": "csN5M_hzuG-d",
    "outputId": "fd3d6995-22dd-42d6-8c90-9fb771ceb742"
   },
   "outputs": [
    {
     "data": {
      "text/plain": [
       "(2352, 224, 224, 3)"
      ]
     },
     "execution_count": 6,
     "metadata": {},
     "output_type": "execute_result"
    }
   ],
   "source": [
    "# shape of the images\n",
    "X.shape"
   ]
  },
  {
   "cell_type": "markdown",
   "metadata": {
    "colab_type": "text",
    "id": "IYNJtBXLuG-x"
   },
   "source": [
    "## 2. Pre-processing the data"
   ]
  },
  {
   "cell_type": "code",
   "execution_count": 7,
   "metadata": {
    "colab": {
     "base_uri": "https://localhost:8080/",
     "height": 34
    },
    "colab_type": "code",
    "executionInfo": {
     "elapsed": 1663,
     "status": "ok",
     "timestamp": 1587638635958,
     "user": {
      "displayName": "Aishwarya Singh",
      "photoUrl": "https://lh3.googleusercontent.com/a-/AOh14GgeJwfn4BdBDCAplWi_kdtB9FRssOpXO7T_aMgg=s64",
      "userId": "01105858832371513140"
     },
     "user_tz": -330
    },
    "id": "JsEZNNE_uG-2",
    "outputId": "13e2c076-e969-4999-8854-683fb8c5446b",
    "scrolled": true
   },
   "outputs": [
    {
     "data": {
      "text/plain": [
       "(2352, 150528)"
      ]
     },
     "execution_count": 7,
     "metadata": {},
     "output_type": "execute_result"
    }
   ],
   "source": [
    "# converting 3 dimensional image to 1 dimensional image\n",
    "X = X.reshape(X.shape[0], 224*224*3)\n",
    "X.shape"
   ]
  },
  {
   "cell_type": "code",
   "execution_count": 8,
   "metadata": {
    "colab": {
     "base_uri": "https://localhost:8080/",
     "height": 34
    },
    "colab_type": "code",
    "executionInfo": {
     "elapsed": 2298,
     "status": "ok",
     "timestamp": 1587638642217,
     "user": {
      "displayName": "Aishwarya Singh",
      "photoUrl": "https://lh3.googleusercontent.com/a-/AOh14GgeJwfn4BdBDCAplWi_kdtB9FRssOpXO7T_aMgg=s64",
      "userId": "01105858832371513140"
     },
     "user_tz": -330
    },
    "id": "9y8rfKEguG-_",
    "outputId": "2a3ca6cb-9c0a-4c30-ca62-470ac6172091"
   },
   "outputs": [
    {
     "data": {
      "text/plain": [
       "(0, 255)"
      ]
     },
     "execution_count": 8,
     "metadata": {},
     "output_type": "execute_result"
    }
   ],
   "source": [
    "# minimum and maximum pixel values of images\n",
    "X.min(), X.max()"
   ]
  },
  {
   "cell_type": "code",
   "execution_count": 9,
   "metadata": {
    "colab": {},
    "colab_type": "code",
    "id": "wI3hNx3uuG_L"
   },
   "outputs": [],
   "source": [
    "# normalizing the pixel values\n",
    "X = X / X.max()"
   ]
  },
  {
   "cell_type": "code",
   "execution_count": 10,
   "metadata": {
    "colab": {
     "base_uri": "https://localhost:8080/",
     "height": 34
    },
    "colab_type": "code",
    "executionInfo": {
     "elapsed": 2945,
     "status": "ok",
     "timestamp": 1587638656941,
     "user": {
      "displayName": "Aishwarya Singh",
      "photoUrl": "https://lh3.googleusercontent.com/a-/AOh14GgeJwfn4BdBDCAplWi_kdtB9FRssOpXO7T_aMgg=s64",
      "userId": "01105858832371513140"
     },
     "user_tz": -330
    },
    "id": "tghVTsVluG_S",
    "outputId": "1fc733cc-f190-4a0b-c2e3-6e7b1e8983e0"
   },
   "outputs": [
    {
     "data": {
      "text/plain": [
       "(0.0, 1.0)"
      ]
     },
     "execution_count": 10,
     "metadata": {},
     "output_type": "execute_result"
    }
   ],
   "source": [
    "\n",
    "# minimum and maximum pixel values of images after normalizing\n",
    "X.min(), X.max()"
   ]
  },
  {
   "cell_type": "markdown",
   "metadata": {
    "colab_type": "text",
    "id": "Scbo48PLuG_b"
   },
   "source": [
    "## 3. Creating training and validation set"
   ]
  },
  {
   "cell_type": "code",
   "execution_count": 11,
   "metadata": {
    "colab": {},
    "colab_type": "code",
    "id": "-UmSQzb1uG_d"
   },
   "outputs": [],
   "source": [
    "# creating a training and validation set\n",
    "X_train, X_valid, y_train, y_valid=train_test_split(X,y,test_size=0.3, random_state=seed)"
   ]
  },
  {
   "cell_type": "code",
   "execution_count": 12,
   "metadata": {
    "colab": {
     "base_uri": "https://localhost:8080/",
     "height": 34
    },
    "colab_type": "code",
    "executionInfo": {
     "elapsed": 2435,
     "status": "ok",
     "timestamp": 1587638693206,
     "user": {
      "displayName": "Aishwarya Singh",
      "photoUrl": "https://lh3.googleusercontent.com/a-/AOh14GgeJwfn4BdBDCAplWi_kdtB9FRssOpXO7T_aMgg=s64",
      "userId": "01105858832371513140"
     },
     "user_tz": -330
    },
    "id": "xTC-FgDjuG_k",
    "outputId": "dbbba003-a3d3-4da0-9d82-06f584b7038a"
   },
   "outputs": [
    {
     "data": {
      "text/plain": [
       "(((1646, 150528), (1646,)), ((706, 150528), (706,)))"
      ]
     },
     "execution_count": 12,
     "metadata": {},
     "output_type": "execute_result"
    }
   ],
   "source": [
    "# shape of training and validation set\n",
    "(X_train.shape, y_train.shape), (X_valid.shape, y_valid.shape)"
   ]
  },
  {
   "cell_type": "markdown",
   "metadata": {
    "colab_type": "text",
    "id": "vskdq-4huG_r"
   },
   "source": [
    "## 4. Defining the model architecture"
   ]
  },
  {
   "cell_type": "markdown",
   "metadata": {
    "colab_type": "text",
    "id": "nQ2oSVzvQ_rm"
   },
   "source": [
    "### Setting up the weight initialization technique"
   ]
  },
  {
   "cell_type": "code",
   "execution_count": 13,
   "metadata": {
    "colab": {},
    "colab_type": "code",
    "id": "h7LF7SxewwhV"
   },
   "outputs": [],
   "source": [
    "# importing different initialization techniques\n",
    "from keras.initializers import random_normal, glorot_normal, he_normal"
   ]
  },
  {
   "cell_type": "code",
   "execution_count": 14,
   "metadata": {
    "colab": {},
    "colab_type": "code",
    "id": "tLqmJg8PuHBs"
   },
   "outputs": [],
   "source": [
    "# defining the model architecture\n",
    "model=Sequential()\n",
    "\n",
    "model.add(InputLayer(input_shape=(224*224*3,)))\n",
    "model.add(Dense(100, activation='sigmoid', kernel_initializer=he_normal(seed=seed)))\n",
    "model.add(Dense(100, activation='sigmoid', kernel_initializer=he_normal(seed=seed)))\n",
    "model.add(Dense(units=1, activation='sigmoid', kernel_initializer=he_normal(seed=seed)))"
   ]
  },
  {
   "cell_type": "markdown",
   "metadata": {
    "colab_type": "text",
    "id": "FS__sDNVrjOs"
   },
   "source": [
    "## 5. Compiling the model"
   ]
  },
  {
   "cell_type": "code",
   "execution_count": 15,
   "metadata": {
    "colab": {},
    "colab_type": "code",
    "id": "BGovpAw_uHBp"
   },
   "outputs": [],
   "source": [
    "# defining the adam optimizer and setting the learning rate as 10^-5\n",
    "adam = Adam(lr=1e-5)"
   ]
  },
  {
   "cell_type": "code",
   "execution_count": 16,
   "metadata": {
    "colab": {},
    "colab_type": "code",
    "id": "pcEUdq_Tri5x"
   },
   "outputs": [],
   "source": [
    "# compiling the model\n",
    "\n",
    "# defining loss as binary crossentropy\n",
    "# defining optimizer as Adam\n",
    "# defining metrics as accuracy\n",
    "\n",
    "model.compile(loss='binary_crossentropy', optimizer=adam, metrics=['accuracy'])"
   ]
  },
  {
   "cell_type": "markdown",
   "metadata": {
    "colab_type": "text",
    "id": "UJ6D8X0JtD7f"
   },
   "source": [
    "## 6. Training the model"
   ]
  },
  {
   "cell_type": "code",
   "execution_count": 17,
   "metadata": {
    "colab": {
     "base_uri": "https://localhost:8080/",
     "height": 1000
    },
    "colab_type": "code",
    "executionInfo": {
     "elapsed": 94324,
     "status": "ok",
     "timestamp": 1587639536586,
     "user": {
      "displayName": "Aishwarya Singh",
      "photoUrl": "https://lh3.googleusercontent.com/a-/AOh14GgeJwfn4BdBDCAplWi_kdtB9FRssOpXO7T_aMgg=s64",
      "userId": "01105858832371513140"
     },
     "user_tz": -330
    },
    "id": "KL7PHbMRuHBy",
    "outputId": "cd410f4a-af1b-48fd-f837-1a2c4152b2bc",
    "scrolled": false
   },
   "outputs": [
    {
     "name": "stdout",
     "output_type": "stream",
     "text": [
      "Epoch 1/50\n",
      "13/13 [==============================] - 7s 561ms/step - loss: 0.6946 - accuracy: 0.5644 - val_loss: 0.6670 - val_accuracy: 0.6133\n",
      "Epoch 2/50\n",
      "13/13 [==============================] - 3s 259ms/step - loss: 0.6533 - accuracy: 0.6312 - val_loss: 0.6478 - val_accuracy: 0.6147\n",
      "Epoch 3/50\n",
      "13/13 [==============================] - 2s 150ms/step - loss: 0.6328 - accuracy: 0.6555 - val_loss: 0.6270 - val_accuracy: 0.6615\n",
      "Epoch 4/50\n",
      "13/13 [==============================] - 2s 151ms/step - loss: 0.6187 - accuracy: 0.6804 - val_loss: 0.6306 - val_accuracy: 0.6416\n",
      "Epoch 5/50\n",
      "13/13 [==============================] - 2s 154ms/step - loss: 0.6084 - accuracy: 0.6835 - val_loss: 0.6107 - val_accuracy: 0.6742\n",
      "Epoch 6/50\n",
      "13/13 [==============================] - 2s 155ms/step - loss: 0.5967 - accuracy: 0.7005 - val_loss: 0.5999 - val_accuracy: 0.6841\n",
      "Epoch 7/50\n",
      "13/13 [==============================] - 2s 157ms/step - loss: 0.5896 - accuracy: 0.7029 - val_loss: 0.5977 - val_accuracy: 0.6926\n",
      "Epoch 8/50\n",
      "13/13 [==============================] - 2s 166ms/step - loss: 0.5811 - accuracy: 0.7242 - val_loss: 0.5886 - val_accuracy: 0.6955\n",
      "Epoch 9/50\n",
      "13/13 [==============================] - 2s 188ms/step - loss: 0.5722 - accuracy: 0.7272 - val_loss: 0.5863 - val_accuracy: 0.6912\n",
      "Epoch 10/50\n",
      "13/13 [==============================] - 2s 177ms/step - loss: 0.5659 - accuracy: 0.7254 - val_loss: 0.5821 - val_accuracy: 0.6912\n",
      "Epoch 11/50\n",
      "13/13 [==============================] - 3s 200ms/step - loss: 0.5584 - accuracy: 0.7369 - val_loss: 0.5800 - val_accuracy: 0.6898\n",
      "Epoch 12/50\n",
      "13/13 [==============================] - 2s 171ms/step - loss: 0.5543 - accuracy: 0.7375 - val_loss: 0.5994 - val_accuracy: 0.6742\n",
      "Epoch 13/50\n",
      "13/13 [==============================] - 2s 184ms/step - loss: 0.5557 - accuracy: 0.7436 - val_loss: 0.5862 - val_accuracy: 0.6926\n",
      "Epoch 14/50\n",
      "13/13 [==============================] - 2s 178ms/step - loss: 0.5483 - accuracy: 0.7424 - val_loss: 0.5929 - val_accuracy: 0.6813\n",
      "Epoch 15/50\n",
      "13/13 [==============================] - 2s 167ms/step - loss: 0.5453 - accuracy: 0.7369 - val_loss: 0.5855 - val_accuracy: 0.6827\n",
      "Epoch 16/50\n",
      "13/13 [==============================] - 2s 164ms/step - loss: 0.5384 - accuracy: 0.7454 - val_loss: 0.5810 - val_accuracy: 0.6926\n",
      "Epoch 17/50\n",
      "13/13 [==============================] - 2s 164ms/step - loss: 0.5346 - accuracy: 0.7546 - val_loss: 0.5747 - val_accuracy: 0.6997\n",
      "Epoch 18/50\n",
      "13/13 [==============================] - 2s 168ms/step - loss: 0.5350 - accuracy: 0.7539 - val_loss: 0.5843 - val_accuracy: 0.6841\n",
      "Epoch 19/50\n",
      "13/13 [==============================] - 2s 165ms/step - loss: 0.5294 - accuracy: 0.7582 - val_loss: 0.5953 - val_accuracy: 0.6785\n",
      "Epoch 20/50\n",
      "13/13 [==============================] - 2s 169ms/step - loss: 0.5275 - accuracy: 0.7594 - val_loss: 0.5750 - val_accuracy: 0.6955\n",
      "Epoch 21/50\n",
      "13/13 [==============================] - 2s 169ms/step - loss: 0.5194 - accuracy: 0.7631 - val_loss: 0.5668 - val_accuracy: 0.7040\n",
      "Epoch 22/50\n",
      "13/13 [==============================] - 2s 167ms/step - loss: 0.5157 - accuracy: 0.7649 - val_loss: 0.5698 - val_accuracy: 0.6941\n",
      "Epoch 23/50\n",
      "13/13 [==============================] - 2s 165ms/step - loss: 0.5136 - accuracy: 0.7868 - val_loss: 0.5601 - val_accuracy: 0.7054\n",
      "Epoch 24/50\n",
      "13/13 [==============================] - 2s 169ms/step - loss: 0.5133 - accuracy: 0.7746 - val_loss: 0.5589 - val_accuracy: 0.7125\n",
      "Epoch 25/50\n",
      "13/13 [==============================] - 2s 176ms/step - loss: 0.5064 - accuracy: 0.7728 - val_loss: 0.5584 - val_accuracy: 0.7110\n",
      "Epoch 26/50\n",
      "13/13 [==============================] - 2s 184ms/step - loss: 0.5036 - accuracy: 0.7801 - val_loss: 0.5600 - val_accuracy: 0.7082\n",
      "Epoch 27/50\n",
      "13/13 [==============================] - 2s 181ms/step - loss: 0.4990 - accuracy: 0.7849 - val_loss: 0.5577 - val_accuracy: 0.7110\n",
      "Epoch 28/50\n",
      "13/13 [==============================] - 2s 183ms/step - loss: 0.4958 - accuracy: 0.7874 - val_loss: 0.5555 - val_accuracy: 0.7082\n",
      "Epoch 29/50\n",
      "13/13 [==============================] - 2s 177ms/step - loss: 0.4958 - accuracy: 0.7868 - val_loss: 0.5550 - val_accuracy: 0.7068\n",
      "Epoch 30/50\n",
      "13/13 [==============================] - 2s 166ms/step - loss: 0.4911 - accuracy: 0.7892 - val_loss: 0.5534 - val_accuracy: 0.7068\n",
      "Epoch 31/50\n",
      "13/13 [==============================] - 2s 165ms/step - loss: 0.4895 - accuracy: 0.7928 - val_loss: 0.5548 - val_accuracy: 0.7153\n",
      "Epoch 32/50\n",
      "13/13 [==============================] - 2s 166ms/step - loss: 0.4926 - accuracy: 0.7898 - val_loss: 0.5540 - val_accuracy: 0.7125\n",
      "Epoch 33/50\n",
      "13/13 [==============================] - 2s 166ms/step - loss: 0.4871 - accuracy: 0.7892 - val_loss: 0.5545 - val_accuracy: 0.7110\n",
      "Epoch 34/50\n",
      "13/13 [==============================] - 2s 165ms/step - loss: 0.4832 - accuracy: 0.7922 - val_loss: 0.5622 - val_accuracy: 0.7011\n",
      "Epoch 35/50\n",
      "13/13 [==============================] - 3s 193ms/step - loss: 0.4956 - accuracy: 0.7801 - val_loss: 0.5562 - val_accuracy: 0.7096\n",
      "Epoch 36/50\n",
      "13/13 [==============================] - 2s 182ms/step - loss: 0.4834 - accuracy: 0.7910 - val_loss: 0.5622 - val_accuracy: 0.7011\n",
      "Epoch 37/50\n",
      "13/13 [==============================] - 2s 173ms/step - loss: 0.4732 - accuracy: 0.8062 - val_loss: 0.5548 - val_accuracy: 0.7040\n",
      "Epoch 38/50\n",
      "13/13 [==============================] - 2s 170ms/step - loss: 0.4689 - accuracy: 0.8117 - val_loss: 0.5564 - val_accuracy: 0.7054\n",
      "Epoch 39/50\n",
      "13/13 [==============================] - 3s 204ms/step - loss: 0.4672 - accuracy: 0.8135 - val_loss: 0.5577 - val_accuracy: 0.7025\n",
      "Epoch 40/50\n",
      "13/13 [==============================] - 3s 202ms/step - loss: 0.4643 - accuracy: 0.8117 - val_loss: 0.5482 - val_accuracy: 0.7125\n",
      "Epoch 41/50\n",
      "13/13 [==============================] - 3s 195ms/step - loss: 0.4628 - accuracy: 0.8244 - val_loss: 0.5476 - val_accuracy: 0.7082\n",
      "Epoch 42/50\n",
      "13/13 [==============================] - 3s 196ms/step - loss: 0.4583 - accuracy: 0.8250 - val_loss: 0.5497 - val_accuracy: 0.7096\n",
      "Epoch 43/50\n",
      "13/13 [==============================] - 3s 222ms/step - loss: 0.4556 - accuracy: 0.8214 - val_loss: 0.5498 - val_accuracy: 0.7110\n",
      "Epoch 44/50\n",
      "13/13 [==============================] - 3s 222ms/step - loss: 0.4564 - accuracy: 0.8177 - val_loss: 0.5495 - val_accuracy: 0.7082\n",
      "Epoch 45/50\n",
      "13/13 [==============================] - 3s 194ms/step - loss: 0.4522 - accuracy: 0.8305 - val_loss: 0.5532 - val_accuracy: 0.7068\n",
      "Epoch 46/50\n",
      "13/13 [==============================] - 3s 197ms/step - loss: 0.4502 - accuracy: 0.8281 - val_loss: 0.5564 - val_accuracy: 0.7054\n",
      "Epoch 47/50\n",
      "13/13 [==============================] - 2s 177ms/step - loss: 0.4460 - accuracy: 0.8293 - val_loss: 0.5432 - val_accuracy: 0.7153\n",
      "Epoch 48/50\n",
      "13/13 [==============================] - 2s 178ms/step - loss: 0.4455 - accuracy: 0.8250 - val_loss: 0.5461 - val_accuracy: 0.7139\n",
      "Epoch 49/50\n",
      "13/13 [==============================] - 3s 202ms/step - loss: 0.4446 - accuracy: 0.8275 - val_loss: 0.5474 - val_accuracy: 0.7082\n",
      "Epoch 50/50\n",
      "13/13 [==============================] - 2s 191ms/step - loss: 0.4524 - accuracy: 0.8208 - val_loss: 0.5458 - val_accuracy: 0.7096\n"
     ]
    }
   ],
   "source": [
    "# training the model for 50 epochs\n",
    "model_history = model.fit(X_train, y_train, epochs=50, batch_size=128, validation_data=(X_valid,y_valid))"
   ]
  },
  {
   "cell_type": "markdown",
   "metadata": {
    "colab_type": "text",
    "id": "4nItUUcYtYiw"
   },
   "source": [
    "## 8. Evaluating model performance "
   ]
  },
  {
   "cell_type": "code",
   "execution_count": 18,
   "metadata": {
    "colab": {
     "base_uri": "https://localhost:8080/",
     "height": 34
    },
    "colab_type": "code",
    "executionInfo": {
     "elapsed": 1972,
     "status": "ok",
     "timestamp": 1587639565050,
     "user": {
      "displayName": "Aishwarya Singh",
      "photoUrl": "https://lh3.googleusercontent.com/a-/AOh14GgeJwfn4BdBDCAplWi_kdtB9FRssOpXO7T_aMgg=s64",
      "userId": "01105858832371513140"
     },
     "user_tz": -330
    },
    "id": "Wbfb8_MWuHB4",
    "outputId": "b547cb80-4e14-403c-fc20-57daa9f52a3b"
   },
   "outputs": [
    {
     "name": "stdout",
     "output_type": "stream",
     "text": [
      "WARNING:tensorflow:From C:\\Users\\dagarwal\\AppData\\Local\\Temp\\ipykernel_12568\\783678037.py:2: Sequential.predict_classes (from tensorflow.python.keras.engine.sequential) is deprecated and will be removed after 2021-01-01.\n",
      "Instructions for updating:\n",
      "Please use instead:* `np.argmax(model.predict(x), axis=-1)`,   if your model does multi-class classification   (e.g. if it uses a `softmax` last-layer activation).* `(model.predict(x) > 0.5).astype(\"int32\")`,   if your model does binary classification   (e.g. if it uses a `sigmoid` last-layer activation).\n",
      "Accuracy on validation set: 0.7096317280453258 %\n"
     ]
    }
   ],
   "source": [
    "# accuracy on validation set\n",
    "print('Accuracy on validation set:', accuracy_score(y_valid, model.predict_classes(X_valid)[:, 0]), '%')"
   ]
  },
  {
   "cell_type": "code",
   "execution_count": 19,
   "metadata": {
    "colab": {
     "base_uri": "https://localhost:8080/",
     "height": 295
    },
    "colab_type": "code",
    "executionInfo": {
     "elapsed": 1421,
     "status": "ok",
     "timestamp": 1587639582804,
     "user": {
      "displayName": "Aishwarya Singh",
      "photoUrl": "https://lh3.googleusercontent.com/a-/AOh14GgeJwfn4BdBDCAplWi_kdtB9FRssOpXO7T_aMgg=s64",
      "userId": "01105858832371513140"
     },
     "user_tz": -330
    },
    "id": "UDXYXYMox5Ih",
    "outputId": "3058a017-2fd3-466b-991b-a219d38dd5b9"
   },
   "outputs": [
    {
     "data": {
      "image/png": "[encoded data removed]",
      "text/plain": [
       "<Figure size 432x288 with 1 Axes>"
      ]
     },
     "metadata": {
      "needs_background": "light"
     },
     "output_type": "display_data"
    }
   ],
   "source": [
    " # summarize history for loss\n",
    "plt.plot(model_history.history['loss'])\n",
    "plt.plot(model_history.history['val_loss'])\n",
    "plt.title('model loss')\n",
    "plt.ylabel('loss')\n",
    "plt.xlabel('epoch')\n",
    "plt.legend(['train', 'validation'], loc='upper right')\n",
    "plt.show()"
   ]
  },
  {
   "cell_type": "code",
   "execution_count": null,
   "metadata": {
    "colab": {},
    "colab_type": "code",
    "id": "OjXgzcFb33jI"
   },
   "outputs": [],
   "source": []
  },
  {
   "cell_type": "code",
   "execution_count": null,
   "metadata": {},
   "outputs": [],
   "source": []
  }
 ],
 "metadata": {
  "accelerator": "GPU",
  "colab": {
   "collapsed_sections": [],
   "name": "Weight Initialization Techniques in Keras.ipynb",
   "provenance": []
  },
  "kernelspec": {
   "display_name": "Python 3 (ipykernel)",
   "language": "python",
   "name": "python3"
  },
  "language_info": {
   "codemirror_mode": {
    "name": "ipython",
    "version": 3
   },
   "file_extension": ".py",
   "mimetype": "text/x-python",
   "name": "python",
   "nbconvert_exporter": "python",
   "pygments_lexer": "ipython3",
   "version": "3.7.13"
  }
 },
 "nbformat": 4,
 "nbformat_minor": 1
}
