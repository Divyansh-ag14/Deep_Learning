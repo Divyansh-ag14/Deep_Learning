{
 "cells": [
  {
   "cell_type": "markdown",
   "metadata": {
    "colab_type": "text",
    "id": "xR7hbyyfuG9N"
   },
   "source": [
    "# Steps to solve Emergency vs Non-Emergency vehicle classification problem using Dropout\n",
    "\n",
    "<ol>1. Loading the dataset</ol>\n",
    "<ol>2. Pre-processing the data</ol>\n",
    "<ol>3. Creating training and validation set</ol>\n",
    "<ol>4. Defining the model architecture</ol>\n",
    "<ol> <ol>* Adding dropout layer(s) </ol></ol>\n",
    "<ol>5. Compiling the model</ol>\n",
    "<ol>6. Training the model using Dropout</ol>\n",
    "<ol>7. Evaluating model performance</ol>"
   ]
  },
  {
   "cell_type": "markdown",
   "metadata": {
    "colab_type": "text",
    "id": "xq6rlm_puG9U"
   },
   "source": [
    "## 1. Loading the dataset"
   ]
  },
  {
   "cell_type": "code",
   "execution_count": 25,
   "metadata": {
    "colab": {
     "base_uri": "https://localhost:8080/",
     "height": 81
    },
    "colab_type": "code",
    "executionInfo": {
     "elapsed": 3283,
     "status": "ok",
     "timestamp": 1584961657702,
     "user": {
      "displayName": "Aishwarya Singh",
      "photoUrl": "https://lh3.googleusercontent.com/a-/AOh14GgeJwfn4BdBDCAplWi_kdtB9FRssOpXO7T_aMgg=s64",
      "userId": "01105858832371513140"
     },
     "user_tz": -330
    },
    "id": "XPYT-SDjuG9a",
    "outputId": "e90999bf-940d-4dc4-cc40-12777678bddd",
    "scrolled": true
   },
   "outputs": [],
   "source": [
    "# import necessary libraries and functions\n",
    "import numpy as np\n",
    "import pandas as pd\n",
    "import matplotlib.pyplot as plt\n",
    "%matplotlib inline\n",
    "\n",
    "# importing layers from keras\n",
    "from keras.layers import Dense, InputLayer\n",
    "from keras.models import Sequential\n",
    "# importing adam optimizer from keras optimizer module \n",
    "from keras.optimizers import Adam\n",
    "\n",
    "# train_test_split to create training and validation set\n",
    "from sklearn.model_selection import train_test_split\n",
    "# accuracy_score to calculate the accuracy of predictions\n",
    "from sklearn.metrics import accuracy_score"
   ]
  },
  {
   "cell_type": "code",
   "execution_count": 26,
   "metadata": {
    "colab": {},
    "colab_type": "code",
    "id": "WZdipKFauG9t"
   },
   "outputs": [],
   "source": [
    "# reading the csv file\n",
    "data = pd.read_csv('Dataset/emergency_classification.csv')"
   ]
  },
  {
   "cell_type": "code",
   "execution_count": 27,
   "metadata": {
    "colab": {},
    "colab_type": "code",
    "id": "7pOqqh5GuG94"
   },
   "outputs": [],
   "source": [
    "# create random number generator\n",
    "seed = 42\n",
    "rng = np.random.RandomState(seed)"
   ]
  },
  {
   "cell_type": "code",
   "execution_count": 28,
   "metadata": {
    "colab": {
     "base_uri": "https://localhost:8080/",
     "height": 206
    },
    "colab_type": "code",
    "executionInfo": {
     "elapsed": 1594,
     "status": "ok",
     "timestamp": 1584961747993,
     "user": {
      "displayName": "Aishwarya Singh",
      "photoUrl": "https://lh3.googleusercontent.com/a-/AOh14GgeJwfn4BdBDCAplWi_kdtB9FRssOpXO7T_aMgg=s64",
      "userId": "01105858832371513140"
     },
     "user_tz": -330
    },
    "id": "_VeBsfEAuG-B",
    "outputId": "88f62f6d-b9f2-4dfd-a895-c961ac435260",
    "scrolled": true
   },
   "outputs": [
    {
     "data": {
      "text/html": [
       "<div>\n",
       "<style scoped>\n",
       "    .dataframe tbody tr th:only-of-type {\n",
       "        vertical-align: middle;\n",
       "    }\n",
       "\n",
       "    .dataframe tbody tr th {\n",
       "        vertical-align: top;\n",
       "    }\n",
       "\n",
       "    .dataframe thead th {\n",
       "        text-align: right;\n",
       "    }\n",
       "</style>\n",
       "<table border=\"1\" class=\"dataframe\">\n",
       "  <thead>\n",
       "    <tr style=\"text-align: right;\">\n",
       "      <th></th>\n",
       "      <th>image_names</th>\n",
       "      <th>emergency_or_not</th>\n",
       "    </tr>\n",
       "  </thead>\n",
       "  <tbody>\n",
       "    <tr>\n",
       "      <th>0</th>\n",
       "      <td>0.jpg</td>\n",
       "      <td>1</td>\n",
       "    </tr>\n",
       "    <tr>\n",
       "      <th>1</th>\n",
       "      <td>1.jpg</td>\n",
       "      <td>1</td>\n",
       "    </tr>\n",
       "    <tr>\n",
       "      <th>2</th>\n",
       "      <td>2.jpg</td>\n",
       "      <td>1</td>\n",
       "    </tr>\n",
       "    <tr>\n",
       "      <th>3</th>\n",
       "      <td>3.jpg</td>\n",
       "      <td>1</td>\n",
       "    </tr>\n",
       "    <tr>\n",
       "      <th>4</th>\n",
       "      <td>4.jpg</td>\n",
       "      <td>1</td>\n",
       "    </tr>\n",
       "  </tbody>\n",
       "</table>\n",
       "</div>"
      ],
      "text/plain": [
       "  image_names  emergency_or_not\n",
       "0       0.jpg                 1\n",
       "1       1.jpg                 1\n",
       "2       2.jpg                 1\n",
       "3       3.jpg                 1\n",
       "4       4.jpg                 1"
      ]
     },
     "execution_count": 28,
     "metadata": {},
     "output_type": "execute_result"
    }
   ],
   "source": [
    "# looking at first five rows of the data\n",
    "data.head()"
   ]
  },
  {
   "cell_type": "code",
   "execution_count": 29,
   "metadata": {
    "colab": {},
    "colab_type": "code",
    "id": "AMZyTsx3uG-W"
   },
   "outputs": [],
   "source": [
    "# load images and store it in numpy array\n",
    "\n",
    "# empty list to store the images\n",
    "X = []\n",
    "# iterating over each image\n",
    "for img_name in data.image_names:\n",
    "    # loading the image using its name\n",
    "    img = plt.imread('Dataset/images/' + img_name)\n",
    "    # saving each image in the list\n",
    "    X.append(img)\n",
    "    \n",
    "# converting the list of images into array\n",
    "X=np.array(X)\n",
    "\n",
    "# storing the target variable in separate variable\n",
    "y = data.emergency_or_not.values"
   ]
  },
  {
   "cell_type": "markdown",
   "metadata": {
    "colab_type": "text",
    "id": "IYNJtBXLuG-x"
   },
   "source": [
    "## 2. Pre-processing the data"
   ]
  },
  {
   "cell_type": "code",
   "execution_count": 30,
   "metadata": {
    "colab": {
     "base_uri": "https://localhost:8080/",
     "height": 34
    },
    "colab_type": "code",
    "executionInfo": {
     "elapsed": 1528,
     "status": "ok",
     "timestamp": 1584961806774,
     "user": {
      "displayName": "Aishwarya Singh",
      "photoUrl": "https://lh3.googleusercontent.com/a-/AOh14GgeJwfn4BdBDCAplWi_kdtB9FRssOpXO7T_aMgg=s64",
      "userId": "01105858832371513140"
     },
     "user_tz": -330
    },
    "id": "JsEZNNE_uG-2",
    "outputId": "19bf1b2e-186f-49f7-e696-89c4c3848cdf",
    "scrolled": true
   },
   "outputs": [
    {
     "data": {
      "text/plain": [
       "(2352, 150528)"
      ]
     },
     "execution_count": 30,
     "metadata": {},
     "output_type": "execute_result"
    }
   ],
   "source": [
    "# converting 3 dimensional image to 1 dimensional image\n",
    "X = X.reshape(X.shape[0], 224*224*3)\n",
    "X.shape"
   ]
  },
  {
   "cell_type": "code",
   "execution_count": 42,
   "metadata": {
    "colab": {
     "base_uri": "https://localhost:8080/",
     "height": 34
    },
    "colab_type": "code",
    "executionInfo": {
     "elapsed": 4088,
     "status": "ok",
     "timestamp": 1584961816717,
     "user": {
      "displayName": "Aishwarya Singh",
      "photoUrl": "https://lh3.googleusercontent.com/a-/AOh14GgeJwfn4BdBDCAplWi_kdtB9FRssOpXO7T_aMgg=s64",
      "userId": "01105858832371513140"
     },
     "user_tz": -330
    },
    "id": "wI3hNx3uuG_L",
    "outputId": "852e9b6e-8f26-4506-a738-7dcf59841f6a"
   },
   "outputs": [
    {
     "ename": "MemoryError",
     "evalue": "Unable to allocate 2.64 GiB for an array with shape (2352, 150528) and data type float64",
     "output_type": "error",
     "traceback": [
      "\u001b[1;31m---------------------------------------------------------------------------\u001b[0m",
      "\u001b[1;31mMemoryError\u001b[0m                               Traceback (most recent call last)",
      "\u001b[1;32m~\\AppData\\Local\\Temp\\ipykernel_14736\\237782831.py\u001b[0m in \u001b[0;36m<module>\u001b[1;34m\u001b[0m\n\u001b[0;32m      1\u001b[0m \u001b[1;31m# normalizing the pixel values\u001b[0m\u001b[1;33m\u001b[0m\u001b[1;33m\u001b[0m\u001b[1;33m\u001b[0m\u001b[0m\n\u001b[1;32m----> 2\u001b[1;33m \u001b[0mX\u001b[0m \u001b[1;33m=\u001b[0m \u001b[0mX\u001b[0m \u001b[1;33m/\u001b[0m \u001b[0mX\u001b[0m\u001b[1;33m.\u001b[0m\u001b[0mmax\u001b[0m\u001b[1;33m(\u001b[0m\u001b[1;33m)\u001b[0m\u001b[1;33m\u001b[0m\u001b[1;33m\u001b[0m\u001b[0m\n\u001b[0m\u001b[0;32m      3\u001b[0m \u001b[1;33m\u001b[0m\u001b[0m\n\u001b[0;32m      4\u001b[0m \u001b[1;31m# minimum and maximum pixel values of images after normalizing\u001b[0m\u001b[1;33m\u001b[0m\u001b[1;33m\u001b[0m\u001b[1;33m\u001b[0m\u001b[0m\n\u001b[0;32m      5\u001b[0m \u001b[1;31m#X.min(), X.max()\u001b[0m\u001b[1;33m\u001b[0m\u001b[1;33m\u001b[0m\u001b[1;33m\u001b[0m\u001b[0m\n",
      "\u001b[1;31mMemoryError\u001b[0m: Unable to allocate 2.64 GiB for an array with shape (2352, 150528) and data type float64"
     ]
    }
   ],
   "source": [
    "# normalizing the pixel values\n",
    "X = X / X.max()\n",
    "\n",
    "# minimum and maximum pixel values of images after normalizing\n",
    "#X.min(), X.max()"
   ]
  },
  {
   "cell_type": "markdown",
   "metadata": {
    "colab_type": "text",
    "id": "Scbo48PLuG_b"
   },
   "source": [
    "## 3. Creating training and validation set"
   ]
  },
  {
   "cell_type": "code",
   "execution_count": 32,
   "metadata": {
    "colab": {},
    "colab_type": "code",
    "id": "-UmSQzb1uG_d"
   },
   "outputs": [],
   "source": [
    "# creating a training and validation set\n",
    "X_train, X_valid, y_train, y_valid=train_test_split(X,y,test_size=0.3, random_state=seed)"
   ]
  },
  {
   "cell_type": "code",
   "execution_count": 33,
   "metadata": {
    "colab": {
     "base_uri": "https://localhost:8080/",
     "height": 34
    },
    "colab_type": "code",
    "executionInfo": {
     "elapsed": 1699,
     "status": "ok",
     "timestamp": 1584961837323,
     "user": {
      "displayName": "Aishwarya Singh",
      "photoUrl": "https://lh3.googleusercontent.com/a-/AOh14GgeJwfn4BdBDCAplWi_kdtB9FRssOpXO7T_aMgg=s64",
      "userId": "01105858832371513140"
     },
     "user_tz": -330
    },
    "id": "xTC-FgDjuG_k",
    "outputId": "006ac255-e215-442f-c68e-bffe85d0fb71"
   },
   "outputs": [
    {
     "data": {
      "text/plain": [
       "(((1646, 150528), (1646,)), ((706, 150528), (706,)))"
      ]
     },
     "execution_count": 33,
     "metadata": {},
     "output_type": "execute_result"
    }
   ],
   "source": [
    "# shape of training and validation set\n",
    "(X_train.shape, y_train.shape), (X_valid.shape, y_valid.shape)"
   ]
  },
  {
   "cell_type": "markdown",
   "metadata": {
    "colab_type": "text",
    "id": "vskdq-4huG_r"
   },
   "source": [
    "## 4. Defining the model architecture\n",
    "\n",
    "### <ol>Adding dropout layer(s)</ol>"
   ]
  },
  {
   "cell_type": "code",
   "execution_count": 34,
   "metadata": {
    "colab": {},
    "colab_type": "code",
    "id": "X2nUSsJ8M0b-"
   },
   "outputs": [],
   "source": [
    "# importing the dropout layer\n",
    "from keras.layers import Dropout"
   ]
  },
  {
   "cell_type": "code",
   "execution_count": 35,
   "metadata": {
    "colab": {
     "base_uri": "https://localhost:8080/",
     "height": 228
    },
    "colab_type": "code",
    "executionInfo": {
     "elapsed": 1719,
     "status": "ok",
     "timestamp": 1584961952208,
     "user": {
      "displayName": "Aishwarya Singh",
      "photoUrl": "https://lh3.googleusercontent.com/a-/AOh14GgeJwfn4BdBDCAplWi_kdtB9FRssOpXO7T_aMgg=s64",
      "userId": "01105858832371513140"
     },
     "user_tz": -330
    },
    "id": "tLqmJg8PuHBs",
    "outputId": "7ad18573-a9e4-4148-a926-ede99915d868"
   },
   "outputs": [],
   "source": [
    "# defining the model architecture with dropout layer\n",
    "model=Sequential()\n",
    "\n",
    "model.add(InputLayer(input_shape=(224*224*3,)))\n",
    "model.add(Dense(100, activation='sigmoid'))\n",
    "model.add(Dropout(rate=0.5))\n",
    "model.add(Dense(100, activation='sigmoid'))\n",
    "model.add(Dropout(rate=0.5))\n",
    "model.add(Dense(units=1, activation='sigmoid'))"
   ]
  },
  {
   "cell_type": "markdown",
   "metadata": {
    "colab_type": "text",
    "id": "FS__sDNVrjOs"
   },
   "source": [
    "## 5. Compiling the model"
   ]
  },
  {
   "cell_type": "code",
   "execution_count": 36,
   "metadata": {
    "colab": {},
    "colab_type": "code",
    "id": "BGovpAw_uHBp"
   },
   "outputs": [],
   "source": [
    "# defining the adam optimizer and setting the learning rate as 10^-5\n",
    "adam = Adam(lr=1e-5)"
   ]
  },
  {
   "cell_type": "code",
   "execution_count": 37,
   "metadata": {
    "colab": {},
    "colab_type": "code",
    "id": "pcEUdq_Tri5x"
   },
   "outputs": [],
   "source": [
    "# compiling the model\n",
    "\n",
    "# defining loss as binary crossentropy\n",
    "# defining optimizer as Adam\n",
    "# defining metrics as accuracy\n",
    "\n",
    "model.compile(loss='binary_crossentropy', optimizer=adam, metrics=['accuracy'])"
   ]
  },
  {
   "cell_type": "markdown",
   "metadata": {
    "colab_type": "text",
    "id": "UJ6D8X0JtD7f"
   },
   "source": [
    "## 6. Training the model using Dropout"
   ]
  },
  {
   "cell_type": "code",
   "execution_count": 38,
   "metadata": {
    "colab": {
     "base_uri": "https://localhost:8080/",
     "height": 1000
    },
    "colab_type": "code",
    "executionInfo": {
     "elapsed": 165739,
     "status": "ok",
     "timestamp": 1584963261156,
     "user": {
      "displayName": "Aishwarya Singh",
      "photoUrl": "https://lh3.googleusercontent.com/a-/AOh14GgeJwfn4BdBDCAplWi_kdtB9FRssOpXO7T_aMgg=s64",
      "userId": "01105858832371513140"
     },
     "user_tz": -330
    },
    "id": "KL7PHbMRuHBy",
    "outputId": "a847ee20-9fbb-4cba-ec47-516f3dae11c8",
    "scrolled": false
   },
   "outputs": [
    {
     "name": "stdout",
     "output_type": "stream",
     "text": [
      "Epoch 1/100\n",
      "13/13 [==============================] - 2s 171ms/step - loss: 0.7658 - accuracy: 0.5614 - val_loss: 0.7407 - val_accuracy: 0.5609\n",
      "Epoch 2/100\n",
      "13/13 [==============================] - 2s 154ms/step - loss: 0.7795 - accuracy: 0.5705 - val_loss: 0.7286 - val_accuracy: 0.5609\n",
      "Epoch 3/100\n",
      "13/13 [==============================] - 2s 166ms/step - loss: 0.7751 - accuracy: 0.5589 - val_loss: 0.7262 - val_accuracy: 0.5609\n",
      "Epoch 4/100\n",
      "13/13 [==============================] - 2s 182ms/step - loss: 0.7688 - accuracy: 0.5571 - val_loss: 0.7241 - val_accuracy: 0.5609\n",
      "Epoch 5/100\n",
      "13/13 [==============================] - 2s 171ms/step - loss: 0.7760 - accuracy: 0.5656 - val_loss: 0.7217 - val_accuracy: 0.5609\n",
      "Epoch 6/100\n",
      "13/13 [==============================] - 2s 179ms/step - loss: 0.7546 - accuracy: 0.5644 - val_loss: 0.7194 - val_accuracy: 0.5609\n",
      "Epoch 7/100\n",
      "13/13 [==============================] - 2s 176ms/step - loss: 0.7736 - accuracy: 0.5504 - val_loss: 0.7176 - val_accuracy: 0.5609\n",
      "Epoch 8/100\n",
      "13/13 [==============================] - 2s 163ms/step - loss: 0.7541 - accuracy: 0.5674 - val_loss: 0.7158 - val_accuracy: 0.5609\n",
      "Epoch 9/100\n",
      "13/13 [==============================] - 2s 163ms/step - loss: 0.7612 - accuracy: 0.5498 - val_loss: 0.7140 - val_accuracy: 0.5609\n",
      "Epoch 10/100\n",
      "13/13 [==============================] - 2s 190ms/step - loss: 0.7574 - accuracy: 0.5717 - val_loss: 0.7123 - val_accuracy: 0.5609\n",
      "Epoch 11/100\n",
      "13/13 [==============================] - 2s 177ms/step - loss: 0.7560 - accuracy: 0.5486 - val_loss: 0.7107 - val_accuracy: 0.5609\n",
      "Epoch 12/100\n",
      "13/13 [==============================] - 2s 177ms/step - loss: 0.7712 - accuracy: 0.5486 - val_loss: 0.7092 - val_accuracy: 0.5609\n",
      "Epoch 13/100\n",
      "13/13 [==============================] - 2s 167ms/step - loss: 0.7587 - accuracy: 0.5522 - val_loss: 0.7079 - val_accuracy: 0.5609\n",
      "Epoch 14/100\n",
      "13/13 [==============================] - 2s 169ms/step - loss: 0.7505 - accuracy: 0.5577 - val_loss: 0.7066 - val_accuracy: 0.5609\n",
      "Epoch 15/100\n",
      "13/13 [==============================] - 2s 175ms/step - loss: 0.7588 - accuracy: 0.5480 - val_loss: 0.7053 - val_accuracy: 0.5609\n",
      "Epoch 16/100\n",
      "13/13 [==============================] - 3s 209ms/step - loss: 0.7519 - accuracy: 0.5541 - val_loss: 0.7040 - val_accuracy: 0.5609\n",
      "Epoch 17/100\n",
      "13/13 [==============================] - 2s 176ms/step - loss: 0.7436 - accuracy: 0.5468 - val_loss: 0.7029 - val_accuracy: 0.5609\n",
      "Epoch 18/100\n",
      "13/13 [==============================] - 3s 223ms/step - loss: 0.7660 - accuracy: 0.5358 - val_loss: 0.7019 - val_accuracy: 0.5609\n",
      "Epoch 19/100\n",
      "13/13 [==============================] - 3s 202ms/step - loss: 0.7421 - accuracy: 0.5674 - val_loss: 0.7009 - val_accuracy: 0.5609\n",
      "Epoch 20/100\n",
      "13/13 [==============================] - 2s 185ms/step - loss: 0.7497 - accuracy: 0.5559 - val_loss: 0.7000 - val_accuracy: 0.5609\n",
      "Epoch 21/100\n",
      "13/13 [==============================] - 2s 177ms/step - loss: 0.7488 - accuracy: 0.5462 - val_loss: 0.6991 - val_accuracy: 0.5609\n",
      "Epoch 22/100\n",
      "13/13 [==============================] - 2s 187ms/step - loss: 0.7383 - accuracy: 0.5535 - val_loss: 0.6983 - val_accuracy: 0.5609\n",
      "Epoch 23/100\n",
      "13/13 [==============================] - 2s 183ms/step - loss: 0.7438 - accuracy: 0.5462 - val_loss: 0.6976 - val_accuracy: 0.5609\n",
      "Epoch 24/100\n",
      "13/13 [==============================] - 3s 202ms/step - loss: 0.7477 - accuracy: 0.5541 - val_loss: 0.6970 - val_accuracy: 0.5609\n",
      "Epoch 25/100\n",
      "13/13 [==============================] - 2s 184ms/step - loss: 0.7564 - accuracy: 0.5371 - val_loss: 0.6964 - val_accuracy: 0.5609\n",
      "Epoch 26/100\n",
      "13/13 [==============================] - 2s 181ms/step - loss: 0.7418 - accuracy: 0.5589 - val_loss: 0.6959 - val_accuracy: 0.5609\n",
      "Epoch 27/100\n",
      "13/13 [==============================] - 3s 246ms/step - loss: 0.7280 - accuracy: 0.5656 - val_loss: 0.6954 - val_accuracy: 0.5609\n",
      "Epoch 28/100\n",
      "13/13 [==============================] - 3s 215ms/step - loss: 0.7519 - accuracy: 0.5401 - val_loss: 0.6948 - val_accuracy: 0.5609\n",
      "Epoch 29/100\n",
      "13/13 [==============================] - 3s 195ms/step - loss: 0.7337 - accuracy: 0.5589 - val_loss: 0.6943 - val_accuracy: 0.5609\n",
      "Epoch 30/100\n",
      "13/13 [==============================] - 2s 189ms/step - loss: 0.7421 - accuracy: 0.5462 - val_loss: 0.6938 - val_accuracy: 0.5609\n",
      "Epoch 31/100\n",
      "13/13 [==============================] - 3s 210ms/step - loss: 0.7619 - accuracy: 0.5255 - val_loss: 0.6933 - val_accuracy: 0.5609\n",
      "Epoch 32/100\n",
      "13/13 [==============================] - 3s 196ms/step - loss: 0.7488 - accuracy: 0.5365 - val_loss: 0.6929 - val_accuracy: 0.5609\n",
      "Epoch 33/100\n",
      "13/13 [==============================] - 2s 175ms/step - loss: 0.7407 - accuracy: 0.5498 - val_loss: 0.6925 - val_accuracy: 0.5609\n",
      "Epoch 34/100\n",
      "13/13 [==============================] - 2s 192ms/step - loss: 0.7441 - accuracy: 0.5371 - val_loss: 0.6922 - val_accuracy: 0.5609\n",
      "Epoch 35/100\n",
      "13/13 [==============================] - 2s 184ms/step - loss: 0.7274 - accuracy: 0.5644 - val_loss: 0.6919 - val_accuracy: 0.5609\n",
      "Epoch 36/100\n",
      "13/13 [==============================] - 2s 177ms/step - loss: 0.7453 - accuracy: 0.5437 - val_loss: 0.6915 - val_accuracy: 0.5609\n",
      "Epoch 37/100\n",
      "13/13 [==============================] - 2s 181ms/step - loss: 0.7339 - accuracy: 0.5577 - val_loss: 0.6913 - val_accuracy: 0.5609\n",
      "Epoch 38/100\n",
      "13/13 [==============================] - 2s 181ms/step - loss: 0.7458 - accuracy: 0.5371 - val_loss: 0.6911 - val_accuracy: 0.5609\n",
      "Epoch 39/100\n",
      "13/13 [==============================] - 3s 205ms/step - loss: 0.7545 - accuracy: 0.5279 - val_loss: 0.6908 - val_accuracy: 0.5609\n",
      "Epoch 40/100\n",
      "13/13 [==============================] - 2s 187ms/step - loss: 0.7484 - accuracy: 0.5407 - val_loss: 0.6905 - val_accuracy: 0.5609\n",
      "Epoch 41/100\n",
      "13/13 [==============================] - 3s 208ms/step - loss: 0.7426 - accuracy: 0.5401 - val_loss: 0.6904 - val_accuracy: 0.5609\n",
      "Epoch 42/100\n",
      "13/13 [==============================] - 2s 171ms/step - loss: 0.7356 - accuracy: 0.5340 - val_loss: 0.6903 - val_accuracy: 0.5609\n",
      "Epoch 43/100\n",
      "13/13 [==============================] - 2s 173ms/step - loss: 0.7338 - accuracy: 0.5486 - val_loss: 0.6901 - val_accuracy: 0.5609\n",
      "Epoch 44/100\n",
      "13/13 [==============================] - 2s 172ms/step - loss: 0.7385 - accuracy: 0.5510 - val_loss: 0.6899 - val_accuracy: 0.5609\n",
      "Epoch 45/100\n",
      "13/13 [==============================] - 2s 187ms/step - loss: 0.7439 - accuracy: 0.5371 - val_loss: 0.6897 - val_accuracy: 0.5609\n",
      "Epoch 46/100\n",
      "13/13 [==============================] - 2s 173ms/step - loss: 0.7333 - accuracy: 0.5413 - val_loss: 0.6896 - val_accuracy: 0.5609\n",
      "Epoch 47/100\n",
      "13/13 [==============================] - 2s 172ms/step - loss: 0.7539 - accuracy: 0.5346 - val_loss: 0.6894 - val_accuracy: 0.5609\n",
      "Epoch 48/100\n",
      "13/13 [==============================] - 2s 183ms/step - loss: 0.7472 - accuracy: 0.5358 - val_loss: 0.6892 - val_accuracy: 0.5609\n",
      "Epoch 49/100\n",
      "13/13 [==============================] - 2s 183ms/step - loss: 0.7355 - accuracy: 0.5547 - val_loss: 0.6890 - val_accuracy: 0.5609\n",
      "Epoch 50/100\n",
      "13/13 [==============================] - 3s 207ms/step - loss: 0.7428 - accuracy: 0.5286 - val_loss: 0.6888 - val_accuracy: 0.5609\n",
      "Epoch 51/100\n",
      "13/13 [==============================] - 3s 210ms/step - loss: 0.7336 - accuracy: 0.5389 - val_loss: 0.6887 - val_accuracy: 0.5609\n",
      "Epoch 52/100\n",
      "13/13 [==============================] - 3s 247ms/step - loss: 0.7443 - accuracy: 0.5401 - val_loss: 0.6886 - val_accuracy: 0.5609\n",
      "Epoch 53/100\n",
      "13/13 [==============================] - 3s 240ms/step - loss: 0.7318 - accuracy: 0.5456 - val_loss: 0.6886 - val_accuracy: 0.5609\n",
      "Epoch 54/100\n",
      "13/13 [==============================] - 3s 240ms/step - loss: 0.7499 - accuracy: 0.5589 - val_loss: 0.6885 - val_accuracy: 0.5609\n",
      "Epoch 55/100\n",
      "13/13 [==============================] - 3s 235ms/step - loss: 0.7345 - accuracy: 0.5377 - val_loss: 0.6884 - val_accuracy: 0.5609\n",
      "Epoch 56/100\n",
      "13/13 [==============================] - 3s 245ms/step - loss: 0.7589 - accuracy: 0.5188 - val_loss: 0.6884 - val_accuracy: 0.5609\n",
      "Epoch 57/100\n",
      "13/13 [==============================] - 3s 228ms/step - loss: 0.7339 - accuracy: 0.5450 - val_loss: 0.6882 - val_accuracy: 0.5609\n"
     ]
    },
    {
     "name": "stdout",
     "output_type": "stream",
     "text": [
      "Epoch 58/100\n",
      "13/13 [==============================] - 3s 221ms/step - loss: 0.7525 - accuracy: 0.5164 - val_loss: 0.6882 - val_accuracy: 0.5609\n",
      "Epoch 59/100\n",
      "13/13 [==============================] - 3s 222ms/step - loss: 0.7400 - accuracy: 0.5401 - val_loss: 0.6882 - val_accuracy: 0.5609\n",
      "Epoch 60/100\n",
      "13/13 [==============================] - 3s 229ms/step - loss: 0.7169 - accuracy: 0.5559 - val_loss: 0.6882 - val_accuracy: 0.5609\n",
      "Epoch 61/100\n",
      "13/13 [==============================] - 3s 229ms/step - loss: 0.7523 - accuracy: 0.5286 - val_loss: 0.6881 - val_accuracy: 0.5609\n",
      "Epoch 62/100\n",
      "13/13 [==============================] - 3s 235ms/step - loss: 0.7232 - accuracy: 0.5389 - val_loss: 0.6881 - val_accuracy: 0.5609\n",
      "Epoch 63/100\n",
      "13/13 [==============================] - 2s 185ms/step - loss: 0.7421 - accuracy: 0.5340 - val_loss: 0.6880 - val_accuracy: 0.5609\n",
      "Epoch 64/100\n",
      "13/13 [==============================] - 2s 176ms/step - loss: 0.7437 - accuracy: 0.5298 - val_loss: 0.6880 - val_accuracy: 0.5609\n",
      "Epoch 65/100\n",
      "13/13 [==============================] - 2s 176ms/step - loss: 0.7587 - accuracy: 0.5225 - val_loss: 0.6879 - val_accuracy: 0.5609\n",
      "Epoch 66/100\n",
      "13/13 [==============================] - 2s 178ms/step - loss: 0.7333 - accuracy: 0.5377 - val_loss: 0.6878 - val_accuracy: 0.5609\n",
      "Epoch 67/100\n",
      "13/13 [==============================] - 3s 200ms/step - loss: 0.7469 - accuracy: 0.5407 - val_loss: 0.6878 - val_accuracy: 0.5609\n",
      "Epoch 68/100\n",
      "13/13 [==============================] - 3s 227ms/step - loss: 0.7541 - accuracy: 0.5267 - val_loss: 0.6877 - val_accuracy: 0.5609\n",
      "Epoch 69/100\n",
      "13/13 [==============================] - 3s 208ms/step - loss: 0.7276 - accuracy: 0.5504 - val_loss: 0.6877 - val_accuracy: 0.5609\n",
      "Epoch 70/100\n",
      "13/13 [==============================] - 3s 254ms/step - loss: 0.7369 - accuracy: 0.5413 - val_loss: 0.6877 - val_accuracy: 0.5609\n",
      "Epoch 71/100\n",
      "13/13 [==============================] - 4s 272ms/step - loss: 0.7414 - accuracy: 0.5340 - val_loss: 0.6876 - val_accuracy: 0.5609\n",
      "Epoch 72/100\n",
      "13/13 [==============================] - 3s 235ms/step - loss: 0.7457 - accuracy: 0.5255 - val_loss: 0.6876 - val_accuracy: 0.5609\n",
      "Epoch 73/100\n",
      "13/13 [==============================] - 3s 200ms/step - loss: 0.7345 - accuracy: 0.5407 - val_loss: 0.6876 - val_accuracy: 0.5609\n",
      "Epoch 74/100\n",
      "13/13 [==============================] - 2s 187ms/step - loss: 0.7323 - accuracy: 0.5352 - val_loss: 0.6875 - val_accuracy: 0.5609\n",
      "Epoch 75/100\n",
      "13/13 [==============================] - 3s 197ms/step - loss: 0.7326 - accuracy: 0.5383 - val_loss: 0.6875 - val_accuracy: 0.5609\n",
      "Epoch 76/100\n",
      "13/13 [==============================] - 2s 172ms/step - loss: 0.7310 - accuracy: 0.5437 - val_loss: 0.6875 - val_accuracy: 0.5609\n",
      "Epoch 77/100\n",
      "13/13 [==============================] - 2s 168ms/step - loss: 0.7424 - accuracy: 0.5389 - val_loss: 0.6875 - val_accuracy: 0.5609\n",
      "Epoch 78/100\n",
      "13/13 [==============================] - 2s 165ms/step - loss: 0.7454 - accuracy: 0.5340 - val_loss: 0.6875 - val_accuracy: 0.5609\n",
      "Epoch 79/100\n",
      "13/13 [==============================] - 2s 174ms/step - loss: 0.7239 - accuracy: 0.5462 - val_loss: 0.6875 - val_accuracy: 0.5609\n",
      "Epoch 80/100\n",
      "13/13 [==============================] - 2s 183ms/step - loss: 0.7281 - accuracy: 0.5516 - val_loss: 0.6874 - val_accuracy: 0.5609\n",
      "Epoch 81/100\n",
      "13/13 [==============================] - 3s 194ms/step - loss: 0.7411 - accuracy: 0.5292 - val_loss: 0.6874 - val_accuracy: 0.5609\n",
      "Epoch 82/100\n",
      "13/13 [==============================] - 2s 183ms/step - loss: 0.7372 - accuracy: 0.5395 - val_loss: 0.6874 - val_accuracy: 0.5609\n",
      "Epoch 83/100\n",
      "13/13 [==============================] - 2s 166ms/step - loss: 0.7295 - accuracy: 0.5559 - val_loss: 0.6874 - val_accuracy: 0.5609\n",
      "Epoch 84/100\n",
      "13/13 [==============================] - 2s 173ms/step - loss: 0.7372 - accuracy: 0.5413 - val_loss: 0.6873 - val_accuracy: 0.5609\n",
      "Epoch 85/100\n",
      "13/13 [==============================] - 2s 175ms/step - loss: 0.7405 - accuracy: 0.5237 - val_loss: 0.6873 - val_accuracy: 0.5609\n",
      "Epoch 86/100\n",
      "13/13 [==============================] - 2s 167ms/step - loss: 0.7349 - accuracy: 0.5358 - val_loss: 0.6873 - val_accuracy: 0.5609\n",
      "Epoch 87/100\n",
      "13/13 [==============================] - 2s 175ms/step - loss: 0.7284 - accuracy: 0.5401 - val_loss: 0.6872 - val_accuracy: 0.5609\n",
      "Epoch 88/100\n",
      "13/13 [==============================] - 2s 174ms/step - loss: 0.7338 - accuracy: 0.5510 - val_loss: 0.6873 - val_accuracy: 0.5609\n",
      "Epoch 89/100\n",
      "13/13 [==============================] - 2s 181ms/step - loss: 0.7522 - accuracy: 0.5158 - val_loss: 0.6873 - val_accuracy: 0.5609\n",
      "Epoch 90/100\n",
      "13/13 [==============================] - 3s 194ms/step - loss: 0.7267 - accuracy: 0.5668 - val_loss: 0.6873 - val_accuracy: 0.5609\n",
      "Epoch 91/100\n",
      "13/13 [==============================] - 2s 183ms/step - loss: 0.7551 - accuracy: 0.5231 - val_loss: 0.6872 - val_accuracy: 0.5609\n",
      "Epoch 92/100\n",
      "13/13 [==============================] - 3s 245ms/step - loss: 0.7531 - accuracy: 0.5188 - val_loss: 0.6872 - val_accuracy: 0.5609\n",
      "Epoch 93/100\n",
      "13/13 [==============================] - 3s 213ms/step - loss: 0.7438 - accuracy: 0.5401 - val_loss: 0.6871 - val_accuracy: 0.5609\n",
      "Epoch 94/100\n",
      "13/13 [==============================] - 3s 197ms/step - loss: 0.7389 - accuracy: 0.5371 - val_loss: 0.6871 - val_accuracy: 0.5609\n",
      "Epoch 95/100\n",
      "13/13 [==============================] - 3s 258ms/step - loss: 0.7284 - accuracy: 0.5498 - val_loss: 0.6871 - val_accuracy: 0.5609\n",
      "Epoch 96/100\n",
      "13/13 [==============================] - 3s 259ms/step - loss: 0.7366 - accuracy: 0.5450 - val_loss: 0.6871 - val_accuracy: 0.5609\n",
      "Epoch 97/100\n",
      "13/13 [==============================] - 3s 220ms/step - loss: 0.7421 - accuracy: 0.5413 - val_loss: 0.6871 - val_accuracy: 0.5609\n",
      "Epoch 98/100\n",
      "13/13 [==============================] - 3s 200ms/step - loss: 0.7262 - accuracy: 0.5553 - val_loss: 0.6871 - val_accuracy: 0.5609\n",
      "Epoch 99/100\n",
      "13/13 [==============================] - 3s 210ms/step - loss: 0.7317 - accuracy: 0.5328 - val_loss: 0.6871 - val_accuracy: 0.5609\n",
      "Epoch 100/100\n",
      "13/13 [==============================] - 2s 177ms/step - loss: 0.7226 - accuracy: 0.5498 - val_loss: 0.6871 - val_accuracy: 0.5609\n"
     ]
    }
   ],
   "source": [
    "# training the model for 100 epochs\n",
    "\n",
    "model_history = model.fit(X_train, y_train, epochs=100, batch_size=128,validation_data=(X_valid,y_valid))"
   ]
  },
  {
   "cell_type": "markdown",
   "metadata": {
    "colab_type": "text",
    "id": "4nItUUcYtYiw"
   },
   "source": [
    "## 7. Evaluating model performance "
   ]
  },
  {
   "cell_type": "code",
   "execution_count": 39,
   "metadata": {
    "colab": {
     "base_uri": "https://localhost:8080/",
     "height": 34
    },
    "colab_type": "code",
    "executionInfo": {
     "elapsed": 2058,
     "status": "ok",
     "timestamp": 1584963367664,
     "user": {
      "displayName": "Aishwarya Singh",
      "photoUrl": "https://lh3.googleusercontent.com/a-/AOh14GgeJwfn4BdBDCAplWi_kdtB9FRssOpXO7T_aMgg=s64",
      "userId": "01105858832371513140"
     },
     "user_tz": -330
    },
    "id": "Wbfb8_MWuHB4",
    "outputId": "968bc4a4-eb97-4ce4-fbce-739f87b7bd8a"
   },
   "outputs": [
    {
     "name": "stdout",
     "output_type": "stream",
     "text": [
      "WARNING:tensorflow:From C:\\Users\\dagarwal\\AppData\\Local\\Temp\\ipykernel_14736\\783678037.py:2: Sequential.predict_classes (from tensorflow.python.keras.engine.sequential) is deprecated and will be removed after 2021-01-01.\n",
      "Instructions for updating:\n",
      "Please use instead:* `np.argmax(model.predict(x), axis=-1)`,   if your model does multi-class classification   (e.g. if it uses a `softmax` last-layer activation).* `(model.predict(x) > 0.5).astype(\"int32\")`,   if your model does binary classification   (e.g. if it uses a `sigmoid` last-layer activation).\n",
      "Accuracy on validation set: 0.5609065155807366 %\n"
     ]
    }
   ],
   "source": [
    "# accuracy on validation set\n",
    "print('Accuracy on validation set:', accuracy_score(y_valid, model.predict_classes(X_valid)[:, 0]), '%')"
   ]
  },
  {
   "cell_type": "code",
   "execution_count": 41,
   "metadata": {
    "colab": {
     "base_uri": "https://localhost:8080/",
     "height": 295
    },
    "colab_type": "code",
    "executionInfo": {
     "elapsed": 1746,
     "status": "ok",
     "timestamp": 1584963659085,
     "user": {
      "displayName": "Aishwarya Singh",
      "photoUrl": "https://lh3.googleusercontent.com/a-/AOh14GgeJwfn4BdBDCAplWi_kdtB9FRssOpXO7T_aMgg=s64",
      "userId": "01105858832371513140"
     },
     "user_tz": -330
    },
    "id": "UDXYXYMox5Ih",
    "outputId": "2888d6ac-695e-40e1-8b83-b53232e50140"
   },
   "outputs": [
    {
     "data": {
      "image/png": "[encoded data removed]",
      "text/plain": [
       "<Figure size 432x288 with 1 Axes>"
      ]
     },
     "metadata": {
      "needs_background": "light"
     },
     "output_type": "display_data"
    }
   ],
   "source": [
    "# summarize history for loss\n",
    "plt.plot(model_history.history['loss'])\n",
    "plt.plot(model_history.history['val_loss'])\n",
    "plt.title('model loss')\n",
    "plt.ylabel('loss')\n",
    "plt.xlabel('epoch')\n",
    "plt.legend(['train', 'validation'], loc='upper right')\n",
    "plt.show()"
   ]
  },
  {
   "cell_type": "code",
   "execution_count": null,
   "metadata": {},
   "outputs": [],
   "source": []
  }
 ],
 "metadata": {
  "accelerator": "GPU",
  "colab": {
   "collapsed_sections": [],
   "name": "12.4 Dropout in Neural Networks using Keras.ipynb",
   "provenance": []
  },
  "kernelspec": {
   "display_name": "Python 3 (ipykernel)",
   "language": "python",
   "name": "python3"
  },
  "language_info": {
   "codemirror_mode": {
    "name": "ipython",
    "version": 3
   },
   "file_extension": ".py",
   "mimetype": "text/x-python",
   "name": "python",
   "nbconvert_exporter": "python",
   "pygments_lexer": "ipython3",
   "version": "3.7.13"
  }
 },
 "nbformat": 4,
 "nbformat_minor": 1
}
