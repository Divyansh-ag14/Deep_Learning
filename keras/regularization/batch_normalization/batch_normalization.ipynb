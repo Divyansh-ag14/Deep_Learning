{
 "cells": [
  {
   "cell_type": "markdown",
   "metadata": {
    "colab_type": "text",
    "id": "xR7hbyyfuG9N"
   },
   "source": [
    "# Steps to solve Emergency vs Non-Emergency vehicle classification problem using Batch Normalization\n",
    "\n",
    "<ol>1. Loading the dataset</ol>\n",
    "<ol>2. Pre-processing the data</ol>\n",
    "<ol>3. Creating training and validation set</ol>\n",
    "<ol>4. Defining the model architecture</ol>\n",
    "<ol> <ol>* Adding batch normalization layer(s) </ol></ol>\n",
    "<ol>5. Compiling the model</ol>\n",
    "<ol>6. Training the model</ol>\n",
    "<ol>7. Evaluating model performance</ol>"
   ]
  },
  {
   "cell_type": "markdown",
   "metadata": {
    "colab_type": "text",
    "id": "xq6rlm_puG9U"
   },
   "source": [
    "## 1. Loading the dataset"
   ]
  },
  {
   "cell_type": "code",
   "execution_count": 1,
   "metadata": {
    "colab": {
     "base_uri": "https://localhost:8080/",
     "height": 81
    },
    "colab_type": "code",
    "executionInfo": {
     "elapsed": 2884,
     "status": "ok",
     "timestamp": 1585146263683,
     "user": {
      "displayName": "Aishwarya Singh",
      "photoUrl": "https://lh3.googleusercontent.com/a-/AOh14GgeJwfn4BdBDCAplWi_kdtB9FRssOpXO7T_aMgg=s64",
      "userId": "01105858832371513140"
     },
     "user_tz": -330
    },
    "id": "XPYT-SDjuG9a",
    "outputId": "fb44c668-40eb-4e73-9a4a-4b8636c67431",
    "scrolled": true
   },
   "outputs": [],
   "source": [
    "# import necessary libraries and functions\n",
    "import numpy as np\n",
    "import pandas as pd\n",
    "import matplotlib.pyplot as plt\n",
    "%matplotlib inline\n",
    "\n",
    "# importing layers from keras\n",
    "from keras.layers import Dense, InputLayer\n",
    "from keras.models import Sequential\n",
    "# importing adam optimizer from keras optimizer module \n",
    "from keras.optimizers import Adam\n",
    "\n",
    "# train_test_split to create training and validation set\n",
    "from sklearn.model_selection import train_test_split\n",
    "# accuracy_score to calculate the accuracy of predictions\n",
    "from sklearn.metrics import accuracy_score"
   ]
  },
  {
   "cell_type": "code",
   "execution_count": 2,
   "metadata": {
    "colab": {},
    "colab_type": "code",
    "id": "WZdipKFauG9t"
   },
   "outputs": [],
   "source": [
    "# reading the csv file\n",
    "data = pd.read_csv('Dataset/emergency_classification.csv')"
   ]
  },
  {
   "cell_type": "code",
   "execution_count": 3,
   "metadata": {
    "colab": {},
    "colab_type": "code",
    "id": "7pOqqh5GuG94"
   },
   "outputs": [],
   "source": [
    "# create random number generator\n",
    "seed = 42"
   ]
  },
  {
   "cell_type": "code",
   "execution_count": 4,
   "metadata": {
    "colab": {},
    "colab_type": "code",
    "id": "AMZyTsx3uG-W"
   },
   "outputs": [],
   "source": [
    "# load images and store it in numpy array\n",
    "\n",
    "# empty list to store the images\n",
    "X = []\n",
    "# iterating over each image\n",
    "for img_name in data.image_names:\n",
    "    # loading the image using its name\n",
    "    img = plt.imread('Dataset/images/' + img_name)\n",
    "    # saving each image in the list\n",
    "    X.append(img)\n",
    "    \n",
    "# converting the list of images into array\n",
    "X=np.array(X)\n",
    "\n",
    "# storing the target variable in separate variable\n",
    "y = data.emergency_or_not.values"
   ]
  },
  {
   "cell_type": "markdown",
   "metadata": {
    "colab_type": "text",
    "id": "IYNJtBXLuG-x"
   },
   "source": [
    "## 2. Pre-processing the data"
   ]
  },
  {
   "cell_type": "code",
   "execution_count": 5,
   "metadata": {
    "colab": {
     "base_uri": "https://localhost:8080/",
     "height": 34
    },
    "colab_type": "code",
    "executionInfo": {
     "elapsed": 1635,
     "status": "ok",
     "timestamp": 1585146464619,
     "user": {
      "displayName": "Aishwarya Singh",
      "photoUrl": "https://lh3.googleusercontent.com/a-/AOh14GgeJwfn4BdBDCAplWi_kdtB9FRssOpXO7T_aMgg=s64",
      "userId": "01105858832371513140"
     },
     "user_tz": -330
    },
    "id": "JsEZNNE_uG-2",
    "outputId": "9da130d2-12f0-489a-efed-3a9b19118051",
    "scrolled": true
   },
   "outputs": [
    {
     "data": {
      "text/plain": [
       "(2352, 150528)"
      ]
     },
     "execution_count": 5,
     "metadata": {},
     "output_type": "execute_result"
    }
   ],
   "source": [
    "# converting 3 dimensional image to 1 dimensional image\n",
    "X = X.reshape(X.shape[0], 224*224*3)\n",
    "X.shape"
   ]
  },
  {
   "cell_type": "code",
   "execution_count": 6,
   "metadata": {
    "colab": {
     "base_uri": "https://localhost:8080/",
     "height": 34
    },
    "colab_type": "code",
    "executionInfo": {
     "elapsed": 4060,
     "status": "ok",
     "timestamp": 1585146472566,
     "user": {
      "displayName": "Aishwarya Singh",
      "photoUrl": "https://lh3.googleusercontent.com/a-/AOh14GgeJwfn4BdBDCAplWi_kdtB9FRssOpXO7T_aMgg=s64",
      "userId": "01105858832371513140"
     },
     "user_tz": -330
    },
    "id": "wI3hNx3uuG_L",
    "outputId": "0676bd07-78dd-40ce-a368-f894404c03f3"
   },
   "outputs": [
    {
     "data": {
      "text/plain": [
       "(0.0, 1.0)"
      ]
     },
     "execution_count": 6,
     "metadata": {},
     "output_type": "execute_result"
    }
   ],
   "source": [
    "# normalizing the pixel values\n",
    "X = X / X.max()\n",
    "\n",
    "# minimum and maximum pixel values of images after normalizing\n",
    "X.min(), X.max()"
   ]
  },
  {
   "cell_type": "markdown",
   "metadata": {
    "colab_type": "text",
    "id": "Scbo48PLuG_b"
   },
   "source": [
    "## 3. Creating training and validation set"
   ]
  },
  {
   "cell_type": "code",
   "execution_count": 7,
   "metadata": {
    "colab": {},
    "colab_type": "code",
    "id": "-UmSQzb1uG_d"
   },
   "outputs": [],
   "source": [
    "# creating a training and validation set\n",
    "X_train, X_valid, y_train, y_valid=train_test_split(X,y,test_size=0.3, random_state=seed)"
   ]
  },
  {
   "cell_type": "code",
   "execution_count": 8,
   "metadata": {
    "colab": {
     "base_uri": "https://localhost:8080/",
     "height": 34
    },
    "colab_type": "code",
    "executionInfo": {
     "elapsed": 2626,
     "status": "ok",
     "timestamp": 1585146495303,
     "user": {
      "displayName": "Aishwarya Singh",
      "photoUrl": "https://lh3.googleusercontent.com/a-/AOh14GgeJwfn4BdBDCAplWi_kdtB9FRssOpXO7T_aMgg=s64",
      "userId": "01105858832371513140"
     },
     "user_tz": -330
    },
    "id": "xTC-FgDjuG_k",
    "outputId": "7e6eedbd-44ea-4673-ed0e-a9f346e312a6"
   },
   "outputs": [
    {
     "data": {
      "text/plain": [
       "(((1646, 150528), (1646,)), ((706, 150528), (706,)))"
      ]
     },
     "execution_count": 8,
     "metadata": {},
     "output_type": "execute_result"
    }
   ],
   "source": [
    "# shape of training and validation set\n",
    "(X_train.shape, y_train.shape), (X_valid.shape, y_valid.shape)"
   ]
  },
  {
   "cell_type": "markdown",
   "metadata": {
    "colab_type": "text",
    "id": "vskdq-4huG_r"
   },
   "source": [
    "## 4. Defining the model architecture\n",
    "\n",
    "### <ol>Without Batch Normalization</ol>"
   ]
  },
  {
   "cell_type": "code",
   "execution_count": 9,
   "metadata": {
    "colab": {
     "base_uri": "https://localhost:8080/",
     "height": 384
    },
    "colab_type": "code",
    "executionInfo": {
     "elapsed": 1420,
     "status": "ok",
     "timestamp": 1585146531591,
     "user": {
      "displayName": "Aishwarya Singh",
      "photoUrl": "https://lh3.googleusercontent.com/a-/AOh14GgeJwfn4BdBDCAplWi_kdtB9FRssOpXO7T_aMgg=s64",
      "userId": "01105858832371513140"
     },
     "user_tz": -330
    },
    "id": "tLqmJg8PuHBs",
    "outputId": "59ec4e5a-b81c-4990-e64e-06d49ac77878"
   },
   "outputs": [
    {
     "name": "stdout",
     "output_type": "stream",
     "text": [
      "Model: \"sequential\"\n",
      "_________________________________________________________________\n",
      "Layer (type)                 Output Shape              Param #   \n",
      "=================================================================\n",
      "dense (Dense)                (None, 100)               15052900  \n",
      "_________________________________________________________________\n",
      "dense_1 (Dense)              (None, 100)               10100     \n",
      "_________________________________________________________________\n",
      "dense_2 (Dense)              (None, 1)                 101       \n",
      "=================================================================\n",
      "Total params: 15,063,101\n",
      "Trainable params: 15,063,101\n",
      "Non-trainable params: 0\n",
      "_________________________________________________________________\n"
     ]
    }
   ],
   "source": [
    "# defining the model architecture\n",
    "model=Sequential()\n",
    "\n",
    "model.add(InputLayer(input_shape=(224*224*3,)))\n",
    "model.add(Dense(100, activation='sigmoid'))\n",
    "model.add(Dense(100, activation='sigmoid'))\n",
    "model.add(Dense(units=1, activation='sigmoid'))\n",
    "\n",
    "model.summary()"
   ]
  },
  {
   "cell_type": "markdown",
   "metadata": {
    "colab_type": "text",
    "id": "FS__sDNVrjOs"
   },
   "source": [
    "## 5. Compiling the model"
   ]
  },
  {
   "cell_type": "code",
   "execution_count": 10,
   "metadata": {
    "colab": {},
    "colab_type": "code",
    "id": "BGovpAw_uHBp"
   },
   "outputs": [],
   "source": [
    "# defining the adam optimizer and setting the learning rate as 10^-5\n",
    "adam = Adam(lr=1e-5)"
   ]
  },
  {
   "cell_type": "code",
   "execution_count": 11,
   "metadata": {
    "colab": {
     "base_uri": "https://localhost:8080/",
     "height": 159
    },
    "colab_type": "code",
    "executionInfo": {
     "elapsed": 2329,
     "status": "ok",
     "timestamp": 1585146559795,
     "user": {
      "displayName": "Aishwarya Singh",
      "photoUrl": "https://lh3.googleusercontent.com/a-/AOh14GgeJwfn4BdBDCAplWi_kdtB9FRssOpXO7T_aMgg=s64",
      "userId": "01105858832371513140"
     },
     "user_tz": -330
    },
    "id": "pcEUdq_Tri5x",
    "outputId": "3282dcc7-de70-43a8-d46d-07adaca96651"
   },
   "outputs": [],
   "source": [
    "# compiling the model\n",
    "\n",
    "# defining loss as binary crossentropy\n",
    "# defining optimizer as Adam\n",
    "# defining metrics as accuracy\n",
    "\n",
    "model.compile(loss='binary_crossentropy', optimizer=adam, metrics=['accuracy'])"
   ]
  },
  {
   "cell_type": "markdown",
   "metadata": {
    "colab_type": "text",
    "id": "UJ6D8X0JtD7f"
   },
   "source": [
    "## 6. Training the model"
   ]
  },
  {
   "cell_type": "code",
   "execution_count": 12,
   "metadata": {
    "colab": {
     "base_uri": "https://localhost:8080/",
     "height": 1000
    },
    "colab_type": "code",
    "executionInfo": {
     "elapsed": 107192,
     "status": "ok",
     "timestamp": 1585146685007,
     "user": {
      "displayName": "Aishwarya Singh",
      "photoUrl": "https://lh3.googleusercontent.com/a-/AOh14GgeJwfn4BdBDCAplWi_kdtB9FRssOpXO7T_aMgg=s64",
      "userId": "01105858832371513140"
     },
     "user_tz": -330
    },
    "id": "KL7PHbMRuHBy",
    "outputId": "5390fdd0-438a-4f22-9af9-a308f4b4f9a1",
    "scrolled": false
   },
   "outputs": [
    {
     "name": "stdout",
     "output_type": "stream",
     "text": [
      "Epoch 1/50\n",
      "13/13 [==============================] - 8s 590ms/step - loss: 0.6558 - accuracy: 0.6148 - val_loss: 0.6368 - val_accuracy: 0.6374\n",
      "Epoch 2/50\n",
      "13/13 [==============================] - 2s 165ms/step - loss: 0.6243 - accuracy: 0.6622 - val_loss: 0.6234 - val_accuracy: 0.6516\n",
      "Epoch 3/50\n",
      "13/13 [==============================] - 2s 163ms/step - loss: 0.6115 - accuracy: 0.6835 - val_loss: 0.6158 - val_accuracy: 0.6615\n",
      "Epoch 4/50\n",
      "13/13 [==============================] - 2s 186ms/step - loss: 0.6007 - accuracy: 0.7005 - val_loss: 0.6385 - val_accuracy: 0.6246\n",
      "Epoch 5/50\n",
      "13/13 [==============================] - 3s 200ms/step - loss: 0.6063 - accuracy: 0.6689 - val_loss: 0.5957 - val_accuracy: 0.6941\n",
      "Epoch 6/50\n",
      "13/13 [==============================] - 3s 195ms/step - loss: 0.5871 - accuracy: 0.7084 - val_loss: 0.5927 - val_accuracy: 0.7025\n",
      "Epoch 7/50\n",
      "13/13 [==============================] - 2s 167ms/step - loss: 0.5823 - accuracy: 0.7114 - val_loss: 0.5889 - val_accuracy: 0.6870\n",
      "Epoch 8/50\n",
      "13/13 [==============================] - 2s 178ms/step - loss: 0.5764 - accuracy: 0.7278 - val_loss: 0.5872 - val_accuracy: 0.6926\n",
      "Epoch 9/50\n",
      "13/13 [==============================] - 2s 182ms/step - loss: 0.5692 - accuracy: 0.7400 - val_loss: 0.5996 - val_accuracy: 0.6742\n",
      "Epoch 10/50\n",
      "13/13 [==============================] - 2s 180ms/step - loss: 0.5649 - accuracy: 0.7363 - val_loss: 0.5869 - val_accuracy: 0.6955\n",
      "Epoch 11/50\n",
      "13/13 [==============================] - 2s 182ms/step - loss: 0.5589 - accuracy: 0.7552 - val_loss: 0.5781 - val_accuracy: 0.7068\n",
      "Epoch 12/50\n",
      "13/13 [==============================] - 2s 169ms/step - loss: 0.5564 - accuracy: 0.7485 - val_loss: 0.5880 - val_accuracy: 0.6870\n",
      "Epoch 13/50\n",
      "13/13 [==============================] - 2s 179ms/step - loss: 0.5521 - accuracy: 0.7461 - val_loss: 0.5738 - val_accuracy: 0.7068\n",
      "Epoch 14/50\n",
      "13/13 [==============================] - 2s 166ms/step - loss: 0.5472 - accuracy: 0.7521 - val_loss: 0.5771 - val_accuracy: 0.6983\n",
      "Epoch 15/50\n",
      "13/13 [==============================] - 2s 169ms/step - loss: 0.5432 - accuracy: 0.7606 - val_loss: 0.5755 - val_accuracy: 0.6997\n",
      "Epoch 16/50\n",
      "13/13 [==============================] - 2s 169ms/step - loss: 0.5393 - accuracy: 0.7612 - val_loss: 0.5716 - val_accuracy: 0.7054\n",
      "Epoch 17/50\n",
      "13/13 [==============================] - 2s 167ms/step - loss: 0.5361 - accuracy: 0.7600 - val_loss: 0.5697 - val_accuracy: 0.7040\n",
      "Epoch 18/50\n",
      "13/13 [==============================] - 2s 171ms/step - loss: 0.5327 - accuracy: 0.7649 - val_loss: 0.5676 - val_accuracy: 0.7054\n",
      "Epoch 19/50\n",
      "13/13 [==============================] - 2s 168ms/step - loss: 0.5335 - accuracy: 0.7685 - val_loss: 0.5662 - val_accuracy: 0.7068\n",
      "Epoch 20/50\n",
      "13/13 [==============================] - 2s 176ms/step - loss: 0.5269 - accuracy: 0.7667 - val_loss: 0.5657 - val_accuracy: 0.7025\n",
      "Epoch 21/50\n",
      "13/13 [==============================] - 2s 175ms/step - loss: 0.5230 - accuracy: 0.7704 - val_loss: 0.5630 - val_accuracy: 0.7096\n",
      "Epoch 22/50\n",
      "13/13 [==============================] - 3s 202ms/step - loss: 0.5206 - accuracy: 0.7795 - val_loss: 0.5616 - val_accuracy: 0.7096\n",
      "Epoch 23/50\n",
      "13/13 [==============================] - 2s 173ms/step - loss: 0.5170 - accuracy: 0.7685 - val_loss: 0.5751 - val_accuracy: 0.6969\n",
      "Epoch 24/50\n",
      "13/13 [==============================] - 3s 209ms/step - loss: 0.5130 - accuracy: 0.7795 - val_loss: 0.5631 - val_accuracy: 0.7040\n",
      "Epoch 25/50\n",
      "13/13 [==============================] - 3s 193ms/step - loss: 0.5114 - accuracy: 0.7813 - val_loss: 0.5633 - val_accuracy: 0.7082\n",
      "Epoch 26/50\n",
      "13/13 [==============================] - 3s 204ms/step - loss: 0.5064 - accuracy: 0.7831 - val_loss: 0.5697 - val_accuracy: 0.6997\n",
      "Epoch 27/50\n",
      "13/13 [==============================] - 3s 230ms/step - loss: 0.5051 - accuracy: 0.7861 - val_loss: 0.5570 - val_accuracy: 0.7096\n",
      "Epoch 28/50\n",
      "13/13 [==============================] - 3s 218ms/step - loss: 0.5028 - accuracy: 0.7831 - val_loss: 0.5574 - val_accuracy: 0.7068\n",
      "Epoch 29/50\n",
      "13/13 [==============================] - 3s 193ms/step - loss: 0.4978 - accuracy: 0.7880 - val_loss: 0.5572 - val_accuracy: 0.7096\n",
      "Epoch 30/50\n",
      "13/13 [==============================] - 2s 168ms/step - loss: 0.4998 - accuracy: 0.7843 - val_loss: 0.5545 - val_accuracy: 0.7054\n",
      "Epoch 31/50\n",
      "13/13 [==============================] - 2s 165ms/step - loss: 0.4969 - accuracy: 0.7880 - val_loss: 0.5581 - val_accuracy: 0.7139\n",
      "Epoch 32/50\n",
      "13/13 [==============================] - 2s 163ms/step - loss: 0.4887 - accuracy: 0.7965 - val_loss: 0.5623 - val_accuracy: 0.7125\n",
      "Epoch 33/50\n",
      "13/13 [==============================] - 2s 162ms/step - loss: 0.4867 - accuracy: 0.7947 - val_loss: 0.5537 - val_accuracy: 0.7040\n",
      "Epoch 34/50\n",
      "13/13 [==============================] - 2s 159ms/step - loss: 0.4829 - accuracy: 0.7940 - val_loss: 0.5580 - val_accuracy: 0.7125\n",
      "Epoch 35/50\n",
      "13/13 [==============================] - 2s 163ms/step - loss: 0.4787 - accuracy: 0.8104 - val_loss: 0.5625 - val_accuracy: 0.7068\n",
      "Epoch 36/50\n",
      "13/13 [==============================] - 2s 160ms/step - loss: 0.4765 - accuracy: 0.8080 - val_loss: 0.5542 - val_accuracy: 0.7153\n",
      "Epoch 37/50\n",
      "13/13 [==============================] - 2s 160ms/step - loss: 0.4778 - accuracy: 0.7947 - val_loss: 0.5508 - val_accuracy: 0.7096\n",
      "Epoch 38/50\n",
      "13/13 [==============================] - 2s 160ms/step - loss: 0.4793 - accuracy: 0.8038 - val_loss: 0.5505 - val_accuracy: 0.7082\n",
      "Epoch 39/50\n",
      "13/13 [==============================] - 2s 171ms/step - loss: 0.4731 - accuracy: 0.8080 - val_loss: 0.5717 - val_accuracy: 0.6912\n",
      "Epoch 40/50\n",
      "13/13 [==============================] - 2s 162ms/step - loss: 0.4661 - accuracy: 0.8165 - val_loss: 0.5536 - val_accuracy: 0.7181\n",
      "Epoch 41/50\n",
      "13/13 [==============================] - 2s 166ms/step - loss: 0.4611 - accuracy: 0.8183 - val_loss: 0.5473 - val_accuracy: 0.7082\n",
      "Epoch 42/50\n",
      "13/13 [==============================] - 3s 198ms/step - loss: 0.4600 - accuracy: 0.8226 - val_loss: 0.5522 - val_accuracy: 0.7153\n",
      "Epoch 43/50\n",
      "13/13 [==============================] - 3s 222ms/step - loss: 0.4564 - accuracy: 0.8196 - val_loss: 0.5454 - val_accuracy: 0.7082\n",
      "Epoch 44/50\n",
      "13/13 [==============================] - 2s 191ms/step - loss: 0.4546 - accuracy: 0.8232 - val_loss: 0.5478 - val_accuracy: 0.7167\n",
      "Epoch 45/50\n",
      "13/13 [==============================] - 3s 210ms/step - loss: 0.4507 - accuracy: 0.8287 - val_loss: 0.5450 - val_accuracy: 0.7054\n",
      "Epoch 46/50\n",
      "13/13 [==============================] - 3s 211ms/step - loss: 0.4505 - accuracy: 0.8293 - val_loss: 0.5438 - val_accuracy: 0.7068\n",
      "Epoch 47/50\n",
      "13/13 [==============================] - 3s 204ms/step - loss: 0.4475 - accuracy: 0.8244 - val_loss: 0.5607 - val_accuracy: 0.7025\n",
      "Epoch 48/50\n",
      "13/13 [==============================] - 3s 226ms/step - loss: 0.4445 - accuracy: 0.8341 - val_loss: 0.5529 - val_accuracy: 0.7125\n",
      "Epoch 49/50\n",
      "13/13 [==============================] - 3s 217ms/step - loss: 0.4388 - accuracy: 0.8414 - val_loss: 0.5474 - val_accuracy: 0.7210\n",
      "Epoch 50/50\n",
      "13/13 [==============================] - 3s 218ms/step - loss: 0.4356 - accuracy: 0.8433 - val_loss: 0.5460 - val_accuracy: 0.7210\n"
     ]
    }
   ],
   "source": [
    "# training the model for 50 epochs\n",
    "\n",
    "model_history = model.fit(X_train, y_train, epochs=50, batch_size=128,validation_data=(X_valid,y_valid))"
   ]
  },
  {
   "cell_type": "markdown",
   "metadata": {
    "colab_type": "text",
    "id": "4nItUUcYtYiw"
   },
   "source": [
    "## 7. Evaluating model performance "
   ]
  },
  {
   "cell_type": "code",
   "execution_count": 13,
   "metadata": {
    "colab": {
     "base_uri": "https://localhost:8080/",
     "height": 34
    },
    "colab_type": "code",
    "executionInfo": {
     "elapsed": 2776,
     "status": "ok",
     "timestamp": 1585146701466,
     "user": {
      "displayName": "Aishwarya Singh",
      "photoUrl": "https://lh3.googleusercontent.com/a-/AOh14GgeJwfn4BdBDCAplWi_kdtB9FRssOpXO7T_aMgg=s64",
      "userId": "01105858832371513140"
     },
     "user_tz": -330
    },
    "id": "Wbfb8_MWuHB4",
    "outputId": "a3b53dd0-7d50-41bc-a111-0b7c2cd015e2"
   },
   "outputs": [
    {
     "name": "stdout",
     "output_type": "stream",
     "text": [
      "WARNING:tensorflow:From C:\\Users\\dagarwal\\AppData\\Local\\Temp\\ipykernel_15040\\3047272808.py:2: Sequential.predict_classes (from tensorflow.python.keras.engine.sequential) is deprecated and will be removed after 2021-01-01.\n",
      "Instructions for updating:\n",
      "Please use instead:* `np.argmax(model.predict(x), axis=-1)`,   if your model does multi-class classification   (e.g. if it uses a `softmax` last-layer activation).* `(model.predict(x) > 0.5).astype(\"int32\")`,   if your model does binary classification   (e.g. if it uses a `sigmoid` last-layer activation).\n",
      "Accuracy on validation set: 0.7209631728045326\n"
     ]
    }
   ],
   "source": [
    "# accuracy on validation set\n",
    "print('Accuracy on validation set:', accuracy_score(y_valid, model.predict_classes(X_valid)[:, 0]))"
   ]
  },
  {
   "cell_type": "code",
   "execution_count": 14,
   "metadata": {
    "colab": {
     "base_uri": "https://localhost:8080/",
     "height": 295
    },
    "colab_type": "code",
    "executionInfo": {
     "elapsed": 1543,
     "status": "ok",
     "timestamp": 1585146707886,
     "user": {
      "displayName": "Aishwarya Singh",
      "photoUrl": "https://lh3.googleusercontent.com/a-/AOh14GgeJwfn4BdBDCAplWi_kdtB9FRssOpXO7T_aMgg=s64",
      "userId": "01105858832371513140"
     },
     "user_tz": -330
    },
    "id": "UDXYXYMox5Ih",
    "outputId": "9b4cf1fa-7de4-4534-cb22-e4415ceb1313"
   },
   "outputs": [
    {
     "data": {
      "image/png": "[encoded data removed]",
      "text/plain": [
       "<Figure size 432x288 with 1 Axes>"
      ]
     },
     "metadata": {
      "needs_background": "light"
     },
     "output_type": "display_data"
    }
   ],
   "source": [
    "# summarize history for loss\n",
    "plt.plot(model_history.history['loss'])\n",
    "plt.plot(model_history.history['val_loss'])\n",
    "plt.title('model loss')\n",
    "plt.ylabel('loss')\n",
    "plt.xlabel('epoch')\n",
    "plt.legend(['train', 'validation'], loc='upper right')\n",
    "plt.show()"
   ]
  },
  {
   "cell_type": "markdown",
   "metadata": {
    "colab_type": "text",
    "id": "wN6Pop-YOI2K"
   },
   "source": [
    "## Defining the model architecture\n",
    "\n",
    "### <ol>With Batch Normalization</ol>"
   ]
  },
  {
   "cell_type": "code",
   "execution_count": 15,
   "metadata": {
    "colab": {},
    "colab_type": "code",
    "id": "7NmU-XRjM2BG"
   },
   "outputs": [],
   "source": [
    "# importing batch normalization layer\n",
    "from keras.layers import BatchNormalization"
   ]
  },
  {
   "cell_type": "code",
   "execution_count": 16,
   "metadata": {
    "colab": {
     "base_uri": "https://localhost:8080/",
     "height": 350
    },
    "colab_type": "code",
    "executionInfo": {
     "elapsed": 2451,
     "status": "ok",
     "timestamp": 1585146826040,
     "user": {
      "displayName": "Aishwarya Singh",
      "photoUrl": "https://lh3.googleusercontent.com/a-/AOh14GgeJwfn4BdBDCAplWi_kdtB9FRssOpXO7T_aMgg=s64",
      "userId": "01105858832371513140"
     },
     "user_tz": -330
    },
    "id": "ddxvL8rUM1-w",
    "outputId": "cbc6441a-2e01-4af8-9b11-e9ded8017c30"
   },
   "outputs": [
    {
     "name": "stdout",
     "output_type": "stream",
     "text": [
      "Model: \"sequential_1\"\n",
      "_________________________________________________________________\n",
      "Layer (type)                 Output Shape              Param #   \n",
      "=================================================================\n",
      "dense_3 (Dense)              (None, 100)               15052900  \n",
      "_________________________________________________________________\n",
      "dense_4 (Dense)              (None, 100)               10100     \n",
      "_________________________________________________________________\n",
      "batch_normalization (BatchNo (None, 100)               400       \n",
      "_________________________________________________________________\n",
      "dense_5 (Dense)              (None, 1)                 101       \n",
      "=================================================================\n",
      "Total params: 15,063,501\n",
      "Trainable params: 15,063,301\n",
      "Non-trainable params: 200\n",
      "_________________________________________________________________\n"
     ]
    }
   ],
   "source": [
    "# defining the model architecture and adding batch normalization layers\n",
    "model=Sequential()\n",
    "\n",
    "model.add(InputLayer(input_shape=(224*224*3,)))\n",
    "model.add(Dense(100, activation='sigmoid'))\n",
    "model.add(Dense(100, activation='sigmoid'))\n",
    "model.add(BatchNormalization())\n",
    "model.add(Dense(units=1, activation='sigmoid'))\n",
    "\n",
    "model.summary()"
   ]
  },
  {
   "cell_type": "markdown",
   "metadata": {
    "colab_type": "text",
    "id": "5Rlqln-DOTl9"
   },
   "source": [
    "## Compiling the model"
   ]
  },
  {
   "cell_type": "code",
   "execution_count": 17,
   "metadata": {
    "colab": {},
    "colab_type": "code",
    "id": "Lr-vkqvLM18e"
   },
   "outputs": [],
   "source": [
    "# compiling the model\n",
    "\n",
    "# defining loss as binary crossentropy\n",
    "# defining optimizer as Adam\n",
    "# defining metrics as accuracy\n",
    "\n",
    "model.compile(loss='binary_crossentropy', optimizer=adam, metrics=['accuracy'])"
   ]
  },
  {
   "cell_type": "markdown",
   "metadata": {
    "colab_type": "text",
    "id": "WVOtoVWDOVmD"
   },
   "source": [
    "## Training the model"
   ]
  },
  {
   "cell_type": "code",
   "execution_count": 18,
   "metadata": {
    "colab": {
     "base_uri": "https://localhost:8080/",
     "height": 1000
    },
    "colab_type": "code",
    "executionInfo": {
     "elapsed": 102225,
     "status": "ok",
     "timestamp": 1585146960845,
     "user": {
      "displayName": "Aishwarya Singh",
      "photoUrl": "https://lh3.googleusercontent.com/a-/AOh14GgeJwfn4BdBDCAplWi_kdtB9FRssOpXO7T_aMgg=s64",
      "userId": "01105858832371513140"
     },
     "user_tz": -330
    },
    "id": "Xs8LUEmCM16E",
    "outputId": "efc60f9a-09f4-4d08-9c62-def598f75714"
   },
   "outputs": [
    {
     "name": "stdout",
     "output_type": "stream",
     "text": [
      "Epoch 1/50\n",
      "13/13 [==============================] - 9s 704ms/step - loss: 0.6660 - accuracy: 0.6519 - val_loss: 0.6714 - val_accuracy: 0.5609\n",
      "Epoch 2/50\n",
      "13/13 [==============================] - 2s 171ms/step - loss: 0.5290 - accuracy: 0.7461 - val_loss: 0.6733 - val_accuracy: 0.5652\n",
      "Epoch 3/50\n",
      "13/13 [==============================] - 2s 157ms/step - loss: 0.4688 - accuracy: 0.7861 - val_loss: 0.6704 - val_accuracy: 0.6402\n",
      "Epoch 4/50\n",
      "13/13 [==============================] - 2s 158ms/step - loss: 0.4092 - accuracy: 0.8269 - val_loss: 0.6703 - val_accuracy: 0.5666\n",
      "Epoch 5/50\n",
      "13/13 [==============================] - 2s 162ms/step - loss: 0.3545 - accuracy: 0.8651 - val_loss: 0.6655 - val_accuracy: 0.6261\n",
      "Epoch 6/50\n",
      "13/13 [==============================] - 2s 189ms/step - loss: 0.3102 - accuracy: 0.8913 - val_loss: 0.6616 - val_accuracy: 0.6346\n",
      "Epoch 7/50\n",
      "13/13 [==============================] - 3s 198ms/step - loss: 0.2641 - accuracy: 0.9198 - val_loss: 0.6596 - val_accuracy: 0.6360\n",
      "Epoch 8/50\n",
      "13/13 [==============================] - 3s 207ms/step - loss: 0.2294 - accuracy: 0.9423 - val_loss: 0.6578 - val_accuracy: 0.5878\n",
      "Epoch 9/50\n",
      "13/13 [==============================] - 2s 175ms/step - loss: 0.2046 - accuracy: 0.9575 - val_loss: 0.6521 - val_accuracy: 0.7380\n",
      "Epoch 10/50\n",
      "13/13 [==============================] - 2s 180ms/step - loss: 0.1837 - accuracy: 0.9654 - val_loss: 0.6508 - val_accuracy: 0.6190\n",
      "Epoch 11/50\n",
      "13/13 [==============================] - 2s 178ms/step - loss: 0.1712 - accuracy: 0.9690 - val_loss: 0.6417 - val_accuracy: 0.6303\n",
      "Epoch 12/50\n",
      "13/13 [==============================] - 2s 169ms/step - loss: 0.1521 - accuracy: 0.9763 - val_loss: 0.6375 - val_accuracy: 0.6870\n",
      "Epoch 13/50\n",
      "13/13 [==============================] - 2s 192ms/step - loss: 0.1311 - accuracy: 0.9921 - val_loss: 0.6340 - val_accuracy: 0.6572\n",
      "Epoch 14/50\n",
      "13/13 [==============================] - 2s 187ms/step - loss: 0.1169 - accuracy: 0.9903 - val_loss: 0.6277 - val_accuracy: 0.6898\n",
      "Epoch 15/50\n",
      "13/13 [==============================] - 2s 178ms/step - loss: 0.1083 - accuracy: 0.9909 - val_loss: 0.6252 - val_accuracy: 0.7210\n",
      "Epoch 16/50\n",
      "13/13 [==============================] - 2s 179ms/step - loss: 0.0974 - accuracy: 0.9945 - val_loss: 0.6198 - val_accuracy: 0.7096\n",
      "Epoch 17/50\n",
      "13/13 [==============================] - 2s 176ms/step - loss: 0.0879 - accuracy: 0.9970 - val_loss: 0.6108 - val_accuracy: 0.7068\n",
      "Epoch 18/50\n",
      "13/13 [==============================] - 2s 168ms/step - loss: 0.0843 - accuracy: 0.9964 - val_loss: 0.6074 - val_accuracy: 0.7252\n",
      "Epoch 19/50\n",
      "13/13 [==============================] - 2s 169ms/step - loss: 0.0812 - accuracy: 0.9945 - val_loss: 0.6011 - val_accuracy: 0.7110\n",
      "Epoch 20/50\n",
      "13/13 [==============================] - 2s 184ms/step - loss: 0.0758 - accuracy: 0.9951 - val_loss: 0.6004 - val_accuracy: 0.6771\n",
      "Epoch 21/50\n",
      "13/13 [==============================] - 2s 175ms/step - loss: 0.0683 - accuracy: 0.9970 - val_loss: 0.5953 - val_accuracy: 0.7068\n",
      "Epoch 22/50\n",
      "13/13 [==============================] - 2s 178ms/step - loss: 0.0624 - accuracy: 0.9957 - val_loss: 0.5879 - val_accuracy: 0.6969\n",
      "Epoch 23/50\n",
      "13/13 [==============================] - 3s 195ms/step - loss: 0.0575 - accuracy: 0.9964 - val_loss: 0.5773 - val_accuracy: 0.7422\n",
      "Epoch 24/50\n",
      "13/13 [==============================] - 2s 192ms/step - loss: 0.0597 - accuracy: 0.9964 - val_loss: 0.5672 - val_accuracy: 0.7465\n",
      "Epoch 25/50\n",
      "13/13 [==============================] - 3s 195ms/step - loss: 0.0526 - accuracy: 0.9976 - val_loss: 0.5629 - val_accuracy: 0.7550\n",
      "Epoch 26/50\n",
      "13/13 [==============================] - 2s 188ms/step - loss: 0.0487 - accuracy: 0.9964 - val_loss: 0.5575 - val_accuracy: 0.7535\n",
      "Epoch 27/50\n",
      "13/13 [==============================] - 2s 192ms/step - loss: 0.0481 - accuracy: 0.9970 - val_loss: 0.5511 - val_accuracy: 0.7465\n",
      "Epoch 28/50\n",
      "13/13 [==============================] - 2s 182ms/step - loss: 0.0434 - accuracy: 0.9982 - val_loss: 0.5440 - val_accuracy: 0.7564\n",
      "Epoch 29/50\n",
      "13/13 [==============================] - 2s 169ms/step - loss: 0.0440 - accuracy: 0.9970 - val_loss: 0.5437 - val_accuracy: 0.7606\n",
      "Epoch 30/50\n",
      "13/13 [==============================] - 2s 181ms/step - loss: 0.0418 - accuracy: 0.9976 - val_loss: 0.5432 - val_accuracy: 0.7337\n",
      "Epoch 31/50\n",
      "13/13 [==============================] - 2s 180ms/step - loss: 0.0412 - accuracy: 0.9970 - val_loss: 0.5760 - val_accuracy: 0.6969\n",
      "Epoch 32/50\n",
      "13/13 [==============================] - 2s 171ms/step - loss: 0.0390 - accuracy: 0.9970 - val_loss: 0.5288 - val_accuracy: 0.7592\n",
      "Epoch 33/50\n",
      "13/13 [==============================] - 2s 172ms/step - loss: 0.0357 - accuracy: 0.9957 - val_loss: 0.5186 - val_accuracy: 0.7550\n",
      "Epoch 34/50\n",
      "13/13 [==============================] - 2s 189ms/step - loss: 0.0341 - accuracy: 0.9970 - val_loss: 0.5170 - val_accuracy: 0.7521\n",
      "Epoch 35/50\n",
      "13/13 [==============================] - 2s 185ms/step - loss: 0.0349 - accuracy: 0.9970 - val_loss: 0.5153 - val_accuracy: 0.7479\n",
      "Epoch 36/50\n",
      "13/13 [==============================] - 3s 203ms/step - loss: 0.0313 - accuracy: 0.9976 - val_loss: 0.5291 - val_accuracy: 0.7507\n",
      "Epoch 37/50\n",
      "13/13 [==============================] - 3s 193ms/step - loss: 0.0315 - accuracy: 0.9976 - val_loss: 0.5127 - val_accuracy: 0.7521\n",
      "Epoch 38/50\n",
      "13/13 [==============================] - 2s 184ms/step - loss: 0.0327 - accuracy: 0.9964 - val_loss: 0.5098 - val_accuracy: 0.7578\n",
      "Epoch 39/50\n",
      "13/13 [==============================] - 2s 183ms/step - loss: 0.0323 - accuracy: 0.9970 - val_loss: 0.5084 - val_accuracy: 0.7578\n",
      "Epoch 40/50\n",
      "13/13 [==============================] - 3s 201ms/step - loss: 0.0290 - accuracy: 0.9982 - val_loss: 0.5088 - val_accuracy: 0.7620\n",
      "Epoch 41/50\n",
      "13/13 [==============================] - 2s 186ms/step - loss: 0.0270 - accuracy: 0.9970 - val_loss: 0.5152 - val_accuracy: 0.7592\n",
      "Epoch 42/50\n",
      "13/13 [==============================] - 3s 213ms/step - loss: 0.0274 - accuracy: 0.9970 - val_loss: 0.5401 - val_accuracy: 0.7550\n",
      "Epoch 43/50\n",
      "13/13 [==============================] - 2s 184ms/step - loss: 0.0280 - accuracy: 0.9976 - val_loss: 0.5641 - val_accuracy: 0.7266\n",
      "Epoch 44/50\n",
      "13/13 [==============================] - 2s 184ms/step - loss: 0.0252 - accuracy: 0.9964 - val_loss: 0.5428 - val_accuracy: 0.7422\n",
      "Epoch 45/50\n",
      "13/13 [==============================] - 2s 181ms/step - loss: 0.0242 - accuracy: 0.9976 - val_loss: 0.5320 - val_accuracy: 0.7436\n",
      "Epoch 46/50\n",
      "13/13 [==============================] - 2s 179ms/step - loss: 0.0244 - accuracy: 0.9964 - val_loss: 0.5487 - val_accuracy: 0.7450\n",
      "Epoch 47/50\n",
      "13/13 [==============================] - 3s 218ms/step - loss: 0.0255 - accuracy: 0.9964 - val_loss: 0.5616 - val_accuracy: 0.7507\n",
      "Epoch 48/50\n",
      "13/13 [==============================] - 3s 203ms/step - loss: 0.0264 - accuracy: 0.9964 - val_loss: 0.6450 - val_accuracy: 0.7394\n",
      "Epoch 49/50\n",
      "13/13 [==============================] - 3s 201ms/step - loss: 0.0232 - accuracy: 0.9976 - val_loss: 0.5527 - val_accuracy: 0.7550\n",
      "Epoch 50/50\n",
      "13/13 [==============================] - 3s 193ms/step - loss: 0.0223 - accuracy: 0.9982 - val_loss: 0.6287 - val_accuracy: 0.7181\n"
     ]
    }
   ],
   "source": [
    "# training the model for 50 epochs using Batch Normalization\n",
    "\n",
    "model_history = model.fit(X_train, y_train, epochs=50, batch_size=128,validation_data=(X_valid,y_valid))"
   ]
  },
  {
   "cell_type": "markdown",
   "metadata": {
    "colab_type": "text",
    "id": "g6GrNmZEObWs"
   },
   "source": [
    "## Evaluating model performance"
   ]
  },
  {
   "cell_type": "code",
   "execution_count": 19,
   "metadata": {
    "colab": {
     "base_uri": "https://localhost:8080/",
     "height": 34
    },
    "colab_type": "code",
    "executionInfo": {
     "elapsed": 2136,
     "status": "ok",
     "timestamp": 1585146970154,
     "user": {
      "displayName": "Aishwarya Singh",
      "photoUrl": "https://lh3.googleusercontent.com/a-/AOh14GgeJwfn4BdBDCAplWi_kdtB9FRssOpXO7T_aMgg=s64",
      "userId": "01105858832371513140"
     },
     "user_tz": -330
    },
    "id": "zPQi5OXcM13o",
    "outputId": "b00d5e43-51b3-4dd5-f3de-da7adf807528"
   },
   "outputs": [
    {
     "name": "stdout",
     "output_type": "stream",
     "text": [
      "Accuracy on validation set: 0.7181303116147308 %\n"
     ]
    }
   ],
   "source": [
    "# accuracy on validation set\n",
    "print('Accuracy on validation set:', accuracy_score(y_valid, model.predict_classes(X_valid)[:, 0]), '%')"
   ]
  },
  {
   "cell_type": "code",
   "execution_count": 20,
   "metadata": {
    "colab": {
     "base_uri": "https://localhost:8080/",
     "height": 295
    },
    "colab_type": "code",
    "executionInfo": {
     "elapsed": 2029,
     "status": "ok",
     "timestamp": 1585146978239,
     "user": {
      "displayName": "Aishwarya Singh",
      "photoUrl": "https://lh3.googleusercontent.com/a-/AOh14GgeJwfn4BdBDCAplWi_kdtB9FRssOpXO7T_aMgg=s64",
      "userId": "01105858832371513140"
     },
     "user_tz": -330
    },
    "id": "pamDczIVM102",
    "outputId": "f69db5fc-fad9-4cd8-96a3-28087da6ddc2"
   },
   "outputs": [
    {
     "data": {
      "image/png": "[encoded data removed]",
      "text/plain": [
       "<Figure size 432x288 with 1 Axes>"
      ]
     },
     "metadata": {
      "needs_background": "light"
     },
     "output_type": "display_data"
    }
   ],
   "source": [
    "# summarize history for loss\n",
    "plt.plot(model_history.history['loss'])\n",
    "plt.plot(model_history.history['val_loss'])\n",
    "plt.title('model loss')\n",
    "plt.ylabel('loss')\n",
    "plt.xlabel('epoch')\n",
    "plt.legend(['train', 'validation'], loc='upper right')\n",
    "plt.show()"
   ]
  },
  {
   "cell_type": "code",
   "execution_count": 0,
   "metadata": {
    "colab": {},
    "colab_type": "code",
    "id": "_uNSCCqJPZHp"
   },
   "outputs": [],
   "source": []
  },
  {
   "cell_type": "code",
   "execution_count": 27,
   "metadata": {},
   "outputs": [
    {
     "name": "stdout",
     "output_type": "stream",
     "text": [
      "Model: \"sequential_5\"\n",
      "_________________________________________________________________\n",
      "Layer (type)                 Output Shape              Param #   \n",
      "=================================================================\n",
      "dense_13 (Dense)             (None, 100)               15052900  \n",
      "_________________________________________________________________\n",
      "batch_normalization_5 (Batch (None, 100)               400       \n",
      "_________________________________________________________________\n",
      "dense_14 (Dense)             (None, 100)               10100     \n",
      "_________________________________________________________________\n",
      "batch_normalization_6 (Batch (None, 100)               400       \n",
      "_________________________________________________________________\n",
      "dense_15 (Dense)             (None, 1)                 101       \n",
      "=================================================================\n",
      "Total params: 15,063,901\n",
      "Trainable params: 15,063,501\n",
      "Non-trainable params: 400\n",
      "_________________________________________________________________\n"
     ]
    }
   ],
   "source": [
    "# defining the model architecture and adding batch normalization layers\n",
    "model=Sequential()\n",
    "\n",
    "model.add(InputLayer(input_shape=(224*224*3,)))\n",
    "model.add(Dense(100, activation='sigmoid'))\n",
    "model.add(BatchNormalization())\n",
    "model.add(Dense(100, activation='sigmoid'))\n",
    "model.add(BatchNormalization())\n",
    "model.add(Dense(units=1, activation='sigmoid'))\n",
    "\n",
    "model.summary()"
   ]
  },
  {
   "cell_type": "code",
   "execution_count": 28,
   "metadata": {},
   "outputs": [],
   "source": [
    "model.compile(loss='binary_crossentropy', optimizer=adam, metrics=['accuracy'])"
   ]
  },
  {
   "cell_type": "code",
   "execution_count": 29,
   "metadata": {},
   "outputs": [
    {
     "name": "stdout",
     "output_type": "stream",
     "text": [
      "Epoch 1/50\n",
      "13/13 [==============================] - 4s 337ms/step - loss: 0.7383 - accuracy: 0.6440 - val_loss: 0.7131 - val_accuracy: 0.4391\n",
      "Epoch 2/50\n",
      "13/13 [==============================] - 2s 160ms/step - loss: 0.5017 - accuracy: 0.7734 - val_loss: 0.6987 - val_accuracy: 0.4391\n",
      "Epoch 3/50\n",
      "13/13 [==============================] - 2s 156ms/step - loss: 0.3950 - accuracy: 0.8311 - val_loss: 0.6956 - val_accuracy: 0.4462\n",
      "Epoch 4/50\n",
      "13/13 [==============================] - 2s 167ms/step - loss: 0.3085 - accuracy: 0.8846 - val_loss: 0.6968 - val_accuracy: 0.4391\n",
      "Epoch 5/50\n",
      "13/13 [==============================] - 2s 170ms/step - loss: 0.2409 - accuracy: 0.9235 - val_loss: 0.6887 - val_accuracy: 0.4547\n",
      "Epoch 6/50\n",
      "13/13 [==============================] - 2s 158ms/step - loss: 0.1939 - accuracy: 0.9435 - val_loss: 0.6841 - val_accuracy: 0.4915\n",
      "Epoch 7/50\n",
      "13/13 [==============================] - 2s 162ms/step - loss: 0.1394 - accuracy: 0.9733 - val_loss: 0.6681 - val_accuracy: 0.5992\n",
      "Epoch 8/50\n",
      "13/13 [==============================] - 2s 160ms/step - loss: 0.0951 - accuracy: 0.9885 - val_loss: 0.6638 - val_accuracy: 0.6955\n",
      "Epoch 9/50\n",
      "13/13 [==============================] - 2s 169ms/step - loss: 0.0838 - accuracy: 0.9878 - val_loss: 0.6476 - val_accuracy: 0.7224\n",
      "Epoch 10/50\n",
      "13/13 [==============================] - 2s 164ms/step - loss: 0.0663 - accuracy: 0.9951 - val_loss: 0.6450 - val_accuracy: 0.7351\n",
      "Epoch 11/50\n",
      "13/13 [==============================] - 2s 165ms/step - loss: 0.0644 - accuracy: 0.9939 - val_loss: 0.6432 - val_accuracy: 0.7153\n",
      "Epoch 12/50\n",
      "13/13 [==============================] - 2s 165ms/step - loss: 0.0524 - accuracy: 0.9951 - val_loss: 0.6228 - val_accuracy: 0.7394\n",
      "Epoch 13/50\n",
      "13/13 [==============================] - 2s 163ms/step - loss: 0.0425 - accuracy: 0.9970 - val_loss: 0.6279 - val_accuracy: 0.6856\n",
      "Epoch 14/50\n",
      "13/13 [==============================] - 2s 165ms/step - loss: 0.0385 - accuracy: 0.9970 - val_loss: 0.6099 - val_accuracy: 0.7337\n",
      "Epoch 15/50\n",
      "13/13 [==============================] - 2s 167ms/step - loss: 0.0346 - accuracy: 0.9957 - val_loss: 0.5993 - val_accuracy: 0.7394\n",
      "Epoch 16/50\n",
      "13/13 [==============================] - 2s 185ms/step - loss: 0.0320 - accuracy: 0.9976 - val_loss: 0.5864 - val_accuracy: 0.7450\n",
      "Epoch 17/50\n",
      "13/13 [==============================] - 2s 178ms/step - loss: 0.0271 - accuracy: 0.9970 - val_loss: 0.5764 - val_accuracy: 0.7436\n",
      "Epoch 18/50\n",
      "13/13 [==============================] - 2s 185ms/step - loss: 0.0306 - accuracy: 0.9957 - val_loss: 0.5628 - val_accuracy: 0.7465\n",
      "Epoch 19/50\n",
      "13/13 [==============================] - 2s 191ms/step - loss: 0.0230 - accuracy: 0.9970 - val_loss: 0.5605 - val_accuracy: 0.7422\n",
      "Epoch 20/50\n",
      "13/13 [==============================] - 2s 177ms/step - loss: 0.0215 - accuracy: 0.9976 - val_loss: 0.5657 - val_accuracy: 0.7394\n",
      "Epoch 21/50\n",
      "13/13 [==============================] - 2s 165ms/step - loss: 0.0198 - accuracy: 0.9976 - val_loss: 0.5475 - val_accuracy: 0.7394\n",
      "Epoch 22/50\n",
      "13/13 [==============================] - 2s 166ms/step - loss: 0.0197 - accuracy: 0.9970 - val_loss: 0.5277 - val_accuracy: 0.7507\n",
      "Epoch 23/50\n",
      "13/13 [==============================] - 2s 166ms/step - loss: 0.0255 - accuracy: 0.9964 - val_loss: 0.5725 - val_accuracy: 0.6955\n",
      "Epoch 24/50\n",
      "13/13 [==============================] - 2s 167ms/step - loss: 0.0271 - accuracy: 0.9970 - val_loss: 0.5386 - val_accuracy: 0.7479\n",
      "Epoch 25/50\n",
      "13/13 [==============================] - 2s 165ms/step - loss: 0.0214 - accuracy: 0.9957 - val_loss: 0.5497 - val_accuracy: 0.7295\n",
      "Epoch 26/50\n",
      "13/13 [==============================] - 2s 166ms/step - loss: 0.0183 - accuracy: 0.9964 - val_loss: 0.5296 - val_accuracy: 0.7380\n",
      "Epoch 27/50\n",
      "13/13 [==============================] - 2s 168ms/step - loss: 0.0173 - accuracy: 0.9970 - val_loss: 0.5517 - val_accuracy: 0.7238\n",
      "Epoch 28/50\n",
      "13/13 [==============================] - 2s 168ms/step - loss: 0.0218 - accuracy: 0.9982 - val_loss: 0.6117 - val_accuracy: 0.6771\n",
      "Epoch 29/50\n",
      "13/13 [==============================] - 2s 167ms/step - loss: 0.0176 - accuracy: 0.9970 - val_loss: 0.5220 - val_accuracy: 0.7436\n",
      "Epoch 30/50\n",
      "13/13 [==============================] - 2s 171ms/step - loss: 0.0176 - accuracy: 0.9964 - val_loss: 0.6866 - val_accuracy: 0.6841\n",
      "Epoch 31/50\n",
      "13/13 [==============================] - 2s 166ms/step - loss: 0.0136 - accuracy: 0.9970 - val_loss: 0.5235 - val_accuracy: 0.7535\n",
      "Epoch 32/50\n",
      "13/13 [==============================] - 2s 168ms/step - loss: 0.0190 - accuracy: 0.9970 - val_loss: 0.6051 - val_accuracy: 0.7040\n",
      "Epoch 33/50\n",
      "13/13 [==============================] - 2s 170ms/step - loss: 0.0178 - accuracy: 0.9970 - val_loss: 0.7035 - val_accuracy: 0.7068\n",
      "Epoch 34/50\n",
      "13/13 [==============================] - 2s 166ms/step - loss: 0.0147 - accuracy: 0.9964 - val_loss: 0.5442 - val_accuracy: 0.7493\n",
      "Epoch 35/50\n",
      "13/13 [==============================] - 2s 168ms/step - loss: 0.0146 - accuracy: 0.9964 - val_loss: 0.6274 - val_accuracy: 0.7337\n",
      "Epoch 36/50\n",
      "13/13 [==============================] - 2s 169ms/step - loss: 0.0127 - accuracy: 0.9976 - val_loss: 0.5679 - val_accuracy: 0.7493\n",
      "Epoch 37/50\n",
      "13/13 [==============================] - 2s 170ms/step - loss: 0.0132 - accuracy: 0.9957 - val_loss: 0.5786 - val_accuracy: 0.7408\n",
      "Epoch 38/50\n",
      "13/13 [==============================] - 2s 168ms/step - loss: 0.0130 - accuracy: 0.9970 - val_loss: 0.5961 - val_accuracy: 0.7465\n",
      "Epoch 39/50\n",
      "13/13 [==============================] - 2s 180ms/step - loss: 0.0124 - accuracy: 0.9970 - val_loss: 0.6133 - val_accuracy: 0.7394\n",
      "Epoch 40/50\n",
      "13/13 [==============================] - 2s 172ms/step - loss: 0.0135 - accuracy: 0.9970 - val_loss: 0.6130 - val_accuracy: 0.7521\n",
      "Epoch 41/50\n",
      "13/13 [==============================] - 2s 175ms/step - loss: 0.0098 - accuracy: 0.9982 - val_loss: 0.6272 - val_accuracy: 0.7337\n",
      "Epoch 42/50\n",
      "13/13 [==============================] - 2s 179ms/step - loss: 0.0120 - accuracy: 0.9970 - val_loss: 0.7298 - val_accuracy: 0.7167\n",
      "Epoch 43/50\n",
      "13/13 [==============================] - 2s 183ms/step - loss: 0.0115 - accuracy: 0.9976 - val_loss: 0.6321 - val_accuracy: 0.7479\n",
      "Epoch 44/50\n",
      "13/13 [==============================] - 2s 178ms/step - loss: 0.0130 - accuracy: 0.9964 - val_loss: 0.6370 - val_accuracy: 0.7465\n",
      "Epoch 45/50\n",
      "13/13 [==============================] - 2s 171ms/step - loss: 0.0171 - accuracy: 0.9957 - val_loss: 0.6884 - val_accuracy: 0.7323\n",
      "Epoch 46/50\n",
      "13/13 [==============================] - 2s 175ms/step - loss: 0.0111 - accuracy: 0.9976 - val_loss: 0.8164 - val_accuracy: 0.7394\n",
      "Epoch 47/50\n",
      "13/13 [==============================] - 2s 173ms/step - loss: 0.0107 - accuracy: 0.9976 - val_loss: 0.6885 - val_accuracy: 0.7309\n",
      "Epoch 48/50\n",
      "13/13 [==============================] - 2s 177ms/step - loss: 0.0123 - accuracy: 0.9964 - val_loss: 0.7104 - val_accuracy: 0.7337\n",
      "Epoch 49/50\n",
      "13/13 [==============================] - 2s 170ms/step - loss: 0.0144 - accuracy: 0.9957 - val_loss: 0.8746 - val_accuracy: 0.7266\n",
      "Epoch 50/50\n",
      "13/13 [==============================] - 2s 180ms/step - loss: 0.0108 - accuracy: 0.9964 - val_loss: 0.6887 - val_accuracy: 0.7493\n"
     ]
    }
   ],
   "source": [
    "model_history = model.fit(X_train, y_train, epochs=50, batch_size=128,validation_data=(X_valid,y_valid))"
   ]
  },
  {
   "cell_type": "code",
   "execution_count": 30,
   "metadata": {},
   "outputs": [
    {
     "name": "stdout",
     "output_type": "stream",
     "text": [
      "Accuracy on validation set: 0.7492917847025495\n"
     ]
    }
   ],
   "source": [
    "# accuracy on validation set\n",
    "print('Accuracy on validation set:', accuracy_score(y_valid, model.predict_classes(X_valid)[:, 0]))"
   ]
  },
  {
   "cell_type": "code",
   "execution_count": 31,
   "metadata": {},
   "outputs": [
    {
     "data": {
      "image/png": "[encoded data removed]",
      "text/plain": [
       "<Figure size 432x288 with 1 Axes>"
      ]
     },
     "metadata": {
      "needs_background": "light"
     },
     "output_type": "display_data"
    }
   ],
   "source": [
    "# summarize history for loss\n",
    "plt.plot(model_history.history['loss'])\n",
    "plt.plot(model_history.history['val_loss'])\n",
    "plt.title('model loss')\n",
    "plt.ylabel('loss')\n",
    "plt.xlabel('epoch')\n",
    "plt.legend(['train', 'validation'], loc='upper right')\n",
    "plt.show()"
   ]
  },
  {
   "cell_type": "code",
   "execution_count": null,
   "metadata": {},
   "outputs": [],
   "source": []
  }
 ],
 "metadata": {
  "accelerator": "GPU",
  "colab": {
   "collapsed_sections": [],
   "name": "Batch Normalization in Neural Networks using Keras.ipynb",
   "provenance": []
  },
  "kernelspec": {
   "display_name": "Python 3 (ipykernel)",
   "language": "python",
   "name": "python3"
  },
  "language_info": {
   "codemirror_mode": {
    "name": "ipython",
    "version": 3
   },
   "file_extension": ".py",
   "mimetype": "text/x-python",
   "name": "python",
   "nbconvert_exporter": "python",
   "pygments_lexer": "ipython3",
   "version": "3.7.13"
  }
 },
 "nbformat": 4,
 "nbformat_minor": 1
}
