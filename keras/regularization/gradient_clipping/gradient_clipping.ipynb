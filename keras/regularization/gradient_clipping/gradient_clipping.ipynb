{
 "cells": [
  {
   "cell_type": "markdown",
   "metadata": {
    "colab_type": "text",
    "id": "xR7hbyyfuG9N"
   },
   "source": [
    "# Gradient Clipping in Keras\n",
    "\n",
    "<ol>1. Loading the dataset</ol>\n",
    "<ol>2. Pre-processing the data</ol>\n",
    "<ol>3. Creating training and validation set</ol>\n",
    "<ol>4. Defining the model architecture</ol>\n",
    "<ol>5. Compiling the model</ol>\n",
    "<ol> <ol>* Define clipvalue while defining the optimizer</ol></ol>\n",
    "<ol>6. Training the model</ol>\n",
    "<ol>7. Evaluating model performance</ol>"
   ]
  },
  {
   "cell_type": "markdown",
   "metadata": {
    "colab_type": "text",
    "id": "xq6rlm_puG9U"
   },
   "source": [
    "## 1. Loading the dataset"
   ]
  },
  {
   "cell_type": "code",
   "execution_count": 1,
   "metadata": {
    "colab": {
     "base_uri": "https://localhost:8080/",
     "height": 81
    },
    "colab_type": "code",
    "executionInfo": {
     "elapsed": 2938,
     "status": "ok",
     "timestamp": 1585148079055,
     "user": {
      "displayName": "Aishwarya Singh",
      "photoUrl": "https://lh3.googleusercontent.com/a-/AOh14GgeJwfn4BdBDCAplWi_kdtB9FRssOpXO7T_aMgg=s64",
      "userId": "01105858832371513140"
     },
     "user_tz": -330
    },
    "id": "XPYT-SDjuG9a",
    "outputId": "cb6b12d6-5498-4cd5-8750-8d18015f8bba",
    "scrolled": true
   },
   "outputs": [],
   "source": [
    "# import necessary libraries and functions\n",
    "import numpy as np\n",
    "import pandas as pd\n",
    "import matplotlib.pyplot as plt\n",
    "%matplotlib inline\n",
    "\n",
    "# importing layers from keras\n",
    "from keras.layers import Dense, InputLayer\n",
    "from keras.models import Sequential\n",
    "# importing adam optimizer from keras optimizer module \n",
    "from keras.optimizers import Adam\n",
    "\n",
    "# train_test_split to create training and validation set\n",
    "from sklearn.model_selection import train_test_split\n",
    "# accuracy_score to calculate the accuracy of predictions\n",
    "from sklearn.metrics import accuracy_score"
   ]
  },
  {
   "cell_type": "code",
   "execution_count": 2,
   "metadata": {
    "colab": {},
    "colab_type": "code",
    "id": "WZdipKFauG9t"
   },
   "outputs": [],
   "source": [
    "# reading the csv file\n",
    "data = pd.read_csv('Dataset/emergency_classification.csv')"
   ]
  },
  {
   "cell_type": "code",
   "execution_count": 3,
   "metadata": {
    "colab": {},
    "colab_type": "code",
    "id": "7pOqqh5GuG94"
   },
   "outputs": [],
   "source": [
    "# create random number generator\n",
    "seed = 42\n",
    "rng = np.random.RandomState(seed)"
   ]
  },
  {
   "cell_type": "code",
   "execution_count": 4,
   "metadata": {
    "colab": {},
    "colab_type": "code",
    "id": "AMZyTsx3uG-W"
   },
   "outputs": [],
   "source": [
    "# load images and store it in numpy array\n",
    "\n",
    "# empty list to store the images\n",
    "X = []\n",
    "# iterating over each image\n",
    "for img_name in data.image_names:\n",
    "    # loading the image using its name\n",
    "    img = plt.imread('Dataset/images/' + img_name)\n",
    "    # saving each image in the list\n",
    "    X.append(img)\n",
    "    \n",
    "# converting the list of images into array\n",
    "X=np.array(X)\n",
    "\n",
    "# storing the target variable in separate variable\n",
    "y = data.emergency_or_not.values"
   ]
  },
  {
   "cell_type": "markdown",
   "metadata": {
    "colab_type": "text",
    "id": "IYNJtBXLuG-x"
   },
   "source": [
    "## 2. Pre-processing the data"
   ]
  },
  {
   "cell_type": "code",
   "execution_count": 5,
   "metadata": {
    "colab": {
     "base_uri": "https://localhost:8080/",
     "height": 34
    },
    "colab_type": "code",
    "executionInfo": {
     "elapsed": 1448,
     "status": "ok",
     "timestamp": 1585148215451,
     "user": {
      "displayName": "Aishwarya Singh",
      "photoUrl": "https://lh3.googleusercontent.com/a-/AOh14GgeJwfn4BdBDCAplWi_kdtB9FRssOpXO7T_aMgg=s64",
      "userId": "01105858832371513140"
     },
     "user_tz": -330
    },
    "id": "JsEZNNE_uG-2",
    "outputId": "acf6d29c-b990-4768-9f7f-23f5cb4bf70d",
    "scrolled": true
   },
   "outputs": [
    {
     "data": {
      "text/plain": [
       "(2352, 150528)"
      ]
     },
     "execution_count": 5,
     "metadata": {},
     "output_type": "execute_result"
    }
   ],
   "source": [
    "# converting 3 dimensional image to 1 dimensional image\n",
    "X = X.reshape(X.shape[0], 224*224*3)\n",
    "X.shape"
   ]
  },
  {
   "cell_type": "code",
   "execution_count": 6,
   "metadata": {
    "colab": {
     "base_uri": "https://localhost:8080/",
     "height": 34
    },
    "colab_type": "code",
    "executionInfo": {
     "elapsed": 3359,
     "status": "ok",
     "timestamp": 1585148238484,
     "user": {
      "displayName": "Aishwarya Singh",
      "photoUrl": "https://lh3.googleusercontent.com/a-/AOh14GgeJwfn4BdBDCAplWi_kdtB9FRssOpXO7T_aMgg=s64",
      "userId": "01105858832371513140"
     },
     "user_tz": -330
    },
    "id": "wI3hNx3uuG_L",
    "outputId": "210d10b3-93c6-4210-913e-20aeab58b78d"
   },
   "outputs": [
    {
     "data": {
      "text/plain": [
       "(0.0, 1.0)"
      ]
     },
     "execution_count": 6,
     "metadata": {},
     "output_type": "execute_result"
    }
   ],
   "source": [
    "# normalizing the pixel values\n",
    "X = X / X.max()\n",
    "\n",
    "# minimum and maximum pixel values of images after normalizing\n",
    "X.min(), X.max()"
   ]
  },
  {
   "cell_type": "markdown",
   "metadata": {
    "colab_type": "text",
    "id": "Scbo48PLuG_b"
   },
   "source": [
    "## 3. Creating training and validation set"
   ]
  },
  {
   "cell_type": "code",
   "execution_count": 7,
   "metadata": {
    "colab": {},
    "colab_type": "code",
    "id": "-UmSQzb1uG_d"
   },
   "outputs": [],
   "source": [
    "# creating a training and validation set\n",
    "X_train, X_valid, y_train, y_valid=train_test_split(X,y,test_size=0.3, random_state=seed)"
   ]
  },
  {
   "cell_type": "code",
   "execution_count": 8,
   "metadata": {
    "colab": {
     "base_uri": "https://localhost:8080/",
     "height": 34
    },
    "colab_type": "code",
    "executionInfo": {
     "elapsed": 1114,
     "status": "ok",
     "timestamp": 1585148271268,
     "user": {
      "displayName": "Aishwarya Singh",
      "photoUrl": "https://lh3.googleusercontent.com/a-/AOh14GgeJwfn4BdBDCAplWi_kdtB9FRssOpXO7T_aMgg=s64",
      "userId": "01105858832371513140"
     },
     "user_tz": -330
    },
    "id": "xTC-FgDjuG_k",
    "outputId": "e3160974-cc4e-4032-9c1e-c3c409921a8f"
   },
   "outputs": [
    {
     "data": {
      "text/plain": [
       "(((1646, 150528), (1646,)), ((706, 150528), (706,)))"
      ]
     },
     "execution_count": 8,
     "metadata": {},
     "output_type": "execute_result"
    }
   ],
   "source": [
    "# shape of training and validation set\n",
    "(X_train.shape, y_train.shape), (X_valid.shape, y_valid.shape)"
   ]
  },
  {
   "cell_type": "markdown",
   "metadata": {
    "colab_type": "text",
    "id": "vskdq-4huG_r"
   },
   "source": [
    "## 4. Defining the model architecture"
   ]
  },
  {
   "cell_type": "code",
   "execution_count": 9,
   "metadata": {
    "colab": {
     "base_uri": "https://localhost:8080/",
     "height": 141
    },
    "colab_type": "code",
    "executionInfo": {
     "elapsed": 768,
     "status": "ok",
     "timestamp": 1585148299907,
     "user": {
      "displayName": "Aishwarya Singh",
      "photoUrl": "https://lh3.googleusercontent.com/a-/AOh14GgeJwfn4BdBDCAplWi_kdtB9FRssOpXO7T_aMgg=s64",
      "userId": "01105858832371513140"
     },
     "user_tz": -330
    },
    "id": "tLqmJg8PuHBs",
    "outputId": "99df6836-021f-4f27-9a57-0809840b02c9"
   },
   "outputs": [],
   "source": [
    "# defining the model architecture with dropout layer\n",
    "model=Sequential()\n",
    "\n",
    "model.add(InputLayer(input_shape=(224*224*3,)))\n",
    "model.add(Dense(100, activation='sigmoid'))\n",
    "model.add(Dense(100, activation='sigmoid'))\n",
    "model.add(Dense(units=1, activation='sigmoid'))"
   ]
  },
  {
   "cell_type": "markdown",
   "metadata": {
    "colab_type": "text",
    "id": "FS__sDNVrjOs"
   },
   "source": [
    "## 5. Compiling the model"
   ]
  },
  {
   "cell_type": "code",
   "execution_count": 10,
   "metadata": {
    "colab": {},
    "colab_type": "code",
    "id": "BGovpAw_uHBp"
   },
   "outputs": [],
   "source": [
    "# defining the adam optimizer and setting the learning rate as 10^-5 and adding clip value to clip the gradients\n",
    "adam = Adam(lr=1e-5, clipvalue=1)"
   ]
  },
  {
   "cell_type": "code",
   "execution_count": 11,
   "metadata": {
    "colab": {
     "base_uri": "https://localhost:8080/",
     "height": 159
    },
    "colab_type": "code",
    "executionInfo": {
     "elapsed": 1920,
     "status": "ok",
     "timestamp": 1585148400803,
     "user": {
      "displayName": "Aishwarya Singh",
      "photoUrl": "https://lh3.googleusercontent.com/a-/AOh14GgeJwfn4BdBDCAplWi_kdtB9FRssOpXO7T_aMgg=s64",
      "userId": "01105858832371513140"
     },
     "user_tz": -330
    },
    "id": "pcEUdq_Tri5x",
    "outputId": "f4c05bf1-4713-467a-8e71-bc93614e1154"
   },
   "outputs": [],
   "source": [
    "# compiling the model\n",
    "\n",
    "# defining loss as binary crossentropy\n",
    "# defining optimizer as Adam\n",
    "# defining metrics as accuracy\n",
    "\n",
    "model.compile(loss='binary_crossentropy', optimizer=adam, metrics=['accuracy'])"
   ]
  },
  {
   "cell_type": "markdown",
   "metadata": {
    "colab_type": "text",
    "id": "UJ6D8X0JtD7f"
   },
   "source": [
    "## 6. Training the model"
   ]
  },
  {
   "cell_type": "code",
   "execution_count": 12,
   "metadata": {
    "colab": {
     "base_uri": "https://localhost:8080/",
     "height": 1000
    },
    "colab_type": "code",
    "executionInfo": {
     "elapsed": 155550,
     "status": "ok",
     "timestamp": 1585148564336,
     "user": {
      "displayName": "Aishwarya Singh",
      "photoUrl": "https://lh3.googleusercontent.com/a-/AOh14GgeJwfn4BdBDCAplWi_kdtB9FRssOpXO7T_aMgg=s64",
      "userId": "01105858832371513140"
     },
     "user_tz": -330
    },
    "id": "KL7PHbMRuHBy",
    "outputId": "f4d9319a-2f93-4a27-b5b0-8a0b8b9b1c68",
    "scrolled": false
   },
   "outputs": [
    {
     "name": "stdout",
     "output_type": "stream",
     "text": [
      "Epoch 1/100\n",
      "13/13 [==============================] - 14s 1s/step - loss: 0.6716 - accuracy: 0.6057 - val_loss: 0.6738 - val_accuracy: 0.5609\n",
      "Epoch 2/100\n",
      "13/13 [==============================] - 5s 363ms/step - loss: 0.6477 - accuracy: 0.6403 - val_loss: 0.6430 - val_accuracy: 0.6176\n",
      "Epoch 3/100\n",
      "13/13 [==============================] - 4s 312ms/step - loss: 0.6307 - accuracy: 0.6391 - val_loss: 0.6282 - val_accuracy: 0.6572\n",
      "Epoch 4/100\n",
      "13/13 [==============================] - 4s 317ms/step - loss: 0.6204 - accuracy: 0.6616 - val_loss: 0.6208 - val_accuracy: 0.6714\n",
      "Epoch 5/100\n",
      "13/13 [==============================] - 4s 313ms/step - loss: 0.6124 - accuracy: 0.6871 - val_loss: 0.6312 - val_accuracy: 0.6402\n",
      "Epoch 6/100\n",
      "13/13 [==============================] - 5s 348ms/step - loss: 0.6052 - accuracy: 0.6841 - val_loss: 0.6099 - val_accuracy: 0.6643\n",
      "Epoch 7/100\n",
      "13/13 [==============================] - 4s 326ms/step - loss: 0.5978 - accuracy: 0.6956 - val_loss: 0.6052 - val_accuracy: 0.6870\n",
      "Epoch 8/100\n",
      "13/13 [==============================] - 4s 278ms/step - loss: 0.5936 - accuracy: 0.6981 - val_loss: 0.6019 - val_accuracy: 0.6686\n",
      "Epoch 9/100\n",
      "13/13 [==============================] - 4s 329ms/step - loss: 0.5846 - accuracy: 0.7193 - val_loss: 0.5972 - val_accuracy: 0.6912\n",
      "Epoch 10/100\n",
      "13/13 [==============================] - 4s 303ms/step - loss: 0.5809 - accuracy: 0.7272 - val_loss: 0.6147 - val_accuracy: 0.6629\n",
      "Epoch 11/100\n",
      "13/13 [==============================] - 3s 250ms/step - loss: 0.5749 - accuracy: 0.7303 - val_loss: 0.5917 - val_accuracy: 0.6941\n",
      "Epoch 12/100\n",
      "13/13 [==============================] - 4s 273ms/step - loss: 0.5721 - accuracy: 0.7309 - val_loss: 0.5929 - val_accuracy: 0.6841\n",
      "Epoch 13/100\n",
      "13/13 [==============================] - 4s 307ms/step - loss: 0.5678 - accuracy: 0.7345 - val_loss: 0.5989 - val_accuracy: 0.6742\n",
      "Epoch 14/100\n",
      "13/13 [==============================] - 4s 283ms/step - loss: 0.5617 - accuracy: 0.7503 - val_loss: 0.5918 - val_accuracy: 0.6799\n",
      "Epoch 15/100\n",
      "13/13 [==============================] - 4s 302ms/step - loss: 0.5613 - accuracy: 0.7424 - val_loss: 0.5961 - val_accuracy: 0.6785\n",
      "Epoch 16/100\n",
      "13/13 [==============================] - 4s 298ms/step - loss: 0.5608 - accuracy: 0.7382 - val_loss: 0.5869 - val_accuracy: 0.6898\n",
      "Epoch 17/100\n",
      "13/13 [==============================] - 3s 253ms/step - loss: 0.5576 - accuracy: 0.7345 - val_loss: 0.5768 - val_accuracy: 0.7068\n",
      "Epoch 18/100\n",
      "13/13 [==============================] - 4s 281ms/step - loss: 0.5475 - accuracy: 0.7521 - val_loss: 0.5955 - val_accuracy: 0.6756\n",
      "Epoch 19/100\n",
      "13/13 [==============================] - 4s 336ms/step - loss: 0.5499 - accuracy: 0.7454 - val_loss: 0.5762 - val_accuracy: 0.7054\n",
      "Epoch 20/100\n",
      "13/13 [==============================] - 4s 337ms/step - loss: 0.5419 - accuracy: 0.7594 - val_loss: 0.5741 - val_accuracy: 0.7096\n",
      "Epoch 21/100\n",
      "13/13 [==============================] - 4s 297ms/step - loss: 0.5373 - accuracy: 0.7606 - val_loss: 0.5771 - val_accuracy: 0.7054\n",
      "Epoch 22/100\n",
      "13/13 [==============================] - 4s 342ms/step - loss: 0.5341 - accuracy: 0.7625 - val_loss: 0.5719 - val_accuracy: 0.7110\n",
      "Epoch 23/100\n",
      "13/13 [==============================] - 4s 345ms/step - loss: 0.5313 - accuracy: 0.7649 - val_loss: 0.5761 - val_accuracy: 0.7068\n",
      "Epoch 24/100\n",
      "13/13 [==============================] - 4s 278ms/step - loss: 0.5277 - accuracy: 0.7697 - val_loss: 0.5727 - val_accuracy: 0.7054\n",
      "Epoch 25/100\n",
      "13/13 [==============================] - 4s 279ms/step - loss: 0.5269 - accuracy: 0.7801 - val_loss: 0.5681 - val_accuracy: 0.7110\n",
      "Epoch 26/100\n",
      "13/13 [==============================] - 4s 270ms/step - loss: 0.5237 - accuracy: 0.7734 - val_loss: 0.5749 - val_accuracy: 0.7054\n",
      "Epoch 27/100\n",
      "13/13 [==============================] - 3s 269ms/step - loss: 0.5199 - accuracy: 0.7746 - val_loss: 0.5693 - val_accuracy: 0.7153\n",
      "Epoch 28/100\n",
      "13/13 [==============================] - 4s 273ms/step - loss: 0.5192 - accuracy: 0.7807 - val_loss: 0.5666 - val_accuracy: 0.7110\n",
      "Epoch 29/100\n",
      "13/13 [==============================] - 3s 256ms/step - loss: 0.5144 - accuracy: 0.7837 - val_loss: 0.5627 - val_accuracy: 0.7125\n",
      "Epoch 30/100\n",
      "13/13 [==============================] - 3s 253ms/step - loss: 0.5116 - accuracy: 0.7807 - val_loss: 0.5690 - val_accuracy: 0.7153\n",
      "Epoch 31/100\n",
      "13/13 [==============================] - 3s 259ms/step - loss: 0.5089 - accuracy: 0.7789 - val_loss: 0.5746 - val_accuracy: 0.7025\n",
      "Epoch 32/100\n",
      "13/13 [==============================] - 3s 253ms/step - loss: 0.5080 - accuracy: 0.7837 - val_loss: 0.5728 - val_accuracy: 0.6997\n",
      "Epoch 33/100\n",
      "13/13 [==============================] - 3s 255ms/step - loss: 0.5041 - accuracy: 0.7874 - val_loss: 0.5640 - val_accuracy: 0.7195\n",
      "Epoch 34/100\n",
      "13/13 [==============================] - 3s 257ms/step - loss: 0.4997 - accuracy: 0.7898 - val_loss: 0.5667 - val_accuracy: 0.7153\n",
      "Epoch 35/100\n",
      "13/13 [==============================] - 3s 260ms/step - loss: 0.4957 - accuracy: 0.7971 - val_loss: 0.5658 - val_accuracy: 0.7110\n",
      "Epoch 36/100\n",
      "13/13 [==============================] - 4s 270ms/step - loss: 0.4926 - accuracy: 0.8013 - val_loss: 0.5711 - val_accuracy: 0.7068\n",
      "Epoch 37/100\n",
      "13/13 [==============================] - 3s 258ms/step - loss: 0.4912 - accuracy: 0.7940 - val_loss: 0.5600 - val_accuracy: 0.7139\n",
      "Epoch 38/100\n",
      "13/13 [==============================] - 3s 258ms/step - loss: 0.4874 - accuracy: 0.8013 - val_loss: 0.5620 - val_accuracy: 0.7195\n",
      "Epoch 39/100\n",
      "13/13 [==============================] - 3s 256ms/step - loss: 0.4835 - accuracy: 0.8074 - val_loss: 0.5642 - val_accuracy: 0.7139\n",
      "Epoch 40/100\n",
      "13/13 [==============================] - 3s 262ms/step - loss: 0.4828 - accuracy: 0.7971 - val_loss: 0.5599 - val_accuracy: 0.7195\n",
      "Epoch 41/100\n",
      "13/13 [==============================] - 4s 316ms/step - loss: 0.4823 - accuracy: 0.8007 - val_loss: 0.5673 - val_accuracy: 0.7125\n",
      "Epoch 42/100\n",
      "13/13 [==============================] - 4s 287ms/step - loss: 0.4770 - accuracy: 0.8056 - val_loss: 0.5612 - val_accuracy: 0.7210\n",
      "Epoch 43/100\n",
      "13/13 [==============================] - 3s 266ms/step - loss: 0.4716 - accuracy: 0.8159 - val_loss: 0.5516 - val_accuracy: 0.7110\n",
      "Epoch 44/100\n",
      "13/13 [==============================] - 3s 264ms/step - loss: 0.4692 - accuracy: 0.8117 - val_loss: 0.5610 - val_accuracy: 0.7181\n",
      "Epoch 45/100\n",
      "13/13 [==============================] - 3s 258ms/step - loss: 0.4674 - accuracy: 0.8250 - val_loss: 0.5613 - val_accuracy: 0.7167\n",
      "Epoch 46/100\n",
      "13/13 [==============================] - 4s 283ms/step - loss: 0.4679 - accuracy: 0.8183 - val_loss: 0.5730 - val_accuracy: 0.7040\n",
      "Epoch 47/100\n",
      "13/13 [==============================] - 3s 263ms/step - loss: 0.4639 - accuracy: 0.8171 - val_loss: 0.5623 - val_accuracy: 0.7110\n",
      "Epoch 48/100\n",
      "13/13 [==============================] - 4s 270ms/step - loss: 0.4577 - accuracy: 0.8244 - val_loss: 0.5552 - val_accuracy: 0.7224\n",
      "Epoch 49/100\n",
      "13/13 [==============================] - 4s 286ms/step - loss: 0.4565 - accuracy: 0.8214 - val_loss: 0.5472 - val_accuracy: 0.7139\n",
      "Epoch 50/100\n",
      "13/13 [==============================] - 4s 318ms/step - loss: 0.4544 - accuracy: 0.8293 - val_loss: 0.5545 - val_accuracy: 0.7195\n",
      "Epoch 51/100\n",
      "13/13 [==============================] - 4s 298ms/step - loss: 0.4487 - accuracy: 0.8360 - val_loss: 0.5699 - val_accuracy: 0.7025\n",
      "Epoch 52/100\n",
      "13/13 [==============================] - 4s 341ms/step - loss: 0.4468 - accuracy: 0.8378 - val_loss: 0.5599 - val_accuracy: 0.7110\n",
      "Epoch 53/100\n",
      "13/13 [==============================] - 4s 273ms/step - loss: 0.4475 - accuracy: 0.8305 - val_loss: 0.5750 - val_accuracy: 0.7025\n",
      "Epoch 54/100\n",
      "13/13 [==============================] - 4s 289ms/step - loss: 0.4447 - accuracy: 0.8299 - val_loss: 0.5470 - val_accuracy: 0.7224\n",
      "Epoch 55/100\n",
      "13/13 [==============================] - 3s 266ms/step - loss: 0.4423 - accuracy: 0.8348 - val_loss: 0.5434 - val_accuracy: 0.7139\n",
      "Epoch 56/100\n",
      "13/13 [==============================] - 3s 264ms/step - loss: 0.4362 - accuracy: 0.8372 - val_loss: 0.5427 - val_accuracy: 0.7110\n",
      "Epoch 57/100\n",
      "13/13 [==============================] - 3s 255ms/step - loss: 0.4319 - accuracy: 0.8493 - val_loss: 0.5468 - val_accuracy: 0.7309\n"
     ]
    },
    {
     "name": "stdout",
     "output_type": "stream",
     "text": [
      "Epoch 58/100\n",
      "13/13 [==============================] - 3s 266ms/step - loss: 0.4288 - accuracy: 0.8499 - val_loss: 0.5471 - val_accuracy: 0.7280\n",
      "Epoch 59/100\n",
      "13/13 [==============================] - 4s 272ms/step - loss: 0.4286 - accuracy: 0.8481 - val_loss: 0.5414 - val_accuracy: 0.7125\n",
      "Epoch 60/100\n",
      "13/13 [==============================] - 3s 263ms/step - loss: 0.4236 - accuracy: 0.8542 - val_loss: 0.5590 - val_accuracy: 0.7068\n",
      "Epoch 61/100\n",
      "13/13 [==============================] - 3s 255ms/step - loss: 0.4200 - accuracy: 0.8554 - val_loss: 0.5401 - val_accuracy: 0.7252\n",
      "Epoch 62/100\n",
      "13/13 [==============================] - 3s 260ms/step - loss: 0.4231 - accuracy: 0.8542 - val_loss: 0.5392 - val_accuracy: 0.7139\n",
      "Epoch 63/100\n",
      "13/13 [==============================] - 3s 256ms/step - loss: 0.4205 - accuracy: 0.8505 - val_loss: 0.5383 - val_accuracy: 0.7210\n",
      "Epoch 64/100\n",
      "13/13 [==============================] - 3s 251ms/step - loss: 0.4178 - accuracy: 0.8499 - val_loss: 0.5426 - val_accuracy: 0.7295\n",
      "Epoch 65/100\n",
      "13/13 [==============================] - 3s 251ms/step - loss: 0.4147 - accuracy: 0.8536 - val_loss: 0.5583 - val_accuracy: 0.7125\n",
      "Epoch 66/100\n",
      "13/13 [==============================] - 3s 254ms/step - loss: 0.4081 - accuracy: 0.8572 - val_loss: 0.5610 - val_accuracy: 0.7110\n",
      "Epoch 67/100\n",
      "13/13 [==============================] - 3s 255ms/step - loss: 0.4054 - accuracy: 0.8609 - val_loss: 0.5542 - val_accuracy: 0.7153\n",
      "Epoch 68/100\n",
      "13/13 [==============================] - 4s 305ms/step - loss: 0.4030 - accuracy: 0.8645 - val_loss: 0.5356 - val_accuracy: 0.7238\n",
      "Epoch 69/100\n",
      "13/13 [==============================] - 4s 291ms/step - loss: 0.3989 - accuracy: 0.8663 - val_loss: 0.5406 - val_accuracy: 0.7238\n",
      "Epoch 70/100\n",
      "13/13 [==============================] - 4s 278ms/step - loss: 0.3957 - accuracy: 0.8761 - val_loss: 0.5403 - val_accuracy: 0.7266\n",
      "Epoch 71/100\n",
      "13/13 [==============================] - 4s 279ms/step - loss: 0.3929 - accuracy: 0.8761 - val_loss: 0.5385 - val_accuracy: 0.7224\n",
      "Epoch 72/100\n",
      "13/13 [==============================] - 4s 281ms/step - loss: 0.3899 - accuracy: 0.8742 - val_loss: 0.5480 - val_accuracy: 0.7139\n",
      "Epoch 73/100\n",
      "13/13 [==============================] - 4s 278ms/step - loss: 0.3877 - accuracy: 0.8773 - val_loss: 0.5373 - val_accuracy: 0.7252\n",
      "Epoch 74/100\n",
      "13/13 [==============================] - 4s 274ms/step - loss: 0.3854 - accuracy: 0.8761 - val_loss: 0.5469 - val_accuracy: 0.7181\n",
      "Epoch 75/100\n",
      "13/13 [==============================] - 4s 274ms/step - loss: 0.3831 - accuracy: 0.8827 - val_loss: 0.5318 - val_accuracy: 0.7323\n",
      "Epoch 76/100\n",
      "13/13 [==============================] - 3s 269ms/step - loss: 0.3800 - accuracy: 0.8846 - val_loss: 0.5390 - val_accuracy: 0.7280\n",
      "Epoch 77/100\n",
      "13/13 [==============================] - 4s 276ms/step - loss: 0.3758 - accuracy: 0.8906 - val_loss: 0.5414 - val_accuracy: 0.7210\n",
      "Epoch 78/100\n",
      "13/13 [==============================] - 3s 268ms/step - loss: 0.3740 - accuracy: 0.8882 - val_loss: 0.5305 - val_accuracy: 0.7351\n",
      "Epoch 79/100\n",
      "13/13 [==============================] - 4s 270ms/step - loss: 0.3719 - accuracy: 0.8840 - val_loss: 0.5342 - val_accuracy: 0.7280\n",
      "Epoch 80/100\n",
      "13/13 [==============================] - 4s 274ms/step - loss: 0.3678 - accuracy: 0.8943 - val_loss: 0.5319 - val_accuracy: 0.7309\n",
      "Epoch 81/100\n",
      "13/13 [==============================] - 4s 280ms/step - loss: 0.3660 - accuracy: 0.8919 - val_loss: 0.5382 - val_accuracy: 0.7224\n",
      "Epoch 82/100\n",
      "13/13 [==============================] - 4s 272ms/step - loss: 0.3616 - accuracy: 0.8973 - val_loss: 0.5296 - val_accuracy: 0.7323\n",
      "Epoch 83/100\n",
      "13/13 [==============================] - 4s 273ms/step - loss: 0.3615 - accuracy: 0.8937 - val_loss: 0.5332 - val_accuracy: 0.7252\n",
      "Epoch 84/100\n",
      "13/13 [==============================] - 4s 275ms/step - loss: 0.3554 - accuracy: 0.8973 - val_loss: 0.5286 - val_accuracy: 0.7365\n",
      "Epoch 85/100\n",
      "13/13 [==============================] - 4s 289ms/step - loss: 0.3578 - accuracy: 0.8973 - val_loss: 0.5654 - val_accuracy: 0.7153\n",
      "Epoch 86/100\n",
      "13/13 [==============================] - 4s 270ms/step - loss: 0.3537 - accuracy: 0.8955 - val_loss: 0.5279 - val_accuracy: 0.7365\n",
      "Epoch 87/100\n",
      "13/13 [==============================] - 4s 275ms/step - loss: 0.3546 - accuracy: 0.8949 - val_loss: 0.5312 - val_accuracy: 0.7323\n",
      "Epoch 88/100\n",
      "13/13 [==============================] - 4s 280ms/step - loss: 0.3465 - accuracy: 0.9010 - val_loss: 0.5346 - val_accuracy: 0.7195\n",
      "Epoch 89/100\n",
      "13/13 [==============================] - 4s 271ms/step - loss: 0.3428 - accuracy: 0.9040 - val_loss: 0.5414 - val_accuracy: 0.7224\n",
      "Epoch 90/100\n",
      "13/13 [==============================] - 3s 268ms/step - loss: 0.3411 - accuracy: 0.9101 - val_loss: 0.5499 - val_accuracy: 0.7224\n",
      "Epoch 91/100\n",
      "13/13 [==============================] - 3s 266ms/step - loss: 0.3431 - accuracy: 0.9064 - val_loss: 0.5267 - val_accuracy: 0.7380\n",
      "Epoch 92/100\n",
      "13/13 [==============================] - 3s 268ms/step - loss: 0.3351 - accuracy: 0.9095 - val_loss: 0.5432 - val_accuracy: 0.7181\n",
      "Epoch 93/100\n",
      "13/13 [==============================] - 4s 270ms/step - loss: 0.3333 - accuracy: 0.9101 - val_loss: 0.5299 - val_accuracy: 0.7323\n",
      "Epoch 94/100\n",
      "13/13 [==============================] - 3s 269ms/step - loss: 0.3298 - accuracy: 0.9083 - val_loss: 0.5294 - val_accuracy: 0.7323\n",
      "Epoch 95/100\n",
      "13/13 [==============================] - 3s 267ms/step - loss: 0.3263 - accuracy: 0.9119 - val_loss: 0.5361 - val_accuracy: 0.7210\n",
      "Epoch 96/100\n",
      "13/13 [==============================] - 4s 289ms/step - loss: 0.3254 - accuracy: 0.9137 - val_loss: 0.5263 - val_accuracy: 0.7408\n",
      "Epoch 97/100\n",
      "13/13 [==============================] - 4s 272ms/step - loss: 0.3239 - accuracy: 0.9095 - val_loss: 0.5377 - val_accuracy: 0.7181\n",
      "Epoch 98/100\n",
      "13/13 [==============================] - 3s 269ms/step - loss: 0.3192 - accuracy: 0.9162 - val_loss: 0.5259 - val_accuracy: 0.7408\n",
      "Epoch 99/100\n",
      "13/13 [==============================] - 4s 290ms/step - loss: 0.3194 - accuracy: 0.9156 - val_loss: 0.5232 - val_accuracy: 0.7436\n",
      "Epoch 100/100\n",
      "13/13 [==============================] - 3s 257ms/step - loss: 0.3174 - accuracy: 0.9137 - val_loss: 0.5483 - val_accuracy: 0.7266\n"
     ]
    }
   ],
   "source": [
    "# training the model for 100 epochs\n",
    "\n",
    "model_history = model.fit(X_train, y_train, epochs=100, batch_size=128,validation_data=(X_valid,y_valid))"
   ]
  },
  {
   "cell_type": "markdown",
   "metadata": {
    "colab_type": "text",
    "id": "4nItUUcYtYiw"
   },
   "source": [
    "## 7. Evaluating model performance "
   ]
  },
  {
   "cell_type": "code",
   "execution_count": 13,
   "metadata": {
    "colab": {
     "base_uri": "https://localhost:8080/",
     "height": 34
    },
    "colab_type": "code",
    "executionInfo": {
     "elapsed": 1457,
     "status": "ok",
     "timestamp": 1585148572864,
     "user": {
      "displayName": "Aishwarya Singh",
      "photoUrl": "https://lh3.googleusercontent.com/a-/AOh14GgeJwfn4BdBDCAplWi_kdtB9FRssOpXO7T_aMgg=s64",
      "userId": "01105858832371513140"
     },
     "user_tz": -330
    },
    "id": "Wbfb8_MWuHB4",
    "outputId": "28b1a668-8ced-4555-e902-45ec533e976f"
   },
   "outputs": [
    {
     "name": "stdout",
     "output_type": "stream",
     "text": [
      "WARNING:tensorflow:From C:\\Users\\dagarwal\\AppData\\Local\\Temp\\ipykernel_4952\\3047272808.py:2: Sequential.predict_classes (from tensorflow.python.keras.engine.sequential) is deprecated and will be removed after 2021-01-01.\n",
      "Instructions for updating:\n",
      "Please use instead:* `np.argmax(model.predict(x), axis=-1)`,   if your model does multi-class classification   (e.g. if it uses a `softmax` last-layer activation).* `(model.predict(x) > 0.5).astype(\"int32\")`,   if your model does binary classification   (e.g. if it uses a `sigmoid` last-layer activation).\n",
      "Accuracy on validation set: 0.726628895184136\n"
     ]
    }
   ],
   "source": [
    "# accuracy on validation set\n",
    "print('Accuracy on validation set:', accuracy_score(y_valid, model.predict_classes(X_valid)[:, 0]))"
   ]
  },
  {
   "cell_type": "code",
   "execution_count": 14,
   "metadata": {
    "colab": {
     "base_uri": "https://localhost:8080/",
     "height": 295
    },
    "colab_type": "code",
    "executionInfo": {
     "elapsed": 1404,
     "status": "ok",
     "timestamp": 1585148578739,
     "user": {
      "displayName": "Aishwarya Singh",
      "photoUrl": "https://lh3.googleusercontent.com/a-/AOh14GgeJwfn4BdBDCAplWi_kdtB9FRssOpXO7T_aMgg=s64",
      "userId": "01105858832371513140"
     },
     "user_tz": -330
    },
    "id": "UDXYXYMox5Ih",
    "outputId": "b2dccf5c-c00a-4da4-b3bd-eb2e6bc79128"
   },
   "outputs": [
    {
     "data": {
      "image/png": "[encoded data removed]",
      "text/plain": [
       "<Figure size 432x288 with 1 Axes>"
      ]
     },
     "metadata": {
      "needs_background": "light"
     },
     "output_type": "display_data"
    }
   ],
   "source": [
    "# summarize history for loss\n",
    "plt.plot(model_history.history['loss'])\n",
    "plt.plot(model_history.history['val_loss'])\n",
    "plt.title('model loss')\n",
    "plt.ylabel('loss')\n",
    "plt.xlabel('epoch')\n",
    "plt.legend(['train', 'validation'], loc='upper right')\n",
    "plt.show()"
   ]
  },
  {
   "cell_type": "code",
   "execution_count": null,
   "metadata": {
    "colab": {},
    "colab_type": "code",
    "id": "m7GCbX6IN8QM"
   },
   "outputs": [],
   "source": []
  }
 ],
 "metadata": {
  "accelerator": "GPU",
  "colab": {
   "collapsed_sections": [],
   "name": "Gradient Clipping in Keras.ipynb",
   "provenance": []
  },
  "kernelspec": {
   "display_name": "Python 3 (ipykernel)",
   "language": "python",
   "name": "python3"
  },
  "language_info": {
   "codemirror_mode": {
    "name": "ipython",
    "version": 3
   },
   "file_extension": ".py",
   "mimetype": "text/x-python",
   "name": "python",
   "nbconvert_exporter": "python",
   "pygments_lexer": "ipython3",
   "version": "3.7.13"
  }
 },
 "nbformat": 4,
 "nbformat_minor": 1
}
