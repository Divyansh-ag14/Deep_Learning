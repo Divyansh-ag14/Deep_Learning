{
 "cells": [
  {
   "cell_type": "markdown",
   "metadata": {
    "colab_type": "text",
    "id": "xR7hbyyfuG9N"
   },
   "source": [
    "# Steps to solve Emergency vs Non-Emergency vehicle classification problem using Early Stopping\n",
    "\n",
    "<ol>1. Loading the dataset</ol>\n",
    "<ol>2. Pre-processing the data</ol>\n",
    "<ol>3. Creating training and validation set</ol>\n",
    "<ol>4. Defining the model architecture</ol>\n",
    "<ol>5. Compiling the model</ol>\n",
    "<ol>6. Setting up Early Stopping</ol>\n",
    "<ol>7. Training the model using Early Stopping</ol>\n",
    "<ol>8. Evaluating model performance</ol>"
   ]
  },
  {
   "cell_type": "markdown",
   "metadata": {
    "colab_type": "text",
    "id": "xq6rlm_puG9U"
   },
   "source": [
    "## 1. Loading the dataset"
   ]
  },
  {
   "cell_type": "code",
   "execution_count": 1,
   "metadata": {
    "colab": {
     "base_uri": "https://localhost:8080/",
     "height": 81
    },
    "colab_type": "code",
    "executionInfo": {
     "elapsed": 2932,
     "status": "ok",
     "timestamp": 1584959102044,
     "user": {
      "displayName": "Aishwarya Singh",
      "photoUrl": "https://lh3.googleusercontent.com/a-/AOh14GgeJwfn4BdBDCAplWi_kdtB9FRssOpXO7T_aMgg=s64",
      "userId": "01105858832371513140"
     },
     "user_tz": -330
    },
    "id": "XPYT-SDjuG9a",
    "outputId": "8cfa27db-aee5-482e-ea02-1c56ddbd1025",
    "scrolled": true
   },
   "outputs": [],
   "source": [
    "# import necessary libraries and functions\n",
    "import numpy as np\n",
    "import pandas as pd\n",
    "import matplotlib.pyplot as plt\n",
    "%matplotlib inline\n",
    "\n",
    "# importing layers from keras\n",
    "from keras.layers import Dense, InputLayer\n",
    "from keras.models import Sequential\n",
    "# importing adam optimizer from keras optimizer module \n",
    "from keras.optimizers import Adam\n",
    "\n",
    "# train_test_split to create training and validation set\n",
    "from sklearn.model_selection import train_test_split\n",
    "# accuracy_score to calculate the accuracy of predictions\n",
    "from sklearn.metrics import accuracy_score"
   ]
  },
  {
   "cell_type": "code",
   "execution_count": 2,
   "metadata": {
    "colab": {},
    "colab_type": "code",
    "id": "WZdipKFauG9t"
   },
   "outputs": [],
   "source": [
    "# reading the csv file\n",
    "data = pd.read_csv('Dataset/emergency_classification.csv')"
   ]
  },
  {
   "cell_type": "code",
   "execution_count": 3,
   "metadata": {
    "colab": {},
    "colab_type": "code",
    "id": "7pOqqh5GuG94"
   },
   "outputs": [],
   "source": [
    "# create random number generator\n",
    "seed = 42\n",
    "rng = np.random.RandomState(seed)"
   ]
  },
  {
   "cell_type": "code",
   "execution_count": 4,
   "metadata": {
    "colab": {
     "base_uri": "https://localhost:8080/",
     "height": 206
    },
    "colab_type": "code",
    "executionInfo": {
     "elapsed": 1751,
     "status": "ok",
     "timestamp": 1584959167356,
     "user": {
      "displayName": "Aishwarya Singh",
      "photoUrl": "https://lh3.googleusercontent.com/a-/AOh14GgeJwfn4BdBDCAplWi_kdtB9FRssOpXO7T_aMgg=s64",
      "userId": "01105858832371513140"
     },
     "user_tz": -330
    },
    "id": "_VeBsfEAuG-B",
    "outputId": "f7298bf7-a9fa-45e9-d2f9-c387001c3279",
    "scrolled": true
   },
   "outputs": [
    {
     "data": {
      "text/html": [
       "<div>\n",
       "<style scoped>\n",
       "    .dataframe tbody tr th:only-of-type {\n",
       "        vertical-align: middle;\n",
       "    }\n",
       "\n",
       "    .dataframe tbody tr th {\n",
       "        vertical-align: top;\n",
       "    }\n",
       "\n",
       "    .dataframe thead th {\n",
       "        text-align: right;\n",
       "    }\n",
       "</style>\n",
       "<table border=\"1\" class=\"dataframe\">\n",
       "  <thead>\n",
       "    <tr style=\"text-align: right;\">\n",
       "      <th></th>\n",
       "      <th>image_names</th>\n",
       "      <th>emergency_or_not</th>\n",
       "    </tr>\n",
       "  </thead>\n",
       "  <tbody>\n",
       "    <tr>\n",
       "      <th>0</th>\n",
       "      <td>0.jpg</td>\n",
       "      <td>1</td>\n",
       "    </tr>\n",
       "    <tr>\n",
       "      <th>1</th>\n",
       "      <td>1.jpg</td>\n",
       "      <td>1</td>\n",
       "    </tr>\n",
       "    <tr>\n",
       "      <th>2</th>\n",
       "      <td>2.jpg</td>\n",
       "      <td>1</td>\n",
       "    </tr>\n",
       "    <tr>\n",
       "      <th>3</th>\n",
       "      <td>3.jpg</td>\n",
       "      <td>1</td>\n",
       "    </tr>\n",
       "    <tr>\n",
       "      <th>4</th>\n",
       "      <td>4.jpg</td>\n",
       "      <td>1</td>\n",
       "    </tr>\n",
       "  </tbody>\n",
       "</table>\n",
       "</div>"
      ],
      "text/plain": [
       "  image_names  emergency_or_not\n",
       "0       0.jpg                 1\n",
       "1       1.jpg                 1\n",
       "2       2.jpg                 1\n",
       "3       3.jpg                 1\n",
       "4       4.jpg                 1"
      ]
     },
     "execution_count": 4,
     "metadata": {},
     "output_type": "execute_result"
    }
   ],
   "source": [
    "# looking at first five rows of the data\n",
    "data.head()"
   ]
  },
  {
   "cell_type": "code",
   "execution_count": 5,
   "metadata": {
    "colab": {},
    "colab_type": "code",
    "id": "AMZyTsx3uG-W"
   },
   "outputs": [],
   "source": [
    "# load images and store it in numpy array\n",
    "\n",
    "# empty list to store the images\n",
    "X = []\n",
    "# iterating over each image\n",
    "for img_name in data.image_names:\n",
    "    # loading the image using its name\n",
    "    img = plt.imread('Dataset/images/' + img_name)\n",
    "    # saving each image in the list\n",
    "    X.append(img)\n",
    "    \n",
    "# converting the list of images into array\n",
    "X=np.array(X)\n",
    "\n",
    "# storing the target variable in separate variable\n",
    "y = data.emergency_or_not.values"
   ]
  },
  {
   "cell_type": "code",
   "execution_count": 6,
   "metadata": {
    "colab": {
     "base_uri": "https://localhost:8080/",
     "height": 34
    },
    "colab_type": "code",
    "executionInfo": {
     "elapsed": 4839,
     "status": "ok",
     "timestamp": 1584959170835,
     "user": {
      "displayName": "Aishwarya Singh",
      "photoUrl": "https://lh3.googleusercontent.com/a-/AOh14GgeJwfn4BdBDCAplWi_kdtB9FRssOpXO7T_aMgg=s64",
      "userId": "01105858832371513140"
     },
     "user_tz": -330
    },
    "id": "csN5M_hzuG-d",
    "outputId": "6bde5bf1-9bd0-4aa0-b846-ea32de4d8de4"
   },
   "outputs": [
    {
     "data": {
      "text/plain": [
       "(2352, 224, 224, 3)"
      ]
     },
     "execution_count": 6,
     "metadata": {},
     "output_type": "execute_result"
    }
   ],
   "source": [
    "# shape of the images\n",
    "X.shape"
   ]
  },
  {
   "cell_type": "markdown",
   "metadata": {
    "colab_type": "text",
    "id": "IYNJtBXLuG-x"
   },
   "source": [
    "## 2. Pre-processing the data"
   ]
  },
  {
   "cell_type": "code",
   "execution_count": 7,
   "metadata": {
    "colab": {
     "base_uri": "https://localhost:8080/",
     "height": 34
    },
    "colab_type": "code",
    "executionInfo": {
     "elapsed": 4425,
     "status": "ok",
     "timestamp": 1584959170835,
     "user": {
      "displayName": "Aishwarya Singh",
      "photoUrl": "https://lh3.googleusercontent.com/a-/AOh14GgeJwfn4BdBDCAplWi_kdtB9FRssOpXO7T_aMgg=s64",
      "userId": "01105858832371513140"
     },
     "user_tz": -330
    },
    "id": "JsEZNNE_uG-2",
    "outputId": "b9cb7e71-cc13-4730-a8d5-b7e6b6186b1e",
    "scrolled": true
   },
   "outputs": [
    {
     "data": {
      "text/plain": [
       "(2352, 150528)"
      ]
     },
     "execution_count": 7,
     "metadata": {},
     "output_type": "execute_result"
    }
   ],
   "source": [
    "# converting 3 dimensional image to 1 dimensional image\n",
    "X = X.reshape(X.shape[0], 224*224*3)\n",
    "X.shape"
   ]
  },
  {
   "cell_type": "code",
   "execution_count": 8,
   "metadata": {
    "colab": {
     "base_uri": "https://localhost:8080/",
     "height": 34
    },
    "colab_type": "code",
    "executionInfo": {
     "elapsed": 3952,
     "status": "ok",
     "timestamp": 1584959170837,
     "user": {
      "displayName": "Aishwarya Singh",
      "photoUrl": "https://lh3.googleusercontent.com/a-/AOh14GgeJwfn4BdBDCAplWi_kdtB9FRssOpXO7T_aMgg=s64",
      "userId": "01105858832371513140"
     },
     "user_tz": -330
    },
    "id": "9y8rfKEguG-_",
    "outputId": "4511b56d-6413-45d5-cba7-d8c2c5029c6f"
   },
   "outputs": [
    {
     "data": {
      "text/plain": [
       "(0, 255)"
      ]
     },
     "execution_count": 8,
     "metadata": {},
     "output_type": "execute_result"
    }
   ],
   "source": [
    "# minimum and maximum pixel values of images\n",
    "X.min(), X.max()"
   ]
  },
  {
   "cell_type": "code",
   "execution_count": 9,
   "metadata": {
    "colab": {},
    "colab_type": "code",
    "id": "wI3hNx3uuG_L"
   },
   "outputs": [],
   "source": [
    "# normalizing the pixel values\n",
    "X = X / X.max()"
   ]
  },
  {
   "cell_type": "code",
   "execution_count": 10,
   "metadata": {
    "colab": {
     "base_uri": "https://localhost:8080/",
     "height": 34
    },
    "colab_type": "code",
    "executionInfo": {
     "elapsed": 5141,
     "status": "ok",
     "timestamp": 1584959172454,
     "user": {
      "displayName": "Aishwarya Singh",
      "photoUrl": "https://lh3.googleusercontent.com/a-/AOh14GgeJwfn4BdBDCAplWi_kdtB9FRssOpXO7T_aMgg=s64",
      "userId": "01105858832371513140"
     },
     "user_tz": -330
    },
    "id": "tghVTsVluG_S",
    "outputId": "f640dfcb-ef21-4e2f-a3a7-832b89ead221"
   },
   "outputs": [
    {
     "data": {
      "text/plain": [
       "(0.0, 1.0)"
      ]
     },
     "execution_count": 10,
     "metadata": {},
     "output_type": "execute_result"
    }
   ],
   "source": [
    "# minimum and maximum pixel values of images after normalizing\n",
    "X.min(), X.max()"
   ]
  },
  {
   "cell_type": "markdown",
   "metadata": {
    "colab_type": "text",
    "id": "Scbo48PLuG_b"
   },
   "source": [
    "## 3. Creating training and validation set"
   ]
  },
  {
   "cell_type": "code",
   "execution_count": 11,
   "metadata": {
    "colab": {},
    "colab_type": "code",
    "id": "-UmSQzb1uG_d"
   },
   "outputs": [],
   "source": [
    "# creating a training and validation set\n",
    "X_train, X_valid, y_train, y_valid=train_test_split(X,y,test_size=0.3, random_state=seed)"
   ]
  },
  {
   "cell_type": "code",
   "execution_count": 12,
   "metadata": {
    "colab": {
     "base_uri": "https://localhost:8080/",
     "height": 34
    },
    "colab_type": "code",
    "executionInfo": {
     "elapsed": 2862,
     "status": "ok",
     "timestamp": 1584959176803,
     "user": {
      "displayName": "Aishwarya Singh",
      "photoUrl": "https://lh3.googleusercontent.com/a-/AOh14GgeJwfn4BdBDCAplWi_kdtB9FRssOpXO7T_aMgg=s64",
      "userId": "01105858832371513140"
     },
     "user_tz": -330
    },
    "id": "xTC-FgDjuG_k",
    "outputId": "08286fd8-edbd-4d08-9812-00538710ea41"
   },
   "outputs": [
    {
     "data": {
      "text/plain": [
       "(((1646, 150528), (1646,)), ((706, 150528), (706,)))"
      ]
     },
     "execution_count": 12,
     "metadata": {},
     "output_type": "execute_result"
    }
   ],
   "source": [
    "# shape of training and validation set\n",
    "(X_train.shape, y_train.shape), (X_valid.shape, y_valid.shape)"
   ]
  },
  {
   "cell_type": "markdown",
   "metadata": {
    "colab_type": "text",
    "id": "vskdq-4huG_r"
   },
   "source": [
    "## 4. Defining the model architecture"
   ]
  },
  {
   "cell_type": "code",
   "execution_count": 13,
   "metadata": {
    "colab": {
     "base_uri": "https://localhost:8080/",
     "height": 245
    },
    "colab_type": "code",
    "executionInfo": {
     "elapsed": 1689,
     "status": "ok",
     "timestamp": 1584959325381,
     "user": {
      "displayName": "Aishwarya Singh",
      "photoUrl": "https://lh3.googleusercontent.com/a-/AOh14GgeJwfn4BdBDCAplWi_kdtB9FRssOpXO7T_aMgg=s64",
      "userId": "01105858832371513140"
     },
     "user_tz": -330
    },
    "id": "tLqmJg8PuHBs",
    "outputId": "1440a52c-d51e-4f77-aaa9-dfc5db24cdf1"
   },
   "outputs": [],
   "source": [
    "# defining the model architecture\n",
    "model=Sequential()\n",
    "\n",
    "model.add(InputLayer(input_shape=(224*224*3,)))\n",
    "model.add(Dense(100, activation='sigmoid'))\n",
    "model.add(Dense(100, activation='sigmoid'))\n",
    "model.add(Dense(units=1, activation='sigmoid'))"
   ]
  },
  {
   "cell_type": "markdown",
   "metadata": {
    "colab_type": "text",
    "id": "FS__sDNVrjOs"
   },
   "source": [
    "## 5. Compiling the model"
   ]
  },
  {
   "cell_type": "code",
   "execution_count": 14,
   "metadata": {
    "colab": {},
    "colab_type": "code",
    "id": "BGovpAw_uHBp"
   },
   "outputs": [],
   "source": [
    "# defining the adam optimizer and setting the learning rate as 10^-5\n",
    "adam = Adam(lr=1e-5)"
   ]
  },
  {
   "cell_type": "code",
   "execution_count": 15,
   "metadata": {
    "colab": {
     "base_uri": "https://localhost:8080/",
     "height": 176
    },
    "colab_type": "code",
    "executionInfo": {
     "elapsed": 1767,
     "status": "ok",
     "timestamp": 1584959355614,
     "user": {
      "displayName": "Aishwarya Singh",
      "photoUrl": "https://lh3.googleusercontent.com/a-/AOh14GgeJwfn4BdBDCAplWi_kdtB9FRssOpXO7T_aMgg=s64",
      "userId": "01105858832371513140"
     },
     "user_tz": -330
    },
    "id": "pcEUdq_Tri5x",
    "outputId": "7938b56e-048d-4266-9d95-92d055df3fb3"
   },
   "outputs": [],
   "source": [
    "# compiling the model\n",
    "\n",
    "# defining loss as binary crossentropy\n",
    "# defining optimizer as Adam\n",
    "# defining metrics as accuracy\n",
    "\n",
    "model.compile(loss='binary_crossentropy', optimizer=adam, metrics=['accuracy'])"
   ]
  },
  {
   "cell_type": "markdown",
   "metadata": {
    "colab_type": "text",
    "id": "dNT1QYzYrniN"
   },
   "source": [
    "## 6. Setting up Early Stopping"
   ]
  },
  {
   "cell_type": "code",
   "execution_count": 16,
   "metadata": {
    "colab": {},
    "colab_type": "code",
    "id": "2HbxD6to8MJT"
   },
   "outputs": [],
   "source": [
    "# importing module for early stopping\n",
    "from keras.callbacks import EarlyStopping"
   ]
  },
  {
   "cell_type": "code",
   "execution_count": 17,
   "metadata": {
    "colab": {},
    "colab_type": "code",
    "id": "40R7uxEzrXuY"
   },
   "outputs": [],
   "source": [
    "# setting up early stopping\n",
    "early_stopping = EarlyStopping(monitor='val_loss', min_delta=0.01, patience=5, mode='min')"
   ]
  },
  {
   "cell_type": "markdown",
   "metadata": {
    "colab_type": "text",
    "id": "UJ6D8X0JtD7f"
   },
   "source": [
    "## 7. Training the model using Early Stopping"
   ]
  },
  {
   "cell_type": "code",
   "execution_count": 18,
   "metadata": {
    "colab": {
     "base_uri": "https://localhost:8080/",
     "height": 1000
    },
    "colab_type": "code",
    "executionInfo": {
     "elapsed": 35376,
     "status": "ok",
     "timestamp": 1584959545747,
     "user": {
      "displayName": "Aishwarya Singh",
      "photoUrl": "https://lh3.googleusercontent.com/a-/AOh14GgeJwfn4BdBDCAplWi_kdtB9FRssOpXO7T_aMgg=s64",
      "userId": "01105858832371513140"
     },
     "user_tz": -330
    },
    "id": "KL7PHbMRuHBy",
    "outputId": "8b872d37-6cc8-4ecf-a3f0-4ebda55e4bb3",
    "scrolled": false
   },
   "outputs": [
    {
     "name": "stdout",
     "output_type": "stream",
     "text": [
      "Epoch 1/100\n",
      "13/13 [==============================] - 20s 2s/step - loss: 0.6707 - accuracy: 0.5978 - val_loss: 0.6583 - val_accuracy: 0.5666\n",
      "Epoch 2/100\n",
      "13/13 [==============================] - 5s 399ms/step - loss: 0.6440 - accuracy: 0.6197 - val_loss: 0.6386 - val_accuracy: 0.6374\n",
      "Epoch 3/100\n",
      "13/13 [==============================] - 5s 367ms/step - loss: 0.6275 - accuracy: 0.6543 - val_loss: 0.6249 - val_accuracy: 0.6771\n",
      "Epoch 4/100\n",
      "13/13 [==============================] - 5s 358ms/step - loss: 0.6171 - accuracy: 0.6744 - val_loss: 0.6202 - val_accuracy: 0.6629\n",
      "Epoch 5/100\n",
      "13/13 [==============================] - 5s 353ms/step - loss: 0.6068 - accuracy: 0.6859 - val_loss: 0.6128 - val_accuracy: 0.6686\n",
      "Epoch 6/100\n",
      "13/13 [==============================] - 5s 368ms/step - loss: 0.5991 - accuracy: 0.7084 - val_loss: 0.6053 - val_accuracy: 0.6785\n",
      "Epoch 7/100\n",
      "13/13 [==============================] - 5s 350ms/step - loss: 0.5923 - accuracy: 0.7163 - val_loss: 0.6000 - val_accuracy: 0.6799\n",
      "Epoch 8/100\n",
      "13/13 [==============================] - 5s 369ms/step - loss: 0.5873 - accuracy: 0.7236 - val_loss: 0.5999 - val_accuracy: 0.6785\n",
      "Epoch 9/100\n",
      "13/13 [==============================] - 5s 359ms/step - loss: 0.5809 - accuracy: 0.7224 - val_loss: 0.6108 - val_accuracy: 0.6671\n",
      "Epoch 10/100\n",
      "13/13 [==============================] - 4s 329ms/step - loss: 0.5799 - accuracy: 0.7296 - val_loss: 0.5899 - val_accuracy: 0.6912\n",
      "Epoch 11/100\n",
      "13/13 [==============================] - 4s 312ms/step - loss: 0.5786 - accuracy: 0.7211 - val_loss: 0.5867 - val_accuracy: 0.6898\n",
      "Epoch 12/100\n",
      "13/13 [==============================] - 4s 324ms/step - loss: 0.5709 - accuracy: 0.7230 - val_loss: 0.5845 - val_accuracy: 0.6926\n",
      "Epoch 13/100\n",
      "13/13 [==============================] - 4s 296ms/step - loss: 0.5630 - accuracy: 0.7454 - val_loss: 0.5846 - val_accuracy: 0.7040\n",
      "Epoch 14/100\n",
      "13/13 [==============================] - 4s 302ms/step - loss: 0.5587 - accuracy: 0.7467 - val_loss: 0.5898 - val_accuracy: 0.6898\n",
      "Epoch 15/100\n",
      "13/13 [==============================] - 5s 366ms/step - loss: 0.5540 - accuracy: 0.7552 - val_loss: 0.5792 - val_accuracy: 0.7096\n",
      "Epoch 16/100\n",
      "13/13 [==============================] - 5s 355ms/step - loss: 0.5521 - accuracy: 0.7533 - val_loss: 0.5791 - val_accuracy: 0.6997\n",
      "Epoch 17/100\n",
      "13/13 [==============================] - 5s 355ms/step - loss: 0.5484 - accuracy: 0.7576 - val_loss: 0.5775 - val_accuracy: 0.7040\n",
      "Epoch 18/100\n",
      "13/13 [==============================] - 5s 421ms/step - loss: 0.5441 - accuracy: 0.7594 - val_loss: 0.5794 - val_accuracy: 0.7040\n",
      "Epoch 19/100\n",
      "13/13 [==============================] - 4s 330ms/step - loss: 0.5405 - accuracy: 0.7570 - val_loss: 0.5741 - val_accuracy: 0.7068\n",
      "Epoch 20/100\n",
      "13/13 [==============================] - 5s 366ms/step - loss: 0.5378 - accuracy: 0.7612 - val_loss: 0.5715 - val_accuracy: 0.7082\n"
     ]
    }
   ],
   "source": [
    "# training the model for 100 epochs\n",
    "\n",
    "# defining the early stopping as callback using callbacks parameter of model.fit\n",
    "model_history = model.fit(X_train, y_train, epochs=100, batch_size=128,validation_data=(X_valid,y_valid), callbacks=[early_stopping])"
   ]
  },
  {
   "cell_type": "markdown",
   "metadata": {
    "colab_type": "text",
    "id": "4nItUUcYtYiw"
   },
   "source": [
    "## 8. Evaluating model performance "
   ]
  },
  {
   "cell_type": "code",
   "execution_count": 19,
   "metadata": {
    "colab": {
     "base_uri": "https://localhost:8080/",
     "height": 34
    },
    "colab_type": "code",
    "executionInfo": {
     "elapsed": 1700,
     "status": "ok",
     "timestamp": 1584959683231,
     "user": {
      "displayName": "Aishwarya Singh",
      "photoUrl": "https://lh3.googleusercontent.com/a-/AOh14GgeJwfn4BdBDCAplWi_kdtB9FRssOpXO7T_aMgg=s64",
      "userId": "01105858832371513140"
     },
     "user_tz": -330
    },
    "id": "Wbfb8_MWuHB4",
    "outputId": "a86578f3-1ce1-4ce3-e9d2-a3d4c59c7318"
   },
   "outputs": [
    {
     "name": "stdout",
     "output_type": "stream",
     "text": [
      "WARNING:tensorflow:From C:\\Users\\dagarwal\\AppData\\Local\\Temp\\ipykernel_19072\\3047272808.py:2: Sequential.predict_classes (from tensorflow.python.keras.engine.sequential) is deprecated and will be removed after 2021-01-01.\n",
      "Instructions for updating:\n",
      "Please use instead:* `np.argmax(model.predict(x), axis=-1)`,   if your model does multi-class classification   (e.g. if it uses a `softmax` last-layer activation).* `(model.predict(x) > 0.5).astype(\"int32\")`,   if your model does binary classification   (e.g. if it uses a `sigmoid` last-layer activation).\n",
      "Accuracy on validation set: 0.7082152974504249\n"
     ]
    }
   ],
   "source": [
    "# accuracy on validation set\n",
    "print('Accuracy on validation set:', accuracy_score(y_valid, model.predict_classes(X_valid)[:, 0]))"
   ]
  },
  {
   "cell_type": "code",
   "execution_count": 20,
   "metadata": {
    "colab": {
     "base_uri": "https://localhost:8080/",
     "height": 295
    },
    "colab_type": "code",
    "executionInfo": {
     "elapsed": 2001,
     "status": "ok",
     "timestamp": 1584959697276,
     "user": {
      "displayName": "Aishwarya Singh",
      "photoUrl": "https://lh3.googleusercontent.com/a-/AOh14GgeJwfn4BdBDCAplWi_kdtB9FRssOpXO7T_aMgg=s64",
      "userId": "01105858832371513140"
     },
     "user_tz": -330
    },
    "id": "UDXYXYMox5Ih",
    "outputId": "8e5d1992-ba35-45c2-9836-372039aa27c6"
   },
   "outputs": [
    {
     "data": {
      "image/png": "[encoded data removed]",
      "text/plain": [
       "<Figure size 432x288 with 1 Axes>"
      ]
     },
     "metadata": {
      "needs_background": "light"
     },
     "output_type": "display_data"
    }
   ],
   "source": [
    " # summarize history for loss\n",
    "plt.plot(model_history.history['loss'])\n",
    "plt.plot(model_history.history['val_loss'])\n",
    "plt.title('model loss')\n",
    "plt.ylabel('loss')\n",
    "plt.xlabel('epoch')\n",
    "plt.legend(['train', 'validation'], loc='upper right')\n",
    "plt.show()"
   ]
  },
  {
   "cell_type": "markdown",
   "metadata": {
    "colab_type": "text",
    "id": "EGuPq2tKxqBL"
   },
   "source": [
    "## Hyperparameter tuning for Early Stopping (Increasing the patience value)"
   ]
  },
  {
   "cell_type": "code",
   "execution_count": 21,
   "metadata": {
    "colab": {},
    "colab_type": "code",
    "id": "4b1osHTYxpR9"
   },
   "outputs": [],
   "source": [
    "# defining and compiling the model\n",
    "\n",
    "# defining the model architecture\n",
    "model=Sequential()\n",
    "\n",
    "model.add(InputLayer(input_shape=(224*224*3,)))\n",
    "model.add(Dense(100, activation='sigmoid'))\n",
    "model.add(Dense(100, activation='sigmoid'))\n",
    "model.add(Dense(units=1, activation='sigmoid'))\n",
    "\n",
    "# compiling the model\n",
    "model.compile(loss='binary_crossentropy', optimizer=adam, metrics=['accuracy'])"
   ]
  },
  {
   "cell_type": "code",
   "execution_count": 22,
   "metadata": {
    "colab": {},
    "colab_type": "code",
    "id": "n1PrhKuv_Dc_"
   },
   "outputs": [],
   "source": [
    "# increasing the patience and threshold value\n",
    "early_stopping = EarlyStopping(monitor='val_loss', min_delta=0.01, patience=10, mode='min')"
   ]
  },
  {
   "cell_type": "code",
   "execution_count": 23,
   "metadata": {
    "colab": {
     "base_uri": "https://localhost:8080/",
     "height": 1000
    },
    "colab_type": "code",
    "executionInfo": {
     "elapsed": 47060,
     "status": "ok",
     "timestamp": 1584959878023,
     "user": {
      "displayName": "Aishwarya Singh",
      "photoUrl": "https://lh3.googleusercontent.com/a-/AOh14GgeJwfn4BdBDCAplWi_kdtB9FRssOpXO7T_aMgg=s64",
      "userId": "01105858832371513140"
     },
     "user_tz": -330
    },
    "id": "lgnA0rM7yCXR",
    "outputId": "b62749a9-0133-4fb7-d2b9-58d144dd665d"
   },
   "outputs": [
    {
     "name": "stdout",
     "output_type": "stream",
     "text": [
      "Epoch 1/100\n",
      "13/13 [==============================] - 17s 1s/step - loss: 0.7038 - accuracy: 0.5680 - val_loss: 0.7156 - val_accuracy: 0.5609\n",
      "Epoch 2/100\n",
      "13/13 [==============================] - 6s 456ms/step - loss: 0.6906 - accuracy: 0.5863 - val_loss: 0.7024 - val_accuracy: 0.5609\n",
      "Epoch 3/100\n",
      "13/13 [==============================] - 4s 322ms/step - loss: 0.6840 - accuracy: 0.5863 - val_loss: 0.6949 - val_accuracy: 0.5609\n",
      "Epoch 4/100\n",
      "13/13 [==============================] - 5s 409ms/step - loss: 0.6811 - accuracy: 0.5863 - val_loss: 0.6926 - val_accuracy: 0.5609\n",
      "Epoch 5/100\n",
      "13/13 [==============================] - 6s 471ms/step - loss: 0.6799 - accuracy: 0.5863 - val_loss: 0.6909 - val_accuracy: 0.5609\n",
      "Epoch 6/100\n",
      "13/13 [==============================] - 5s 407ms/step - loss: 0.6782 - accuracy: 0.5863 - val_loss: 0.6878 - val_accuracy: 0.5609\n",
      "Epoch 7/100\n",
      "13/13 [==============================] - 5s 416ms/step - loss: 0.6770 - accuracy: 0.5863 - val_loss: 0.6866 - val_accuracy: 0.5609\n",
      "Epoch 8/100\n",
      "13/13 [==============================] - 5s 405ms/step - loss: 0.6757 - accuracy: 0.5863 - val_loss: 0.6849 - val_accuracy: 0.5609\n",
      "Epoch 9/100\n",
      "13/13 [==============================] - 5s 386ms/step - loss: 0.6747 - accuracy: 0.5863 - val_loss: 0.6840 - val_accuracy: 0.5609\n",
      "Epoch 10/100\n",
      "13/13 [==============================] - 5s 389ms/step - loss: 0.6741 - accuracy: 0.5863 - val_loss: 0.6833 - val_accuracy: 0.5609\n",
      "Epoch 11/100\n",
      "13/13 [==============================] - 5s 360ms/step - loss: 0.6733 - accuracy: 0.5863 - val_loss: 0.6821 - val_accuracy: 0.5609\n",
      "Epoch 12/100\n",
      "13/13 [==============================] - 5s 361ms/step - loss: 0.6718 - accuracy: 0.5863 - val_loss: 0.6797 - val_accuracy: 0.5609\n",
      "Epoch 13/100\n",
      "13/13 [==============================] - 5s 378ms/step - loss: 0.6698 - accuracy: 0.5863 - val_loss: 0.6790 - val_accuracy: 0.5609\n",
      "Epoch 14/100\n",
      "13/13 [==============================] - 5s 416ms/step - loss: 0.6684 - accuracy: 0.5863 - val_loss: 0.6760 - val_accuracy: 0.5609\n",
      "Epoch 15/100\n",
      "13/13 [==============================] - 6s 449ms/step - loss: 0.6655 - accuracy: 0.5863 - val_loss: 0.6746 - val_accuracy: 0.5609\n",
      "Epoch 16/100\n",
      "13/13 [==============================] - 5s 349ms/step - loss: 0.6636 - accuracy: 0.5863 - val_loss: 0.6730 - val_accuracy: 0.5609\n",
      "Epoch 17/100\n",
      "13/13 [==============================] - 5s 355ms/step - loss: 0.6622 - accuracy: 0.5863 - val_loss: 0.6716 - val_accuracy: 0.5609\n",
      "Epoch 18/100\n",
      "13/13 [==============================] - 5s 370ms/step - loss: 0.6608 - accuracy: 0.5863 - val_loss: 0.6710 - val_accuracy: 0.5609\n",
      "Epoch 19/100\n",
      "13/13 [==============================] - 5s 377ms/step - loss: 0.6595 - accuracy: 0.5863 - val_loss: 0.6695 - val_accuracy: 0.5609\n",
      "Epoch 20/100\n",
      "13/13 [==============================] - 5s 356ms/step - loss: 0.6587 - accuracy: 0.5863 - val_loss: 0.6680 - val_accuracy: 0.5609\n",
      "Epoch 21/100\n",
      "13/13 [==============================] - 4s 344ms/step - loss: 0.6561 - accuracy: 0.5863 - val_loss: 0.6665 - val_accuracy: 0.5609\n",
      "Epoch 22/100\n",
      "13/13 [==============================] - 4s 322ms/step - loss: 0.6540 - accuracy: 0.5863 - val_loss: 0.6667 - val_accuracy: 0.5609\n",
      "Epoch 23/100\n",
      "13/13 [==============================] - 5s 383ms/step - loss: 0.6525 - accuracy: 0.5863 - val_loss: 0.6637 - val_accuracy: 0.5609\n",
      "Epoch 24/100\n",
      "13/13 [==============================] - 4s 335ms/step - loss: 0.6510 - accuracy: 0.5863 - val_loss: 0.6626 - val_accuracy: 0.5609\n",
      "Epoch 25/100\n",
      "13/13 [==============================] - 4s 338ms/step - loss: 0.6498 - accuracy: 0.5863 - val_loss: 0.6627 - val_accuracy: 0.5609\n",
      "Epoch 26/100\n",
      "13/13 [==============================] - 5s 366ms/step - loss: 0.6485 - accuracy: 0.5863 - val_loss: 0.6619 - val_accuracy: 0.5609\n",
      "Epoch 27/100\n",
      "13/13 [==============================] - 5s 418ms/step - loss: 0.6470 - accuracy: 0.5863 - val_loss: 0.6595 - val_accuracy: 0.5609\n",
      "Epoch 28/100\n",
      "13/13 [==============================] - 5s 367ms/step - loss: 0.6467 - accuracy: 0.5863 - val_loss: 0.6596 - val_accuracy: 0.5609\n",
      "Epoch 29/100\n",
      "13/13 [==============================] - 5s 353ms/step - loss: 0.6455 - accuracy: 0.5863 - val_loss: 0.6626 - val_accuracy: 0.5609\n"
     ]
    }
   ],
   "source": [
    "# training the model for 100 epochs\n",
    "model_history = model.fit(X_train, y_train, epochs=100, batch_size=128,validation_data=(X_valid,y_valid), callbacks=[early_stopping])"
   ]
  },
  {
   "cell_type": "code",
   "execution_count": 24,
   "metadata": {
    "colab": {
     "base_uri": "https://localhost:8080/",
     "height": 34
    },
    "colab_type": "code",
    "executionInfo": {
     "elapsed": 1344,
     "status": "ok",
     "timestamp": 1584959937785,
     "user": {
      "displayName": "Aishwarya Singh",
      "photoUrl": "https://lh3.googleusercontent.com/a-/AOh14GgeJwfn4BdBDCAplWi_kdtB9FRssOpXO7T_aMgg=s64",
      "userId": "01105858832371513140"
     },
     "user_tz": -330
    },
    "id": "8Yr96tgB_Z5T",
    "outputId": "d2d69b73-724c-4983-9a76-471db33feb4a"
   },
   "outputs": [
    {
     "name": "stdout",
     "output_type": "stream",
     "text": [
      "Accuracy on validation set: 0.5609065155807366\n"
     ]
    }
   ],
   "source": [
    "# accuracy on validation set\n",
    "print('Accuracy on validation set:', accuracy_score(y_valid, model.predict_classes(X_valid)[:, 0]))"
   ]
  },
  {
   "cell_type": "code",
   "execution_count": 25,
   "metadata": {
    "colab": {
     "base_uri": "https://localhost:8080/",
     "height": 295
    },
    "colab_type": "code",
    "executionInfo": {
     "elapsed": 1843,
     "status": "ok",
     "timestamp": 1584959951080,
     "user": {
      "displayName": "Aishwarya Singh",
      "photoUrl": "https://lh3.googleusercontent.com/a-/AOh14GgeJwfn4BdBDCAplWi_kdtB9FRssOpXO7T_aMgg=s64",
      "userId": "01105858832371513140"
     },
     "user_tz": -330
    },
    "id": "Q1-nd8bSyHTX",
    "outputId": "31920d59-26b6-475e-a043-4bf8a654ab25"
   },
   "outputs": [
    {
     "data": {
      "image/png": "[encoded data removed]",
      "text/plain": [
       "<Figure size 432x288 with 1 Axes>"
      ]
     },
     "metadata": {
      "needs_background": "light"
     },
     "output_type": "display_data"
    }
   ],
   "source": [
    "# summarize history for loss\n",
    "plt.plot(model_history.history['loss'])\n",
    "plt.plot(model_history.history['val_loss'])\n",
    "plt.title('model loss')\n",
    "plt.ylabel('loss')\n",
    "plt.xlabel('epoch')\n",
    "plt.legend(['train', 'validation'])\n",
    "plt.show()"
   ]
  },
  {
   "cell_type": "code",
   "execution_count": 0,
   "metadata": {
    "colab": {},
    "colab_type": "code",
    "id": "qVOeWoo3_vir"
   },
   "outputs": [],
   "source": []
  }
 ],
 "metadata": {
  "accelerator": "GPU",
  "colab": {
   "collapsed_sections": [],
   "name": "12.2 Early stopping in Neural Networks using Keras.ipynb",
   "provenance": []
  },
  "kernelspec": {
   "display_name": "Python 3 (ipykernel)",
   "language": "python",
   "name": "python3"
  },
  "language_info": {
   "codemirror_mode": {
    "name": "ipython",
    "version": 3
   },
   "file_extension": ".py",
   "mimetype": "text/x-python",
   "name": "python",
   "nbconvert_exporter": "python",
   "pygments_lexer": "ipython3",
   "version": "3.7.13"
  }
 },
 "nbformat": 4,
 "nbformat_minor": 1
}
