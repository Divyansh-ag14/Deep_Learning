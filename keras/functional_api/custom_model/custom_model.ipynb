{
 "cells": [
  {
   "cell_type": "markdown",
   "metadata": {
    "colab_type": "text",
    "id": "56f3bnnIglKI"
   },
   "source": [
    "## 1. Loading the dataset"
   ]
  },
  {
   "cell_type": "code",
   "execution_count": 1,
   "metadata": {
    "colab": {},
    "colab_type": "code",
    "id": "as3tljzfglKN"
   },
   "outputs": [],
   "source": [
    "# importing the required libraries\n",
    "import pandas as pd\n",
    "import numpy as np\n",
    "import sklearn\n",
    "from sklearn.model_selection import train_test_split\n",
    "from sklearn.metrics import accuracy_score\n",
    "import matplotlib.pyplot as plt\n",
    "%matplotlib inline"
   ]
  },
  {
   "cell_type": "code",
   "execution_count": 2,
   "metadata": {
    "colab": {},
    "colab_type": "code",
    "id": "UXQcz5rtglKe"
   },
   "outputs": [],
   "source": [
    "# loading the pre-processed dataset\n",
    "data = pd.read_csv('loan_prediction_data.csv')"
   ]
  },
  {
   "cell_type": "code",
   "execution_count": 3,
   "metadata": {
    "colab": {
     "base_uri": "https://localhost:8080/",
     "height": 226
    },
    "colab_type": "code",
    "executionInfo": {
     "elapsed": 1455,
     "status": "ok",
     "timestamp": 1585555368213,
     "user": {
      "displayName": "Aishwarya Singh",
      "photoUrl": "https://lh3.googleusercontent.com/a-/AOh14GgeJwfn4BdBDCAplWi_kdtB9FRssOpXO7T_aMgg=s64",
      "userId": "01105858832371513140"
     },
     "user_tz": -330
    },
    "id": "ntuq8jfzglKp",
    "outputId": "88c5c318-c25d-41ca-c382-83b16534f84b",
    "scrolled": false
   },
   "outputs": [
    {
     "data": {
      "text/html": [
       "<div>\n",
       "<style scoped>\n",
       "    .dataframe tbody tr th:only-of-type {\n",
       "        vertical-align: middle;\n",
       "    }\n",
       "\n",
       "    .dataframe tbody tr th {\n",
       "        vertical-align: top;\n",
       "    }\n",
       "\n",
       "    .dataframe thead th {\n",
       "        text-align: right;\n",
       "    }\n",
       "</style>\n",
       "<table border=\"1\" class=\"dataframe\">\n",
       "  <thead>\n",
       "    <tr style=\"text-align: right;\">\n",
       "      <th></th>\n",
       "      <th>Loan_ID</th>\n",
       "      <th>Gender</th>\n",
       "      <th>Married</th>\n",
       "      <th>Dependents</th>\n",
       "      <th>Education</th>\n",
       "      <th>Self_Employed</th>\n",
       "      <th>ApplicantIncome</th>\n",
       "      <th>CoapplicantIncome</th>\n",
       "      <th>LoanAmount</th>\n",
       "      <th>Loan_Amount_Term</th>\n",
       "      <th>Credit_History</th>\n",
       "      <th>Property_Area</th>\n",
       "      <th>Loan_Status</th>\n",
       "    </tr>\n",
       "  </thead>\n",
       "  <tbody>\n",
       "    <tr>\n",
       "      <th>0</th>\n",
       "      <td>LP001002</td>\n",
       "      <td>0.0</td>\n",
       "      <td>0.0</td>\n",
       "      <td>0.000000</td>\n",
       "      <td>1.0</td>\n",
       "      <td>0.0</td>\n",
       "      <td>0.070489</td>\n",
       "      <td>0.000000</td>\n",
       "      <td>0.198860</td>\n",
       "      <td>0.74359</td>\n",
       "      <td>1.0</td>\n",
       "      <td>1.0</td>\n",
       "      <td>1.0</td>\n",
       "    </tr>\n",
       "    <tr>\n",
       "      <th>1</th>\n",
       "      <td>LP001003</td>\n",
       "      <td>0.0</td>\n",
       "      <td>1.0</td>\n",
       "      <td>0.333333</td>\n",
       "      <td>1.0</td>\n",
       "      <td>0.0</td>\n",
       "      <td>0.054830</td>\n",
       "      <td>0.036192</td>\n",
       "      <td>0.172214</td>\n",
       "      <td>0.74359</td>\n",
       "      <td>1.0</td>\n",
       "      <td>0.0</td>\n",
       "      <td>0.0</td>\n",
       "    </tr>\n",
       "    <tr>\n",
       "      <th>2</th>\n",
       "      <td>LP001005</td>\n",
       "      <td>0.0</td>\n",
       "      <td>1.0</td>\n",
       "      <td>0.000000</td>\n",
       "      <td>1.0</td>\n",
       "      <td>1.0</td>\n",
       "      <td>0.035250</td>\n",
       "      <td>0.000000</td>\n",
       "      <td>0.082489</td>\n",
       "      <td>0.74359</td>\n",
       "      <td>1.0</td>\n",
       "      <td>1.0</td>\n",
       "      <td>1.0</td>\n",
       "    </tr>\n",
       "    <tr>\n",
       "      <th>3</th>\n",
       "      <td>LP001006</td>\n",
       "      <td>0.0</td>\n",
       "      <td>1.0</td>\n",
       "      <td>0.000000</td>\n",
       "      <td>0.0</td>\n",
       "      <td>0.0</td>\n",
       "      <td>0.030093</td>\n",
       "      <td>0.056592</td>\n",
       "      <td>0.160637</td>\n",
       "      <td>0.74359</td>\n",
       "      <td>1.0</td>\n",
       "      <td>1.0</td>\n",
       "      <td>1.0</td>\n",
       "    </tr>\n",
       "    <tr>\n",
       "      <th>4</th>\n",
       "      <td>LP001008</td>\n",
       "      <td>0.0</td>\n",
       "      <td>0.0</td>\n",
       "      <td>0.000000</td>\n",
       "      <td>1.0</td>\n",
       "      <td>0.0</td>\n",
       "      <td>0.072356</td>\n",
       "      <td>0.000000</td>\n",
       "      <td>0.191027</td>\n",
       "      <td>0.74359</td>\n",
       "      <td>1.0</td>\n",
       "      <td>1.0</td>\n",
       "      <td>1.0</td>\n",
       "    </tr>\n",
       "  </tbody>\n",
       "</table>\n",
       "</div>"
      ],
      "text/plain": [
       "    Loan_ID  Gender  Married  Dependents  Education  Self_Employed  \\\n",
       "0  LP001002     0.0      0.0    0.000000        1.0            0.0   \n",
       "1  LP001003     0.0      1.0    0.333333        1.0            0.0   \n",
       "2  LP001005     0.0      1.0    0.000000        1.0            1.0   \n",
       "3  LP001006     0.0      1.0    0.000000        0.0            0.0   \n",
       "4  LP001008     0.0      0.0    0.000000        1.0            0.0   \n",
       "\n",
       "   ApplicantIncome  CoapplicantIncome  LoanAmount  Loan_Amount_Term  \\\n",
       "0         0.070489           0.000000    0.198860           0.74359   \n",
       "1         0.054830           0.036192    0.172214           0.74359   \n",
       "2         0.035250           0.000000    0.082489           0.74359   \n",
       "3         0.030093           0.056592    0.160637           0.74359   \n",
       "4         0.072356           0.000000    0.191027           0.74359   \n",
       "\n",
       "   Credit_History  Property_Area  Loan_Status  \n",
       "0             1.0            1.0          1.0  \n",
       "1             1.0            0.0          0.0  \n",
       "2             1.0            1.0          1.0  \n",
       "3             1.0            1.0          1.0  \n",
       "4             1.0            1.0          1.0  "
      ]
     },
     "execution_count": 3,
     "metadata": {},
     "output_type": "execute_result"
    }
   ],
   "source": [
    "# looking at the first five rows of the dataset\n",
    "data.head()"
   ]
  },
  {
   "cell_type": "code",
   "execution_count": 4,
   "metadata": {
    "colab": {},
    "colab_type": "code",
    "id": "TYuwXXuNglLI"
   },
   "outputs": [],
   "source": [
    "# removing the loan_ID since these are just the unique values\n",
    "data = data.drop('Loan_ID', axis=1)"
   ]
  },
  {
   "cell_type": "code",
   "execution_count": 5,
   "metadata": {
    "colab": {
     "base_uri": "https://localhost:8080/",
     "height": 34
    },
    "colab_type": "code",
    "executionInfo": {
     "elapsed": 864,
     "status": "ok",
     "timestamp": 1585554438476,
     "user": {
      "displayName": "Aishwarya Singh",
      "photoUrl": "https://lh3.googleusercontent.com/a-/AOh14GgeJwfn4BdBDCAplWi_kdtB9FRssOpXO7T_aMgg=s64",
      "userId": "01105858832371513140"
     },
     "user_tz": -330
    },
    "id": "r7XkDkLqglLQ",
    "outputId": "c6b37eab-fcc6-43ed-8640-ca3bc7e71c48"
   },
   "outputs": [
    {
     "data": {
      "text/plain": [
       "(614, 12)"
      ]
     },
     "execution_count": 5,
     "metadata": {},
     "output_type": "execute_result"
    }
   ],
   "source": [
    "# looking at the shape of the data\n",
    "data.shape"
   ]
  },
  {
   "cell_type": "code",
   "execution_count": 6,
   "metadata": {
    "colab": {},
    "colab_type": "code",
    "id": "wy5U75eiglLZ"
   },
   "outputs": [],
   "source": [
    "# separating the independent and dependent variables\n",
    "\n",
    "# storing all the independent variables as X\n",
    "X = data.drop('Loan_Status', axis=1)\n",
    "\n",
    "# storing the dependent variable as y\n",
    "y = data['Loan_Status']"
   ]
  },
  {
   "cell_type": "code",
   "execution_count": 7,
   "metadata": {
    "colab": {
     "base_uri": "https://localhost:8080/",
     "height": 34
    },
    "colab_type": "code",
    "executionInfo": {
     "elapsed": 1430,
     "status": "ok",
     "timestamp": 1585555375550,
     "user": {
      "displayName": "Aishwarya Singh",
      "photoUrl": "https://lh3.googleusercontent.com/a-/AOh14GgeJwfn4BdBDCAplWi_kdtB9FRssOpXO7T_aMgg=s64",
      "userId": "01105858832371513140"
     },
     "user_tz": -330
    },
    "id": "73Z_cXPVglLi",
    "outputId": "71cfd4d9-ea1d-4636-ea81-e7095f6ec2c1",
    "scrolled": true
   },
   "outputs": [
    {
     "data": {
      "text/plain": [
       "((614, 11), (614,))"
      ]
     },
     "execution_count": 7,
     "metadata": {},
     "output_type": "execute_result"
    }
   ],
   "source": [
    "# shape of independent and dependent variables\n",
    "X.shape, y.shape"
   ]
  },
  {
   "cell_type": "markdown",
   "metadata": {
    "colab_type": "text",
    "id": "2tIAIoEZglLr"
   },
   "source": [
    "## 2. Creating training and validation set"
   ]
  },
  {
   "cell_type": "code",
   "execution_count": 8,
   "metadata": {
    "colab": {},
    "colab_type": "code",
    "id": "4jvMxwYZglLu"
   },
   "outputs": [],
   "source": [
    "# Creating training and validation set\n",
    "\n",
    "# stratify will make sure that the distribution of classes in train and validation set it similar\n",
    "# random state to regenerate the same train and validation set\n",
    "# test size 0.2 will keep 20% data in validation and remaining 80% in train set\n",
    "\n",
    "X_train,X_test,y_train,y_test = train_test_split(X,y,stratify=data['Loan_Status'],\n",
    "                                                 random_state=10,test_size=0.2)"
   ]
  },
  {
   "cell_type": "code",
   "execution_count": 9,
   "metadata": {
    "colab": {
     "base_uri": "https://localhost:8080/",
     "height": 34
    },
    "colab_type": "code",
    "executionInfo": {
     "elapsed": 1135,
     "status": "ok",
     "timestamp": 1585555378011,
     "user": {
      "displayName": "Aishwarya Singh",
      "photoUrl": "https://lh3.googleusercontent.com/a-/AOh14GgeJwfn4BdBDCAplWi_kdtB9FRssOpXO7T_aMgg=s64",
      "userId": "01105858832371513140"
     },
     "user_tz": -330
    },
    "id": "3HG0SIb2glL3",
    "outputId": "a315db75-b7d5-4ae1-8177-db426053ceea"
   },
   "outputs": [
    {
     "data": {
      "text/plain": [
       "(((491, 11), (491,)), ((123, 11), (123,)))"
      ]
     },
     "execution_count": 9,
     "metadata": {},
     "output_type": "execute_result"
    }
   ],
   "source": [
    "# shape of training and validation set\n",
    "(X_train.shape, y_train.shape), (X_test.shape, y_test.shape)"
   ]
  },
  {
   "cell_type": "markdown",
   "metadata": {
    "colab_type": "text",
    "id": "e9PNy3T1glL_"
   },
   "source": [
    "## 3. Defining the architecture of the model"
   ]
  },
  {
   "cell_type": "code",
   "execution_count": 10,
   "metadata": {
    "colab": {
     "base_uri": "https://localhost:8080/",
     "height": 34
    },
    "colab_type": "code",
    "executionInfo": {
     "elapsed": 5460,
     "status": "ok",
     "timestamp": 1585555384877,
     "user": {
      "displayName": "Aishwarya Singh",
      "photoUrl": "https://lh3.googleusercontent.com/a-/AOh14GgeJwfn4BdBDCAplWi_kdtB9FRssOpXO7T_aMgg=s64",
      "userId": "01105858832371513140"
     },
     "user_tz": -330
    },
    "id": "IsccfqUYglMC",
    "outputId": "0f188fe2-248d-447e-aa9b-4129ee10c066",
    "scrolled": true
   },
   "outputs": [],
   "source": [
    "import keras\n",
    "from keras import Input, Model\n",
    "from keras.models import Sequential\n",
    "from keras.layers import InputLayer, Dense, concatenate"
   ]
  },
  {
   "cell_type": "code",
   "execution_count": 11,
   "metadata": {
    "colab": {
     "base_uri": "https://localhost:8080/",
     "height": 34
    },
    "colab_type": "code",
    "executionInfo": {
     "elapsed": 5128,
     "status": "ok",
     "timestamp": 1585555384880,
     "user": {
      "displayName": "Aishwarya Singh",
      "photoUrl": "https://lh3.googleusercontent.com/a-/AOh14GgeJwfn4BdBDCAplWi_kdtB9FRssOpXO7T_aMgg=s64",
      "userId": "01105858832371513140"
     },
     "user_tz": -330
    },
    "id": "xtOwk66BglMl",
    "outputId": "528fc67a-67d5-4a99-9f71-27ba3ba7d2e5"
   },
   "outputs": [
    {
     "data": {
      "text/plain": [
       "(491, 11)"
      ]
     },
     "execution_count": 11,
     "metadata": {},
     "output_type": "execute_result"
    }
   ],
   "source": [
    "# number of input neurons\n",
    "X_train.shape"
   ]
  },
  {
   "cell_type": "code",
   "execution_count": 12,
   "metadata": {
    "colab": {
     "base_uri": "https://localhost:8080/",
     "height": 34
    },
    "colab_type": "code",
    "executionInfo": {
     "elapsed": 4785,
     "status": "ok",
     "timestamp": 1585555384882,
     "user": {
      "displayName": "Aishwarya Singh",
      "photoUrl": "https://lh3.googleusercontent.com/a-/AOh14GgeJwfn4BdBDCAplWi_kdtB9FRssOpXO7T_aMgg=s64",
      "userId": "01105858832371513140"
     },
     "user_tz": -330
    },
    "id": "dA2TqMbsglMq",
    "outputId": "81e1eeee-c8e1-4b7d-a921-f92c9fe33066",
    "scrolled": true
   },
   "outputs": [
    {
     "data": {
      "text/plain": [
       "11"
      ]
     },
     "execution_count": 12,
     "metadata": {},
     "output_type": "execute_result"
    }
   ],
   "source": [
    "# number of features in the data\n",
    "X_train.shape[1]"
   ]
  },
  {
   "cell_type": "code",
   "execution_count": 13,
   "metadata": {
    "colab": {},
    "colab_type": "code",
    "id": "ajgIDiLSglMx"
   },
   "outputs": [],
   "source": [
    "# defining input neurons\n",
    "input_neurons = X_train.shape[1]\n",
    "\n",
    "# define number of output neurons\n",
    "output_neurons = 1"
   ]
  },
  {
   "cell_type": "code",
   "execution_count": 14,
   "metadata": {
    "colab": {},
    "colab_type": "code",
    "id": "sMqdeXysqztM"
   },
   "outputs": [],
   "source": [
    "# define hidden layers and neuron in each layer\n",
    "number_of_hidden_layers = 2\n",
    "neuron_hidden_layer_1_1 = 10\n",
    "neuron_hidden_layer_1_2 = 20\n",
    "neuron_hidden_layer_2 = 5"
   ]
  },
  {
   "cell_type": "code",
   "execution_count": 15,
   "metadata": {
    "colab": {
     "base_uri": "https://localhost:8080/",
     "height": 141
    },
    "colab_type": "code",
    "executionInfo": {
     "elapsed": 1118,
     "status": "ok",
     "timestamp": 1585555654756,
     "user": {
      "displayName": "Aishwarya Singh",
      "photoUrl": "https://lh3.googleusercontent.com/a-/AOh14GgeJwfn4BdBDCAplWi_kdtB9FRssOpXO7T_aMgg=s64",
      "userId": "01105858832371513140"
     },
     "user_tz": -330
    },
    "id": "moga9qnKMNtB",
    "outputId": "73299dff-7721-4fa7-d24c-f8e723253fe3"
   },
   "outputs": [],
   "source": [
    "# defining the architecture of the model using Functional API\n",
    "x = Input(shape = (input_neurons,))\n",
    "hidden1_1 = Dense(units=neuron_hidden_layer_1_1, activation='relu')(x)\n",
    "hidden1_2 = Dense(units=neuron_hidden_layer_1_2, activation='relu')(x)\n",
    "\n",
    "combined = concatenate([hidden1_1, hidden1_2])\n",
    "\n",
    "hidden2 = Dense(units=neuron_hidden_layer_2, activation='relu')(combined)\n",
    "output = Dense(units=output_neurons, activation='sigmoid')(hidden2)\n",
    "\n",
    "model_functional = Model(x, output) "
   ]
  },
  {
   "cell_type": "code",
   "execution_count": 16,
   "metadata": {
    "colab": {
     "base_uri": "https://localhost:8080/",
     "height": 382
    },
    "colab_type": "code",
    "executionInfo": {
     "elapsed": 729,
     "status": "ok",
     "timestamp": 1585555655427,
     "user": {
      "displayName": "Aishwarya Singh",
      "photoUrl": "https://lh3.googleusercontent.com/a-/AOh14GgeJwfn4BdBDCAplWi_kdtB9FRssOpXO7T_aMgg=s64",
      "userId": "01105858832371513140"
     },
     "user_tz": -330
    },
    "id": "whzbhgcEMNtM",
    "outputId": "9c6a2e7a-4306-424e-8797-b00a720f7a68"
   },
   "outputs": [
    {
     "name": "stdout",
     "output_type": "stream",
     "text": [
      "Model: \"functional_1\"\n",
      "__________________________________________________________________________________________________\n",
      "Layer (type)                    Output Shape         Param #     Connected to                     \n",
      "==================================================================================================\n",
      "input_1 (InputLayer)            [(None, 11)]         0                                            \n",
      "__________________________________________________________________________________________________\n",
      "dense (Dense)                   (None, 10)           120         input_1[0][0]                    \n",
      "__________________________________________________________________________________________________\n",
      "dense_1 (Dense)                 (None, 20)           240         input_1[0][0]                    \n",
      "__________________________________________________________________________________________________\n",
      "concatenate (Concatenate)       (None, 30)           0           dense[0][0]                      \n",
      "                                                                 dense_1[0][0]                    \n",
      "__________________________________________________________________________________________________\n",
      "dense_2 (Dense)                 (None, 5)            155         concatenate[0][0]                \n",
      "__________________________________________________________________________________________________\n",
      "dense_3 (Dense)                 (None, 1)            6           dense_2[0][0]                    \n",
      "==================================================================================================\n",
      "Total params: 521\n",
      "Trainable params: 521\n",
      "Non-trainable params: 0\n",
      "__________________________________________________________________________________________________\n"
     ]
    }
   ],
   "source": [
    "# summary of the model\n",
    "model_functional.summary()"
   ]
  },
  {
   "cell_type": "markdown",
   "metadata": {
    "colab_type": "text",
    "id": "xm1bbbE_glNz"
   },
   "source": [
    "## 4. Compiling the model (defining loss function, optimizer)"
   ]
  },
  {
   "cell_type": "code",
   "execution_count": 17,
   "metadata": {
    "colab": {
     "base_uri": "https://localhost:8080/",
     "height": 159
    },
    "colab_type": "code",
    "executionInfo": {
     "elapsed": 1278,
     "status": "ok",
     "timestamp": 1585555767131,
     "user": {
      "displayName": "Aishwarya Singh",
      "photoUrl": "https://lh3.googleusercontent.com/a-/AOh14GgeJwfn4BdBDCAplWi_kdtB9FRssOpXO7T_aMgg=s64",
      "userId": "01105858832371513140"
     },
     "user_tz": -330
    },
    "id": "P6hqkDWIglN0",
    "outputId": "067e6537-a865-42c9-83c7-aaf6988c6566"
   },
   "outputs": [],
   "source": [
    "# compiling the model\n",
    "\n",
    "# loss as binary_crossentropy, since we have binary classification problem\n",
    "# defining the optimizer as adam\n",
    "# Evaluation metric as accuracy\n",
    "\n",
    "model_functional.compile(loss='binary_crossentropy',optimizer='Adam',metrics=['accuracy', 'Precision', 'Recall'])"
   ]
  },
  {
   "cell_type": "markdown",
   "metadata": {
    "colab_type": "text",
    "id": "T1oVMpRMglN5"
   },
   "source": [
    "## 5. Training the model"
   ]
  },
  {
   "cell_type": "code",
   "execution_count": 18,
   "metadata": {
    "colab": {
     "base_uri": "https://localhost:8080/",
     "height": 1000
    },
    "colab_type": "code",
    "executionInfo": {
     "elapsed": 3656,
     "status": "ok",
     "timestamp": 1585555787270,
     "user": {
      "displayName": "Aishwarya Singh",
      "photoUrl": "https://lh3.googleusercontent.com/a-/AOh14GgeJwfn4BdBDCAplWi_kdtB9FRssOpXO7T_aMgg=s64",
      "userId": "01105858832371513140"
     },
     "user_tz": -330
    },
    "id": "pViJI3-TglN6",
    "outputId": "b9224999-0bcc-46d2-e19c-a0f20e358a8e"
   },
   "outputs": [
    {
     "name": "stdout",
     "output_type": "stream",
     "text": [
      "Epoch 1/50\n",
      " 1/16 [>.............................] - ETA: 0s - loss: 0.7536 - accuracy: 0.4062 - precision: 0.0000e+00 - recall: 0.0000e+00WARNING:tensorflow:Callbacks method `on_test_batch_begin` is slow compared to the batch time (batch time: 0.0000s vs `on_test_batch_begin` time: 0.0010s). Check your callbacks.\n",
      "16/16 [==============================] - 1s 37ms/step - loss: 0.7475 - accuracy: 0.3218 - precision: 0.7500 - recall: 0.0178 - val_loss: 0.7060 - val_accuracy: 0.3821 - val_precision: 0.7368 - val_recall: 0.1647\n",
      "Epoch 2/50\n",
      "16/16 [==============================] - 0s 3ms/step - loss: 0.6952 - accuracy: 0.5458 - precision: 0.7794 - recall: 0.4718 - val_loss: 0.6888 - val_accuracy: 0.6423 - val_precision: 0.7303 - val_recall: 0.7647\n",
      "Epoch 3/50\n",
      "16/16 [==============================] - 0s 2ms/step - loss: 0.6843 - accuracy: 0.7434 - precision: 0.7506 - recall: 0.9377 - val_loss: 0.6829 - val_accuracy: 0.7561 - val_precision: 0.7391 - val_recall: 1.0000\n",
      "Epoch 4/50\n",
      "16/16 [==============================] - 0s 3ms/step - loss: 0.6789 - accuracy: 0.7576 - precision: 0.7422 - recall: 0.9911 - val_loss: 0.6778 - val_accuracy: 0.7642 - val_precision: 0.7456 - val_recall: 1.0000\n",
      "Epoch 5/50\n",
      "16/16 [==============================] - 0s 3ms/step - loss: 0.6720 - accuracy: 0.7678 - precision: 0.7551 - recall: 0.9792 - val_loss: 0.6675 - val_accuracy: 0.7724 - val_precision: 0.7615 - val_recall: 0.9765\n",
      "Epoch 6/50\n",
      "16/16 [==============================] - 0s 3ms/step - loss: 0.6620 - accuracy: 0.7637 - precision: 0.7742 - recall: 0.9258 - val_loss: 0.6525 - val_accuracy: 0.7805 - val_precision: 0.7900 - val_recall: 0.9294\n",
      "Epoch 7/50\n",
      "16/16 [==============================] - 0s 3ms/step - loss: 0.6494 - accuracy: 0.7739 - precision: 0.7868 - recall: 0.9199 - val_loss: 0.6425 - val_accuracy: 0.7886 - val_precision: 0.7864 - val_recall: 0.9529\n",
      "Epoch 8/50\n",
      "16/16 [==============================] - 0s 2ms/step - loss: 0.6397 - accuracy: 0.7882 - precision: 0.7877 - recall: 0.9466 - val_loss: 0.6325 - val_accuracy: 0.7886 - val_precision: 0.7864 - val_recall: 0.9529\n",
      "Epoch 9/50\n",
      "16/16 [==============================] - 0s 2ms/step - loss: 0.6306 - accuracy: 0.8065 - precision: 0.7966 - recall: 0.9644 - val_loss: 0.6244 - val_accuracy: 0.7886 - val_precision: 0.7864 - val_recall: 0.9529\n",
      "Epoch 10/50\n",
      "16/16 [==============================] - 0s 3ms/step - loss: 0.6231 - accuracy: 0.8065 - precision: 0.7966 - recall: 0.9644 - val_loss: 0.6181 - val_accuracy: 0.7805 - val_precision: 0.7843 - val_recall: 0.9412\n",
      "Epoch 11/50\n",
      "16/16 [==============================] - 0s 3ms/step - loss: 0.6163 - accuracy: 0.8045 - precision: 0.7961 - recall: 0.9614 - val_loss: 0.6107 - val_accuracy: 0.7886 - val_precision: 0.7864 - val_recall: 0.9529\n",
      "Epoch 12/50\n",
      "16/16 [==============================] - 0s 3ms/step - loss: 0.6104 - accuracy: 0.8065 - precision: 0.7937 - recall: 0.9703 - val_loss: 0.6051 - val_accuracy: 0.7886 - val_precision: 0.7864 - val_recall: 0.9529\n",
      "Epoch 13/50\n",
      "16/16 [==============================] - 0s 2ms/step - loss: 0.6043 - accuracy: 0.8045 - precision: 0.7932 - recall: 0.9674 - val_loss: 0.5992 - val_accuracy: 0.7967 - val_precision: 0.7885 - val_recall: 0.9647\n",
      "Epoch 14/50\n",
      "16/16 [==============================] - 0s 3ms/step - loss: 0.5992 - accuracy: 0.8045 - precision: 0.7932 - recall: 0.9674 - val_loss: 0.5937 - val_accuracy: 0.7967 - val_precision: 0.7885 - val_recall: 0.9647\n",
      "Epoch 15/50\n",
      "16/16 [==============================] - 0s 3ms/step - loss: 0.5944 - accuracy: 0.8065 - precision: 0.7937 - recall: 0.9703 - val_loss: 0.5904 - val_accuracy: 0.7967 - val_precision: 0.7885 - val_recall: 0.9647\n",
      "Epoch 16/50\n",
      "16/16 [==============================] - 0s 3ms/step - loss: 0.5896 - accuracy: 0.8065 - precision: 0.7937 - recall: 0.9703 - val_loss: 0.5861 - val_accuracy: 0.7967 - val_precision: 0.7885 - val_recall: 0.9647\n",
      "Epoch 17/50\n",
      "16/16 [==============================] - 0s 3ms/step - loss: 0.5858 - accuracy: 0.8086 - precision: 0.7942 - recall: 0.9733 - val_loss: 0.5820 - val_accuracy: 0.7967 - val_precision: 0.7885 - val_recall: 0.9647\n",
      "Epoch 18/50\n",
      "16/16 [==============================] - 0s 3ms/step - loss: 0.5817 - accuracy: 0.8065 - precision: 0.7937 - recall: 0.9703 - val_loss: 0.5795 - val_accuracy: 0.7967 - val_precision: 0.7885 - val_recall: 0.9647\n",
      "Epoch 19/50\n",
      "16/16 [==============================] - 0s 3ms/step - loss: 0.5787 - accuracy: 0.8106 - precision: 0.7947 - recall: 0.9763 - val_loss: 0.5761 - val_accuracy: 0.8049 - val_precision: 0.7905 - val_recall: 0.9765\n",
      "Epoch 20/50\n",
      "16/16 [==============================] - 0s 3ms/step - loss: 0.5748 - accuracy: 0.8065 - precision: 0.7937 - recall: 0.9703 - val_loss: 0.5737 - val_accuracy: 0.7967 - val_precision: 0.7885 - val_recall: 0.9647\n",
      "Epoch 21/50\n",
      "16/16 [==============================] - 0s 3ms/step - loss: 0.5705 - accuracy: 0.8106 - precision: 0.7947 - recall: 0.9763 - val_loss: 0.5682 - val_accuracy: 0.8130 - val_precision: 0.7925 - val_recall: 0.9882\n",
      "Epoch 22/50\n",
      "16/16 [==============================] - 0s 3ms/step - loss: 0.5671 - accuracy: 0.8106 - precision: 0.7947 - recall: 0.9763 - val_loss: 0.5663 - val_accuracy: 0.8130 - val_precision: 0.7925 - val_recall: 0.9882\n",
      "Epoch 23/50\n",
      "16/16 [==============================] - 0s 3ms/step - loss: 0.5633 - accuracy: 0.8106 - precision: 0.7947 - recall: 0.9763 - val_loss: 0.5638 - val_accuracy: 0.8130 - val_precision: 0.7925 - val_recall: 0.9882\n",
      "Epoch 24/50\n",
      "16/16 [==============================] - 0s 3ms/step - loss: 0.5601 - accuracy: 0.8106 - precision: 0.7947 - recall: 0.9763 - val_loss: 0.5614 - val_accuracy: 0.8130 - val_precision: 0.7925 - val_recall: 0.9882\n",
      "Epoch 25/50\n",
      "16/16 [==============================] - 0s 3ms/step - loss: 0.5568 - accuracy: 0.8147 - precision: 0.7957 - recall: 0.9822 - val_loss: 0.5586 - val_accuracy: 0.8130 - val_precision: 0.7925 - val_recall: 0.9882\n",
      "Epoch 26/50\n",
      "16/16 [==============================] - 0s 3ms/step - loss: 0.5539 - accuracy: 0.8147 - precision: 0.7957 - recall: 0.9822 - val_loss: 0.5563 - val_accuracy: 0.8130 - val_precision: 0.7925 - val_recall: 0.9882\n",
      "Epoch 27/50\n",
      "16/16 [==============================] - 0s 2ms/step - loss: 0.5507 - accuracy: 0.8147 - precision: 0.7957 - recall: 0.9822 - val_loss: 0.5547 - val_accuracy: 0.8130 - val_precision: 0.7925 - val_recall: 0.9882\n",
      "Epoch 28/50\n",
      "16/16 [==============================] - 0s 3ms/step - loss: 0.5480 - accuracy: 0.8147 - precision: 0.7957 - recall: 0.9822 - val_loss: 0.5527 - val_accuracy: 0.8130 - val_precision: 0.7925 - val_recall: 0.9882\n",
      "Epoch 29/50\n",
      "16/16 [==============================] - 0s 3ms/step - loss: 0.5453 - accuracy: 0.8147 - precision: 0.7957 - recall: 0.9822 - val_loss: 0.5511 - val_accuracy: 0.8130 - val_precision: 0.7925 - val_recall: 0.9882\n",
      "Epoch 30/50\n",
      "16/16 [==============================] - 0s 3ms/step - loss: 0.5426 - accuracy: 0.8147 - precision: 0.7957 - recall: 0.9822 - val_loss: 0.5497 - val_accuracy: 0.8130 - val_precision: 0.7925 - val_recall: 0.9882\n",
      "Epoch 31/50\n",
      "16/16 [==============================] - 0s 2ms/step - loss: 0.5403 - accuracy: 0.8147 - precision: 0.7957 - recall: 0.9822 - val_loss: 0.5475 - val_accuracy: 0.8130 - val_precision: 0.7925 - val_recall: 0.9882\n",
      "Epoch 32/50\n",
      "16/16 [==============================] - 0s 2ms/step - loss: 0.5374 - accuracy: 0.8147 - precision: 0.7957 - recall: 0.9822 - val_loss: 0.5461 - val_accuracy: 0.8130 - val_precision: 0.7925 - val_recall: 0.9882\n",
      "Epoch 33/50\n",
      "16/16 [==============================] - 0s 3ms/step - loss: 0.5359 - accuracy: 0.8147 - precision: 0.7957 - recall: 0.9822 - val_loss: 0.5447 - val_accuracy: 0.8130 - val_precision: 0.7925 - val_recall: 0.9882\n",
      "Epoch 34/50\n",
      "16/16 [==============================] - 0s 3ms/step - loss: 0.5331 - accuracy: 0.8147 - precision: 0.7957 - recall: 0.9822 - val_loss: 0.5423 - val_accuracy: 0.8130 - val_precision: 0.7925 - val_recall: 0.9882\n",
      "Epoch 35/50\n",
      "16/16 [==============================] - 0s 3ms/step - loss: 0.5307 - accuracy: 0.8147 - precision: 0.7957 - recall: 0.9822 - val_loss: 0.5415 - val_accuracy: 0.8130 - val_precision: 0.7925 - val_recall: 0.9882\n",
      "Epoch 36/50\n",
      "16/16 [==============================] - 0s 3ms/step - loss: 0.5285 - accuracy: 0.8147 - precision: 0.7957 - recall: 0.9822 - val_loss: 0.5405 - val_accuracy: 0.8130 - val_precision: 0.7925 - val_recall: 0.9882\n",
      "Epoch 37/50\n",
      "16/16 [==============================] - 0s 3ms/step - loss: 0.5264 - accuracy: 0.8147 - precision: 0.7957 - recall: 0.9822 - val_loss: 0.5384 - val_accuracy: 0.8130 - val_precision: 0.7925 - val_recall: 0.9882\n",
      "Epoch 38/50\n",
      "16/16 [==============================] - 0s 2ms/step - loss: 0.5246 - accuracy: 0.8147 - precision: 0.7957 - recall: 0.9822 - val_loss: 0.5380 - val_accuracy: 0.8130 - val_precision: 0.7925 - val_recall: 0.9882\n",
      "Epoch 39/50\n",
      "16/16 [==============================] - 0s 3ms/step - loss: 0.5222 - accuracy: 0.8147 - precision: 0.7957 - recall: 0.9822 - val_loss: 0.5363 - val_accuracy: 0.8130 - val_precision: 0.7925 - val_recall: 0.9882\n",
      "Epoch 40/50\n",
      "16/16 [==============================] - 0s 3ms/step - loss: 0.5200 - accuracy: 0.8147 - precision: 0.7957 - recall: 0.9822 - val_loss: 0.5352 - val_accuracy: 0.8130 - val_precision: 0.7925 - val_recall: 0.9882\n",
      "Epoch 41/50\n",
      "16/16 [==============================] - 0s 3ms/step - loss: 0.5183 - accuracy: 0.8147 - precision: 0.7957 - recall: 0.9822 - val_loss: 0.5341 - val_accuracy: 0.8130 - val_precision: 0.7925 - val_recall: 0.9882\n",
      "Epoch 42/50\n",
      "16/16 [==============================] - 0s 3ms/step - loss: 0.5169 - accuracy: 0.8126 - precision: 0.7938 - recall: 0.9822 - val_loss: 0.5328 - val_accuracy: 0.8049 - val_precision: 0.7850 - val_recall: 0.9882\n",
      "Epoch 43/50\n",
      "16/16 [==============================] - 0s 2ms/step - loss: 0.5145 - accuracy: 0.8147 - precision: 0.7957 - recall: 0.9822 - val_loss: 0.5324 - val_accuracy: 0.8049 - val_precision: 0.7850 - val_recall: 0.9882\n",
      "Epoch 44/50\n",
      "16/16 [==============================] - 0s 2ms/step - loss: 0.5126 - accuracy: 0.8147 - precision: 0.7957 - recall: 0.9822 - val_loss: 0.5314 - val_accuracy: 0.8049 - val_precision: 0.7850 - val_recall: 0.9882\n",
      "Epoch 45/50\n",
      "16/16 [==============================] - 0s 2ms/step - loss: 0.5111 - accuracy: 0.8147 - precision: 0.7957 - recall: 0.9822 - val_loss: 0.5301 - val_accuracy: 0.8049 - val_precision: 0.7850 - val_recall: 0.9882\n",
      "Epoch 46/50\n",
      "16/16 [==============================] - 0s 2ms/step - loss: 0.5094 - accuracy: 0.8147 - precision: 0.7957 - recall: 0.9822 - val_loss: 0.5292 - val_accuracy: 0.8049 - val_precision: 0.7850 - val_recall: 0.9882\n",
      "Epoch 47/50\n",
      "16/16 [==============================] - 0s 2ms/step - loss: 0.5075 - accuracy: 0.8147 - precision: 0.7957 - recall: 0.9822 - val_loss: 0.5284 - val_accuracy: 0.8049 - val_precision: 0.7850 - val_recall: 0.9882\n",
      "Epoch 48/50\n",
      "16/16 [==============================] - 0s 2ms/step - loss: 0.5058 - accuracy: 0.8147 - precision: 0.7957 - recall: 0.9822 - val_loss: 0.5271 - val_accuracy: 0.8049 - val_precision: 0.7850 - val_recall: 0.9882\n",
      "Epoch 49/50\n",
      "16/16 [==============================] - 0s 2ms/step - loss: 0.5044 - accuracy: 0.8167 - precision: 0.7962 - recall: 0.9852 - val_loss: 0.5260 - val_accuracy: 0.8049 - val_precision: 0.7850 - val_recall: 0.9882\n",
      "Epoch 50/50\n",
      "16/16 [==============================] - 0s 2ms/step - loss: 0.5029 - accuracy: 0.8167 - precision: 0.7962 - recall: 0.9852 - val_loss: 0.5254 - val_accuracy: 0.8049 - val_precision: 0.7850 - val_recall: 0.9882\n"
     ]
    }
   ],
   "source": [
    "# training the model\n",
    "\n",
    "# passing the independent and dependent features for training set for training the model\n",
    "\n",
    "# validation data will be evaluated at the end of each epoch\n",
    "\n",
    "# setting the epochs as 50\n",
    "\n",
    "# storing the trained model in model_history variable which will be used to visualize the training process\n",
    "\n",
    "model_history = model_functional.fit(X_train, y_train, validation_data=(X_test, y_test), epochs=50)"
   ]
  },
  {
   "cell_type": "markdown",
   "metadata": {
    "colab_type": "text",
    "id": "hBZ_3aumglN9"
   },
   "source": [
    "## 6. Evaluating model performance on validation set"
   ]
  },
  {
   "cell_type": "code",
   "execution_count": 19,
   "metadata": {
    "colab": {},
    "colab_type": "code",
    "id": "qpBoHi7jglN_"
   },
   "outputs": [],
   "source": [
    "# getting predictions for the validation set\n",
    "prediction = model_functional.predict(X_test)"
   ]
  },
  {
   "cell_type": "code",
   "execution_count": 20,
   "metadata": {
    "colab": {},
    "colab_type": "code",
    "id": "SKyh8BnXMNtj"
   },
   "outputs": [
    {
     "name": "stderr",
     "output_type": "stream",
     "text": [
      "C:\\Users\\dagarwal\\Anaconda3\\envs\\tensor\\lib\\site-packages\\ipykernel_launcher.py:5: DeprecationWarning: `np.int` is a deprecated alias for the builtin `int`. To silence this warning, use `int` by itself. Doing this will not modify any behavior and is safe. When replacing `np.int`, you may wish to use e.g. `np.int64` or `np.int32` to specify the precision. If you wish to review your current use, check the release note link for additional information.\n",
      "Deprecated in NumPy 1.20; for more details and guidance: https://numpy.org/devdocs/release/1.20.0-notes.html#deprecations\n",
      "  \"\"\"\n"
     ]
    }
   ],
   "source": [
    "prediction = prediction.reshape(123,)\n",
    "\n",
    "# converting probabilities to classes\n",
    "prediction_int = prediction >= 0.5\n",
    "prediction_int = prediction_int.astype(np.int)"
   ]
  },
  {
   "cell_type": "code",
   "execution_count": 21,
   "metadata": {
    "colab": {
     "base_uri": "https://localhost:8080/",
     "height": 34
    },
    "colab_type": "code",
    "executionInfo": {
     "elapsed": 888,
     "status": "ok",
     "timestamp": 1585555798102,
     "user": {
      "displayName": "Aishwarya Singh",
      "photoUrl": "https://lh3.googleusercontent.com/a-/AOh14GgeJwfn4BdBDCAplWi_kdtB9FRssOpXO7T_aMgg=s64",
      "userId": "01105858832371513140"
     },
     "user_tz": -330
    },
    "id": "jMapdscmglOD",
    "outputId": "8fa442a0-081c-4cb5-8f7d-2424398c276f"
   },
   "outputs": [
    {
     "data": {
      "text/plain": [
       "0.8048780487804879"
      ]
     },
     "execution_count": 21,
     "metadata": {},
     "output_type": "execute_result"
    }
   ],
   "source": [
    "# calculating the accuracy on validation set\n",
    "accuracy_score(y_test, prediction_int)"
   ]
  },
  {
   "cell_type": "markdown",
   "metadata": {
    "colab_type": "text",
    "id": "rLvGzvLcglOH"
   },
   "source": [
    "### Visualizing the model performance"
   ]
  },
  {
   "cell_type": "code",
   "execution_count": 22,
   "metadata": {},
   "outputs": [
    {
     "data": {
      "text/plain": [
       "dict_keys(['loss', 'accuracy', 'precision', 'recall', 'val_loss', 'val_accuracy', 'val_precision', 'val_recall'])"
      ]
     },
     "execution_count": 22,
     "metadata": {},
     "output_type": "execute_result"
    }
   ],
   "source": [
    "model_history.history.keys()"
   ]
  },
  {
   "cell_type": "code",
   "execution_count": 23,
   "metadata": {},
   "outputs": [],
   "source": [
    "import seaborn as sns\n",
    "sns.set_style(\"darkgrid\")"
   ]
  },
  {
   "cell_type": "code",
   "execution_count": 24,
   "metadata": {},
   "outputs": [
    {
     "data": {
      "image/png": "[encoded data removed]",
      "text/plain": [
       "<Figure size 648x432 with 1 Axes>"
      ]
     },
     "metadata": {},
     "output_type": "display_data"
    }
   ],
   "source": [
    "# summarize history for loss\n",
    "plt.figure(figsize=(9,6))\n",
    "plt.plot(model_history.history['loss'])\n",
    "plt.plot(model_history.history['val_loss'])\n",
    "plt.title('model loss')\n",
    "plt.ylabel('accuracy')\n",
    "plt.xlabel('epoch')\n",
    "plt.legend(['train', 'validation'], loc='upper left')\n",
    "plt.show()"
   ]
  },
  {
   "cell_type": "code",
   "execution_count": 25,
   "metadata": {
    "colab": {
     "base_uri": "https://localhost:8080/",
     "height": 295
    },
    "colab_type": "code",
    "executionInfo": {
     "elapsed": 1418,
     "status": "ok",
     "timestamp": 1585555825027,
     "user": {
      "displayName": "Aishwarya Singh",
      "photoUrl": "https://lh3.googleusercontent.com/a-/AOh14GgeJwfn4BdBDCAplWi_kdtB9FRssOpXO7T_aMgg=s64",
      "userId": "01105858832371513140"
     },
     "user_tz": -330
    },
    "id": "AiKe0wBbglOM",
    "outputId": "6aac6b7d-d718-44c9-edac-cfd396358627"
   },
   "outputs": [],
   "source": [
    "metrics = list(model_history.history.keys())\n",
    "metrics.remove(\"loss\")\n",
    "metrics.remove(\"val_loss\")"
   ]
  },
  {
   "cell_type": "code",
   "execution_count": 26,
   "metadata": {
    "colab": {},
    "colab_type": "code",
    "id": "lE9VBYXgfdsK"
   },
   "outputs": [
    {
     "data": {
      "text/plain": [
       "['accuracy',\n",
       " 'precision',\n",
       " 'recall',\n",
       " 'val_accuracy',\n",
       " 'val_precision',\n",
       " 'val_recall']"
      ]
     },
     "execution_count": 26,
     "metadata": {},
     "output_type": "execute_result"
    }
   ],
   "source": [
    "metrics\n"
   ]
  },
  {
   "cell_type": "code",
   "execution_count": 27,
   "metadata": {},
   "outputs": [],
   "source": [
    "def plotMetric(metric):\n",
    "    plt.figure(figsize=(9,6))\n",
    "    plt.plot(model_history.history[metric])\n",
    "    val_metric = \"val_\"+str(metric)\n",
    "    plt.plot(model_history.history[val_metric])\n",
    "    plt.title('model ' + str(metric))\n",
    "    plt.ylabel(metric)\n",
    "    plt.xlabel('epoch')\n",
    "    plt.legend(['train', 'validation'], loc=\"best\")\n",
    "    plt.show()"
   ]
  },
  {
   "cell_type": "code",
   "execution_count": 28,
   "metadata": {},
   "outputs": [
    {
     "data": {
      "image/png": "[encoded data removed]",
      "text/plain": [
       "<Figure size 648x432 with 1 Axes>"
      ]
     },
     "metadata": {},
     "output_type": "display_data"
    }
   ],
   "source": [
    "plotMetric(\"accuracy\")"
   ]
  },
  {
   "cell_type": "code",
   "execution_count": 29,
   "metadata": {},
   "outputs": [
    {
     "data": {
      "image/png": "[encoded data removed]",
      "text/plain": [
       "<Figure size 648x432 with 1 Axes>"
      ]
     },
     "metadata": {},
     "output_type": "display_data"
    }
   ],
   "source": [
    "plotMetric(\"precision\")"
   ]
  },
  {
   "cell_type": "code",
   "execution_count": 30,
   "metadata": {},
   "outputs": [
    {
     "data": {
      "image/png": "[encoded data removed]",
      "text/plain": [
       "<Figure size 648x432 with 1 Axes>"
      ]
     },
     "metadata": {},
     "output_type": "display_data"
    }
   ],
   "source": [
    "plotMetric(\"recall\")"
   ]
  },
  {
   "cell_type": "code",
   "execution_count": null,
   "metadata": {},
   "outputs": [],
   "source": []
  }
 ],
 "metadata": {
  "colab": {
   "collapsed_sections": [],
   "name": "Solving_Loan_Prediction_problem_using_Keras_Functional_2.ipynb",
   "provenance": []
  },
  "kernelspec": {
   "display_name": "Python 3 (ipykernel)",
   "language": "python",
   "name": "python3"
  },
  "language_info": {
   "codemirror_mode": {
    "name": "ipython",
    "version": 3
   },
   "file_extension": ".py",
   "mimetype": "text/x-python",
   "name": "python",
   "nbconvert_exporter": "python",
   "pygments_lexer": "ipython3",
   "version": "3.7.13"
  }
 },
 "nbformat": 4,
 "nbformat_minor": 1
}
