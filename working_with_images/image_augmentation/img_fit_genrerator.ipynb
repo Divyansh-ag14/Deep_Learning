{
 "cells": [
  {
   "cell_type": "markdown",
   "metadata": {
    "colab_type": "text",
    "id": "tgzzqRXTv7UG"
   },
   "source": [
    "### 1. Importing Libraries and Data preprocessing"
   ]
  },
  {
   "cell_type": "code",
   "execution_count": 2,
   "metadata": {
    "colab": {},
    "colab_type": "code",
    "id": "yMXknA6I5g6k",
    "scrolled": true
   },
   "outputs": [],
   "source": [
    "# import necessary libraries\n",
    "import numpy as np\n",
    "import pandas as pd\n",
    "import matplotlib.pyplot as plt\n",
    "%matplotlib inline\n",
    "\n",
    "from sklearn.model_selection import train_test_split\n",
    "from sklearn.metrics import accuracy_score"
   ]
  },
  {
   "cell_type": "code",
   "execution_count": 3,
   "metadata": {
    "colab": {},
    "colab_type": "code",
    "id": "ANnf-lUd5g6v"
   },
   "outputs": [],
   "source": [
    "# set seed\n",
    "seed = 42"
   ]
  },
  {
   "cell_type": "code",
   "execution_count": 4,
   "metadata": {
    "colab": {},
    "colab_type": "code",
    "id": "-SpTX9z95g61"
   },
   "outputs": [],
   "source": [
    "# load csv file\n",
    "data = pd.read_csv('Dataset/emergency_classification.csv')"
   ]
  },
  {
   "cell_type": "code",
   "execution_count": 5,
   "metadata": {
    "colab": {},
    "colab_type": "code",
    "id": "MWvmRr0P5g66"
   },
   "outputs": [],
   "source": [
    "# load images and store it in numpy array\n",
    "\n",
    "# empty list to store the images\n",
    "X = []\n",
    "# iterating over each image\n",
    "for img_name in data.image_names:\n",
    "    # loading the image using its name\n",
    "    img = plt.imread('Dataset/images/' + img_name)\n",
    "    # normalizing the pixel values\n",
    "    img = img/255\n",
    "    # saving each image in the list\n",
    "    X.append(img)\n",
    "    \n",
    "# converting the list of images into array\n",
    "X=np.array(X)\n",
    "\n",
    "# storing the target variable in separate variable\n",
    "y = data.emergency_or_not.values"
   ]
  },
  {
   "cell_type": "code",
   "execution_count": 6,
   "metadata": {
    "colab": {
     "base_uri": "https://localhost:8080/",
     "height": 52
    },
    "colab_type": "code",
    "executionInfo": {
     "elapsed": 18755,
     "status": "ok",
     "timestamp": 1585334627549,
     "user": {
      "displayName": "Aishwarya Singh",
      "photoUrl": "https://lh3.googleusercontent.com/a-/AOh14GgeJwfn4BdBDCAplWi_kdtB9FRssOpXO7T_aMgg=s64",
      "userId": "01105858832371513140"
     },
     "user_tz": -330
    },
    "id": "ik_W3Q4w5g7I",
    "outputId": "b4c78944-55c8-4efa-bbfb-11673f5c478b"
   },
   "outputs": [
    {
     "name": "stdout",
     "output_type": "stream",
     "text": [
      "X_train: (1646, 224, 224, 3) X_valid: (706, 224, 224, 3)\n",
      "y_train: (1646,) y_valid: (706,)\n"
     ]
    }
   ],
   "source": [
    "# creating a training and validation set\n",
    "X_train, X_valid, y_train, y_valid=train_test_split(X,y,test_size=0.3, random_state=seed)\n",
    "\n",
    "print(\"X_train:\", X_train.shape, \"X_valid:\", X_valid.shape)\n",
    "print(\"y_train:\", y_train.shape, \"y_valid:\", y_valid.shape)"
   ]
  },
  {
   "cell_type": "markdown",
   "metadata": {
    "colab_type": "text",
    "id": "4_81e7Wi_ZA8"
   },
   "source": [
    "## Image Augmentation using Keras (ImageDataGenerator)"
   ]
  },
  {
   "cell_type": "code",
   "execution_count": 7,
   "metadata": {
    "colab": {
     "base_uri": "https://localhost:8080/",
     "height": 34
    },
    "colab_type": "code",
    "executionInfo": {
     "elapsed": 21592,
     "status": "ok",
     "timestamp": 1585334633067,
     "user": {
      "displayName": "Aishwarya Singh",
      "photoUrl": "https://lh3.googleusercontent.com/a-/AOh14GgeJwfn4BdBDCAplWi_kdtB9FRssOpXO7T_aMgg=s64",
      "userId": "01105858832371513140"
     },
     "user_tz": -330
    },
    "id": "R9QLfVkZF7v8",
    "outputId": "8b4cfc30-3bfb-460d-b709-27d6920118ac"
   },
   "outputs": [],
   "source": [
    "from keras.preprocessing.image import ImageDataGenerator"
   ]
  },
  {
   "cell_type": "code",
   "execution_count": 8,
   "metadata": {
    "colab": {},
    "colab_type": "code",
    "id": "0rNjmODlF7iC"
   },
   "outputs": [],
   "source": [
    "image_augmentation = ImageDataGenerator(rotation_range=30, width_shift_range=40, height_shift_range=40, \n",
    "                              horizontal_flip=True, vertical_flip=True, fill_mode=\"nearest\")"
   ]
  },
  {
   "cell_type": "code",
   "execution_count": 9,
   "metadata": {
    "colab": {},
    "colab_type": "code",
    "id": "w7U_9KpJ7tVs"
   },
   "outputs": [],
   "source": [
    "image_augmentation.fit(X_train)"
   ]
  },
  {
   "cell_type": "markdown",
   "metadata": {
    "colab_type": "text",
    "id": "7W7AKs0s5g7M"
   },
   "source": [
    "### 2. Model Building"
   ]
  },
  {
   "cell_type": "code",
   "execution_count": 10,
   "metadata": {
    "colab": {},
    "colab_type": "code",
    "id": "RRxcjdUn4k9J"
   },
   "outputs": [],
   "source": [
    "# importing functions from keras to define the neural network architecture\n",
    "from keras.layers import Dense, InputLayer, Dropout, BatchNormalization, Flatten\n",
    "from keras.models import Sequential\n",
    "# importing adam optimizer from keras optimizer module \n",
    "from keras.optimizers import Adam"
   ]
  },
  {
   "cell_type": "code",
   "execution_count": 11,
   "metadata": {
    "colab": {},
    "colab_type": "code",
    "id": "3cc_CF0f4sK9"
   },
   "outputs": [],
   "source": [
    "# defining the adam optimizer and setting the learning rate as 10^-5\n",
    "adam = Adam(lr=1e-5)"
   ]
  },
  {
   "cell_type": "code",
   "execution_count": 12,
   "metadata": {
    "colab": {
     "base_uri": "https://localhost:8080/",
     "height": 350
    },
    "colab_type": "code",
    "executionInfo": {
     "elapsed": 16619,
     "status": "ok",
     "timestamp": 1585334634735,
     "user": {
      "displayName": "Aishwarya Singh",
      "photoUrl": "https://lh3.googleusercontent.com/a-/AOh14GgeJwfn4BdBDCAplWi_kdtB9FRssOpXO7T_aMgg=s64",
      "userId": "01105858832371513140"
     },
     "user_tz": -330
    },
    "id": "WueKMOgDGQMo",
    "outputId": "8239feee-6391-4004-f990-006d350a731e"
   },
   "outputs": [],
   "source": [
    "# defining and compiling the model architecture\n",
    "model=Sequential()\n",
    "model.add(InputLayer(input_shape=(224,224,3)))\n",
    "model.add(Flatten())\n",
    "model.add(Dense(100, activation='sigmoid'))\n",
    "model.add(BatchNormalization())\n",
    "model.add(Dropout(rate=0.5))\n",
    "model.add(Dense(100, activation='sigmoid'))\n",
    "model.add(BatchNormalization())\n",
    "model.add(Dropout(rate=0.5))\n",
    "model.add(Dense(units=1, activation='sigmoid'))\n",
    "\n",
    "model.compile(loss='binary_crossentropy', optimizer=adam, metrics=['accuracy'])"
   ]
  },
  {
   "cell_type": "code",
   "execution_count": 13,
   "metadata": {
    "colab": {
     "base_uri": "https://localhost:8080/",
     "height": 1000
    },
    "colab_type": "code",
    "executionInfo": {
     "elapsed": 869557,
     "status": "ok",
     "timestamp": 1585335509127,
     "user": {
      "displayName": "Aishwarya Singh",
      "photoUrl": "https://lh3.googleusercontent.com/a-/AOh14GgeJwfn4BdBDCAplWi_kdtB9FRssOpXO7T_aMgg=s64",
      "userId": "01105858832371513140"
     },
     "user_tz": -330
    },
    "id": "uZjXJLdU5g8V",
    "outputId": "a6f53458-2598-4ec2-a43d-f6cc1a76cc07"
   },
   "outputs": [
    {
     "name": "stdout",
     "output_type": "stream",
     "text": [
      "WARNING:tensorflow:From C:\\Users\\dagarwal\\AppData\\Local\\Temp\\ipykernel_13580\\4203186882.py:2: Model.fit_generator (from tensorflow.python.keras.engine.training) is deprecated and will be removed in a future version.\n",
      "Instructions for updating:\n",
      "Please use Model.fit, which supports generators.\n",
      "Epoch 1/50\n",
      "13/13 [==============================] - 20s 2s/step - loss: 0.9462 - accuracy: 0.5547 - val_loss: 0.6795 - val_accuracy: 0.5609\n",
      "Epoch 2/50\n",
      "13/13 [==============================] - 18s 1s/step - loss: 0.9419 - accuracy: 0.5328 - val_loss: 0.6770 - val_accuracy: 0.5609\n",
      "Epoch 3/50\n",
      "13/13 [==============================] - 17s 1s/step - loss: 0.8820 - accuracy: 0.5595 - val_loss: 0.6799 - val_accuracy: 0.5637\n",
      "Epoch 4/50\n",
      "13/13 [==============================] - 17s 1s/step - loss: 0.9311 - accuracy: 0.5468 - val_loss: 0.6769 - val_accuracy: 0.5623\n",
      "Epoch 5/50\n",
      "13/13 [==============================] - 16s 1s/step - loss: 0.8948 - accuracy: 0.5626 - val_loss: 0.6750 - val_accuracy: 0.5609\n",
      "Epoch 6/50\n",
      "13/13 [==============================] - 19s 1s/step - loss: 0.8811 - accuracy: 0.5674 - val_loss: 0.6754 - val_accuracy: 0.5779\n",
      "Epoch 7/50\n",
      "13/13 [==============================] - 18s 1s/step - loss: 0.8719 - accuracy: 0.5699 - val_loss: 0.6772 - val_accuracy: 0.6034\n",
      "Epoch 8/50\n",
      "13/13 [==============================] - 21s 2s/step - loss: 0.8764 - accuracy: 0.5838 - val_loss: 0.6752 - val_accuracy: 0.5722\n",
      "Epoch 9/50\n",
      "13/13 [==============================] - 19s 1s/step - loss: 0.8635 - accuracy: 0.5778 - val_loss: 0.6747 - val_accuracy: 0.6176\n",
      "Epoch 10/50\n",
      "13/13 [==============================] - 18s 1s/step - loss: 0.8613 - accuracy: 0.5765 - val_loss: 0.6745 - val_accuracy: 0.6133\n",
      "Epoch 11/50\n",
      "13/13 [==============================] - 18s 1s/step - loss: 0.8960 - accuracy: 0.5674 - val_loss: 0.6752 - val_accuracy: 0.6119\n",
      "Epoch 12/50\n",
      "13/13 [==============================] - 19s 1s/step - loss: 0.8303 - accuracy: 0.5869 - val_loss: 0.6704 - val_accuracy: 0.6204\n",
      "Epoch 13/50\n",
      "13/13 [==============================] - 22s 2s/step - loss: 0.8689 - accuracy: 0.5595 - val_loss: 0.6637 - val_accuracy: 0.6558\n",
      "Epoch 14/50\n",
      "13/13 [==============================] - 18s 1s/step - loss: 0.8777 - accuracy: 0.5614 - val_loss: 0.6659 - val_accuracy: 0.6161\n",
      "Epoch 15/50\n",
      "13/13 [==============================] - 17s 1s/step - loss: 0.8957 - accuracy: 0.5486 - val_loss: 0.6561 - val_accuracy: 0.6572\n",
      "Epoch 16/50\n",
      "13/13 [==============================] - 18s 1s/step - loss: 0.8645 - accuracy: 0.5668 - val_loss: 0.6455 - val_accuracy: 0.6374\n",
      "Epoch 17/50\n",
      "13/13 [==============================] - 18s 1s/step - loss: 0.8047 - accuracy: 0.5905 - val_loss: 0.6458 - val_accuracy: 0.6261\n",
      "Epoch 18/50\n",
      "13/13 [==============================] - 20s 2s/step - loss: 0.8410 - accuracy: 0.5753 - val_loss: 0.6417 - val_accuracy: 0.6331\n",
      "Epoch 19/50\n",
      "13/13 [==============================] - 22s 2s/step - loss: 0.8271 - accuracy: 0.5893 - val_loss: 0.6407 - val_accuracy: 0.6501\n",
      "Epoch 20/50\n",
      "13/13 [==============================] - 18s 1s/step - loss: 0.8353 - accuracy: 0.5838 - val_loss: 0.6373 - val_accuracy: 0.6544\n",
      "Epoch 21/50\n",
      "13/13 [==============================] - 19s 1s/step - loss: 0.8710 - accuracy: 0.5626 - val_loss: 0.6398 - val_accuracy: 0.6346\n",
      "Epoch 22/50\n",
      "13/13 [==============================] - 18s 1s/step - loss: 0.8378 - accuracy: 0.5832 - val_loss: 0.6551 - val_accuracy: 0.6105\n",
      "Epoch 23/50\n",
      "13/13 [==============================] - 18s 1s/step - loss: 0.8182 - accuracy: 0.5796 - val_loss: 0.6470 - val_accuracy: 0.6119\n",
      "Epoch 24/50\n",
      "13/13 [==============================] - 19s 1s/step - loss: 0.8974 - accuracy: 0.5535 - val_loss: 0.6360 - val_accuracy: 0.6586\n",
      "Epoch 25/50\n",
      "13/13 [==============================] - 17s 1s/step - loss: 0.8329 - accuracy: 0.5753 - val_loss: 0.6844 - val_accuracy: 0.5524\n",
      "Epoch 26/50\n",
      "13/13 [==============================] - 19s 1s/step - loss: 0.8266 - accuracy: 0.5869 - val_loss: 0.6538 - val_accuracy: 0.6331\n",
      "Epoch 27/50\n",
      "13/13 [==============================] - 18s 1s/step - loss: 0.8151 - accuracy: 0.5851 - val_loss: 0.6491 - val_accuracy: 0.6501\n",
      "Epoch 28/50\n",
      "13/13 [==============================] - 16s 1s/step - loss: 0.8434 - accuracy: 0.5923 - val_loss: 0.6335 - val_accuracy: 0.6360\n",
      "Epoch 29/50\n",
      "13/13 [==============================] - 16s 1s/step - loss: 0.8214 - accuracy: 0.5674 - val_loss: 0.6340 - val_accuracy: 0.6416\n",
      "Epoch 30/50\n",
      "13/13 [==============================] - 18s 1s/step - loss: 0.8309 - accuracy: 0.5662 - val_loss: 0.6260 - val_accuracy: 0.6657\n",
      "Epoch 31/50\n",
      "13/13 [==============================] - 18s 1s/step - loss: 0.8472 - accuracy: 0.5784 - val_loss: 0.6294 - val_accuracy: 0.6360\n",
      "Epoch 32/50\n",
      "13/13 [==============================] - 18s 1s/step - loss: 0.8164 - accuracy: 0.5881 - val_loss: 0.6245 - val_accuracy: 0.6473\n",
      "Epoch 33/50\n",
      "13/13 [==============================] - 18s 1s/step - loss: 0.7972 - accuracy: 0.5899 - val_loss: 0.6175 - val_accuracy: 0.6601\n",
      "Epoch 34/50\n",
      "13/13 [==============================] - 20s 2s/step - loss: 0.8334 - accuracy: 0.5911 - val_loss: 0.6111 - val_accuracy: 0.6700\n",
      "Epoch 35/50\n",
      "13/13 [==============================] - 18s 1s/step - loss: 0.7883 - accuracy: 0.6033 - val_loss: 0.6166 - val_accuracy: 0.6572\n",
      "Epoch 36/50\n",
      "13/13 [==============================] - 20s 2s/step - loss: 0.8190 - accuracy: 0.5863 - val_loss: 0.6233 - val_accuracy: 0.6487\n",
      "Epoch 37/50\n",
      "13/13 [==============================] - 18s 1s/step - loss: 0.7881 - accuracy: 0.6094 - val_loss: 0.6322 - val_accuracy: 0.6487\n",
      "Epoch 38/50\n",
      "13/13 [==============================] - 18s 1s/step - loss: 0.8312 - accuracy: 0.5820 - val_loss: 0.6115 - val_accuracy: 0.6756\n",
      "Epoch 39/50\n",
      "13/13 [==============================] - 21s 2s/step - loss: 0.8042 - accuracy: 0.5857 - val_loss: 0.6099 - val_accuracy: 0.6671\n",
      "Epoch 40/50\n",
      "13/13 [==============================] - 18s 1s/step - loss: 0.8381 - accuracy: 0.5820 - val_loss: 0.6010 - val_accuracy: 0.6714\n",
      "Epoch 41/50\n",
      "13/13 [==============================] - 17s 1s/step - loss: 0.8373 - accuracy: 0.5717 - val_loss: 0.6256 - val_accuracy: 0.6487\n",
      "Epoch 42/50\n",
      "13/13 [==============================] - 17s 1s/step - loss: 0.7814 - accuracy: 0.5966 - val_loss: 0.6423 - val_accuracy: 0.6360\n",
      "Epoch 43/50\n",
      "13/13 [==============================] - 18s 1s/step - loss: 0.8438 - accuracy: 0.5796 - val_loss: 0.6523 - val_accuracy: 0.6091\n",
      "Epoch 44/50\n",
      "13/13 [==============================] - 20s 2s/step - loss: 0.8003 - accuracy: 0.5869 - val_loss: 0.6075 - val_accuracy: 0.6813\n",
      "Epoch 45/50\n",
      "13/13 [==============================] - 19s 1s/step - loss: 0.7934 - accuracy: 0.5838 - val_loss: 0.6510 - val_accuracy: 0.6261\n",
      "Epoch 46/50\n",
      "13/13 [==============================] - 19s 1s/step - loss: 0.7929 - accuracy: 0.6002 - val_loss: 0.5979 - val_accuracy: 0.6785\n",
      "Epoch 47/50\n",
      "13/13 [==============================] - 18s 1s/step - loss: 0.8194 - accuracy: 0.5857 - val_loss: 0.6354 - val_accuracy: 0.6360\n",
      "Epoch 48/50\n",
      "13/13 [==============================] - 18s 1s/step - loss: 0.8020 - accuracy: 0.5972 - val_loss: 0.6224 - val_accuracy: 0.6431\n",
      "Epoch 49/50\n",
      "13/13 [==============================] - 18s 1s/step - loss: 0.8126 - accuracy: 0.5972 - val_loss: 0.5929 - val_accuracy: 0.6799\n",
      "Epoch 50/50\n",
      "13/13 [==============================] - 18s 1s/step - loss: 0.8215 - accuracy: 0.5881 - val_loss: 0.6009 - val_accuracy: 0.6785\n"
     ]
    }
   ],
   "source": [
    "# fits the model on batches with real-time data augmentation:\n",
    "model_history = model.fit_generator(image_augmentation.flow(X_train, y_train, batch_size=128), validation_data=(X_valid, y_valid), epochs=50)"
   ]
  },
  {
   "cell_type": "code",
   "execution_count": 14,
   "metadata": {
    "colab": {
     "base_uri": "https://localhost:8080/",
     "height": 295
    },
    "colab_type": "code",
    "executionInfo": {
     "elapsed": 1283,
     "status": "ok",
     "timestamp": 1585335549798,
     "user": {
      "displayName": "Aishwarya Singh",
      "photoUrl": "https://lh3.googleusercontent.com/a-/AOh14GgeJwfn4BdBDCAplWi_kdtB9FRssOpXO7T_aMgg=s64",
      "userId": "01105858832371513140"
     },
     "user_tz": -330
    },
    "id": "VZvqoE-V-c4i",
    "outputId": "7918287e-265d-4bb4-da9c-3f42d182ba5b"
   },
   "outputs": [
    {
     "data": {
      "image/png": "[encoded data removed]",
      "text/plain": [
       "<Figure size 432x288 with 1 Axes>"
      ]
     },
     "metadata": {
      "needs_background": "light"
     },
     "output_type": "display_data"
    }
   ],
   "source": [
    "# summarize history for loss\n",
    "plt.plot(model_history.history['loss'])\n",
    "plt.plot(model_history.history['val_loss'])\n",
    "plt.title('model loss')\n",
    "plt.ylabel('loss')\n",
    "plt.xlabel('epoch')\n",
    "plt.legend(['train', 'validation'], loc='upper right')\n",
    "plt.show()"
   ]
  },
  {
   "cell_type": "code",
   "execution_count": 16,
   "metadata": {
    "colab": {
     "base_uri": "https://localhost:8080/",
     "height": 295
    },
    "colab_type": "code",
    "executionInfo": {
     "elapsed": 1386,
     "status": "ok",
     "timestamp": 1585335581185,
     "user": {
      "displayName": "Aishwarya Singh",
      "photoUrl": "https://lh3.googleusercontent.com/a-/AOh14GgeJwfn4BdBDCAplWi_kdtB9FRssOpXO7T_aMgg=s64",
      "userId": "01105858832371513140"
     },
     "user_tz": -330
    },
    "id": "Dg--s8EO-esp",
    "outputId": "ce32605b-f459-4709-ec6e-7e5fac5e0831"
   },
   "outputs": [
    {
     "data": {
      "image/png": "[encoded data removed]",
      "text/plain": [
       "<Figure size 432x288 with 1 Axes>"
      ]
     },
     "metadata": {
      "needs_background": "light"
     },
     "output_type": "display_data"
    }
   ],
   "source": [
    "# summarize history for accuracy\n",
    "plt.plot(model_history.history['accuracy'])\n",
    "plt.plot(model_history.history['val_accuracy'])\n",
    "plt.title('model accuracy')\n",
    "plt.ylabel('accuracy')\n",
    "plt.xlabel('epoch')\n",
    "plt.legend(['train', 'validation'], loc='upper right')\n",
    "plt.show()"
   ]
  },
  {
   "cell_type": "code",
   "execution_count": 17,
   "metadata": {
    "colab": {
     "base_uri": "https://localhost:8080/",
     "height": 69
    },
    "colab_type": "code",
    "executionInfo": {
     "elapsed": 3465,
     "status": "ok",
     "timestamp": 1585335597986,
     "user": {
      "displayName": "Aishwarya Singh",
      "photoUrl": "https://lh3.googleusercontent.com/a-/AOh14GgeJwfn4BdBDCAplWi_kdtB9FRssOpXO7T_aMgg=s64",
      "userId": "01105858832371513140"
     },
     "user_tz": -330
    },
    "id": "KZnBDHXpuUod",
    "outputId": "57ddf18b-220c-41ab-9753-44cc7f48d4fe"
   },
   "outputs": [
    {
     "name": "stdout",
     "output_type": "stream",
     "text": [
      "WARNING:tensorflow:From C:\\Users\\dagarwal\\AppData\\Local\\Temp\\ipykernel_13580\\427037183.py:1: Sequential.predict_classes (from tensorflow.python.keras.engine.sequential) is deprecated and will be removed after 2021-01-01.\n",
      "Instructions for updating:\n",
      "Please use instead:* `np.argmax(model.predict(x), axis=-1)`,   if your model does multi-class classification   (e.g. if it uses a `softmax` last-layer activation).* `(model.predict(x) > 0.5).astype(\"int32\")`,   if your model does binary classification   (e.g. if it uses a `sigmoid` last-layer activation).\n",
      "Training Accuracy:  0.695625759416768\n",
      "\n",
      "Validation Accuracy:  0.6784702549575071\n"
     ]
    }
   ],
   "source": [
    "print('Training Accuracy: ', accuracy_score(y_train, model.predict_classes(X_train)[:,0]))\n",
    "print('\\nValidation Accuracy: ', accuracy_score(y_valid, model.predict_classes(X_valid)[:,0]))"
   ]
  },
  {
   "cell_type": "code",
   "execution_count": 0,
   "metadata": {
    "colab": {},
    "colab_type": "code",
    "id": "Z1h1aKDUXWzE"
   },
   "outputs": [],
   "source": []
  }
 ],
 "metadata": {
  "accelerator": "GPU",
  "colab": {
   "collapsed_sections": [],
   "machine_shape": "hm",
   "name": "3. Image Generator and Fit Generator in Keras.ipynb",
   "provenance": [
    {
     "file_id": "19gZM2uREOG6gylvX7m3OUa4m8bFECSQm",
     "timestamp": 1583917312964
    },
    {
     "file_id": "1mkBBqYrvmuEh8UaJekHE-Rih5x_4JYVQ",
     "timestamp": 1579776364613
    }
   ]
  },
  "kernelspec": {
   "display_name": "Python 3 (ipykernel)",
   "language": "python",
   "name": "python3"
  },
  "language_info": {
   "codemirror_mode": {
    "name": "ipython",
    "version": 3
   },
   "file_extension": ".py",
   "mimetype": "text/x-python",
   "name": "python",
   "nbconvert_exporter": "python",
   "pygments_lexer": "ipython3",
   "version": "3.7.13"
  }
 },
 "nbformat": 4,
 "nbformat_minor": 1
}
