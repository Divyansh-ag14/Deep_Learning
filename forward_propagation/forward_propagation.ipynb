{
 "cells": [
  {
   "cell_type": "markdown",
   "metadata": {
    "colab_type": "text",
    "id": "sbgj7HfHNFRr"
   },
   "source": [
    "## 1. Loading the dataset (Input and Output)"
   ]
  },
  {
   "cell_type": "code",
   "execution_count": 1,
   "metadata": {
    "colab": {},
    "colab_type": "code",
    "id": "E5S9HgBzNFRw"
   },
   "outputs": [],
   "source": [
    "# importing required libraries\n",
    "import numpy as np\n",
    "import matplotlib\n",
    "import matplotlib.pyplot as plt\n",
    "%matplotlib inline"
   ]
  },
  {
   "cell_type": "code",
   "execution_count": 2,
   "metadata": {
    "colab": {
     "base_uri": "https://localhost:8080/",
     "height": 139
    },
    "colab_type": "code",
    "executionInfo": {
     "elapsed": 1409,
     "status": "ok",
     "timestamp": 1585485752142,
     "user": {
      "displayName": "Pulkit Sharma",
      "photoUrl": "",
      "userId": "07234574884764057306"
     },
     "user_tz": -330
    },
    "id": "H_h7HoPONFR_",
    "outputId": "552026b7-f129-41e9-c8f4-22a4c9d80e6e"
   },
   "outputs": [
    {
     "name": "stdout",
     "output_type": "stream",
     "text": [
      "\n",
      " Input:\n",
      "[[1 0 1 0]\n",
      " [1 0 1 1]\n",
      " [0 1 0 1]]\n",
      "\n",
      " Shape of Input: (3, 4)\n"
     ]
    }
   ],
   "source": [
    "# creating the input array\n",
    "X=np.array([[1,0,1,0], [1,0,1,1], [0,1,0,1]])\n",
    "print ('\\n Input:')\n",
    "print(X)\n",
    "# shape of input array\n",
    "print('\\n Shape of Input:', X.shape)"
   ]
  },
  {
   "cell_type": "code",
   "execution_count": 3,
   "metadata": {
    "colab": {
     "base_uri": "https://localhost:8080/",
     "height": 156
    },
    "colab_type": "code",
    "executionInfo": {
     "elapsed": 3240,
     "status": "ok",
     "timestamp": 1585485756254,
     "user": {
      "displayName": "Pulkit Sharma",
      "photoUrl": "",
      "userId": "07234574884764057306"
     },
     "user_tz": -330
    },
    "id": "LVvQz5g39wo3",
    "outputId": "e0f22a43-1caa-4ca0-bfdd-0168c8853d6b"
   },
   "outputs": [
    {
     "name": "stdout",
     "output_type": "stream",
     "text": [
      "\n",
      " Input in matrix form:\n",
      "[[1 1 0]\n",
      " [0 0 1]\n",
      " [1 1 0]\n",
      " [0 1 1]]\n",
      "\n",
      " Shape of Input Matrix: (4, 3)\n"
     ]
    }
   ],
   "source": [
    "# converting the input in matrix form\n",
    "X = X.T\n",
    "print('\\n Input in matrix form:')\n",
    "print(X)\n",
    "# shape of input matrix\n",
    "print('\\n Shape of Input Matrix:', X.shape)"
   ]
  },
  {
   "cell_type": "code",
   "execution_count": 4,
   "metadata": {
    "colab": {
     "base_uri": "https://localhost:8080/",
     "height": 191
    },
    "colab_type": "code",
    "executionInfo": {
     "elapsed": 3079,
     "status": "ok",
     "timestamp": 1585485756256,
     "user": {
      "displayName": "Pulkit Sharma",
      "photoUrl": "",
      "userId": "07234574884764057306"
     },
     "user_tz": -330
    },
    "id": "IRe8JE0xNFSL",
    "outputId": "bd0f8cc4-140c-4788-fe12-0967af4b0f0f"
   },
   "outputs": [
    {
     "name": "stdout",
     "output_type": "stream",
     "text": [
      "\n",
      " Actual Output:\n",
      "[[1]\n",
      " [1]\n",
      " [0]]\n",
      "\n",
      " Output in matrix form:\n",
      "[[1 1 0]]\n",
      "\n",
      " Shape of Output: (1, 3)\n"
     ]
    }
   ],
   "source": [
    "# creating the output array\n",
    "y=np.array([[1],[1],[0]])\n",
    "print ('\\n Actual Output:')\n",
    "print(y)\n",
    "\n",
    "# output in matrix form\n",
    "y = y.T\n",
    "\n",
    "print ('\\n Output in matrix form:')\n",
    "print(y)\n",
    "\n",
    "# shape of input array\n",
    "print('\\n Shape of Output:', y.shape)"
   ]
  },
  {
   "cell_type": "markdown",
   "metadata": {
    "colab_type": "text",
    "id": "tKf4Ji1-NFSV"
   },
   "source": [
    "## 2. Architecture of the model (# input, hidden and output neurons)"
   ]
  },
  {
   "cell_type": "code",
   "execution_count": 5,
   "metadata": {
    "colab": {},
    "colab_type": "code",
    "id": "vlhBW0NNNFSg"
   },
   "outputs": [],
   "source": [
    "inputlayer_neurons = X.shape[0] # number of features in data set\n",
    "hiddenlayer_neurons = 3 # number of hidden layers neurons\n",
    "output_neurons = 1 # number of neurons at output layer"
   ]
  },
  {
   "cell_type": "markdown",
   "metadata": {
    "colab_type": "text",
    "id": "OoOsLucmNFSo"
   },
   "source": [
    "![](model_architecture.png)"
   ]
  },
  {
   "cell_type": "markdown",
   "metadata": {
    "colab_type": "text",
    "id": "_Nmwj8RfNFSr"
   },
   "source": [
    "## 3. Initializing the weights for all the layers\n",
    "\n",
    "NOTE: For simplicity, the bias for all the layers is 0"
   ]
  },
  {
   "cell_type": "code",
   "execution_count": 6,
   "metadata": {
    "colab": {},
    "colab_type": "code",
    "id": "1T1IG-W8NFSu"
   },
   "outputs": [],
   "source": [
    "# initializing weight\n",
    "# Shape of w_ih should number of neurons at input layer X number of neurons at hidden layer\n",
    "w_ih=np.random.uniform(size=(inputlayer_neurons,hiddenlayer_neurons))\n",
    "\n",
    "\n",
    "# Shape of w_ho should number of neurons at hidden layer X number of neurons at output layer\n",
    "w_ho=np.random.uniform(size=(hiddenlayer_neurons,output_neurons))"
   ]
  },
  {
   "cell_type": "code",
   "execution_count": 7,
   "metadata": {
    "colab": {
     "base_uri": "https://localhost:8080/",
     "height": 34
    },
    "colab_type": "code",
    "executionInfo": {
     "elapsed": 1009,
     "status": "ok",
     "timestamp": 1585485756260,
     "user": {
      "displayName": "Pulkit Sharma",
      "photoUrl": "",
      "userId": "07234574884764057306"
     },
     "user_tz": -330
    },
    "id": "Fpa1--9KNFS1",
    "outputId": "407ba6ee-ddc9-4830-d771-15704f6e39e6"
   },
   "outputs": [
    {
     "data": {
      "text/plain": [
       "((4, 3), (3, 1))"
      ]
     },
     "execution_count": 7,
     "metadata": {},
     "output_type": "execute_result"
    }
   ],
   "source": [
    "# shape of weight matrix\n",
    "w_ih.shape, w_ho.shape"
   ]
  },
  {
   "cell_type": "markdown",
   "metadata": {
    "colab_type": "text",
    "id": "srrDW1MNNFS-"
   },
   "source": [
    "## 4. Implementing forward propagation"
   ]
  },
  {
   "cell_type": "markdown",
   "metadata": {
    "colab_type": "text",
    "id": "-g-SocwQNFTC"
   },
   "source": [
    "![](hidden_layer_activations.png)"
   ]
  },
  {
   "cell_type": "code",
   "execution_count": 9,
   "metadata": {
    "colab": {},
    "colab_type": "code",
    "id": "sOcBji4iNFTE"
   },
   "outputs": [],
   "source": [
    "# defining the Sigmoid Function\n",
    "def sigmoid (x):\n",
    "    return 1/(1 + np.exp(-x))"
   ]
  },
  {
   "cell_type": "code",
   "execution_count": 10,
   "metadata": {
    "colab": {},
    "colab_type": "code",
    "id": "DO6AYHtGNFTM"
   },
   "outputs": [],
   "source": [
    "# hidden layer activations\n",
    "hidden_layer_input=np.dot(w_ih.T,X)\n",
    "hiddenlayer_activations = sigmoid(hidden_layer_input)"
   ]
  },
  {
   "cell_type": "markdown",
   "metadata": {},
   "source": [
    "![](output.png)"
   ]
  },
  {
   "cell_type": "code",
   "execution_count": 11,
   "metadata": {
    "colab": {},
    "colab_type": "code",
    "id": "CuqKwiToNFTW"
   },
   "outputs": [],
   "source": [
    "# calculating the output\n",
    "output_layer_input=np.dot(w_ho.T,hiddenlayer_activations)\n",
    "output = sigmoid(output_layer_input)"
   ]
  },
  {
   "cell_type": "code",
   "execution_count": null,
   "metadata": {
    "colab": {},
    "colab_type": "code",
    "id": "HkfQF2CC2ir6"
   },
   "outputs": [],
   "source": []
  },
  {
   "cell_type": "code",
   "execution_count": null,
   "metadata": {},
   "outputs": [],
   "source": []
  }
 ],
 "metadata": {
  "accelerator": "GPU",
  "colab": {
   "collapsed_sections": [],
   "name": "Neural Network from scratch using NumPy.ipynb",
   "provenance": []
  },
  "kernelspec": {
   "display_name": "Python 3 (ipykernel)",
   "language": "python",
   "name": "python3"
  },
  "language_info": {
   "codemirror_mode": {
    "name": "ipython",
    "version": 3
   },
   "file_extension": ".py",
   "mimetype": "text/x-python",
   "name": "python",
   "nbconvert_exporter": "python",
   "pygments_lexer": "ipython3",
   "version": "3.7.13"
  }
 },
 "nbformat": 4,
 "nbformat_minor": 1
}
