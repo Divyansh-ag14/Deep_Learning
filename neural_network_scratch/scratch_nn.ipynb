{
 "cells": [
  {
   "cell_type": "markdown",
   "metadata": {
    "colab_type": "text",
    "id": "cEG1dhnuNFRk"
   },
   "source": [
    "# Steps to build a Neural Network in NumPy\n",
    "\n",
    "<ol>1. Loading the dataset (Input and Output)</ol>\n",
    "<ol>2. Architecture of the model (# input, hidden and output neurons)</ol>\n",
    "<ol>3. Initializing the weights for all the layers</ol>\n",
    "<ol>4. Implementing forward propagation</ol>\n",
    "<ol>5. Implementing backward propagation</ol>\n",
    "<ol>6. Train the model for n epochs </ol>"
   ]
  },
  {
   "cell_type": "markdown",
   "metadata": {
    "colab_type": "text",
    "id": "sbgj7HfHNFRr"
   },
   "source": [
    "## 1. Loading the dataset (Input and Output)"
   ]
  },
  {
   "cell_type": "code",
   "execution_count": 1,
   "metadata": {
    "colab": {},
    "colab_type": "code",
    "id": "E5S9HgBzNFRw"
   },
   "outputs": [],
   "source": [
    "# importing required libraries\n",
    "import numpy as np\n",
    "import matplotlib\n",
    "import matplotlib.pyplot as plt\n",
    "%matplotlib inline"
   ]
  },
  {
   "cell_type": "code",
   "execution_count": 2,
   "metadata": {
    "colab": {
     "base_uri": "https://localhost:8080/",
     "height": 139
    },
    "colab_type": "code",
    "executionInfo": {
     "elapsed": 1409,
     "status": "ok",
     "timestamp": 1585485752142,
     "user": {
      "displayName": "Pulkit Sharma",
      "photoUrl": "",
      "userId": "07234574884764057306"
     },
     "user_tz": -330
    },
    "id": "H_h7HoPONFR_",
    "outputId": "552026b7-f129-41e9-c8f4-22a4c9d80e6e"
   },
   "outputs": [
    {
     "name": "stdout",
     "output_type": "stream",
     "text": [
      "\n",
      " Input:\n",
      "[[1 0 1 0]\n",
      " [1 0 1 1]\n",
      " [0 1 0 1]]\n",
      "\n",
      " Shape of Input: (3, 4)\n"
     ]
    }
   ],
   "source": [
    "# creating the input array\n",
    "X=np.array([[1,0,1,0], [1,0,1,1], [0,1,0,1]])\n",
    "print ('\\n Input:')\n",
    "print(X)\n",
    "# shape of input array\n",
    "print('\\n Shape of Input:', X.shape)"
   ]
  },
  {
   "cell_type": "code",
   "execution_count": 3,
   "metadata": {
    "colab": {
     "base_uri": "https://localhost:8080/",
     "height": 156
    },
    "colab_type": "code",
    "executionInfo": {
     "elapsed": 3240,
     "status": "ok",
     "timestamp": 1585485756254,
     "user": {
      "displayName": "Pulkit Sharma",
      "photoUrl": "",
      "userId": "07234574884764057306"
     },
     "user_tz": -330
    },
    "id": "LVvQz5g39wo3",
    "outputId": "e0f22a43-1caa-4ca0-bfdd-0168c8853d6b"
   },
   "outputs": [
    {
     "name": "stdout",
     "output_type": "stream",
     "text": [
      "\n",
      " Input in matrix form:\n",
      "[[1 1 0]\n",
      " [0 0 1]\n",
      " [1 1 0]\n",
      " [0 1 1]]\n",
      "\n",
      " Shape of Input Matrix: (4, 3)\n"
     ]
    }
   ],
   "source": [
    "# converting the input in matrix form\n",
    "X = X.T\n",
    "print('\\n Input in matrix form:')\n",
    "print(X)\n",
    "# shape of input matrix\n",
    "print('\\n Shape of Input Matrix:', X.shape)"
   ]
  },
  {
   "cell_type": "code",
   "execution_count": 4,
   "metadata": {
    "colab": {
     "base_uri": "https://localhost:8080/",
     "height": 191
    },
    "colab_type": "code",
    "executionInfo": {
     "elapsed": 3079,
     "status": "ok",
     "timestamp": 1585485756256,
     "user": {
      "displayName": "Pulkit Sharma",
      "photoUrl": "",
      "userId": "07234574884764057306"
     },
     "user_tz": -330
    },
    "id": "IRe8JE0xNFSL",
    "outputId": "bd0f8cc4-140c-4788-fe12-0967af4b0f0f"
   },
   "outputs": [
    {
     "name": "stdout",
     "output_type": "stream",
     "text": [
      "\n",
      " Actual Output:\n",
      "[[1]\n",
      " [1]\n",
      " [0]]\n",
      "\n",
      " Output in matrix form:\n",
      "[[1 1 0]]\n",
      "\n",
      " Shape of Output: (1, 3)\n"
     ]
    }
   ],
   "source": [
    "# creating the output array\n",
    "y=np.array([[1],[1],[0]])\n",
    "print ('\\n Actual Output:')\n",
    "print(y)\n",
    "\n",
    "# output in matrix form\n",
    "y = y.T\n",
    "\n",
    "print ('\\n Output in matrix form:')\n",
    "print(y)\n",
    "\n",
    "# shape of input array\n",
    "print('\\n Shape of Output:', y.shape)"
   ]
  },
  {
   "cell_type": "markdown",
   "metadata": {
    "colab_type": "text",
    "id": "tKf4Ji1-NFSV"
   },
   "source": [
    "## 2. Architecture of the model (# input, hidden and output neurons)"
   ]
  },
  {
   "cell_type": "code",
   "execution_count": 5,
   "metadata": {
    "colab": {},
    "colab_type": "code",
    "id": "vlhBW0NNNFSg"
   },
   "outputs": [],
   "source": [
    "inputlayer_neurons = X.shape[0] # number of features in data set\n",
    "hiddenlayer_neurons = 3 # number of hidden layers neurons\n",
    "output_neurons = 1 # number of neurons at output layer"
   ]
  },
  {
   "cell_type": "markdown",
   "metadata": {
    "colab_type": "text",
    "id": "OoOsLucmNFSo"
   },
   "source": [
    "![](model_architecture.png)"
   ]
  },
  {
   "cell_type": "markdown",
   "metadata": {
    "colab_type": "text",
    "id": "_Nmwj8RfNFSr"
   },
   "source": [
    "## 3. Initializing the weights for all the layers\n",
    "\n",
    "NOTE: For simplicity, the bias for all the layers is 0"
   ]
  },
  {
   "cell_type": "code",
   "execution_count": 6,
   "metadata": {
    "colab": {},
    "colab_type": "code",
    "id": "1T1IG-W8NFSu"
   },
   "outputs": [],
   "source": [
    "# initializing weight\n",
    "# Shape of w_ih should number of neurons at input layer X number of neurons at hidden layer\n",
    "w_ih=np.random.uniform(size=(inputlayer_neurons,hiddenlayer_neurons))\n",
    "\n",
    "\n",
    "# Shape of w_ho should number of neurons at hidden layer X number of neurons at output layer\n",
    "w_ho=np.random.uniform(size=(hiddenlayer_neurons,output_neurons))"
   ]
  },
  {
   "cell_type": "code",
   "execution_count": 7,
   "metadata": {
    "colab": {
     "base_uri": "https://localhost:8080/",
     "height": 34
    },
    "colab_type": "code",
    "executionInfo": {
     "elapsed": 1009,
     "status": "ok",
     "timestamp": 1585485756260,
     "user": {
      "displayName": "Pulkit Sharma",
      "photoUrl": "",
      "userId": "07234574884764057306"
     },
     "user_tz": -330
    },
    "id": "Fpa1--9KNFS1",
    "outputId": "407ba6ee-ddc9-4830-d771-15704f6e39e6"
   },
   "outputs": [
    {
     "data": {
      "text/plain": [
       "((4, 3), (3, 1))"
      ]
     },
     "execution_count": 7,
     "metadata": {},
     "output_type": "execute_result"
    }
   ],
   "source": [
    "# shape of weight matrix\n",
    "w_ih.shape, w_ho.shape"
   ]
  },
  {
   "cell_type": "markdown",
   "metadata": {
    "colab_type": "text",
    "id": "srrDW1MNNFS-"
   },
   "source": [
    "## 4. Implementing forward propagation"
   ]
  },
  {
   "cell_type": "markdown",
   "metadata": {
    "colab_type": "text",
    "id": "-g-SocwQNFTC"
   },
   "source": [
    "![](hidden_layer_activations.png)"
   ]
  },
  {
   "cell_type": "code",
   "execution_count": 9,
   "metadata": {
    "colab": {},
    "colab_type": "code",
    "id": "sOcBji4iNFTE"
   },
   "outputs": [],
   "source": [
    "# defining the Sigmoid Function\n",
    "def sigmoid (x):\n",
    "    return 1/(1 + np.exp(-x))"
   ]
  },
  {
   "cell_type": "code",
   "execution_count": 10,
   "metadata": {
    "colab": {},
    "colab_type": "code",
    "id": "DO6AYHtGNFTM"
   },
   "outputs": [],
   "source": [
    "# hidden layer activations\n",
    "hidden_layer_input=np.dot(w_ih.T,X)\n",
    "hiddenlayer_activations = sigmoid(hidden_layer_input)"
   ]
  },
  {
   "cell_type": "markdown",
   "metadata": {},
   "source": [
    "![](output.png)"
   ]
  },
  {
   "cell_type": "code",
   "execution_count": 11,
   "metadata": {
    "colab": {},
    "colab_type": "code",
    "id": "CuqKwiToNFTW"
   },
   "outputs": [],
   "source": [
    "# calculating the output\n",
    "output_layer_input=np.dot(w_ho.T,hiddenlayer_activations)\n",
    "output = sigmoid(output_layer_input)"
   ]
  },
  {
   "cell_type": "code",
   "execution_count": 12,
   "metadata": {
    "colab": {
     "base_uri": "https://localhost:8080/",
     "height": 34
    },
    "colab_type": "code",
    "executionInfo": {
     "elapsed": 2132,
     "status": "ok",
     "timestamp": 1585485759226,
     "user": {
      "displayName": "Pulkit Sharma",
      "photoUrl": "",
      "userId": "07234574884764057306"
     },
     "user_tz": -330
    },
    "id": "BjPlMkVMNFTd",
    "outputId": "98153d29-d232-4e9f-da3f-f834a5ad8ad9"
   },
   "outputs": [
    {
     "data": {
      "text/plain": [
       "array([[0.81341607, 0.82886043, 0.79915787]])"
      ]
     },
     "execution_count": 12,
     "metadata": {},
     "output_type": "execute_result"
    }
   ],
   "source": [
    "# output\n",
    "output"
   ]
  },
  {
   "cell_type": "markdown",
   "metadata": {
    "colab_type": "text",
    "id": "mdFKMYyzNFTm"
   },
   "source": [
    "## 5. Implementing backward propagation"
   ]
  },
  {
   "cell_type": "markdown",
   "metadata": {
    "colab_type": "text",
    "id": "c2m3XBgZNFTn"
   },
   "source": [
    "![](error.png)"
   ]
  },
  {
   "cell_type": "code",
   "execution_count": 13,
   "metadata": {
    "colab": {},
    "colab_type": "code",
    "id": "IvUAAhlcNFTp"
   },
   "outputs": [],
   "source": [
    "# calculating error\n",
    "error = np.square(y-output)/2"
   ]
  },
  {
   "cell_type": "markdown",
   "metadata": {
    "colab_type": "text",
    "id": "3H0vjBdNNFTw"
   },
   "source": [
    "### Rate of change of error w.r.t weight between hidden and output layer"
   ]
  },
  {
   "cell_type": "markdown",
   "metadata": {},
   "source": [
    "![](error_wrt_who.png)"
   ]
  },
  {
   "cell_type": "markdown",
   "metadata": {
    "colab_type": "text",
    "id": "DqrhlDeDNFT1"
   },
   "source": [
    "**a. Rate of change of error w.r.t output**\n",
    "\n",
    "**b. Rate of change of output w.r.t Z2**\n",
    "\n",
    "**c. Rate of change of Z2 w.r.t weights between hidden and output layer**"
   ]
  },
  {
   "cell_type": "code",
   "execution_count": 14,
   "metadata": {
    "colab": {},
    "colab_type": "code",
    "id": "bKdk5m4FNFT3"
   },
   "outputs": [],
   "source": [
    "# rate of change of error w.r.t. output\n",
    "error_wrt_output = -(y-output)"
   ]
  },
  {
   "cell_type": "code",
   "execution_count": 15,
   "metadata": {
    "colab": {},
    "colab_type": "code",
    "id": "Bl1PDwrBNFT9"
   },
   "outputs": [],
   "source": [
    "# rate of change of output w.r.t. Z2\n",
    "output_wrt_Z2 = np.multiply(output,(1-output))"
   ]
  },
  {
   "cell_type": "code",
   "execution_count": 16,
   "metadata": {
    "colab": {},
    "colab_type": "code",
    "id": "3vLk1nxLNFUD"
   },
   "outputs": [],
   "source": [
    "# rate of change of Z2 w.r.t. weights between hidden and output layer\n",
    "Z2_wrt_who = hiddenlayer_activations"
   ]
  },
  {
   "cell_type": "code",
   "execution_count": 17,
   "metadata": {
    "colab": {
     "base_uri": "https://localhost:8080/",
     "height": 34
    },
    "colab_type": "code",
    "executionInfo": {
     "elapsed": 1953,
     "status": "ok",
     "timestamp": 1585485762993,
     "user": {
      "displayName": "Pulkit Sharma",
      "photoUrl": "",
      "userId": "07234574884764057306"
     },
     "user_tz": -330
    },
    "id": "UXXifY9QNFUI",
    "outputId": "869382cd-4440-47f1-c249-db25f9073338"
   },
   "outputs": [
    {
     "data": {
      "text/plain": [
       "((1, 3), (1, 3), (3, 3))"
      ]
     },
     "execution_count": 17,
     "metadata": {},
     "output_type": "execute_result"
    }
   ],
   "source": [
    "# checking the shapes of partial derivatives\n",
    "error_wrt_output.shape, output_wrt_Z2.shape, Z2_wrt_who.shape"
   ]
  },
  {
   "cell_type": "code",
   "execution_count": 18,
   "metadata": {
    "colab": {
     "base_uri": "https://localhost:8080/",
     "height": 34
    },
    "colab_type": "code",
    "executionInfo": {
     "elapsed": 1725,
     "status": "ok",
     "timestamp": 1585485762995,
     "user": {
      "displayName": "Pulkit Sharma",
      "photoUrl": "",
      "userId": "07234574884764057306"
     },
     "user_tz": -330
    },
    "id": "ZvtS7wCRNFUN",
    "outputId": "377481a7-6b8f-4d0c-abe2-82060ce48ab0"
   },
   "outputs": [
    {
     "data": {
      "text/plain": [
       "(3, 1)"
      ]
     },
     "execution_count": 18,
     "metadata": {},
     "output_type": "execute_result"
    }
   ],
   "source": [
    "# shape of weights of output layer\n",
    "w_ho.shape"
   ]
  },
  {
   "cell_type": "markdown",
   "metadata": {},
   "source": [
    "![](error_wrt_who_matrix.png)"
   ]
  },
  {
   "cell_type": "code",
   "execution_count": 19,
   "metadata": {
    "colab": {},
    "colab_type": "code",
    "id": "l3HNVYGONFUr"
   },
   "outputs": [],
   "source": [
    "# rate of change of error w.r.t weight between hidden and output layer\n",
    "error_wrt_who = np.dot(Z2_wrt_who,(error_wrt_output*output_wrt_Z2).T)"
   ]
  },
  {
   "cell_type": "code",
   "execution_count": 20,
   "metadata": {
    "colab": {
     "base_uri": "https://localhost:8080/",
     "height": 34
    },
    "colab_type": "code",
    "executionInfo": {
     "elapsed": 1805,
     "status": "ok",
     "timestamp": 1585485763842,
     "user": {
      "displayName": "Pulkit Sharma",
      "photoUrl": "",
      "userId": "07234574884764057306"
     },
     "user_tz": -330
    },
    "id": "cwyI1EGZNFUw",
    "outputId": "93df5cbf-3413-4acb-cdaa-394a9ce50a37"
   },
   "outputs": [
    {
     "data": {
      "text/plain": [
       "(3, 1)"
      ]
     },
     "execution_count": 20,
     "metadata": {},
     "output_type": "execute_result"
    }
   ],
   "source": [
    "error_wrt_who.shape"
   ]
  },
  {
   "cell_type": "markdown",
   "metadata": {
    "colab_type": "text",
    "id": "sDFPg2SHNFU2"
   },
   "source": [
    "### Rate of change of error w.r.t weight between input and hidden layer"
   ]
  },
  {
   "cell_type": "markdown",
   "metadata": {},
   "source": [
    "![](error_wrt_wih.png)"
   ]
  },
  {
   "cell_type": "markdown",
   "metadata": {
    "colab_type": "text",
    "id": "_nPYGXkeNFU4"
   },
   "source": [
    "**a. Rate of change of error w.r.t output**\n",
    "\n",
    "**b. Rate of change of output w.r.t Z2**\n",
    "\n",
    "**c. Rate of change of Z2 w.r.t hidden layer activations**\n",
    "\n",
    "**d. Rate of change of hidden layer activations w.r.t Z1**\n",
    "\n",
    "**e. Rate of change of Z1 w.r.t weights between input and hidden layer**"
   ]
  },
  {
   "cell_type": "code",
   "execution_count": 21,
   "metadata": {
    "colab": {},
    "colab_type": "code",
    "id": "Sb7Ezxw9NFU6"
   },
   "outputs": [],
   "source": [
    "# rate of change of error w.r.t. output\n",
    "error_wrt_output = -(y-output)"
   ]
  },
  {
   "cell_type": "code",
   "execution_count": 22,
   "metadata": {
    "colab": {},
    "colab_type": "code",
    "id": "3-SGbNaoNFVA"
   },
   "outputs": [],
   "source": [
    "# rate of change of output w.r.t. Z2\n",
    "output_wrt_Z2 = np.multiply(output,(1-output))"
   ]
  },
  {
   "cell_type": "code",
   "execution_count": 23,
   "metadata": {
    "colab": {},
    "colab_type": "code",
    "id": "amuoR7h6NFVF"
   },
   "outputs": [],
   "source": [
    "# rate of change of Z2 w.r.t. hidden layer activations\n",
    "Z2_wrt_h1 = w_ho"
   ]
  },
  {
   "cell_type": "code",
   "execution_count": 24,
   "metadata": {
    "colab": {},
    "colab_type": "code",
    "id": "YDUZEdWKNFVJ"
   },
   "outputs": [],
   "source": [
    "# rate of change of hidden layer activations w.r.t. Z1\n",
    "h1_wrt_Z1 = np.multiply(hiddenlayer_activations,(1-hiddenlayer_activations))"
   ]
  },
  {
   "cell_type": "code",
   "execution_count": 25,
   "metadata": {
    "colab": {},
    "colab_type": "code",
    "id": "Ft4U6Td6NFVO"
   },
   "outputs": [],
   "source": [
    "# rate of change of Z1 w.r.t. weights between input and hidden layer\n",
    "Z1_wrt_wih = X"
   ]
  },
  {
   "cell_type": "code",
   "execution_count": 26,
   "metadata": {
    "colab": {
     "base_uri": "https://localhost:8080/",
     "height": 34
    },
    "colab_type": "code",
    "executionInfo": {
     "elapsed": 1069,
     "status": "ok",
     "timestamp": 1585485765410,
     "user": {
      "displayName": "Pulkit Sharma",
      "photoUrl": "",
      "userId": "07234574884764057306"
     },
     "user_tz": -330
    },
    "id": "A-hsfsi4NFVR",
    "outputId": "2d5a0542-4563-4989-90be-382eba30a03a"
   },
   "outputs": [
    {
     "data": {
      "text/plain": [
       "((1, 3), (1, 3), (3, 1), (3, 3), (4, 3))"
      ]
     },
     "execution_count": 26,
     "metadata": {},
     "output_type": "execute_result"
    }
   ],
   "source": [
    "# checking the shapes of partial derivatives\n",
    "error_wrt_output.shape, output_wrt_Z2.shape, Z2_wrt_h1.shape, h1_wrt_Z1.shape, Z1_wrt_wih.shape"
   ]
  },
  {
   "cell_type": "code",
   "execution_count": 27,
   "metadata": {
    "colab": {
     "base_uri": "https://localhost:8080/",
     "height": 34
    },
    "colab_type": "code",
    "executionInfo": {
     "elapsed": 1503,
     "status": "ok",
     "timestamp": 1585485766077,
     "user": {
      "displayName": "Pulkit Sharma",
      "photoUrl": "",
      "userId": "07234574884764057306"
     },
     "user_tz": -330
    },
    "id": "1uka_yPrNFVV",
    "outputId": "238e6afd-f960-4eb3-c02c-b95a31932b5a"
   },
   "outputs": [
    {
     "data": {
      "text/plain": [
       "(4, 3)"
      ]
     },
     "execution_count": 27,
     "metadata": {},
     "output_type": "execute_result"
    }
   ],
   "source": [
    "# shape of weights of hidden layer\n",
    "w_ih.shape"
   ]
  },
  {
   "cell_type": "markdown",
   "metadata": {},
   "source": [
    "![](error_wrt_wih_matrix.png)"
   ]
  },
  {
   "cell_type": "code",
   "execution_count": 28,
   "metadata": {
    "colab": {},
    "colab_type": "code",
    "id": "XTPNf3E5NFVs"
   },
   "outputs": [],
   "source": [
    "# rate of change of error w.r.t weights between input and hidden layer\n",
    "error_wrt_wih = np.dot(Z1_wrt_wih,(h1_wrt_Z1*np.dot(Z2_wrt_h1,(output_wrt_Z2*error_wrt_output))).T)"
   ]
  },
  {
   "cell_type": "code",
   "execution_count": 29,
   "metadata": {
    "colab": {
     "base_uri": "https://localhost:8080/",
     "height": 34
    },
    "colab_type": "code",
    "executionInfo": {
     "elapsed": 2480,
     "status": "ok",
     "timestamp": 1585485768146,
     "user": {
      "displayName": "Pulkit Sharma",
      "photoUrl": "",
      "userId": "07234574884764057306"
     },
     "user_tz": -330
    },
    "id": "_WN0I-mpNFVw",
    "outputId": "a7ab9b3d-3a2a-4480-f15e-11d1f5ae8e13"
   },
   "outputs": [
    {
     "data": {
      "text/plain": [
       "(4, 3)"
      ]
     },
     "execution_count": 29,
     "metadata": {},
     "output_type": "execute_result"
    }
   ],
   "source": [
    "error_wrt_wih.shape"
   ]
  },
  {
   "cell_type": "markdown",
   "metadata": {
    "colab_type": "text",
    "id": "W2bu4H5-NFVz"
   },
   "source": [
    "### Update the parameters"
   ]
  },
  {
   "cell_type": "markdown",
   "metadata": {
    "colab_type": "text",
    "id": "-nmJnY_PNFV1"
   },
   "source": [
    "![](gradient_descent_update_equation.png)"
   ]
  },
  {
   "cell_type": "code",
   "execution_count": 30,
   "metadata": {
    "colab": {},
    "colab_type": "code",
    "id": "_r59xEpINFV2"
   },
   "outputs": [],
   "source": [
    "# defining the learning rate\n",
    "lr = 0.01"
   ]
  },
  {
   "cell_type": "code",
   "execution_count": 31,
   "metadata": {
    "colab": {
     "base_uri": "https://localhost:8080/",
     "height": 69
    },
    "colab_type": "code",
    "executionInfo": {
     "elapsed": 2341,
     "status": "ok",
     "timestamp": 1585485769472,
     "user": {
      "displayName": "Pulkit Sharma",
      "photoUrl": "",
      "userId": "07234574884764057306"
     },
     "user_tz": -330
    },
    "id": "aiBFNXd3NFV7",
    "outputId": "a7362697-b6e0-41c1-8a5a-bb525ed22c3e"
   },
   "outputs": [
    {
     "data": {
      "text/plain": [
       "array([[0.44822783],\n",
       "       [0.73654952],\n",
       "       [0.83184185]])"
      ]
     },
     "execution_count": 31,
     "metadata": {},
     "output_type": "execute_result"
    }
   ],
   "source": [
    "# initial w_ho and w_ih\n",
    "w_ho"
   ]
  },
  {
   "cell_type": "code",
   "execution_count": 32,
   "metadata": {
    "colab": {
     "base_uri": "https://localhost:8080/",
     "height": 86
    },
    "colab_type": "code",
    "executionInfo": {
     "elapsed": 1928,
     "status": "ok",
     "timestamp": 1585485769474,
     "user": {
      "displayName": "Pulkit Sharma",
      "photoUrl": "",
      "userId": "07234574884764057306"
     },
     "user_tz": -330
    },
    "id": "CuosFKUENFWB",
    "outputId": "fa8986c3-9960-4985-b6ec-e7d9a51f16e1",
    "scrolled": true
   },
   "outputs": [
    {
     "data": {
      "text/plain": [
       "array([[0.7728004 , 0.81257731, 0.68099322],\n",
       "       [0.472226  , 0.9905042 , 0.08941713],\n",
       "       [0.38391006, 0.38006455, 0.07629581],\n",
       "       [0.49272597, 0.04084443, 0.38873023]])"
      ]
     },
     "execution_count": 32,
     "metadata": {},
     "output_type": "execute_result"
    }
   ],
   "source": [
    "w_ih"
   ]
  },
  {
   "cell_type": "code",
   "execution_count": 33,
   "metadata": {
    "colab": {},
    "colab_type": "code",
    "id": "D_Va2xywNFWF"
   },
   "outputs": [],
   "source": [
    "# updating the weights of output layer\n",
    "w_ho = w_ho - lr * error_wrt_who"
   ]
  },
  {
   "cell_type": "code",
   "execution_count": 34,
   "metadata": {
    "colab": {},
    "colab_type": "code",
    "id": "ruFlc96BNFWL"
   },
   "outputs": [],
   "source": [
    "# updating the weights of hidden layer\n",
    "w_ih = w_ih - lr * error_wrt_wih"
   ]
  },
  {
   "cell_type": "code",
   "execution_count": 35,
   "metadata": {
    "colab": {
     "base_uri": "https://localhost:8080/",
     "height": 69
    },
    "colab_type": "code",
    "executionInfo": {
     "elapsed": 1799,
     "status": "ok",
     "timestamp": 1585485770584,
     "user": {
      "displayName": "Pulkit Sharma",
      "photoUrl": "",
      "userId": "07234574884764057306"
     },
     "user_tz": -330
    },
    "id": "NTf4nS1xNFWP",
    "outputId": "feb1e8da-cdff-4374-cf88-a66e1449ea05"
   },
   "outputs": [
    {
     "data": {
      "text/plain": [
       "array([[0.44771808],\n",
       "       [0.73600921],\n",
       "       [0.83142701]])"
      ]
     },
     "execution_count": 35,
     "metadata": {},
     "output_type": "execute_result"
    }
   ],
   "source": [
    "# updated w_ho and w_ih\n",
    "w_ho"
   ]
  },
  {
   "cell_type": "code",
   "execution_count": 36,
   "metadata": {
    "colab": {
     "base_uri": "https://localhost:8080/",
     "height": 86
    },
    "colab_type": "code",
    "executionInfo": {
     "elapsed": 2866,
     "status": "ok",
     "timestamp": 1585485772036,
     "user": {
      "displayName": "Pulkit Sharma",
      "photoUrl": "",
      "userId": "07234574884764057306"
     },
     "user_tz": -330
    },
    "id": "7VYNPPNlNFWU",
    "outputId": "ae17551f-c966-4124-9ad1-95f3a9e59fad"
   },
   "outputs": [
    {
     "data": {
      "text/plain": [
       "array([[0.77283822, 0.8126458 , 0.68108137],\n",
       "       [0.47211114, 0.99032116, 0.08916506],\n",
       "       [0.38394787, 0.38013304, 0.07638396],\n",
       "       [0.49262583, 0.04069262, 0.38851513]])"
      ]
     },
     "execution_count": 36,
     "metadata": {},
     "output_type": "execute_result"
    }
   ],
   "source": [
    "w_ih"
   ]
  },
  {
   "cell_type": "markdown",
   "metadata": {
    "colab_type": "text",
    "id": "SxLy6DZlNFWY"
   },
   "source": [
    "## 6. Training the model for n epochs"
   ]
  },
  {
   "cell_type": "code",
   "execution_count": 37,
   "metadata": {
    "colab": {},
    "colab_type": "code",
    "id": "8HKS9vIyNFWZ"
   },
   "outputs": [],
   "source": [
    "# defining the model architecture\n",
    "inputlayer_neurons = X.shape[0] # number of features in data set\n",
    "hiddenlayer_neurons = 3 # number of hidden layers neurons\n",
    "output_neurons = 1 # number of neurons at output layer\n",
    "\n",
    "# initializing weight\n",
    "w_ih=np.random.uniform(size=(inputlayer_neurons,hiddenlayer_neurons))\n",
    "w_ho=np.random.uniform(size=(hiddenlayer_neurons,output_neurons))\n",
    "\n",
    "# defining the parameters\n",
    "lr = 0.01\n",
    "epochs = 10000"
   ]
  },
  {
   "cell_type": "code",
   "execution_count": 38,
   "metadata": {
    "colab": {
     "base_uri": "https://localhost:8080/",
     "height": 86
    },
    "colab_type": "code",
    "executionInfo": {
     "elapsed": 2151,
     "status": "ok",
     "timestamp": 1585485772038,
     "user": {
      "displayName": "Pulkit Sharma",
      "photoUrl": "",
      "userId": "07234574884764057306"
     },
     "user_tz": -330
    },
    "id": "ojybM51LNFWc",
    "outputId": "b368f6a2-87e3-4777-fea0-1efc795e8b83"
   },
   "outputs": [
    {
     "data": {
      "text/plain": [
       "array([[0.43376428, 0.79617611, 0.69484025],\n",
       "       [0.28624531, 0.36231275, 0.57355385],\n",
       "       [0.75107287, 0.5764279 , 0.3250548 ],\n",
       "       [0.64492206, 0.43251823, 0.63754805]])"
      ]
     },
     "execution_count": 38,
     "metadata": {},
     "output_type": "execute_result"
    }
   ],
   "source": [
    "# initial w_ih and w_ho\n",
    "w_ih"
   ]
  },
  {
   "cell_type": "code",
   "execution_count": 39,
   "metadata": {
    "colab": {
     "base_uri": "https://localhost:8080/",
     "height": 69
    },
    "colab_type": "code",
    "executionInfo": {
     "elapsed": 1811,
     "status": "ok",
     "timestamp": 1585485772039,
     "user": {
      "displayName": "Pulkit Sharma",
      "photoUrl": "",
      "userId": "07234574884764057306"
     },
     "user_tz": -330
    },
    "id": "1RS_d3kdNFWg",
    "outputId": "00d4aa30-5bb8-4b2f-8c97-21e2da705d10"
   },
   "outputs": [
    {
     "data": {
      "text/plain": [
       "array([[0.8387359 ],\n",
       "       [0.46138792],\n",
       "       [0.21555906]])"
      ]
     },
     "execution_count": 39,
     "metadata": {},
     "output_type": "execute_result"
    }
   ],
   "source": [
    "w_ho"
   ]
  },
  {
   "cell_type": "code",
   "execution_count": 40,
   "metadata": {
    "colab": {},
    "colab_type": "code",
    "id": "_yVAcyW_NFWk"
   },
   "outputs": [],
   "source": [
    "error_epoch = []\n",
    "for i in range(epochs):\n",
    "    \n",
    "    # Forward Propogation\n",
    "    \n",
    "    # hidden layer activations\n",
    "    hidden_layer_input=np.dot(w_ih.T,X)\n",
    "    hiddenlayer_activations = sigmoid(hidden_layer_input)\n",
    "    \n",
    "    # calculating the output\n",
    "    output_layer_input=np.dot(w_ho.T,hiddenlayer_activations)\n",
    "    output = sigmoid(output_layer_input)\n",
    "    \n",
    "    \n",
    "    # Backward Propagation\n",
    "    \n",
    "    # calculating error\n",
    "    error = np.square(y-output)/2 # go to the next step for theory\n",
    "    error_wrt_output = -(y-output)\n",
    "    output_wrt_Z2 = np.multiply(output,(1-output))\n",
    "    Z2_wrt_who = hiddenlayer_activations\n",
    "    \n",
    "    # rate of change of error w.r.t weight between hidden and output layer\n",
    "    error_wrt_who = np.dot(Z2_wrt_who,(error_wrt_output*output_wrt_Z2).T)\n",
    "    Z2_wrt_h1 = w_ho\n",
    "    h1_wrt_Z1 = np.multiply(hiddenlayer_activations,(1-hiddenlayer_activations))\n",
    "    Z1_wrt_wih = X\n",
    "    \n",
    "    # rate of change of error w.r.t weights between input and hidden layer\n",
    "    error_wrt_wih = np.dot(Z1_wrt_wih,(h1_wrt_Z1*np.dot(Z2_wrt_h1,(error_wrt_output*output_wrt_Z2))).T)\n",
    "\n",
    "    # updating the weights between hidden and output layer\n",
    "    w_ho = w_ho - lr * error_wrt_who\n",
    "    # updating the weights between input and hidden layer\n",
    "    w_ih = w_ih - lr * error_wrt_wih\n",
    "    \n",
    "    # appending the error of each epoch\n",
    "    error_epoch.append(np.average(error))"
   ]
  },
  {
   "cell_type": "code",
   "execution_count": 41,
   "metadata": {
    "colab": {
     "base_uri": "https://localhost:8080/",
     "height": 86
    },
    "colab_type": "code",
    "executionInfo": {
     "elapsed": 2409,
     "status": "ok",
     "timestamp": 1585485773423,
     "user": {
      "displayName": "Pulkit Sharma",
      "photoUrl": "",
      "userId": "07234574884764057306"
     },
     "user_tz": -330
    },
    "id": "Ra5mTgwUNFWo",
    "outputId": "20de9dc0-62b7-4f07-fd3d-cf290542ac8f"
   },
   "outputs": [
    {
     "data": {
      "text/plain": [
       "array([[ 1.28674138,  1.2698959 , -0.14467718],\n",
       "       [-1.64402297, -0.91459078,  1.35549404],\n",
       "       [ 1.60404997,  1.05014768, -0.51446263],\n",
       "       [-0.76971745, -0.56109576,  0.91086091]])"
      ]
     },
     "execution_count": 41,
     "metadata": {},
     "output_type": "execute_result"
    }
   ],
   "source": [
    "# updated w_ih and w_ho\n",
    "w_ih"
   ]
  },
  {
   "cell_type": "code",
   "execution_count": 42,
   "metadata": {
    "colab": {
     "base_uri": "https://localhost:8080/",
     "height": 283
    },
    "colab_type": "code",
    "executionInfo": {
     "elapsed": 2186,
     "status": "ok",
     "timestamp": 1585485784562,
     "user": {
      "displayName": "Pulkit Sharma",
      "photoUrl": "",
      "userId": "07234574884764057306"
     },
     "user_tz": -330
    },
    "id": "WeN2dcc0NFW8",
    "outputId": "59ab0369-88ea-4f52-87b4-99da23925bb9",
    "scrolled": true
   },
   "outputs": [
    {
     "data": {
      "text/plain": [
       "[<matplotlib.lines.Line2D at 0x1b386eee448>]"
      ]
     },
     "execution_count": 42,
     "metadata": {},
     "output_type": "execute_result"
    },
    {
     "data": {
      "image/png": "[encoded data removed]",
      "text/plain": [
       "<Figure size 432x288 with 1 Axes>"
      ]
     },
     "metadata": {
      "needs_background": "light"
     },
     "output_type": "display_data"
    }
   ],
   "source": [
    "# visualizing the error after each epoch\n",
    "plt.plot(np.arange(1,epochs+1), np.array(error_epoch))"
   ]
  },
  {
   "cell_type": "code",
   "execution_count": 43,
   "metadata": {
    "colab": {
     "base_uri": "https://localhost:8080/",
     "height": 34
    },
    "colab_type": "code",
    "executionInfo": {
     "elapsed": 1949,
     "status": "ok",
     "timestamp": 1585485784571,
     "user": {
      "displayName": "Pulkit Sharma",
      "photoUrl": "",
      "userId": "07234574884764057306"
     },
     "user_tz": -330
    },
    "id": "bJlcGoeUNFXA",
    "outputId": "052f7ac8-c10e-49e4-df8e-69bff60d4381"
   },
   "outputs": [
    {
     "data": {
      "text/plain": [
       "array([[0.95439168, 0.90619935, 0.15044935]])"
      ]
     },
     "execution_count": 43,
     "metadata": {},
     "output_type": "execute_result"
    }
   ],
   "source": [
    "# final output from the model\n",
    "output"
   ]
  },
  {
   "cell_type": "code",
   "execution_count": 44,
   "metadata": {
    "colab": {
     "base_uri": "https://localhost:8080/",
     "height": 34
    },
    "colab_type": "code",
    "executionInfo": {
     "elapsed": 1904,
     "status": "ok",
     "timestamp": 1585485785455,
     "user": {
      "displayName": "Pulkit Sharma",
      "photoUrl": "",
      "userId": "07234574884764057306"
     },
     "user_tz": -330
    },
    "id": "ARNn3MiKNFXF",
    "outputId": "eb1606ed-53da-48f8-c5a0-f4c459e71fdc"
   },
   "outputs": [
    {
     "data": {
      "text/plain": [
       "array([[1, 1, 0]])"
      ]
     },
     "execution_count": 44,
     "metadata": {},
     "output_type": "execute_result"
    }
   ],
   "source": [
    "# actual target\n",
    "y"
   ]
  },
  {
   "cell_type": "code",
   "execution_count": 45,
   "metadata": {
    "colab": {
     "base_uri": "https://localhost:8080/",
     "height": 34
    },
    "colab_type": "code",
    "executionInfo": {
     "elapsed": 1734,
     "status": "ok",
     "timestamp": 1585485785462,
     "user": {
      "displayName": "Pulkit Sharma",
      "photoUrl": "",
      "userId": "07234574884764057306"
     },
     "user_tz": -330
    },
    "id": "MtwXl0bjNFXJ",
    "outputId": "d5037572-8214-4175-fd97-92eaea9c3540"
   },
   "outputs": [
    {
     "data": {
      "text/plain": [
       "array([[0.00104006, 0.00439928, 0.0113175 ]])"
      ]
     },
     "execution_count": 45,
     "metadata": {},
     "output_type": "execute_result"
    }
   ],
   "source": [
    "# error at last epoch\n",
    "error"
   ]
  },
  {
   "cell_type": "code",
   "execution_count": null,
   "metadata": {
    "colab": {},
    "colab_type": "code",
    "id": "HkfQF2CC2ir6"
   },
   "outputs": [],
   "source": []
  },
  {
   "cell_type": "code",
   "execution_count": null,
   "metadata": {},
   "outputs": [],
   "source": []
  }
 ],
 "metadata": {
  "accelerator": "GPU",
  "colab": {
   "collapsed_sections": [],
   "name": "Neural Network from scratch using NumPy.ipynb",
   "provenance": []
  },
  "kernelspec": {
   "display_name": "Python 3 (ipykernel)",
   "language": "python",
   "name": "python3"
  },
  "language_info": {
   "codemirror_mode": {
    "name": "ipython",
    "version": 3
   },
   "file_extension": ".py",
   "mimetype": "text/x-python",
   "name": "python",
   "nbconvert_exporter": "python",
   "pygments_lexer": "ipython3",
   "version": "3.7.13"
  }
 },
 "nbformat": 4,
 "nbformat_minor": 1
}
